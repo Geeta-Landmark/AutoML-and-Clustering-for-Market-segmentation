{
  "nbformat": 4,
  "nbformat_minor": 0,
  "metadata": {
    "colab": {
      "name": "AutoML-and-Clustering-for-Market-segmentation_visuals.ipynb",
      "provenance": [],
      "collapsed_sections": [],
      "toc_visible": true,
      "authorship_tag": "ABX9TyPMHTVvmhTdvgqGUkMo4B4Q",
      "include_colab_link": true
    },
    "kernelspec": {
      "name": "python3",
      "display_name": "Python 3"
    },
    "language_info": {
      "name": "python"
    }
  },
  "cells": [
    {
      "cell_type": "markdown",
      "metadata": {
        "id": "view-in-github",
        "colab_type": "text"
      },
      "source": [
        "<a href=\"https://colab.research.google.com/github/geetanjalisawant16/AutoML-and-Clustering-for-Market-segmentation/blob/geetanjalisawant16-patch-1/AutoML_and_Clustering_for_Market_segmentation_visuals.ipynb\" target=\"_parent\"><img src=\"https://colab.research.google.com/assets/colab-badge.svg\" alt=\"Open In Colab\"/></a>"
      ]
    },
    {
      "cell_type": "markdown",
      "metadata": {
        "id": "6ZfeR3MUDEMr"
      },
      "source": [
        "#AutoML and Clustering Experiments on Pre and Post Pandemic Big Data for \n",
        "#Market Segmentation\n",
        "MSc. DATA SCIENCE\n",
        "\n",
        "Module: Project Dissertation \n",
        "\n",
        "Student ID: K1144343\n",
        "\n",
        "AutoML-and-Clustering-for-Market-segmentation Coding\n",
        "\n",
        "####################################################################################################\n",
        "\n",
        "This Jupyter Notebook consists of the assignment of \"Market Segmentation Practical Project\" for the MSc. Data Science CI7000 Project Dissertation Module at the Kingston University. The methods and steps of coding are reference from the case studies discussed during the lecture presented by the Module Leader.\n",
        "\n",
        "####################################################################################################"
      ]
    },
    {
      "cell_type": "markdown",
      "metadata": {
        "id": "QyXZpfYPky7b"
      },
      "source": [
        "# Objective and dataset information:\n"
      ]
    },
    {
      "cell_type": "markdown",
      "metadata": {
        "id": "zYTbxOXlhfhu"
      },
      "source": [
        "#Approach\n",
        "In this notebook along with Python libraries such as Numpy, pandas,scitkit learn,matplotlib,seaborn,plotly,clustering algorithms, I will show how EvalML can be the used to carry to out data preprocessing, visualisation with AutoML(Automated Machine learning).EvalML is helps us to play around lots of options for customization to improve prediction outcomes.The steps will be as follows:\n",
        "\n",
        "1.  load,read in the data and analyse it.\n",
        "2.  Understand the data by visualisation.\n",
        "3.  Perform data preprocessing.Removing of outliers from dataset.\n",
        "4.  Rescaling the attributes like Recency, Monetory and frequency. \n",
        "5. Building the model\n",
        "6. Discover a best performing pipeline based on the objective.\n",
        "7. Review the best pipeline chosen and analyse its performance.\n",
        "8. Conclusion\n",
        "\n",
        "\n",
        "\n",
        "\n",
        "\n",
        "\n"
      ]
    },
    {
      "cell_type": "markdown",
      "metadata": {
        "id": "HTb2_OvGTYjQ"
      },
      "source": [
        "# Importing the dataset\n",
        "\n",
        "##**Method 1**: From Github (official Pandas github link)\n",
        "\n",
        "\n",
        "First, we will import the online reatail and market cap datasets directly from the official pandas github [link1](https://github.com/geetanjalisawant16/AutoML-and-Clustering-for-Market-segmentation/blob/main/Online%20Retail.xlsx)\n",
        "[link2](https://github.com/geetanjalisawant16/AutoML-and-Clustering-for-Market-segmentation/blob/main/companies_market_cap.csv)"
      ]
    },
    {
      "cell_type": "code",
      "metadata": {
        "id": "fq3BnmAKUwnj"
      },
      "source": [
        "# import all the necessary libraries\n",
        "import numpy as np\n",
        "import seaborn as sns\n",
        "import matplotlib.pyplot as plt\n",
        "from scipy.stats import mode\n",
        "import pandas as pd"
      ],
      "execution_count": null,
      "outputs": []
    },
    {
      "cell_type": "code",
      "metadata": {
        "id": "pubJkN6guNTU"
      },
      "source": [
        "#!curl -O https://github.com/geetanjalisawant16/AutoML-and-Clustering-for-Market-segmentation/blob/main/Online%20Retail.xlsx\n",
        "#!curl -O https://github.com/geetanjalisawant16/AutoML-and-Clustering-for-Market-segmentation/blob/main/companies_market_cap.csv"
      ],
      "execution_count": null,
      "outputs": []
    },
    {
      "cell_type": "code",
      "metadata": {
        "id": "0P1sxuUIvMRx"
      },
      "source": [
        "import os"
      ],
      "execution_count": null,
      "outputs": []
    },
    {
      "cell_type": "code",
      "metadata": {
        "id": "veVlAatqt6t8"
      },
      "source": [
        "retail = pd.read_csv('Online Retail.csv')"
      ],
      "execution_count": null,
      "outputs": []
    },
    {
      "cell_type": "code",
      "metadata": {
        "id": "ZxK7ouVUuk6T"
      },
      "source": [
        "post_covid = pd.read_csv('companies_market_cap.csv')"
      ],
      "execution_count": null,
      "outputs": []
    },
    {
      "cell_type": "code",
      "metadata": {
        "id": "YXl_K2cZWlVI",
        "colab": {
          "base_uri": "https://localhost:8080/",
          "height": 414
        },
        "outputId": "7868c678-4784-4f93-c630-0e3af50a523c"
      },
      "source": [
        "retail"
      ],
      "execution_count": null,
      "outputs": [
        {
          "output_type": "execute_result",
          "data": {
            "text/html": [
              "<div>\n",
              "<style scoped>\n",
              "    .dataframe tbody tr th:only-of-type {\n",
              "        vertical-align: middle;\n",
              "    }\n",
              "\n",
              "    .dataframe tbody tr th {\n",
              "        vertical-align: top;\n",
              "    }\n",
              "\n",
              "    .dataframe thead th {\n",
              "        text-align: right;\n",
              "    }\n",
              "</style>\n",
              "<table border=\"1\" class=\"dataframe\">\n",
              "  <thead>\n",
              "    <tr style=\"text-align: right;\">\n",
              "      <th></th>\n",
              "      <th>InvoiceNo</th>\n",
              "      <th>StockCode</th>\n",
              "      <th>Description</th>\n",
              "      <th>Quantity</th>\n",
              "      <th>InvoiceDate</th>\n",
              "      <th>UnitPrice</th>\n",
              "      <th>CustomerID</th>\n",
              "      <th>Country</th>\n",
              "    </tr>\n",
              "  </thead>\n",
              "  <tbody>\n",
              "    <tr>\n",
              "      <th>0</th>\n",
              "      <td>536365</td>\n",
              "      <td>85123A</td>\n",
              "      <td>WHITE HANGING HEART T-LIGHT HOLDER</td>\n",
              "      <td>6</td>\n",
              "      <td>01/12/2010 08:26</td>\n",
              "      <td>2.55</td>\n",
              "      <td>17850.0</td>\n",
              "      <td>United Kingdom</td>\n",
              "    </tr>\n",
              "    <tr>\n",
              "      <th>1</th>\n",
              "      <td>536365</td>\n",
              "      <td>71053</td>\n",
              "      <td>WHITE METAL LANTERN</td>\n",
              "      <td>6</td>\n",
              "      <td>01/12/2010 08:26</td>\n",
              "      <td>3.39</td>\n",
              "      <td>17850.0</td>\n",
              "      <td>United Kingdom</td>\n",
              "    </tr>\n",
              "    <tr>\n",
              "      <th>2</th>\n",
              "      <td>536365</td>\n",
              "      <td>84406B</td>\n",
              "      <td>CREAM CUPID HEARTS COAT HANGER</td>\n",
              "      <td>8</td>\n",
              "      <td>01/12/2010 08:26</td>\n",
              "      <td>2.75</td>\n",
              "      <td>17850.0</td>\n",
              "      <td>United Kingdom</td>\n",
              "    </tr>\n",
              "    <tr>\n",
              "      <th>3</th>\n",
              "      <td>536365</td>\n",
              "      <td>84029G</td>\n",
              "      <td>KNITTED UNION FLAG HOT WATER BOTTLE</td>\n",
              "      <td>6</td>\n",
              "      <td>01/12/2010 08:26</td>\n",
              "      <td>3.39</td>\n",
              "      <td>17850.0</td>\n",
              "      <td>United Kingdom</td>\n",
              "    </tr>\n",
              "    <tr>\n",
              "      <th>4</th>\n",
              "      <td>536365</td>\n",
              "      <td>84029E</td>\n",
              "      <td>RED WOOLLY HOTTIE WHITE HEART.</td>\n",
              "      <td>6</td>\n",
              "      <td>01/12/2010 08:26</td>\n",
              "      <td>3.39</td>\n",
              "      <td>17850.0</td>\n",
              "      <td>United Kingdom</td>\n",
              "    </tr>\n",
              "    <tr>\n",
              "      <th>...</th>\n",
              "      <td>...</td>\n",
              "      <td>...</td>\n",
              "      <td>...</td>\n",
              "      <td>...</td>\n",
              "      <td>...</td>\n",
              "      <td>...</td>\n",
              "      <td>...</td>\n",
              "      <td>...</td>\n",
              "    </tr>\n",
              "    <tr>\n",
              "      <th>541904</th>\n",
              "      <td>581587</td>\n",
              "      <td>22613</td>\n",
              "      <td>PACK OF 20 SPACEBOY NAPKINS</td>\n",
              "      <td>12</td>\n",
              "      <td>09/12/2011 12:50</td>\n",
              "      <td>0.85</td>\n",
              "      <td>12680.0</td>\n",
              "      <td>France</td>\n",
              "    </tr>\n",
              "    <tr>\n",
              "      <th>541905</th>\n",
              "      <td>581587</td>\n",
              "      <td>22899</td>\n",
              "      <td>CHILDREN'S APRON DOLLY GIRL</td>\n",
              "      <td>6</td>\n",
              "      <td>09/12/2011 12:50</td>\n",
              "      <td>2.10</td>\n",
              "      <td>12680.0</td>\n",
              "      <td>France</td>\n",
              "    </tr>\n",
              "    <tr>\n",
              "      <th>541906</th>\n",
              "      <td>581587</td>\n",
              "      <td>23254</td>\n",
              "      <td>CHILDRENS CUTLERY DOLLY GIRL</td>\n",
              "      <td>4</td>\n",
              "      <td>09/12/2011 12:50</td>\n",
              "      <td>4.15</td>\n",
              "      <td>12680.0</td>\n",
              "      <td>France</td>\n",
              "    </tr>\n",
              "    <tr>\n",
              "      <th>541907</th>\n",
              "      <td>581587</td>\n",
              "      <td>23255</td>\n",
              "      <td>CHILDRENS CUTLERY CIRCUS PARADE</td>\n",
              "      <td>4</td>\n",
              "      <td>09/12/2011 12:50</td>\n",
              "      <td>4.15</td>\n",
              "      <td>12680.0</td>\n",
              "      <td>France</td>\n",
              "    </tr>\n",
              "    <tr>\n",
              "      <th>541908</th>\n",
              "      <td>581587</td>\n",
              "      <td>22138</td>\n",
              "      <td>BAKING SET 9 PIECE RETROSPOT</td>\n",
              "      <td>3</td>\n",
              "      <td>09/12/2011 12:50</td>\n",
              "      <td>4.95</td>\n",
              "      <td>12680.0</td>\n",
              "      <td>France</td>\n",
              "    </tr>\n",
              "  </tbody>\n",
              "</table>\n",
              "<p>541909 rows × 8 columns</p>\n",
              "</div>"
            ],
            "text/plain": [
              "       InvoiceNo StockCode  ... CustomerID         Country\n",
              "0         536365    85123A  ...    17850.0  United Kingdom\n",
              "1         536365     71053  ...    17850.0  United Kingdom\n",
              "2         536365    84406B  ...    17850.0  United Kingdom\n",
              "3         536365    84029G  ...    17850.0  United Kingdom\n",
              "4         536365    84029E  ...    17850.0  United Kingdom\n",
              "...          ...       ...  ...        ...             ...\n",
              "541904    581587     22613  ...    12680.0          France\n",
              "541905    581587     22899  ...    12680.0          France\n",
              "541906    581587     23254  ...    12680.0          France\n",
              "541907    581587     23255  ...    12680.0          France\n",
              "541908    581587     22138  ...    12680.0          France\n",
              "\n",
              "[541909 rows x 8 columns]"
            ]
          },
          "metadata": {
            "tags": []
          },
          "execution_count": 5
        }
      ]
    },
    {
      "cell_type": "code",
      "metadata": {
        "id": "2MJ74FeOt5em",
        "colab": {
          "base_uri": "https://localhost:8080/",
          "height": 202
        },
        "outputId": "b8c760c4-ca05-4e6a-f9b8-041e4de3beb0"
      },
      "source": [
        "retail.tail(5)\n"
      ],
      "execution_count": null,
      "outputs": [
        {
          "output_type": "execute_result",
          "data": {
            "text/html": [
              "<div>\n",
              "<style scoped>\n",
              "    .dataframe tbody tr th:only-of-type {\n",
              "        vertical-align: middle;\n",
              "    }\n",
              "\n",
              "    .dataframe tbody tr th {\n",
              "        vertical-align: top;\n",
              "    }\n",
              "\n",
              "    .dataframe thead th {\n",
              "        text-align: right;\n",
              "    }\n",
              "</style>\n",
              "<table border=\"1\" class=\"dataframe\">\n",
              "  <thead>\n",
              "    <tr style=\"text-align: right;\">\n",
              "      <th></th>\n",
              "      <th>InvoiceNo</th>\n",
              "      <th>StockCode</th>\n",
              "      <th>Description</th>\n",
              "      <th>Quantity</th>\n",
              "      <th>InvoiceDate</th>\n",
              "      <th>UnitPrice</th>\n",
              "      <th>CustomerID</th>\n",
              "      <th>Country</th>\n",
              "    </tr>\n",
              "  </thead>\n",
              "  <tbody>\n",
              "    <tr>\n",
              "      <th>541904</th>\n",
              "      <td>581587</td>\n",
              "      <td>22613</td>\n",
              "      <td>PACK OF 20 SPACEBOY NAPKINS</td>\n",
              "      <td>12</td>\n",
              "      <td>09/12/2011 12:50</td>\n",
              "      <td>0.85</td>\n",
              "      <td>12680.0</td>\n",
              "      <td>France</td>\n",
              "    </tr>\n",
              "    <tr>\n",
              "      <th>541905</th>\n",
              "      <td>581587</td>\n",
              "      <td>22899</td>\n",
              "      <td>CHILDREN'S APRON DOLLY GIRL</td>\n",
              "      <td>6</td>\n",
              "      <td>09/12/2011 12:50</td>\n",
              "      <td>2.10</td>\n",
              "      <td>12680.0</td>\n",
              "      <td>France</td>\n",
              "    </tr>\n",
              "    <tr>\n",
              "      <th>541906</th>\n",
              "      <td>581587</td>\n",
              "      <td>23254</td>\n",
              "      <td>CHILDRENS CUTLERY DOLLY GIRL</td>\n",
              "      <td>4</td>\n",
              "      <td>09/12/2011 12:50</td>\n",
              "      <td>4.15</td>\n",
              "      <td>12680.0</td>\n",
              "      <td>France</td>\n",
              "    </tr>\n",
              "    <tr>\n",
              "      <th>541907</th>\n",
              "      <td>581587</td>\n",
              "      <td>23255</td>\n",
              "      <td>CHILDRENS CUTLERY CIRCUS PARADE</td>\n",
              "      <td>4</td>\n",
              "      <td>09/12/2011 12:50</td>\n",
              "      <td>4.15</td>\n",
              "      <td>12680.0</td>\n",
              "      <td>France</td>\n",
              "    </tr>\n",
              "    <tr>\n",
              "      <th>541908</th>\n",
              "      <td>581587</td>\n",
              "      <td>22138</td>\n",
              "      <td>BAKING SET 9 PIECE RETROSPOT</td>\n",
              "      <td>3</td>\n",
              "      <td>09/12/2011 12:50</td>\n",
              "      <td>4.95</td>\n",
              "      <td>12680.0</td>\n",
              "      <td>France</td>\n",
              "    </tr>\n",
              "  </tbody>\n",
              "</table>\n",
              "</div>"
            ],
            "text/plain": [
              "       InvoiceNo StockCode  ... CustomerID  Country\n",
              "541904    581587     22613  ...    12680.0   France\n",
              "541905    581587     22899  ...    12680.0   France\n",
              "541906    581587     23254  ...    12680.0   France\n",
              "541907    581587     23255  ...    12680.0   France\n",
              "541908    581587     22138  ...    12680.0   France\n",
              "\n",
              "[5 rows x 8 columns]"
            ]
          },
          "metadata": {
            "tags": []
          },
          "execution_count": 6
        }
      ]
    },
    {
      "cell_type": "code",
      "metadata": {
        "id": "SaN1Ac_iWpQg",
        "colab": {
          "base_uri": "https://localhost:8080/",
          "height": 414
        },
        "outputId": "436c5883-3575-41f0-ae4e-4078ea73acab"
      },
      "source": [
        "post_covid"
      ],
      "execution_count": null,
      "outputs": [
        {
          "output_type": "execute_result",
          "data": {
            "text/html": [
              "<div>\n",
              "<style scoped>\n",
              "    .dataframe tbody tr th:only-of-type {\n",
              "        vertical-align: middle;\n",
              "    }\n",
              "\n",
              "    .dataframe tbody tr th {\n",
              "        vertical-align: top;\n",
              "    }\n",
              "\n",
              "    .dataframe thead th {\n",
              "        text-align: right;\n",
              "    }\n",
              "</style>\n",
              "<table border=\"1\" class=\"dataframe\">\n",
              "  <thead>\n",
              "    <tr style=\"text-align: right;\">\n",
              "      <th></th>\n",
              "      <th>S.No</th>\n",
              "      <th>Company</th>\n",
              "      <th>Country</th>\n",
              "      <th>Sector</th>\n",
              "      <th>Market cap ($bn)</th>\n",
              "      <th>Market cap added</th>\n",
              "      <th>Change</th>\n",
              "    </tr>\n",
              "  </thead>\n",
              "  <tbody>\n",
              "    <tr>\n",
              "      <th>0</th>\n",
              "      <td>1</td>\n",
              "      <td>Amazon</td>\n",
              "      <td>US</td>\n",
              "      <td>Consumer discretionary</td>\n",
              "      <td>1,317.30</td>\n",
              "      <td>401.1</td>\n",
              "      <td>43.8</td>\n",
              "    </tr>\n",
              "    <tr>\n",
              "      <th>1</th>\n",
              "      <td>2</td>\n",
              "      <td>Microsoft</td>\n",
              "      <td>US</td>\n",
              "      <td>Technology</td>\n",
              "      <td>1,473.00</td>\n",
              "      <td>269.9</td>\n",
              "      <td>22.4</td>\n",
              "    </tr>\n",
              "    <tr>\n",
              "      <th>2</th>\n",
              "      <td>3</td>\n",
              "      <td>Apple</td>\n",
              "      <td>US</td>\n",
              "      <td>Technology</td>\n",
              "      <td>1,523.90</td>\n",
              "      <td>219.1</td>\n",
              "      <td>16.8</td>\n",
              "    </tr>\n",
              "    <tr>\n",
              "      <th>3</th>\n",
              "      <td>4</td>\n",
              "      <td>Tesla</td>\n",
              "      <td>US</td>\n",
              "      <td>Consumer discretionary</td>\n",
              "      <td>183.8</td>\n",
              "      <td>108.4</td>\n",
              "      <td>143.8</td>\n",
              "    </tr>\n",
              "    <tr>\n",
              "      <th>4</th>\n",
              "      <td>5</td>\n",
              "      <td>Tencent</td>\n",
              "      <td>China</td>\n",
              "      <td>Communication services</td>\n",
              "      <td>550.9</td>\n",
              "      <td>93.1</td>\n",
              "      <td>20.3</td>\n",
              "    </tr>\n",
              "    <tr>\n",
              "      <th>...</th>\n",
              "      <td>...</td>\n",
              "      <td>...</td>\n",
              "      <td>...</td>\n",
              "      <td>...</td>\n",
              "      <td>...</td>\n",
              "      <td>...</td>\n",
              "      <td>...</td>\n",
              "    </tr>\n",
              "    <tr>\n",
              "      <th>95</th>\n",
              "      <td>96</td>\n",
              "      <td>Snap</td>\n",
              "      <td>US</td>\n",
              "      <td>Communication services</td>\n",
              "      <td>31.5</td>\n",
              "      <td>8.7</td>\n",
              "      <td>38.0</td>\n",
              "    </tr>\n",
              "    <tr>\n",
              "      <th>96</th>\n",
              "      <td>97</td>\n",
              "      <td>Changchun High &amp; New Technology Industry</td>\n",
              "      <td>China</td>\n",
              "      <td>Healthcare</td>\n",
              "      <td>21.5</td>\n",
              "      <td>8.5</td>\n",
              "      <td>65.2</td>\n",
              "    </tr>\n",
              "    <tr>\n",
              "      <th>97</th>\n",
              "      <td>98</td>\n",
              "      <td>Chewy</td>\n",
              "      <td>US</td>\n",
              "      <td>Consumer discretionary</td>\n",
              "      <td>19.9</td>\n",
              "      <td>8.3</td>\n",
              "      <td>72.2</td>\n",
              "    </tr>\n",
              "    <tr>\n",
              "      <th>98</th>\n",
              "      <td>99</td>\n",
              "      <td>GSX Techedu</td>\n",
              "      <td>China</td>\n",
              "      <td>Consumer discretionary</td>\n",
              "      <td>13.4</td>\n",
              "      <td>8.2</td>\n",
              "      <td>160.1</td>\n",
              "    </tr>\n",
              "    <tr>\n",
              "      <th>99</th>\n",
              "      <td>100</td>\n",
              "      <td>Teladoc Health</td>\n",
              "      <td>US</td>\n",
              "      <td>Healthcare</td>\n",
              "      <td>14.3</td>\n",
              "      <td>8.2</td>\n",
              "      <td>136.0</td>\n",
              "    </tr>\n",
              "  </tbody>\n",
              "</table>\n",
              "<p>100 rows × 7 columns</p>\n",
              "</div>"
            ],
            "text/plain": [
              "    S.No                                   Company  ... Market cap added Change\n",
              "0      1                                    Amazon  ...            401.1   43.8\n",
              "1      2                                 Microsoft  ...            269.9   22.4\n",
              "2      3                                     Apple  ...            219.1   16.8\n",
              "3      4                                     Tesla  ...            108.4  143.8\n",
              "4      5                                   Tencent  ...             93.1   20.3\n",
              "..   ...                                       ...  ...              ...    ...\n",
              "95    96                                      Snap  ...              8.7   38.0\n",
              "96    97  Changchun High & New Technology Industry  ...              8.5   65.2\n",
              "97    98                                     Chewy  ...              8.3   72.2\n",
              "98    99                               GSX Techedu  ...              8.2  160.1\n",
              "99   100                            Teladoc Health  ...              8.2  136.0\n",
              "\n",
              "[100 rows x 7 columns]"
            ]
          },
          "metadata": {
            "tags": []
          },
          "execution_count": 7
        }
      ]
    },
    {
      "cell_type": "code",
      "metadata": {
        "id": "piRBMh7PE2GI",
        "colab": {
          "base_uri": "https://localhost:8080/",
          "height": 914
        },
        "outputId": "f8b1d893-74d6-4aeb-9e78-e06ae457c9cf"
      },
      "source": [
        "market = pd.merge(retail,post_covid)\n",
        "market"
      ],
      "execution_count": null,
      "outputs": [
        {
          "output_type": "execute_result",
          "data": {
            "text/html": [
              "<div>\n",
              "<style scoped>\n",
              "    .dataframe tbody tr th:only-of-type {\n",
              "        vertical-align: middle;\n",
              "    }\n",
              "\n",
              "    .dataframe tbody tr th {\n",
              "        vertical-align: top;\n",
              "    }\n",
              "\n",
              "    .dataframe thead th {\n",
              "        text-align: right;\n",
              "    }\n",
              "</style>\n",
              "<table border=\"1\" class=\"dataframe\">\n",
              "  <thead>\n",
              "    <tr style=\"text-align: right;\">\n",
              "      <th></th>\n",
              "      <th>InvoiceNo</th>\n",
              "      <th>StockCode</th>\n",
              "      <th>Description</th>\n",
              "      <th>Quantity</th>\n",
              "      <th>InvoiceDate</th>\n",
              "      <th>UnitPrice</th>\n",
              "      <th>CustomerID</th>\n",
              "      <th>Country</th>\n",
              "      <th>S.No</th>\n",
              "      <th>Company</th>\n",
              "      <th>Sector</th>\n",
              "      <th>Market cap ($bn)</th>\n",
              "      <th>Market cap added</th>\n",
              "      <th>Change</th>\n",
              "    </tr>\n",
              "  </thead>\n",
              "  <tbody>\n",
              "    <tr>\n",
              "      <th>0</th>\n",
              "      <td>536370</td>\n",
              "      <td>22728</td>\n",
              "      <td>ALARM CLOCK BAKELIKE PINK</td>\n",
              "      <td>24</td>\n",
              "      <td>01/12/2010 08:45</td>\n",
              "      <td>3.75</td>\n",
              "      <td>12583.0</td>\n",
              "      <td>France</td>\n",
              "      <td>75</td>\n",
              "      <td>Hermès International</td>\n",
              "      <td>Consumer discretionary</td>\n",
              "      <td>88.2</td>\n",
              "      <td>10.6</td>\n",
              "      <td>13.7</td>\n",
              "    </tr>\n",
              "    <tr>\n",
              "      <th>1</th>\n",
              "      <td>536370</td>\n",
              "      <td>22728</td>\n",
              "      <td>ALARM CLOCK BAKELIKE PINK</td>\n",
              "      <td>24</td>\n",
              "      <td>01/12/2010 08:45</td>\n",
              "      <td>3.75</td>\n",
              "      <td>12583.0</td>\n",
              "      <td>France</td>\n",
              "      <td>95</td>\n",
              "      <td>L'Oréal</td>\n",
              "      <td>Consumer staples</td>\n",
              "      <td>173.4</td>\n",
              "      <td>8.8</td>\n",
              "      <td>5.3</td>\n",
              "    </tr>\n",
              "    <tr>\n",
              "      <th>2</th>\n",
              "      <td>536370</td>\n",
              "      <td>22727</td>\n",
              "      <td>ALARM CLOCK BAKELIKE RED</td>\n",
              "      <td>24</td>\n",
              "      <td>01/12/2010 08:45</td>\n",
              "      <td>3.75</td>\n",
              "      <td>12583.0</td>\n",
              "      <td>France</td>\n",
              "      <td>75</td>\n",
              "      <td>Hermès International</td>\n",
              "      <td>Consumer discretionary</td>\n",
              "      <td>88.2</td>\n",
              "      <td>10.6</td>\n",
              "      <td>13.7</td>\n",
              "    </tr>\n",
              "    <tr>\n",
              "      <th>3</th>\n",
              "      <td>536370</td>\n",
              "      <td>22727</td>\n",
              "      <td>ALARM CLOCK BAKELIKE RED</td>\n",
              "      <td>24</td>\n",
              "      <td>01/12/2010 08:45</td>\n",
              "      <td>3.75</td>\n",
              "      <td>12583.0</td>\n",
              "      <td>France</td>\n",
              "      <td>95</td>\n",
              "      <td>L'Oréal</td>\n",
              "      <td>Consumer staples</td>\n",
              "      <td>173.4</td>\n",
              "      <td>8.8</td>\n",
              "      <td>5.3</td>\n",
              "    </tr>\n",
              "    <tr>\n",
              "      <th>4</th>\n",
              "      <td>536370</td>\n",
              "      <td>22726</td>\n",
              "      <td>ALARM CLOCK BAKELIKE GREEN</td>\n",
              "      <td>12</td>\n",
              "      <td>01/12/2010 08:45</td>\n",
              "      <td>3.75</td>\n",
              "      <td>12583.0</td>\n",
              "      <td>France</td>\n",
              "      <td>75</td>\n",
              "      <td>Hermès International</td>\n",
              "      <td>Consumer discretionary</td>\n",
              "      <td>88.2</td>\n",
              "      <td>10.6</td>\n",
              "      <td>13.7</td>\n",
              "    </tr>\n",
              "    <tr>\n",
              "      <th>...</th>\n",
              "      <td>...</td>\n",
              "      <td>...</td>\n",
              "      <td>...</td>\n",
              "      <td>...</td>\n",
              "      <td>...</td>\n",
              "      <td>...</td>\n",
              "      <td>...</td>\n",
              "      <td>...</td>\n",
              "      <td>...</td>\n",
              "      <td>...</td>\n",
              "      <td>...</td>\n",
              "      <td>...</td>\n",
              "      <td>...</td>\n",
              "      <td>...</td>\n",
              "    </tr>\n",
              "    <tr>\n",
              "      <th>48619</th>\n",
              "      <td>564428</td>\n",
              "      <td>23296</td>\n",
              "      <td>SET OF 6 TEA TIME BAKING CASES</td>\n",
              "      <td>8</td>\n",
              "      <td>25/08/2011 11:27</td>\n",
              "      <td>1.25</td>\n",
              "      <td>17844.0</td>\n",
              "      <td>Canada</td>\n",
              "      <td>81</td>\n",
              "      <td>Barrick Gold</td>\n",
              "      <td>Materials</td>\n",
              "      <td>43.1</td>\n",
              "      <td>10.1</td>\n",
              "      <td>30.7</td>\n",
              "    </tr>\n",
              "    <tr>\n",
              "      <th>48620</th>\n",
              "      <td>564428</td>\n",
              "      <td>23296</td>\n",
              "      <td>SET OF 6 TEA TIME BAKING CASES</td>\n",
              "      <td>8</td>\n",
              "      <td>25/08/2011 11:27</td>\n",
              "      <td>1.25</td>\n",
              "      <td>17844.0</td>\n",
              "      <td>Canada</td>\n",
              "      <td>87</td>\n",
              "      <td>Lululemon Athletica</td>\n",
              "      <td>Consumer discretionary</td>\n",
              "      <td>39.5</td>\n",
              "      <td>9.4</td>\n",
              "      <td>31.0</td>\n",
              "    </tr>\n",
              "    <tr>\n",
              "      <th>48621</th>\n",
              "      <td>564428</td>\n",
              "      <td>23294</td>\n",
              "      <td>SET OF 6 SNACK LOAF BAKING CASES</td>\n",
              "      <td>8</td>\n",
              "      <td>25/08/2011 11:27</td>\n",
              "      <td>0.83</td>\n",
              "      <td>17844.0</td>\n",
              "      <td>Canada</td>\n",
              "      <td>14</td>\n",
              "      <td>Shopify</td>\n",
              "      <td>Technology</td>\n",
              "      <td>97.6</td>\n",
              "      <td>51.5</td>\n",
              "      <td>111.7</td>\n",
              "    </tr>\n",
              "    <tr>\n",
              "      <th>48622</th>\n",
              "      <td>564428</td>\n",
              "      <td>23294</td>\n",
              "      <td>SET OF 6 SNACK LOAF BAKING CASES</td>\n",
              "      <td>8</td>\n",
              "      <td>25/08/2011 11:27</td>\n",
              "      <td>0.83</td>\n",
              "      <td>17844.0</td>\n",
              "      <td>Canada</td>\n",
              "      <td>81</td>\n",
              "      <td>Barrick Gold</td>\n",
              "      <td>Materials</td>\n",
              "      <td>43.1</td>\n",
              "      <td>10.1</td>\n",
              "      <td>30.7</td>\n",
              "    </tr>\n",
              "    <tr>\n",
              "      <th>48623</th>\n",
              "      <td>564428</td>\n",
              "      <td>23294</td>\n",
              "      <td>SET OF 6 SNACK LOAF BAKING CASES</td>\n",
              "      <td>8</td>\n",
              "      <td>25/08/2011 11:27</td>\n",
              "      <td>0.83</td>\n",
              "      <td>17844.0</td>\n",
              "      <td>Canada</td>\n",
              "      <td>87</td>\n",
              "      <td>Lululemon Athletica</td>\n",
              "      <td>Consumer discretionary</td>\n",
              "      <td>39.5</td>\n",
              "      <td>9.4</td>\n",
              "      <td>31.0</td>\n",
              "    </tr>\n",
              "  </tbody>\n",
              "</table>\n",
              "<p>48624 rows × 14 columns</p>\n",
              "</div>"
            ],
            "text/plain": [
              "      InvoiceNo StockCode  ... Market cap added  Change\n",
              "0        536370     22728  ...             10.6    13.7\n",
              "1        536370     22728  ...              8.8     5.3\n",
              "2        536370     22727  ...             10.6    13.7\n",
              "3        536370     22727  ...              8.8     5.3\n",
              "4        536370     22726  ...             10.6    13.7\n",
              "...         ...       ...  ...              ...     ...\n",
              "48619    564428     23296  ...             10.1    30.7\n",
              "48620    564428     23296  ...              9.4    31.0\n",
              "48621    564428     23294  ...             51.5   111.7\n",
              "48622    564428     23294  ...             10.1    30.7\n",
              "48623    564428     23294  ...              9.4    31.0\n",
              "\n",
              "[48624 rows x 14 columns]"
            ]
          },
          "metadata": {
            "tags": []
          },
          "execution_count": 8
        }
      ]
    },
    {
      "cell_type": "markdown",
      "metadata": {
        "id": "OngKEONmLX8w"
      },
      "source": [
        "# Initial Data Analysis:\n",
        "\n",
        "> 1) Quality of data:\n",
        "\n",
        "*    Frequency counts:\n",
        "     The given dataset of covid-19 has got Structured and Unstructured data.\n",
        "     It has got numeric(integer,float),Boolean(0,1) and strings i.e sequence\n",
        "     of symbols kind of values in the data columns.\n",
        "*    Discriptive/ Summary statistics.\n",
        "      (mean,median,standard deviation, max,min,etc.)\n",
        "\n",
        "*    Normality(frequency histograms)\n",
        "  \n",
        "> 2) Quality of Measurements,if applicable\n",
        "\n",
        "> 3) Data Transformation: data transpose,data type change,sorting,deletion,etc.\n"
      ]
    },
    {
      "cell_type": "markdown",
      "metadata": {
        "id": "stKlr5_oQljF"
      },
      "source": [
        "## 1) Quality of data:\n"
      ]
    },
    {
      "cell_type": "code",
      "metadata": {
        "id": "bMVoSMQVLXmc",
        "colab": {
          "base_uri": "https://localhost:8080/"
        },
        "outputId": "836049b1-4bc3-4379-e1fc-68325e461fb3"
      },
      "source": [
        "# a) checking the Datatypes frequency: \n",
        "market.info() # Gives the information about Index, Datatype and Memory information."
      ],
      "execution_count": null,
      "outputs": [
        {
          "output_type": "stream",
          "text": [
            "<class 'pandas.core.frame.DataFrame'>\n",
            "Int64Index: 48624 entries, 0 to 48623\n",
            "Data columns (total 14 columns):\n",
            " #   Column            Non-Null Count  Dtype  \n",
            "---  ------            --------------  -----  \n",
            " 0   InvoiceNo         48624 non-null  object \n",
            " 1   StockCode         48624 non-null  object \n",
            " 2   Description       48624 non-null  object \n",
            " 3   Quantity          48624 non-null  int64  \n",
            " 4   InvoiceDate       48624 non-null  object \n",
            " 5   UnitPrice         48624 non-null  float64\n",
            " 6   CustomerID        47829 non-null  float64\n",
            " 7   Country           48624 non-null  object \n",
            " 8   S.No              48624 non-null  int64  \n",
            " 9   Company           48624 non-null  object \n",
            " 10  Sector            48624 non-null  object \n",
            " 11  Market cap ($bn)  48624 non-null  object \n",
            " 12  Market cap added  48624 non-null  float64\n",
            " 13  Change            48624 non-null  float64\n",
            "dtypes: float64(4), int64(2), object(8)\n",
            "memory usage: 5.6+ MB\n"
          ],
          "name": "stdout"
        }
      ]
    },
    {
      "cell_type": "code",
      "metadata": {
        "id": "oQ1kvlPJxa8l",
        "colab": {
          "base_uri": "https://localhost:8080/"
        },
        "outputId": "60a86c8f-964b-49e7-fb62-473e555633bb"
      },
      "source": [
        "for feature in market.columns:\n",
        "    if market[feature].dtype not in ['int64', 'float64']:\n",
        "        print(f'{feature}: {market[feature].unique()}')"
      ],
      "execution_count": null,
      "outputs": [
        {
          "output_type": "stream",
          "text": [
            "InvoiceNo: ['536370' '536852' '536974' ... '559557' '560187' '564428']\n",
            "StockCode: ['22728' '22727' '22726' ... '84877D' '84926A' '84877B']\n",
            "Description: ['ALARM CLOCK BAKELIKE PINK' 'ALARM CLOCK BAKELIKE RED '\n",
            " 'ALARM CLOCK BAKELIKE GREEN' ... 'WAKE UP COCKEREL TILE COASTER'\n",
            " 'GREEN ROUND COMPACT MIRROR' 'TUMBLER BAROQUE']\n",
            "InvoiceDate: ['01/12/2010 08:45' '03/12/2010 09:51' '03/12/2010 13:59' ...\n",
            " '11/07/2011 10:33' '15/07/2011 12:05' '25/08/2011 11:27']\n",
            "Country: ['France' 'Australia' 'Netherlands' 'Germany' 'Switzerland' 'Japan'\n",
            " 'Denmark' 'Sweden' 'Hong Kong' 'Singapore' 'Canada']\n",
            "Company: ['Hermès International' \"L'Oréal\" 'Atlassian' 'ASML' 'Prosus' 'Adyen'\n",
            " 'Just Eat Takeaway' 'Unilever' 'Audi' 'Roche' 'Nestlé' 'Lonza'\n",
            " 'Chugai Pharmaceutical' 'Keyence' 'Daiichi Sankyo' 'Novo Nordisk'\n",
            " 'Spotify' 'Alibaba Health Information Technology' 'Sea Group' 'Shopify'\n",
            " 'Barrick Gold' 'Lululemon Athletica']\n",
            "Sector: ['Consumer discretionary' 'Consumer staples' 'Technology' 'Healthcare'\n",
            " 'Communication services' 'Materials']\n",
            "Market cap ($bn): ['88.2' '173.4' '43.6' '151' '145.7' '43.4' '14.6' '146.2' '76.3' '303.7'\n",
            " '326.7' '38.6' '84.7' '100.5' '54.3' '156.3' '37.2' '34.1' '50.5' '97.6'\n",
            " '43.1' '39.5']\n"
          ],
          "name": "stdout"
        }
      ]
    },
    {
      "cell_type": "code",
      "metadata": {
        "id": "nFCylR_eQ3nh",
        "colab": {
          "base_uri": "https://localhost:8080/"
        },
        "outputId": "7a95e3ef-27a2-4955-e73c-0ac47abb8475"
      },
      "source": [
        "market.count() # returns the value of non-null values in each Dataframe(market)"
      ],
      "execution_count": null,
      "outputs": [
        {
          "output_type": "execute_result",
          "data": {
            "text/plain": [
              "InvoiceNo           48624\n",
              "StockCode           48624\n",
              "Description         48624\n",
              "Quantity            48624\n",
              "InvoiceDate         48624\n",
              "UnitPrice           48624\n",
              "CustomerID          47829\n",
              "Country             48624\n",
              "S.No                48624\n",
              "Company             48624\n",
              "Sector              48624\n",
              "Market cap ($bn)    48624\n",
              "Market cap added    48624\n",
              "Change              48624\n",
              "dtype: int64"
            ]
          },
          "metadata": {
            "tags": []
          },
          "execution_count": 11
        }
      ]
    },
    {
      "cell_type": "code",
      "metadata": {
        "id": "ZqUMQe-CyImA",
        "colab": {
          "base_uri": "https://localhost:8080/",
          "height": 1000
        },
        "outputId": "db701dc0-46b5-45b4-d827-4dc3a42eea2a"
      },
      "source": [
        "fig, ax = plt.subplots(nrows=3, ncols=1, figsize=(26, 38))\n",
        "sns.set(font_scale=1.2)\n",
        "cols_ = [\"Sector\", \"Market cap ($bn)\", \"Change\"]\n",
        "\n",
        "for ind, col in enumerate(cols_):\n",
        "    sns.countplot(x=col, data=market, ax=ax[ind])"
      ],
      "execution_count": null,
      "outputs": [
        {
          "output_type": "display_data",
          "data": {
            "image/png": "[encoded data removed]",
            "text/plain": [
              "<Figure size 1872x2736 with 3 Axes>"
            ]
          },
          "metadata": {
            "tags": [],
            "needs_background": "light"
          }
        }
      ]
    },
    {
      "cell_type": "code",
      "metadata": {
        "id": "VAzu130lzxl9",
        "colab": {
          "base_uri": "https://localhost:8080/",
          "height": 927
        },
        "outputId": "1bd76192-b3d3-47c9-c48b-e33e4889afac"
      },
      "source": [
        "fig, ax = plt.subplots(figsize=(20, 16))\n",
        "df_corr = market.corr(method=\"pearson\")\n",
        "mask = np.zeros_like(np.array(df_corr))\n",
        "ax = sns.heatmap(df_corr,mask=mask, annot=True)"
      ],
      "execution_count": null,
      "outputs": [
        {
          "output_type": "display_data",
          "data": {
            "image/png": "[encoded data removed]",
            "text/plain": [
              "<Figure size 1440x1152 with 2 Axes>"
            ]
          },
          "metadata": {
            "tags": []
          }
        }
      ]
    },
    {
      "cell_type": "code",
      "metadata": {
        "id": "W_xE4RF6REHh",
        "colab": {
          "base_uri": "https://localhost:8080/",
          "height": 294
        },
        "outputId": "53763416-a21b-45e1-e2dd-bc9981bc0ab5"
      },
      "source": [
        "# b) Descriptive/ Summary Statistics(mean,meadian,standard deviation,max,min,etc)\n",
        "market.describe() # gives Summary staistics for numerical columns"
      ],
      "execution_count": null,
      "outputs": [
        {
          "output_type": "execute_result",
          "data": {
            "text/html": [
              "<div>\n",
              "<style scoped>\n",
              "    .dataframe tbody tr th:only-of-type {\n",
              "        vertical-align: middle;\n",
              "    }\n",
              "\n",
              "    .dataframe tbody tr th {\n",
              "        vertical-align: top;\n",
              "    }\n",
              "\n",
              "    .dataframe thead th {\n",
              "        text-align: right;\n",
              "    }\n",
              "</style>\n",
              "<table border=\"1\" class=\"dataframe\">\n",
              "  <thead>\n",
              "    <tr style=\"text-align: right;\">\n",
              "      <th></th>\n",
              "      <th>Quantity</th>\n",
              "      <th>UnitPrice</th>\n",
              "      <th>CustomerID</th>\n",
              "      <th>S.No</th>\n",
              "      <th>Market cap added</th>\n",
              "      <th>Change</th>\n",
              "    </tr>\n",
              "  </thead>\n",
              "  <tbody>\n",
              "    <tr>\n",
              "      <th>count</th>\n",
              "      <td>48624.000000</td>\n",
              "      <td>48624.000000</td>\n",
              "      <td>47829.000000</td>\n",
              "      <td>48624.000000</td>\n",
              "      <td>48624.000000</td>\n",
              "      <td>48624.000000</td>\n",
              "    </tr>\n",
              "    <tr>\n",
              "      <th>mean</th>\n",
              "      <td>33.963619</td>\n",
              "      <td>4.653855</td>\n",
              "      <td>13161.048297</td>\n",
              "      <td>56.485830</td>\n",
              "      <td>18.868104</td>\n",
              "      <td>43.640058</td>\n",
              "    </tr>\n",
              "    <tr>\n",
              "      <th>std</th>\n",
              "      <td>73.552953</td>\n",
              "      <td>64.830839</td>\n",
              "      <td>995.588752</td>\n",
              "      <td>30.563052</td>\n",
              "      <td>11.334199</td>\n",
              "      <td>45.999461</td>\n",
              "    </tr>\n",
              "    <tr>\n",
              "      <th>min</th>\n",
              "      <td>-624.000000</td>\n",
              "      <td>0.000000</td>\n",
              "      <td>12357.000000</td>\n",
              "      <td>14.000000</td>\n",
              "      <td>8.800000</td>\n",
              "      <td>4.500000</td>\n",
              "    </tr>\n",
              "    <tr>\n",
              "      <th>25%</th>\n",
              "      <td>6.000000</td>\n",
              "      <td>1.050000</td>\n",
              "      <td>12532.000000</td>\n",
              "      <td>25.000000</td>\n",
              "      <td>9.000000</td>\n",
              "      <td>6.500000</td>\n",
              "    </tr>\n",
              "    <tr>\n",
              "      <th>50%</th>\n",
              "      <td>12.000000</td>\n",
              "      <td>1.650000</td>\n",
              "      <td>12681.000000</td>\n",
              "      <td>62.000000</td>\n",
              "      <td>11.600000</td>\n",
              "      <td>20.400000</td>\n",
              "    </tr>\n",
              "    <tr>\n",
              "      <th>75%</th>\n",
              "      <td>25.000000</td>\n",
              "      <td>3.350000</td>\n",
              "      <td>13813.000000</td>\n",
              "      <td>92.000000</td>\n",
              "      <td>27.300000</td>\n",
              "      <td>98.400000</td>\n",
              "    </tr>\n",
              "    <tr>\n",
              "      <th>max</th>\n",
              "      <td>2400.000000</td>\n",
              "      <td>4161.060000</td>\n",
              "      <td>17844.000000</td>\n",
              "      <td>95.000000</td>\n",
              "      <td>51.500000</td>\n",
              "      <td>171.100000</td>\n",
              "    </tr>\n",
              "  </tbody>\n",
              "</table>\n",
              "</div>"
            ],
            "text/plain": [
              "           Quantity     UnitPrice  ...  Market cap added        Change\n",
              "count  48624.000000  48624.000000  ...      48624.000000  48624.000000\n",
              "mean      33.963619      4.653855  ...         18.868104     43.640058\n",
              "std       73.552953     64.830839  ...         11.334199     45.999461\n",
              "min     -624.000000      0.000000  ...          8.800000      4.500000\n",
              "25%        6.000000      1.050000  ...          9.000000      6.500000\n",
              "50%       12.000000      1.650000  ...         11.600000     20.400000\n",
              "75%       25.000000      3.350000  ...         27.300000     98.400000\n",
              "max     2400.000000   4161.060000  ...         51.500000    171.100000\n",
              "\n",
              "[8 rows x 6 columns]"
            ]
          },
          "metadata": {
            "tags": []
          },
          "execution_count": 121
        }
      ]
    },
    {
      "cell_type": "code",
      "metadata": {
        "id": "SMVVVoaHRjE8",
        "colab": {
          "base_uri": "https://localhost:8080/",
          "height": 415
        },
        "outputId": "d8adb5ab-10d2-44d8-d5da-9e357315bdd3"
      },
      "source": [
        "# c) Normality(frequency histograms)\n",
        "market.describe().plot.hist(bins=10,figsize=[13,6])\n",
        "plt.title('Frequency Histogram',fontsize=16)"
      ],
      "execution_count": null,
      "outputs": [
        {
          "output_type": "execute_result",
          "data": {
            "text/plain": [
              "Text(0.5, 1.0, 'Frequency Histogram')"
            ]
          },
          "metadata": {
            "tags": []
          },
          "execution_count": 122
        },
        {
          "output_type": "display_data",
          "data": {
            "image/png": "[encoded data removed]",
            "text/plain": [
              "<Figure size 936x432 with 1 Axes>"
            ]
          },
          "metadata": {
            "tags": []
          }
        }
      ]
    },
    {
      "cell_type": "code",
      "metadata": {
        "id": "_LElbVT3SGBy",
        "colab": {
          "base_uri": "https://localhost:8080/"
        },
        "outputId": "5bff4bf7-9653-47ac-9f10-8c19dd09c1c8"
      },
      "source": [
        "market.equals(market)"
      ],
      "execution_count": null,
      "outputs": [
        {
          "output_type": "execute_result",
          "data": {
            "text/plain": [
              "True"
            ]
          },
          "metadata": {
            "tags": []
          },
          "execution_count": 30
        }
      ]
    },
    {
      "cell_type": "code",
      "metadata": {
        "id": "KwfTgrtySoSK",
        "colab": {
          "base_uri": "https://localhost:8080/"
        },
        "outputId": "e82900f5-390c-47c0-8197-bce31ab6e44e"
      },
      "source": [
        "market.index"
      ],
      "execution_count": null,
      "outputs": [
        {
          "output_type": "execute_result",
          "data": {
            "text/plain": [
              "Int64Index([    0,     1,     2,     3,     4,     5,     6,     7,     8,\n",
              "                9,\n",
              "            ...\n",
              "            48614, 48615, 48616, 48617, 48618, 48619, 48620, 48621, 48622,\n",
              "            48623],\n",
              "           dtype='int64', length=48624)"
            ]
          },
          "metadata": {
            "tags": []
          },
          "execution_count": 123
        }
      ]
    },
    {
      "cell_type": "code",
      "metadata": {
        "id": "mA9LJ5xWStn8",
        "colab": {
          "base_uri": "https://localhost:8080/"
        },
        "outputId": "ac059bd6-e992-470e-d354-e892ad082e61"
      },
      "source": [
        "market.shape"
      ],
      "execution_count": null,
      "outputs": [
        {
          "output_type": "execute_result",
          "data": {
            "text/plain": [
              "(48624, 14)"
            ]
          },
          "metadata": {
            "tags": []
          },
          "execution_count": 124
        }
      ]
    },
    {
      "cell_type": "code",
      "metadata": {
        "id": "PM-W-3kqSwpB",
        "colab": {
          "base_uri": "https://localhost:8080/",
          "height": 431
        },
        "outputId": "5c1d2b00-bc12-482b-d02d-f001ccd017e6"
      },
      "source": [
        "market.isna()"
      ],
      "execution_count": null,
      "outputs": [
        {
          "output_type": "execute_result",
          "data": {
            "text/html": [
              "<div>\n",
              "<style scoped>\n",
              "    .dataframe tbody tr th:only-of-type {\n",
              "        vertical-align: middle;\n",
              "    }\n",
              "\n",
              "    .dataframe tbody tr th {\n",
              "        vertical-align: top;\n",
              "    }\n",
              "\n",
              "    .dataframe thead th {\n",
              "        text-align: right;\n",
              "    }\n",
              "</style>\n",
              "<table border=\"1\" class=\"dataframe\">\n",
              "  <thead>\n",
              "    <tr style=\"text-align: right;\">\n",
              "      <th></th>\n",
              "      <th>InvoiceNo</th>\n",
              "      <th>StockCode</th>\n",
              "      <th>Description</th>\n",
              "      <th>Quantity</th>\n",
              "      <th>InvoiceDate</th>\n",
              "      <th>UnitPrice</th>\n",
              "      <th>CustomerID</th>\n",
              "      <th>Country</th>\n",
              "      <th>S.No</th>\n",
              "      <th>Company</th>\n",
              "      <th>Sector</th>\n",
              "      <th>Market cap ($bn)</th>\n",
              "      <th>Market cap added</th>\n",
              "      <th>Change</th>\n",
              "    </tr>\n",
              "  </thead>\n",
              "  <tbody>\n",
              "    <tr>\n",
              "      <th>0</th>\n",
              "      <td>False</td>\n",
              "      <td>False</td>\n",
              "      <td>False</td>\n",
              "      <td>False</td>\n",
              "      <td>False</td>\n",
              "      <td>False</td>\n",
              "      <td>False</td>\n",
              "      <td>False</td>\n",
              "      <td>False</td>\n",
              "      <td>False</td>\n",
              "      <td>False</td>\n",
              "      <td>False</td>\n",
              "      <td>False</td>\n",
              "      <td>False</td>\n",
              "    </tr>\n",
              "    <tr>\n",
              "      <th>1</th>\n",
              "      <td>False</td>\n",
              "      <td>False</td>\n",
              "      <td>False</td>\n",
              "      <td>False</td>\n",
              "      <td>False</td>\n",
              "      <td>False</td>\n",
              "      <td>False</td>\n",
              "      <td>False</td>\n",
              "      <td>False</td>\n",
              "      <td>False</td>\n",
              "      <td>False</td>\n",
              "      <td>False</td>\n",
              "      <td>False</td>\n",
              "      <td>False</td>\n",
              "    </tr>\n",
              "    <tr>\n",
              "      <th>2</th>\n",
              "      <td>False</td>\n",
              "      <td>False</td>\n",
              "      <td>False</td>\n",
              "      <td>False</td>\n",
              "      <td>False</td>\n",
              "      <td>False</td>\n",
              "      <td>False</td>\n",
              "      <td>False</td>\n",
              "      <td>False</td>\n",
              "      <td>False</td>\n",
              "      <td>False</td>\n",
              "      <td>False</td>\n",
              "      <td>False</td>\n",
              "      <td>False</td>\n",
              "    </tr>\n",
              "    <tr>\n",
              "      <th>3</th>\n",
              "      <td>False</td>\n",
              "      <td>False</td>\n",
              "      <td>False</td>\n",
              "      <td>False</td>\n",
              "      <td>False</td>\n",
              "      <td>False</td>\n",
              "      <td>False</td>\n",
              "      <td>False</td>\n",
              "      <td>False</td>\n",
              "      <td>False</td>\n",
              "      <td>False</td>\n",
              "      <td>False</td>\n",
              "      <td>False</td>\n",
              "      <td>False</td>\n",
              "    </tr>\n",
              "    <tr>\n",
              "      <th>4</th>\n",
              "      <td>False</td>\n",
              "      <td>False</td>\n",
              "      <td>False</td>\n",
              "      <td>False</td>\n",
              "      <td>False</td>\n",
              "      <td>False</td>\n",
              "      <td>False</td>\n",
              "      <td>False</td>\n",
              "      <td>False</td>\n",
              "      <td>False</td>\n",
              "      <td>False</td>\n",
              "      <td>False</td>\n",
              "      <td>False</td>\n",
              "      <td>False</td>\n",
              "    </tr>\n",
              "    <tr>\n",
              "      <th>...</th>\n",
              "      <td>...</td>\n",
              "      <td>...</td>\n",
              "      <td>...</td>\n",
              "      <td>...</td>\n",
              "      <td>...</td>\n",
              "      <td>...</td>\n",
              "      <td>...</td>\n",
              "      <td>...</td>\n",
              "      <td>...</td>\n",
              "      <td>...</td>\n",
              "      <td>...</td>\n",
              "      <td>...</td>\n",
              "      <td>...</td>\n",
              "      <td>...</td>\n",
              "    </tr>\n",
              "    <tr>\n",
              "      <th>48619</th>\n",
              "      <td>False</td>\n",
              "      <td>False</td>\n",
              "      <td>False</td>\n",
              "      <td>False</td>\n",
              "      <td>False</td>\n",
              "      <td>False</td>\n",
              "      <td>False</td>\n",
              "      <td>False</td>\n",
              "      <td>False</td>\n",
              "      <td>False</td>\n",
              "      <td>False</td>\n",
              "      <td>False</td>\n",
              "      <td>False</td>\n",
              "      <td>False</td>\n",
              "    </tr>\n",
              "    <tr>\n",
              "      <th>48620</th>\n",
              "      <td>False</td>\n",
              "      <td>False</td>\n",
              "      <td>False</td>\n",
              "      <td>False</td>\n",
              "      <td>False</td>\n",
              "      <td>False</td>\n",
              "      <td>False</td>\n",
              "      <td>False</td>\n",
              "      <td>False</td>\n",
              "      <td>False</td>\n",
              "      <td>False</td>\n",
              "      <td>False</td>\n",
              "      <td>False</td>\n",
              "      <td>False</td>\n",
              "    </tr>\n",
              "    <tr>\n",
              "      <th>48621</th>\n",
              "      <td>False</td>\n",
              "      <td>False</td>\n",
              "      <td>False</td>\n",
              "      <td>False</td>\n",
              "      <td>False</td>\n",
              "      <td>False</td>\n",
              "      <td>False</td>\n",
              "      <td>False</td>\n",
              "      <td>False</td>\n",
              "      <td>False</td>\n",
              "      <td>False</td>\n",
              "      <td>False</td>\n",
              "      <td>False</td>\n",
              "      <td>False</td>\n",
              "    </tr>\n",
              "    <tr>\n",
              "      <th>48622</th>\n",
              "      <td>False</td>\n",
              "      <td>False</td>\n",
              "      <td>False</td>\n",
              "      <td>False</td>\n",
              "      <td>False</td>\n",
              "      <td>False</td>\n",
              "      <td>False</td>\n",
              "      <td>False</td>\n",
              "      <td>False</td>\n",
              "      <td>False</td>\n",
              "      <td>False</td>\n",
              "      <td>False</td>\n",
              "      <td>False</td>\n",
              "      <td>False</td>\n",
              "    </tr>\n",
              "    <tr>\n",
              "      <th>48623</th>\n",
              "      <td>False</td>\n",
              "      <td>False</td>\n",
              "      <td>False</td>\n",
              "      <td>False</td>\n",
              "      <td>False</td>\n",
              "      <td>False</td>\n",
              "      <td>False</td>\n",
              "      <td>False</td>\n",
              "      <td>False</td>\n",
              "      <td>False</td>\n",
              "      <td>False</td>\n",
              "      <td>False</td>\n",
              "      <td>False</td>\n",
              "      <td>False</td>\n",
              "    </tr>\n",
              "  </tbody>\n",
              "</table>\n",
              "<p>48624 rows × 14 columns</p>\n",
              "</div>"
            ],
            "text/plain": [
              "       InvoiceNo  StockCode  ...  Market cap added  Change\n",
              "0          False      False  ...             False   False\n",
              "1          False      False  ...             False   False\n",
              "2          False      False  ...             False   False\n",
              "3          False      False  ...             False   False\n",
              "4          False      False  ...             False   False\n",
              "...          ...        ...  ...               ...     ...\n",
              "48619      False      False  ...             False   False\n",
              "48620      False      False  ...             False   False\n",
              "48621      False      False  ...             False   False\n",
              "48622      False      False  ...             False   False\n",
              "48623      False      False  ...             False   False\n",
              "\n",
              "[48624 rows x 14 columns]"
            ]
          },
          "metadata": {
            "tags": []
          },
          "execution_count": 33
        }
      ]
    },
    {
      "cell_type": "markdown",
      "metadata": {
        "id": "-Nt3RXohkJ_C"
      },
      "source": [
        "#Data Cleaning\n"
      ]
    },
    {
      "cell_type": "code",
      "metadata": {
        "id": "23yqaV3oS8N7",
        "colab": {
          "base_uri": "https://localhost:8080/",
          "height": 881
        },
        "outputId": "1c086ade-ccf8-4047-bee1-3936539ffcab"
      },
      "source": [
        "# find duplicates\n",
        "market[market.duplicated()] \n",
        "# the o/p shows there are duplicates"
      ],
      "execution_count": null,
      "outputs": [
        {
          "output_type": "execute_result",
          "data": {
            "text/html": [
              "<div>\n",
              "<style scoped>\n",
              "    .dataframe tbody tr th:only-of-type {\n",
              "        vertical-align: middle;\n",
              "    }\n",
              "\n",
              "    .dataframe tbody tr th {\n",
              "        vertical-align: top;\n",
              "    }\n",
              "\n",
              "    .dataframe thead th {\n",
              "        text-align: right;\n",
              "    }\n",
              "</style>\n",
              "<table border=\"1\" class=\"dataframe\">\n",
              "  <thead>\n",
              "    <tr style=\"text-align: right;\">\n",
              "      <th></th>\n",
              "      <th>InvoiceNo</th>\n",
              "      <th>StockCode</th>\n",
              "      <th>Description</th>\n",
              "      <th>Quantity</th>\n",
              "      <th>InvoiceDate</th>\n",
              "      <th>UnitPrice</th>\n",
              "      <th>CustomerID</th>\n",
              "      <th>Country</th>\n",
              "      <th>S.No</th>\n",
              "      <th>Company</th>\n",
              "      <th>Sector</th>\n",
              "      <th>Market cap ($bn)</th>\n",
              "      <th>Market cap added</th>\n",
              "      <th>Change</th>\n",
              "    </tr>\n",
              "  </thead>\n",
              "  <tbody>\n",
              "    <tr>\n",
              "      <th>3568</th>\n",
              "      <td>547194</td>\n",
              "      <td>22554</td>\n",
              "      <td>PLASTERS IN TIN WOODLAND ANIMALS</td>\n",
              "      <td>1</td>\n",
              "      <td>21/03/2011 12:42</td>\n",
              "      <td>1.65</td>\n",
              "      <td>12637.0</td>\n",
              "      <td>France</td>\n",
              "      <td>75</td>\n",
              "      <td>Hermès International</td>\n",
              "      <td>Consumer discretionary</td>\n",
              "      <td>88.2</td>\n",
              "      <td>10.6</td>\n",
              "      <td>13.7</td>\n",
              "    </tr>\n",
              "    <tr>\n",
              "      <th>3569</th>\n",
              "      <td>547194</td>\n",
              "      <td>22554</td>\n",
              "      <td>PLASTERS IN TIN WOODLAND ANIMALS</td>\n",
              "      <td>1</td>\n",
              "      <td>21/03/2011 12:42</td>\n",
              "      <td>1.65</td>\n",
              "      <td>12637.0</td>\n",
              "      <td>France</td>\n",
              "      <td>95</td>\n",
              "      <td>L'Oréal</td>\n",
              "      <td>Consumer staples</td>\n",
              "      <td>173.4</td>\n",
              "      <td>8.8</td>\n",
              "      <td>5.3</td>\n",
              "    </tr>\n",
              "    <tr>\n",
              "      <th>3614</th>\n",
              "      <td>547194</td>\n",
              "      <td>22895</td>\n",
              "      <td>SET OF 2 TEA TOWELS APPLE AND PEARS</td>\n",
              "      <td>1</td>\n",
              "      <td>21/03/2011 12:42</td>\n",
              "      <td>2.95</td>\n",
              "      <td>12637.0</td>\n",
              "      <td>France</td>\n",
              "      <td>75</td>\n",
              "      <td>Hermès International</td>\n",
              "      <td>Consumer discretionary</td>\n",
              "      <td>88.2</td>\n",
              "      <td>10.6</td>\n",
              "      <td>13.7</td>\n",
              "    </tr>\n",
              "    <tr>\n",
              "      <th>3615</th>\n",
              "      <td>547194</td>\n",
              "      <td>22895</td>\n",
              "      <td>SET OF 2 TEA TOWELS APPLE AND PEARS</td>\n",
              "      <td>1</td>\n",
              "      <td>21/03/2011 12:42</td>\n",
              "      <td>2.95</td>\n",
              "      <td>12637.0</td>\n",
              "      <td>France</td>\n",
              "      <td>95</td>\n",
              "      <td>L'Oréal</td>\n",
              "      <td>Consumer staples</td>\n",
              "      <td>173.4</td>\n",
              "      <td>8.8</td>\n",
              "      <td>5.3</td>\n",
              "    </tr>\n",
              "    <tr>\n",
              "      <th>5100</th>\n",
              "      <td>552826</td>\n",
              "      <td>82583</td>\n",
              "      <td>HOT BATHS METAL SIGN</td>\n",
              "      <td>4</td>\n",
              "      <td>11/05/2011 13:20</td>\n",
              "      <td>2.10</td>\n",
              "      <td>14277.0</td>\n",
              "      <td>France</td>\n",
              "      <td>75</td>\n",
              "      <td>Hermès International</td>\n",
              "      <td>Consumer discretionary</td>\n",
              "      <td>88.2</td>\n",
              "      <td>10.6</td>\n",
              "      <td>13.7</td>\n",
              "    </tr>\n",
              "    <tr>\n",
              "      <th>...</th>\n",
              "      <td>...</td>\n",
              "      <td>...</td>\n",
              "      <td>...</td>\n",
              "      <td>...</td>\n",
              "      <td>...</td>\n",
              "      <td>...</td>\n",
              "      <td>...</td>\n",
              "      <td>...</td>\n",
              "      <td>...</td>\n",
              "      <td>...</td>\n",
              "      <td>...</td>\n",
              "      <td>...</td>\n",
              "      <td>...</td>\n",
              "      <td>...</td>\n",
              "    </tr>\n",
              "    <tr>\n",
              "      <th>47484</th>\n",
              "      <td>564539</td>\n",
              "      <td>22378</td>\n",
              "      <td>WALL TIDY RETROSPOT</td>\n",
              "      <td>5</td>\n",
              "      <td>25/08/2011 15:22</td>\n",
              "      <td>2.10</td>\n",
              "      <td>12715.0</td>\n",
              "      <td>Sweden</td>\n",
              "      <td>77</td>\n",
              "      <td>Spotify</td>\n",
              "      <td>Communication services</td>\n",
              "      <td>37.2</td>\n",
              "      <td>10.4</td>\n",
              "      <td>38.8</td>\n",
              "    </tr>\n",
              "    <tr>\n",
              "      <th>47707</th>\n",
              "      <td>541975</td>\n",
              "      <td>22452</td>\n",
              "      <td>MEASURING TAPE BABUSHKA PINK</td>\n",
              "      <td>24</td>\n",
              "      <td>24/01/2011 14:24</td>\n",
              "      <td>2.95</td>\n",
              "      <td>NaN</td>\n",
              "      <td>Hong Kong</td>\n",
              "      <td>30</td>\n",
              "      <td>Alibaba Health Information Technology</td>\n",
              "      <td>Healthcare</td>\n",
              "      <td>34.1</td>\n",
              "      <td>20.2</td>\n",
              "      <td>145.3</td>\n",
              "    </tr>\n",
              "    <tr>\n",
              "      <th>47708</th>\n",
              "      <td>541975</td>\n",
              "      <td>22454</td>\n",
              "      <td>MEASURING TAPE BABUSHKA RED</td>\n",
              "      <td>24</td>\n",
              "      <td>24/01/2011 14:24</td>\n",
              "      <td>2.95</td>\n",
              "      <td>NaN</td>\n",
              "      <td>Hong Kong</td>\n",
              "      <td>30</td>\n",
              "      <td>Alibaba Health Information Technology</td>\n",
              "      <td>Healthcare</td>\n",
              "      <td>34.1</td>\n",
              "      <td>20.2</td>\n",
              "      <td>145.3</td>\n",
              "    </tr>\n",
              "    <tr>\n",
              "      <th>47709</th>\n",
              "      <td>541975</td>\n",
              "      <td>20749</td>\n",
              "      <td>ASSORTED COLOUR MINI CASES</td>\n",
              "      <td>6</td>\n",
              "      <td>24/01/2011 14:24</td>\n",
              "      <td>7.95</td>\n",
              "      <td>NaN</td>\n",
              "      <td>Hong Kong</td>\n",
              "      <td>30</td>\n",
              "      <td>Alibaba Health Information Technology</td>\n",
              "      <td>Healthcare</td>\n",
              "      <td>34.1</td>\n",
              "      <td>20.2</td>\n",
              "      <td>145.3</td>\n",
              "    </tr>\n",
              "    <tr>\n",
              "      <th>47710</th>\n",
              "      <td>541975</td>\n",
              "      <td>20682</td>\n",
              "      <td>RED RETROSPOT CHILDRENS UMBRELLA</td>\n",
              "      <td>6</td>\n",
              "      <td>24/01/2011 14:24</td>\n",
              "      <td>3.25</td>\n",
              "      <td>NaN</td>\n",
              "      <td>Hong Kong</td>\n",
              "      <td>30</td>\n",
              "      <td>Alibaba Health Information Technology</td>\n",
              "      <td>Healthcare</td>\n",
              "      <td>34.1</td>\n",
              "      <td>20.2</td>\n",
              "      <td>145.3</td>\n",
              "    </tr>\n",
              "  </tbody>\n",
              "</table>\n",
              "<p>77 rows × 14 columns</p>\n",
              "</div>"
            ],
            "text/plain": [
              "      InvoiceNo StockCode  ... Market cap added  Change\n",
              "3568     547194     22554  ...             10.6    13.7\n",
              "3569     547194     22554  ...              8.8     5.3\n",
              "3614     547194     22895  ...             10.6    13.7\n",
              "3615     547194     22895  ...              8.8     5.3\n",
              "5100     552826     82583  ...             10.6    13.7\n",
              "...         ...       ...  ...              ...     ...\n",
              "47484    564539     22378  ...             10.4    38.8\n",
              "47707    541975     22452  ...             20.2   145.3\n",
              "47708    541975     22454  ...             20.2   145.3\n",
              "47709    541975     20749  ...             20.2   145.3\n",
              "47710    541975     20682  ...             20.2   145.3\n",
              "\n",
              "[77 rows x 14 columns]"
            ]
          },
          "metadata": {
            "tags": []
          },
          "execution_count": 13
        }
      ]
    },
    {
      "cell_type": "code",
      "metadata": {
        "id": "sIv2j_Yh3DAU",
        "colab": {
          "base_uri": "https://localhost:8080/",
          "height": 914
        },
        "outputId": "e1e1d406-e325-4fe6-e1f8-fa99918e401f"
      },
      "source": [
        "market.drop_duplicates()"
      ],
      "execution_count": null,
      "outputs": [
        {
          "output_type": "execute_result",
          "data": {
            "text/html": [
              "<div>\n",
              "<style scoped>\n",
              "    .dataframe tbody tr th:only-of-type {\n",
              "        vertical-align: middle;\n",
              "    }\n",
              "\n",
              "    .dataframe tbody tr th {\n",
              "        vertical-align: top;\n",
              "    }\n",
              "\n",
              "    .dataframe thead th {\n",
              "        text-align: right;\n",
              "    }\n",
              "</style>\n",
              "<table border=\"1\" class=\"dataframe\">\n",
              "  <thead>\n",
              "    <tr style=\"text-align: right;\">\n",
              "      <th></th>\n",
              "      <th>InvoiceNo</th>\n",
              "      <th>StockCode</th>\n",
              "      <th>Description</th>\n",
              "      <th>Quantity</th>\n",
              "      <th>InvoiceDate</th>\n",
              "      <th>UnitPrice</th>\n",
              "      <th>CustomerID</th>\n",
              "      <th>Country</th>\n",
              "      <th>S.No</th>\n",
              "      <th>Company</th>\n",
              "      <th>Sector</th>\n",
              "      <th>Market cap ($bn)</th>\n",
              "      <th>Market cap added</th>\n",
              "      <th>Change</th>\n",
              "    </tr>\n",
              "  </thead>\n",
              "  <tbody>\n",
              "    <tr>\n",
              "      <th>0</th>\n",
              "      <td>536370</td>\n",
              "      <td>22728</td>\n",
              "      <td>ALARM CLOCK BAKELIKE PINK</td>\n",
              "      <td>24</td>\n",
              "      <td>01/12/2010 08:45</td>\n",
              "      <td>3.75</td>\n",
              "      <td>12583.0</td>\n",
              "      <td>France</td>\n",
              "      <td>75</td>\n",
              "      <td>Hermès International</td>\n",
              "      <td>Consumer discretionary</td>\n",
              "      <td>88.2</td>\n",
              "      <td>10.6</td>\n",
              "      <td>13.7</td>\n",
              "    </tr>\n",
              "    <tr>\n",
              "      <th>1</th>\n",
              "      <td>536370</td>\n",
              "      <td>22728</td>\n",
              "      <td>ALARM CLOCK BAKELIKE PINK</td>\n",
              "      <td>24</td>\n",
              "      <td>01/12/2010 08:45</td>\n",
              "      <td>3.75</td>\n",
              "      <td>12583.0</td>\n",
              "      <td>France</td>\n",
              "      <td>95</td>\n",
              "      <td>L'Oréal</td>\n",
              "      <td>Consumer staples</td>\n",
              "      <td>173.4</td>\n",
              "      <td>8.8</td>\n",
              "      <td>5.3</td>\n",
              "    </tr>\n",
              "    <tr>\n",
              "      <th>2</th>\n",
              "      <td>536370</td>\n",
              "      <td>22727</td>\n",
              "      <td>ALARM CLOCK BAKELIKE RED</td>\n",
              "      <td>24</td>\n",
              "      <td>01/12/2010 08:45</td>\n",
              "      <td>3.75</td>\n",
              "      <td>12583.0</td>\n",
              "      <td>France</td>\n",
              "      <td>75</td>\n",
              "      <td>Hermès International</td>\n",
              "      <td>Consumer discretionary</td>\n",
              "      <td>88.2</td>\n",
              "      <td>10.6</td>\n",
              "      <td>13.7</td>\n",
              "    </tr>\n",
              "    <tr>\n",
              "      <th>3</th>\n",
              "      <td>536370</td>\n",
              "      <td>22727</td>\n",
              "      <td>ALARM CLOCK BAKELIKE RED</td>\n",
              "      <td>24</td>\n",
              "      <td>01/12/2010 08:45</td>\n",
              "      <td>3.75</td>\n",
              "      <td>12583.0</td>\n",
              "      <td>France</td>\n",
              "      <td>95</td>\n",
              "      <td>L'Oréal</td>\n",
              "      <td>Consumer staples</td>\n",
              "      <td>173.4</td>\n",
              "      <td>8.8</td>\n",
              "      <td>5.3</td>\n",
              "    </tr>\n",
              "    <tr>\n",
              "      <th>4</th>\n",
              "      <td>536370</td>\n",
              "      <td>22726</td>\n",
              "      <td>ALARM CLOCK BAKELIKE GREEN</td>\n",
              "      <td>12</td>\n",
              "      <td>01/12/2010 08:45</td>\n",
              "      <td>3.75</td>\n",
              "      <td>12583.0</td>\n",
              "      <td>France</td>\n",
              "      <td>75</td>\n",
              "      <td>Hermès International</td>\n",
              "      <td>Consumer discretionary</td>\n",
              "      <td>88.2</td>\n",
              "      <td>10.6</td>\n",
              "      <td>13.7</td>\n",
              "    </tr>\n",
              "    <tr>\n",
              "      <th>...</th>\n",
              "      <td>...</td>\n",
              "      <td>...</td>\n",
              "      <td>...</td>\n",
              "      <td>...</td>\n",
              "      <td>...</td>\n",
              "      <td>...</td>\n",
              "      <td>...</td>\n",
              "      <td>...</td>\n",
              "      <td>...</td>\n",
              "      <td>...</td>\n",
              "      <td>...</td>\n",
              "      <td>...</td>\n",
              "      <td>...</td>\n",
              "      <td>...</td>\n",
              "    </tr>\n",
              "    <tr>\n",
              "      <th>48619</th>\n",
              "      <td>564428</td>\n",
              "      <td>23296</td>\n",
              "      <td>SET OF 6 TEA TIME BAKING CASES</td>\n",
              "      <td>8</td>\n",
              "      <td>25/08/2011 11:27</td>\n",
              "      <td>1.25</td>\n",
              "      <td>17844.0</td>\n",
              "      <td>Canada</td>\n",
              "      <td>81</td>\n",
              "      <td>Barrick Gold</td>\n",
              "      <td>Materials</td>\n",
              "      <td>43.1</td>\n",
              "      <td>10.1</td>\n",
              "      <td>30.7</td>\n",
              "    </tr>\n",
              "    <tr>\n",
              "      <th>48620</th>\n",
              "      <td>564428</td>\n",
              "      <td>23296</td>\n",
              "      <td>SET OF 6 TEA TIME BAKING CASES</td>\n",
              "      <td>8</td>\n",
              "      <td>25/08/2011 11:27</td>\n",
              "      <td>1.25</td>\n",
              "      <td>17844.0</td>\n",
              "      <td>Canada</td>\n",
              "      <td>87</td>\n",
              "      <td>Lululemon Athletica</td>\n",
              "      <td>Consumer discretionary</td>\n",
              "      <td>39.5</td>\n",
              "      <td>9.4</td>\n",
              "      <td>31.0</td>\n",
              "    </tr>\n",
              "    <tr>\n",
              "      <th>48621</th>\n",
              "      <td>564428</td>\n",
              "      <td>23294</td>\n",
              "      <td>SET OF 6 SNACK LOAF BAKING CASES</td>\n",
              "      <td>8</td>\n",
              "      <td>25/08/2011 11:27</td>\n",
              "      <td>0.83</td>\n",
              "      <td>17844.0</td>\n",
              "      <td>Canada</td>\n",
              "      <td>14</td>\n",
              "      <td>Shopify</td>\n",
              "      <td>Technology</td>\n",
              "      <td>97.6</td>\n",
              "      <td>51.5</td>\n",
              "      <td>111.7</td>\n",
              "    </tr>\n",
              "    <tr>\n",
              "      <th>48622</th>\n",
              "      <td>564428</td>\n",
              "      <td>23294</td>\n",
              "      <td>SET OF 6 SNACK LOAF BAKING CASES</td>\n",
              "      <td>8</td>\n",
              "      <td>25/08/2011 11:27</td>\n",
              "      <td>0.83</td>\n",
              "      <td>17844.0</td>\n",
              "      <td>Canada</td>\n",
              "      <td>81</td>\n",
              "      <td>Barrick Gold</td>\n",
              "      <td>Materials</td>\n",
              "      <td>43.1</td>\n",
              "      <td>10.1</td>\n",
              "      <td>30.7</td>\n",
              "    </tr>\n",
              "    <tr>\n",
              "      <th>48623</th>\n",
              "      <td>564428</td>\n",
              "      <td>23294</td>\n",
              "      <td>SET OF 6 SNACK LOAF BAKING CASES</td>\n",
              "      <td>8</td>\n",
              "      <td>25/08/2011 11:27</td>\n",
              "      <td>0.83</td>\n",
              "      <td>17844.0</td>\n",
              "      <td>Canada</td>\n",
              "      <td>87</td>\n",
              "      <td>Lululemon Athletica</td>\n",
              "      <td>Consumer discretionary</td>\n",
              "      <td>39.5</td>\n",
              "      <td>9.4</td>\n",
              "      <td>31.0</td>\n",
              "    </tr>\n",
              "  </tbody>\n",
              "</table>\n",
              "<p>48547 rows × 14 columns</p>\n",
              "</div>"
            ],
            "text/plain": [
              "      InvoiceNo StockCode  ... Market cap added  Change\n",
              "0        536370     22728  ...             10.6    13.7\n",
              "1        536370     22728  ...              8.8     5.3\n",
              "2        536370     22727  ...             10.6    13.7\n",
              "3        536370     22727  ...              8.8     5.3\n",
              "4        536370     22726  ...             10.6    13.7\n",
              "...         ...       ...  ...              ...     ...\n",
              "48619    564428     23296  ...             10.1    30.7\n",
              "48620    564428     23296  ...              9.4    31.0\n",
              "48621    564428     23294  ...             51.5   111.7\n",
              "48622    564428     23294  ...             10.1    30.7\n",
              "48623    564428     23294  ...              9.4    31.0\n",
              "\n",
              "[48547 rows x 14 columns]"
            ]
          },
          "metadata": {
            "tags": []
          },
          "execution_count": 14
        }
      ]
    },
    {
      "cell_type": "code",
      "metadata": {
        "id": "l4lODxwgTMjD",
        "colab": {
          "base_uri": "https://localhost:8080/"
        },
        "outputId": "d6537326-3301-4ed1-fd06-882bb3d85ed3"
      },
      "source": [
        "# count the number of null values of all columns\n",
        "market.isnull().sum()\n",
        "# o/p\n",
        "# customerID values can be removed\n"
      ],
      "execution_count": null,
      "outputs": [
        {
          "output_type": "execute_result",
          "data": {
            "text/plain": [
              "InvoiceNo             0\n",
              "StockCode             0\n",
              "Description           0\n",
              "Quantity              0\n",
              "InvoiceDate           0\n",
              "UnitPrice             0\n",
              "CustomerID          795\n",
              "Country               0\n",
              "S.No                  0\n",
              "Company               0\n",
              "Sector                0\n",
              "Market cap ($bn)      0\n",
              "Market cap added      0\n",
              "Change                0\n",
              "dtype: int64"
            ]
          },
          "metadata": {
            "tags": []
          },
          "execution_count": 15
        }
      ]
    },
    {
      "cell_type": "code",
      "metadata": {
        "id": "v386j5VkTaks",
        "colab": {
          "base_uri": "https://localhost:8080/",
          "height": 401
        },
        "outputId": "c99e158a-ae1d-41b7-f943-81de8f1d3467"
      },
      "source": [
        "import seaborn as sns\n",
        "sns .heatmap(market.isnull()) # we can show missing values graphically presented"
      ],
      "execution_count": null,
      "outputs": [
        {
          "output_type": "execute_result",
          "data": {
            "text/plain": [
              "<matplotlib.axes._subplots.AxesSubplot at 0x7f88ade3b190>"
            ]
          },
          "metadata": {
            "tags": []
          },
          "execution_count": 16
        },
        {
          "output_type": "display_data",
          "data": {
            "image/png": "[encoded data removed]",
            "text/plain": [
              "<Figure size 432x288 with 2 Axes>"
            ]
          },
          "metadata": {
            "tags": []
          }
        }
      ]
    },
    {
      "cell_type": "code",
      "metadata": {
        "id": "1wmotM-Yh5Qh",
        "colab": {
          "base_uri": "https://localhost:8080/"
        },
        "outputId": "1f65ddde-28ff-4a03-b9c1-0b1be73c6232"
      },
      "source": [
        "# Droping rows having missing values\n",
        "\n",
        "market = market.dropna()\n",
        "market.shape"
      ],
      "execution_count": null,
      "outputs": [
        {
          "output_type": "execute_result",
          "data": {
            "text/plain": [
              "(47829, 14)"
            ]
          },
          "metadata": {
            "tags": []
          },
          "execution_count": 17
        }
      ]
    },
    {
      "cell_type": "code",
      "metadata": {
        "id": "8B-N1ctckgd7",
        "colab": {
          "base_uri": "https://localhost:8080/"
        },
        "outputId": "1ffe94c9-13d0-4fe3-9765-6656524807ce"
      },
      "source": [
        "# count the number of null values of all columns\n",
        "market.isnull().sum()"
      ],
      "execution_count": null,
      "outputs": [
        {
          "output_type": "execute_result",
          "data": {
            "text/plain": [
              "InvoiceNo           0\n",
              "StockCode           0\n",
              "Description         0\n",
              "Quantity            0\n",
              "InvoiceDate         0\n",
              "UnitPrice           0\n",
              "CustomerID          0\n",
              "Country             0\n",
              "S.No                0\n",
              "Company             0\n",
              "Sector              0\n",
              "Market cap ($bn)    0\n",
              "Market cap added    0\n",
              "Change              0\n",
              "dtype: int64"
            ]
          },
          "metadata": {
            "tags": []
          },
          "execution_count": 18
        }
      ]
    },
    {
      "cell_type": "code",
      "metadata": {
        "id": "ZTeR1_Ilguyf"
      },
      "source": [
        "# Changing the datatype of CustomerID as per Bussiness understanding\n",
        "market['CustomerID'] = market['CustomerID'].astype(str)"
      ],
      "execution_count": null,
      "outputs": []
    },
    {
      "cell_type": "code",
      "metadata": {
        "colab": {
          "base_uri": "https://localhost:8080/",
          "height": 914
        },
        "id": "nvWWWqQk17Q_",
        "outputId": "eedbe242-ca69-47e2-952a-b82ba09c0a94"
      },
      "source": [
        "market"
      ],
      "execution_count": null,
      "outputs": [
        {
          "output_type": "execute_result",
          "data": {
            "text/html": [
              "<div>\n",
              "<style scoped>\n",
              "    .dataframe tbody tr th:only-of-type {\n",
              "        vertical-align: middle;\n",
              "    }\n",
              "\n",
              "    .dataframe tbody tr th {\n",
              "        vertical-align: top;\n",
              "    }\n",
              "\n",
              "    .dataframe thead th {\n",
              "        text-align: right;\n",
              "    }\n",
              "</style>\n",
              "<table border=\"1\" class=\"dataframe\">\n",
              "  <thead>\n",
              "    <tr style=\"text-align: right;\">\n",
              "      <th></th>\n",
              "      <th>InvoiceNo</th>\n",
              "      <th>StockCode</th>\n",
              "      <th>Description</th>\n",
              "      <th>Quantity</th>\n",
              "      <th>InvoiceDate</th>\n",
              "      <th>UnitPrice</th>\n",
              "      <th>CustomerID</th>\n",
              "      <th>Country</th>\n",
              "      <th>S.No</th>\n",
              "      <th>Company</th>\n",
              "      <th>Sector</th>\n",
              "      <th>Market cap ($bn)</th>\n",
              "      <th>Market cap added</th>\n",
              "      <th>Change</th>\n",
              "    </tr>\n",
              "  </thead>\n",
              "  <tbody>\n",
              "    <tr>\n",
              "      <th>0</th>\n",
              "      <td>536370</td>\n",
              "      <td>22728</td>\n",
              "      <td>ALARM CLOCK BAKELIKE PINK</td>\n",
              "      <td>24</td>\n",
              "      <td>01/12/2010 08:45</td>\n",
              "      <td>3.75</td>\n",
              "      <td>12583.0</td>\n",
              "      <td>France</td>\n",
              "      <td>75</td>\n",
              "      <td>Hermès International</td>\n",
              "      <td>Consumer discretionary</td>\n",
              "      <td>88.2</td>\n",
              "      <td>10.6</td>\n",
              "      <td>13.7</td>\n",
              "    </tr>\n",
              "    <tr>\n",
              "      <th>1</th>\n",
              "      <td>536370</td>\n",
              "      <td>22728</td>\n",
              "      <td>ALARM CLOCK BAKELIKE PINK</td>\n",
              "      <td>24</td>\n",
              "      <td>01/12/2010 08:45</td>\n",
              "      <td>3.75</td>\n",
              "      <td>12583.0</td>\n",
              "      <td>France</td>\n",
              "      <td>95</td>\n",
              "      <td>L'Oréal</td>\n",
              "      <td>Consumer staples</td>\n",
              "      <td>173.4</td>\n",
              "      <td>8.8</td>\n",
              "      <td>5.3</td>\n",
              "    </tr>\n",
              "    <tr>\n",
              "      <th>2</th>\n",
              "      <td>536370</td>\n",
              "      <td>22727</td>\n",
              "      <td>ALARM CLOCK BAKELIKE RED</td>\n",
              "      <td>24</td>\n",
              "      <td>01/12/2010 08:45</td>\n",
              "      <td>3.75</td>\n",
              "      <td>12583.0</td>\n",
              "      <td>France</td>\n",
              "      <td>75</td>\n",
              "      <td>Hermès International</td>\n",
              "      <td>Consumer discretionary</td>\n",
              "      <td>88.2</td>\n",
              "      <td>10.6</td>\n",
              "      <td>13.7</td>\n",
              "    </tr>\n",
              "    <tr>\n",
              "      <th>3</th>\n",
              "      <td>536370</td>\n",
              "      <td>22727</td>\n",
              "      <td>ALARM CLOCK BAKELIKE RED</td>\n",
              "      <td>24</td>\n",
              "      <td>01/12/2010 08:45</td>\n",
              "      <td>3.75</td>\n",
              "      <td>12583.0</td>\n",
              "      <td>France</td>\n",
              "      <td>95</td>\n",
              "      <td>L'Oréal</td>\n",
              "      <td>Consumer staples</td>\n",
              "      <td>173.4</td>\n",
              "      <td>8.8</td>\n",
              "      <td>5.3</td>\n",
              "    </tr>\n",
              "    <tr>\n",
              "      <th>4</th>\n",
              "      <td>536370</td>\n",
              "      <td>22726</td>\n",
              "      <td>ALARM CLOCK BAKELIKE GREEN</td>\n",
              "      <td>12</td>\n",
              "      <td>01/12/2010 08:45</td>\n",
              "      <td>3.75</td>\n",
              "      <td>12583.0</td>\n",
              "      <td>France</td>\n",
              "      <td>75</td>\n",
              "      <td>Hermès International</td>\n",
              "      <td>Consumer discretionary</td>\n",
              "      <td>88.2</td>\n",
              "      <td>10.6</td>\n",
              "      <td>13.7</td>\n",
              "    </tr>\n",
              "    <tr>\n",
              "      <th>...</th>\n",
              "      <td>...</td>\n",
              "      <td>...</td>\n",
              "      <td>...</td>\n",
              "      <td>...</td>\n",
              "      <td>...</td>\n",
              "      <td>...</td>\n",
              "      <td>...</td>\n",
              "      <td>...</td>\n",
              "      <td>...</td>\n",
              "      <td>...</td>\n",
              "      <td>...</td>\n",
              "      <td>...</td>\n",
              "      <td>...</td>\n",
              "      <td>...</td>\n",
              "    </tr>\n",
              "    <tr>\n",
              "      <th>48619</th>\n",
              "      <td>564428</td>\n",
              "      <td>23296</td>\n",
              "      <td>SET OF 6 TEA TIME BAKING CASES</td>\n",
              "      <td>8</td>\n",
              "      <td>25/08/2011 11:27</td>\n",
              "      <td>1.25</td>\n",
              "      <td>17844.0</td>\n",
              "      <td>Canada</td>\n",
              "      <td>81</td>\n",
              "      <td>Barrick Gold</td>\n",
              "      <td>Materials</td>\n",
              "      <td>43.1</td>\n",
              "      <td>10.1</td>\n",
              "      <td>30.7</td>\n",
              "    </tr>\n",
              "    <tr>\n",
              "      <th>48620</th>\n",
              "      <td>564428</td>\n",
              "      <td>23296</td>\n",
              "      <td>SET OF 6 TEA TIME BAKING CASES</td>\n",
              "      <td>8</td>\n",
              "      <td>25/08/2011 11:27</td>\n",
              "      <td>1.25</td>\n",
              "      <td>17844.0</td>\n",
              "      <td>Canada</td>\n",
              "      <td>87</td>\n",
              "      <td>Lululemon Athletica</td>\n",
              "      <td>Consumer discretionary</td>\n",
              "      <td>39.5</td>\n",
              "      <td>9.4</td>\n",
              "      <td>31.0</td>\n",
              "    </tr>\n",
              "    <tr>\n",
              "      <th>48621</th>\n",
              "      <td>564428</td>\n",
              "      <td>23294</td>\n",
              "      <td>SET OF 6 SNACK LOAF BAKING CASES</td>\n",
              "      <td>8</td>\n",
              "      <td>25/08/2011 11:27</td>\n",
              "      <td>0.83</td>\n",
              "      <td>17844.0</td>\n",
              "      <td>Canada</td>\n",
              "      <td>14</td>\n",
              "      <td>Shopify</td>\n",
              "      <td>Technology</td>\n",
              "      <td>97.6</td>\n",
              "      <td>51.5</td>\n",
              "      <td>111.7</td>\n",
              "    </tr>\n",
              "    <tr>\n",
              "      <th>48622</th>\n",
              "      <td>564428</td>\n",
              "      <td>23294</td>\n",
              "      <td>SET OF 6 SNACK LOAF BAKING CASES</td>\n",
              "      <td>8</td>\n",
              "      <td>25/08/2011 11:27</td>\n",
              "      <td>0.83</td>\n",
              "      <td>17844.0</td>\n",
              "      <td>Canada</td>\n",
              "      <td>81</td>\n",
              "      <td>Barrick Gold</td>\n",
              "      <td>Materials</td>\n",
              "      <td>43.1</td>\n",
              "      <td>10.1</td>\n",
              "      <td>30.7</td>\n",
              "    </tr>\n",
              "    <tr>\n",
              "      <th>48623</th>\n",
              "      <td>564428</td>\n",
              "      <td>23294</td>\n",
              "      <td>SET OF 6 SNACK LOAF BAKING CASES</td>\n",
              "      <td>8</td>\n",
              "      <td>25/08/2011 11:27</td>\n",
              "      <td>0.83</td>\n",
              "      <td>17844.0</td>\n",
              "      <td>Canada</td>\n",
              "      <td>87</td>\n",
              "      <td>Lululemon Athletica</td>\n",
              "      <td>Consumer discretionary</td>\n",
              "      <td>39.5</td>\n",
              "      <td>9.4</td>\n",
              "      <td>31.0</td>\n",
              "    </tr>\n",
              "  </tbody>\n",
              "</table>\n",
              "<p>47829 rows × 14 columns</p>\n",
              "</div>"
            ],
            "text/plain": [
              "      InvoiceNo StockCode  ... Market cap added  Change\n",
              "0        536370     22728  ...             10.6    13.7\n",
              "1        536370     22728  ...              8.8     5.3\n",
              "2        536370     22727  ...             10.6    13.7\n",
              "3        536370     22727  ...              8.8     5.3\n",
              "4        536370     22726  ...             10.6    13.7\n",
              "...         ...       ...  ...              ...     ...\n",
              "48619    564428     23296  ...             10.1    30.7\n",
              "48620    564428     23296  ...              9.4    31.0\n",
              "48621    564428     23294  ...             51.5   111.7\n",
              "48622    564428     23294  ...             10.1    30.7\n",
              "48623    564428     23294  ...              9.4    31.0\n",
              "\n",
              "[47829 rows x 14 columns]"
            ]
          },
          "metadata": {
            "tags": []
          },
          "execution_count": 20
        }
      ]
    },
    {
      "cell_type": "markdown",
      "metadata": {
        "id": "Vl9nciibkxmP"
      },
      "source": [
        "#Data Preparation"
      ]
    },
    {
      "cell_type": "markdown",
      "metadata": {
        "id": "bPLDNPzmlBBn"
      },
      "source": [
        "## We are going to analysis the Customers based on below 3 factors:\n",
        "* R (Recency): Number of days since last purchase\n",
        "* F (Frequency): Number of transactions\n",
        "* M (Monetary): Total amount of transactions (revenue contributed)\n",
        "\n",
        "\n",
        "\n",
        "\n",
        "\n",
        "\n"
      ]
    },
    {
      "cell_type": "code",
      "metadata": {
        "id": "a58zGXRjleBS",
        "colab": {
          "base_uri": "https://localhost:8080/",
          "height": 202
        },
        "outputId": "c4ff55e9-2399-416b-d522-c589dcda2e32"
      },
      "source": [
        "# New Attribute : Monetary\n",
        "\n",
        "market['Amount'] = market['Quantity']*market['UnitPrice']\n",
        "rfm_m = market.groupby('CustomerID')['Amount'].sum()\n",
        "rfm_m = rfm_m.reset_index()\n",
        "rfm_m.head()"
      ],
      "execution_count": null,
      "outputs": [
        {
          "output_type": "execute_result",
          "data": {
            "text/html": [
              "<div>\n",
              "<style scoped>\n",
              "    .dataframe tbody tr th:only-of-type {\n",
              "        vertical-align: middle;\n",
              "    }\n",
              "\n",
              "    .dataframe tbody tr th {\n",
              "        vertical-align: top;\n",
              "    }\n",
              "\n",
              "    .dataframe thead th {\n",
              "        text-align: right;\n",
              "    }\n",
              "</style>\n",
              "<table border=\"1\" class=\"dataframe\">\n",
              "  <thead>\n",
              "    <tr style=\"text-align: right;\">\n",
              "      <th></th>\n",
              "      <th>CustomerID</th>\n",
              "      <th>Amount</th>\n",
              "    </tr>\n",
              "  </thead>\n",
              "  <tbody>\n",
              "    <tr>\n",
              "      <th>0</th>\n",
              "      <td>12357.0</td>\n",
              "      <td>18623.01</td>\n",
              "    </tr>\n",
              "    <tr>\n",
              "      <th>1</th>\n",
              "      <td>12367.0</td>\n",
              "      <td>168.90</td>\n",
              "    </tr>\n",
              "    <tr>\n",
              "      <th>2</th>\n",
              "      <td>12371.0</td>\n",
              "      <td>5663.88</td>\n",
              "    </tr>\n",
              "    <tr>\n",
              "      <th>3</th>\n",
              "      <td>12372.0</td>\n",
              "      <td>1298.04</td>\n",
              "    </tr>\n",
              "    <tr>\n",
              "      <th>4</th>\n",
              "      <td>12377.0</td>\n",
              "      <td>4884.36</td>\n",
              "    </tr>\n",
              "  </tbody>\n",
              "</table>\n",
              "</div>"
            ],
            "text/plain": [
              "  CustomerID    Amount\n",
              "0    12357.0  18623.01\n",
              "1    12367.0    168.90\n",
              "2    12371.0   5663.88\n",
              "3    12372.0   1298.04\n",
              "4    12377.0   4884.36"
            ]
          },
          "metadata": {
            "tags": []
          },
          "execution_count": 31
        }
      ]
    },
    {
      "cell_type": "code",
      "metadata": {
        "id": "WtywuN28lvN3"
      },
      "source": [
        "# New Attribute : Frequency\n",
        "market['Class'] = market['Sector']+market['Company']\n",
        "rfm_f = market.groupby('CustomerID')['Class'].sum()\n"
      ],
      "execution_count": null,
      "outputs": []
    },
    {
      "cell_type": "code",
      "metadata": {
        "colab": {
          "base_uri": "https://localhost:8080/",
          "height": 202
        },
        "id": "NMSx4JHcKDO0",
        "outputId": "bf5adcc2-0354-4414-a4cc-8f2b852b2f9b"
      },
      "source": [
        "rfm_f = market.groupby('CustomerID')[['InvoiceNo','Class']].count()\n",
        "rfm_f = rfm_f.reset_index()\n",
        "rfm_f.columns = ['CustomerID','Frequency','Class']\n",
        "rfm_f.head()"
      ],
      "execution_count": null,
      "outputs": [
        {
          "output_type": "execute_result",
          "data": {
            "text/html": [
              "<div>\n",
              "<style scoped>\n",
              "    .dataframe tbody tr th:only-of-type {\n",
              "        vertical-align: middle;\n",
              "    }\n",
              "\n",
              "    .dataframe tbody tr th {\n",
              "        vertical-align: top;\n",
              "    }\n",
              "\n",
              "    .dataframe thead th {\n",
              "        text-align: right;\n",
              "    }\n",
              "</style>\n",
              "<table border=\"1\" class=\"dataframe\">\n",
              "  <thead>\n",
              "    <tr style=\"text-align: right;\">\n",
              "      <th></th>\n",
              "      <th>CustomerID</th>\n",
              "      <th>Frequency</th>\n",
              "      <th>Class</th>\n",
              "    </tr>\n",
              "  </thead>\n",
              "  <tbody>\n",
              "    <tr>\n",
              "      <th>0</th>\n",
              "      <td>12357.0</td>\n",
              "      <td>393</td>\n",
              "      <td>393</td>\n",
              "    </tr>\n",
              "    <tr>\n",
              "      <th>1</th>\n",
              "      <td>12367.0</td>\n",
              "      <td>11</td>\n",
              "      <td>11</td>\n",
              "    </tr>\n",
              "    <tr>\n",
              "      <th>2</th>\n",
              "      <td>12371.0</td>\n",
              "      <td>189</td>\n",
              "      <td>189</td>\n",
              "    </tr>\n",
              "    <tr>\n",
              "      <th>3</th>\n",
              "      <td>12372.0</td>\n",
              "      <td>52</td>\n",
              "      <td>52</td>\n",
              "    </tr>\n",
              "    <tr>\n",
              "      <th>4</th>\n",
              "      <td>12377.0</td>\n",
              "      <td>231</td>\n",
              "      <td>231</td>\n",
              "    </tr>\n",
              "  </tbody>\n",
              "</table>\n",
              "</div>"
            ],
            "text/plain": [
              "  CustomerID  Frequency  Class\n",
              "0    12357.0        393    393\n",
              "1    12367.0         11     11\n",
              "2    12371.0        189    189\n",
              "3    12372.0         52     52\n",
              "4    12377.0        231    231"
            ]
          },
          "metadata": {
            "tags": []
          },
          "execution_count": 89
        }
      ]
    },
    {
      "cell_type": "code",
      "metadata": {
        "id": "wRIpFa_xl0Y2",
        "colab": {
          "base_uri": "https://localhost:8080/",
          "height": 202
        },
        "outputId": "384a56e7-9ac8-468e-a902-e34d3eeaccc4"
      },
      "source": [
        "# Merging the two dfs rfm_m, rfm_f\n",
        "\n",
        "rfm = pd.merge(rfm_m, rfm_f, on='CustomerID', how='inner')\n",
        "rfm.head()"
      ],
      "execution_count": null,
      "outputs": [
        {
          "output_type": "execute_result",
          "data": {
            "text/html": [
              "<div>\n",
              "<style scoped>\n",
              "    .dataframe tbody tr th:only-of-type {\n",
              "        vertical-align: middle;\n",
              "    }\n",
              "\n",
              "    .dataframe tbody tr th {\n",
              "        vertical-align: top;\n",
              "    }\n",
              "\n",
              "    .dataframe thead th {\n",
              "        text-align: right;\n",
              "    }\n",
              "</style>\n",
              "<table border=\"1\" class=\"dataframe\">\n",
              "  <thead>\n",
              "    <tr style=\"text-align: right;\">\n",
              "      <th></th>\n",
              "      <th>CustomerID</th>\n",
              "      <th>Amount</th>\n",
              "      <th>Frequency</th>\n",
              "      <th>Class</th>\n",
              "    </tr>\n",
              "  </thead>\n",
              "  <tbody>\n",
              "    <tr>\n",
              "      <th>0</th>\n",
              "      <td>12357.0</td>\n",
              "      <td>18623.01</td>\n",
              "      <td>393</td>\n",
              "      <td>393</td>\n",
              "    </tr>\n",
              "    <tr>\n",
              "      <th>1</th>\n",
              "      <td>12367.0</td>\n",
              "      <td>168.90</td>\n",
              "      <td>11</td>\n",
              "      <td>11</td>\n",
              "    </tr>\n",
              "    <tr>\n",
              "      <th>2</th>\n",
              "      <td>12371.0</td>\n",
              "      <td>5663.88</td>\n",
              "      <td>189</td>\n",
              "      <td>189</td>\n",
              "    </tr>\n",
              "    <tr>\n",
              "      <th>3</th>\n",
              "      <td>12372.0</td>\n",
              "      <td>1298.04</td>\n",
              "      <td>52</td>\n",
              "      <td>52</td>\n",
              "    </tr>\n",
              "    <tr>\n",
              "      <th>4</th>\n",
              "      <td>12377.0</td>\n",
              "      <td>4884.36</td>\n",
              "      <td>231</td>\n",
              "      <td>231</td>\n",
              "    </tr>\n",
              "  </tbody>\n",
              "</table>\n",
              "</div>"
            ],
            "text/plain": [
              "  CustomerID    Amount  Frequency  Class\n",
              "0    12357.0  18623.01        393    393\n",
              "1    12367.0    168.90         11     11\n",
              "2    12371.0   5663.88        189    189\n",
              "3    12372.0   1298.04         52     52\n",
              "4    12377.0   4884.36        231    231"
            ]
          },
          "metadata": {
            "tags": []
          },
          "execution_count": 90
        }
      ]
    },
    {
      "cell_type": "code",
      "metadata": {
        "id": "E0aCxbBQmAcn"
      },
      "source": [
        "# New Attribute : Recency\n",
        "\n",
        "# Convert to datetime to proper datatype\n",
        "\n",
        "market['InvoiceDate'] = pd.to_datetime(market['InvoiceDate'],format='%d/%m/%Y %H:%M')"
      ],
      "execution_count": null,
      "outputs": []
    },
    {
      "cell_type": "code",
      "metadata": {
        "id": "Xv5tzJ5qmLbe",
        "colab": {
          "base_uri": "https://localhost:8080/"
        },
        "outputId": "9a89f0e1-2a17-47ea-f9d7-22c4b68d049e"
      },
      "source": [
        "# Compute the maximum date to know the last transaction date\n",
        "\n",
        "max_date = max(market['InvoiceDate'])\n",
        "max_date"
      ],
      "execution_count": null,
      "outputs": [
        {
          "output_type": "execute_result",
          "data": {
            "text/plain": [
              "Timestamp('2011-12-09 12:50:00')"
            ]
          },
          "metadata": {
            "tags": []
          },
          "execution_count": 92
        }
      ]
    },
    {
      "cell_type": "code",
      "metadata": {
        "id": "WQNlgIF6mSyv",
        "colab": {
          "base_uri": "https://localhost:8080/",
          "height": 505
        },
        "outputId": "cac8d1a2-884e-447e-c0fc-b3a2cb95e751"
      },
      "source": [
        "# Compute the difference between max date and transaction date\n",
        "\n",
        "market['Recency'] = max_date - market['InvoiceDate']\n",
        "market.head()"
      ],
      "execution_count": null,
      "outputs": [
        {
          "output_type": "execute_result",
          "data": {
            "text/html": [
              "<div>\n",
              "<style scoped>\n",
              "    .dataframe tbody tr th:only-of-type {\n",
              "        vertical-align: middle;\n",
              "    }\n",
              "\n",
              "    .dataframe tbody tr th {\n",
              "        vertical-align: top;\n",
              "    }\n",
              "\n",
              "    .dataframe thead th {\n",
              "        text-align: right;\n",
              "    }\n",
              "</style>\n",
              "<table border=\"1\" class=\"dataframe\">\n",
              "  <thead>\n",
              "    <tr style=\"text-align: right;\">\n",
              "      <th></th>\n",
              "      <th>InvoiceNo</th>\n",
              "      <th>StockCode</th>\n",
              "      <th>Description</th>\n",
              "      <th>Quantity</th>\n",
              "      <th>InvoiceDate</th>\n",
              "      <th>UnitPrice</th>\n",
              "      <th>CustomerID</th>\n",
              "      <th>Country</th>\n",
              "      <th>S.No</th>\n",
              "      <th>Company</th>\n",
              "      <th>Sector</th>\n",
              "      <th>Market cap ($bn)</th>\n",
              "      <th>Market cap added</th>\n",
              "      <th>Change</th>\n",
              "      <th>Amount</th>\n",
              "      <th>Class</th>\n",
              "      <th>Diff</th>\n",
              "      <th>Recency</th>\n",
              "    </tr>\n",
              "  </thead>\n",
              "  <tbody>\n",
              "    <tr>\n",
              "      <th>0</th>\n",
              "      <td>536370</td>\n",
              "      <td>22728</td>\n",
              "      <td>ALARM CLOCK BAKELIKE PINK</td>\n",
              "      <td>24.0</td>\n",
              "      <td>2010-12-01 08:45:00</td>\n",
              "      <td>3.75</td>\n",
              "      <td>12583.0</td>\n",
              "      <td>France</td>\n",
              "      <td>75.0</td>\n",
              "      <td>Hermès International</td>\n",
              "      <td>Consumer discretionary</td>\n",
              "      <td>88.2</td>\n",
              "      <td>10.6</td>\n",
              "      <td>13.7</td>\n",
              "      <td>90.0</td>\n",
              "      <td>Consumer discretionaryHermès International</td>\n",
              "      <td>373 days 04:05:00</td>\n",
              "      <td>373 days 04:05:00</td>\n",
              "    </tr>\n",
              "    <tr>\n",
              "      <th>1</th>\n",
              "      <td>536370</td>\n",
              "      <td>22728</td>\n",
              "      <td>ALARM CLOCK BAKELIKE PINK</td>\n",
              "      <td>24.0</td>\n",
              "      <td>2010-12-01 08:45:00</td>\n",
              "      <td>3.75</td>\n",
              "      <td>12583.0</td>\n",
              "      <td>France</td>\n",
              "      <td>95.0</td>\n",
              "      <td>L'Oréal</td>\n",
              "      <td>Consumer staples</td>\n",
              "      <td>173.4</td>\n",
              "      <td>8.8</td>\n",
              "      <td>5.3</td>\n",
              "      <td>90.0</td>\n",
              "      <td>Consumer staplesL'Oréal</td>\n",
              "      <td>373 days 04:05:00</td>\n",
              "      <td>373 days 04:05:00</td>\n",
              "    </tr>\n",
              "    <tr>\n",
              "      <th>2</th>\n",
              "      <td>536370</td>\n",
              "      <td>22727</td>\n",
              "      <td>ALARM CLOCK BAKELIKE RED</td>\n",
              "      <td>24.0</td>\n",
              "      <td>2010-12-01 08:45:00</td>\n",
              "      <td>3.75</td>\n",
              "      <td>12583.0</td>\n",
              "      <td>France</td>\n",
              "      <td>75.0</td>\n",
              "      <td>Hermès International</td>\n",
              "      <td>Consumer discretionary</td>\n",
              "      <td>88.2</td>\n",
              "      <td>10.6</td>\n",
              "      <td>13.7</td>\n",
              "      <td>90.0</td>\n",
              "      <td>Consumer discretionaryHermès International</td>\n",
              "      <td>373 days 04:05:00</td>\n",
              "      <td>373 days 04:05:00</td>\n",
              "    </tr>\n",
              "    <tr>\n",
              "      <th>3</th>\n",
              "      <td>536370</td>\n",
              "      <td>22727</td>\n",
              "      <td>ALARM CLOCK BAKELIKE RED</td>\n",
              "      <td>24.0</td>\n",
              "      <td>2010-12-01 08:45:00</td>\n",
              "      <td>3.75</td>\n",
              "      <td>12583.0</td>\n",
              "      <td>France</td>\n",
              "      <td>95.0</td>\n",
              "      <td>L'Oréal</td>\n",
              "      <td>Consumer staples</td>\n",
              "      <td>173.4</td>\n",
              "      <td>8.8</td>\n",
              "      <td>5.3</td>\n",
              "      <td>90.0</td>\n",
              "      <td>Consumer staplesL'Oréal</td>\n",
              "      <td>373 days 04:05:00</td>\n",
              "      <td>373 days 04:05:00</td>\n",
              "    </tr>\n",
              "    <tr>\n",
              "      <th>4</th>\n",
              "      <td>536370</td>\n",
              "      <td>22726</td>\n",
              "      <td>ALARM CLOCK BAKELIKE GREEN</td>\n",
              "      <td>12.0</td>\n",
              "      <td>2010-12-01 08:45:00</td>\n",
              "      <td>3.75</td>\n",
              "      <td>12583.0</td>\n",
              "      <td>France</td>\n",
              "      <td>75.0</td>\n",
              "      <td>Hermès International</td>\n",
              "      <td>Consumer discretionary</td>\n",
              "      <td>88.2</td>\n",
              "      <td>10.6</td>\n",
              "      <td>13.7</td>\n",
              "      <td>45.0</td>\n",
              "      <td>Consumer discretionaryHermès International</td>\n",
              "      <td>373 days 04:05:00</td>\n",
              "      <td>373 days 04:05:00</td>\n",
              "    </tr>\n",
              "  </tbody>\n",
              "</table>\n",
              "</div>"
            ],
            "text/plain": [
              "  InvoiceNo StockCode  ...              Diff           Recency\n",
              "0    536370     22728  ... 373 days 04:05:00 373 days 04:05:00\n",
              "1    536370     22728  ... 373 days 04:05:00 373 days 04:05:00\n",
              "2    536370     22727  ... 373 days 04:05:00 373 days 04:05:00\n",
              "3    536370     22727  ... 373 days 04:05:00 373 days 04:05:00\n",
              "4    536370     22726  ... 373 days 04:05:00 373 days 04:05:00\n",
              "\n",
              "[5 rows x 18 columns]"
            ]
          },
          "metadata": {
            "tags": []
          },
          "execution_count": 93
        }
      ]
    },
    {
      "cell_type": "code",
      "metadata": {
        "id": "v7ul0-Pi0ktC"
      },
      "source": [
        "market.to_csv('new_market.csv')"
      ],
      "execution_count": null,
      "outputs": []
    },
    {
      "cell_type": "code",
      "metadata": {
        "id": "37sAkPeemdNP",
        "colab": {
          "base_uri": "https://localhost:8080/",
          "height": 202
        },
        "outputId": "37fb5279-aaf7-4807-d7b5-e47f224e4b2c"
      },
      "source": [
        "# Compute last transaction date to get the recency of customers\n",
        "\n",
        "rfm_p = market.groupby('CustomerID')['Recency'].min()\n",
        "rfm_p = rfm_p.reset_index()\n",
        "rfm_p.head()"
      ],
      "execution_count": null,
      "outputs": [
        {
          "output_type": "execute_result",
          "data": {
            "text/html": [
              "<div>\n",
              "<style scoped>\n",
              "    .dataframe tbody tr th:only-of-type {\n",
              "        vertical-align: middle;\n",
              "    }\n",
              "\n",
              "    .dataframe tbody tr th {\n",
              "        vertical-align: top;\n",
              "    }\n",
              "\n",
              "    .dataframe thead th {\n",
              "        text-align: right;\n",
              "    }\n",
              "</style>\n",
              "<table border=\"1\" class=\"dataframe\">\n",
              "  <thead>\n",
              "    <tr style=\"text-align: right;\">\n",
              "      <th></th>\n",
              "      <th>CustomerID</th>\n",
              "      <th>Recency</th>\n",
              "    </tr>\n",
              "  </thead>\n",
              "  <tbody>\n",
              "    <tr>\n",
              "      <th>0</th>\n",
              "      <td>12357.0</td>\n",
              "      <td>32 days 20:43:00</td>\n",
              "    </tr>\n",
              "    <tr>\n",
              "      <th>1</th>\n",
              "      <td>12367.0</td>\n",
              "      <td>3 days 20:02:00</td>\n",
              "    </tr>\n",
              "    <tr>\n",
              "      <th>2</th>\n",
              "      <td>12371.0</td>\n",
              "      <td>44 days 02:34:00</td>\n",
              "    </tr>\n",
              "    <tr>\n",
              "      <th>3</th>\n",
              "      <td>12372.0</td>\n",
              "      <td>71 days 00:38:00</td>\n",
              "    </tr>\n",
              "    <tr>\n",
              "      <th>4</th>\n",
              "      <td>12377.0</td>\n",
              "      <td>314 days 21:05:00</td>\n",
              "    </tr>\n",
              "  </tbody>\n",
              "</table>\n",
              "</div>"
            ],
            "text/plain": [
              "  CustomerID           Recency\n",
              "0    12357.0  32 days 20:43:00\n",
              "1    12367.0   3 days 20:02:00\n",
              "2    12371.0  44 days 02:34:00\n",
              "3    12372.0  71 days 00:38:00\n",
              "4    12377.0 314 days 21:05:00"
            ]
          },
          "metadata": {
            "tags": []
          },
          "execution_count": 105
        }
      ]
    },
    {
      "cell_type": "code",
      "metadata": {
        "id": "xkPczoOSmm5I",
        "colab": {
          "base_uri": "https://localhost:8080/",
          "height": 202
        },
        "outputId": "3d8227c2-5844-4018-b145-d7eb73fc963c"
      },
      "source": [
        "# Extract number of days only\n",
        "\n",
        "rfm_p['Recency'] = rfm_p['Recency'].dt.days\n",
        "rfm_p.head()"
      ],
      "execution_count": null,
      "outputs": [
        {
          "output_type": "execute_result",
          "data": {
            "text/html": [
              "<div>\n",
              "<style scoped>\n",
              "    .dataframe tbody tr th:only-of-type {\n",
              "        vertical-align: middle;\n",
              "    }\n",
              "\n",
              "    .dataframe tbody tr th {\n",
              "        vertical-align: top;\n",
              "    }\n",
              "\n",
              "    .dataframe thead th {\n",
              "        text-align: right;\n",
              "    }\n",
              "</style>\n",
              "<table border=\"1\" class=\"dataframe\">\n",
              "  <thead>\n",
              "    <tr style=\"text-align: right;\">\n",
              "      <th></th>\n",
              "      <th>CustomerID</th>\n",
              "      <th>Recency</th>\n",
              "    </tr>\n",
              "  </thead>\n",
              "  <tbody>\n",
              "    <tr>\n",
              "      <th>0</th>\n",
              "      <td>12357.0</td>\n",
              "      <td>32</td>\n",
              "    </tr>\n",
              "    <tr>\n",
              "      <th>1</th>\n",
              "      <td>12367.0</td>\n",
              "      <td>3</td>\n",
              "    </tr>\n",
              "    <tr>\n",
              "      <th>2</th>\n",
              "      <td>12371.0</td>\n",
              "      <td>44</td>\n",
              "    </tr>\n",
              "    <tr>\n",
              "      <th>3</th>\n",
              "      <td>12372.0</td>\n",
              "      <td>71</td>\n",
              "    </tr>\n",
              "    <tr>\n",
              "      <th>4</th>\n",
              "      <td>12377.0</td>\n",
              "      <td>314</td>\n",
              "    </tr>\n",
              "  </tbody>\n",
              "</table>\n",
              "</div>"
            ],
            "text/plain": [
              "  CustomerID  Recency\n",
              "0    12357.0       32\n",
              "1    12367.0        3\n",
              "2    12371.0       44\n",
              "3    12372.0       71\n",
              "4    12377.0      314"
            ]
          },
          "metadata": {
            "tags": []
          },
          "execution_count": 106
        }
      ]
    },
    {
      "cell_type": "code",
      "metadata": {
        "id": "XqiNsySFmp0t",
        "colab": {
          "base_uri": "https://localhost:8080/",
          "height": 202
        },
        "outputId": "8cfdba2b-5cac-42c6-98ef-5950c8fbacb0"
      },
      "source": [
        "# Merge tha dataframes to get the final RFM dataframe\n",
        "\n",
        "rfm = pd.merge(rfm, rfm_p, on='CustomerID',how='inner')\n",
        "#rfm.columns = ['CustomerID','Amount','Frequency','Recency']\n",
        "rfm.head()"
      ],
      "execution_count": null,
      "outputs": [
        {
          "output_type": "execute_result",
          "data": {
            "text/html": [
              "<div>\n",
              "<style scoped>\n",
              "    .dataframe tbody tr th:only-of-type {\n",
              "        vertical-align: middle;\n",
              "    }\n",
              "\n",
              "    .dataframe tbody tr th {\n",
              "        vertical-align: top;\n",
              "    }\n",
              "\n",
              "    .dataframe thead th {\n",
              "        text-align: right;\n",
              "    }\n",
              "</style>\n",
              "<table border=\"1\" class=\"dataframe\">\n",
              "  <thead>\n",
              "    <tr style=\"text-align: right;\">\n",
              "      <th></th>\n",
              "      <th>CustomerID</th>\n",
              "      <th>Amount</th>\n",
              "      <th>Frequency</th>\n",
              "      <th>Class</th>\n",
              "      <th>Recency</th>\n",
              "    </tr>\n",
              "  </thead>\n",
              "  <tbody>\n",
              "    <tr>\n",
              "      <th>0</th>\n",
              "      <td>12357.0</td>\n",
              "      <td>18623.01</td>\n",
              "      <td>393</td>\n",
              "      <td>393</td>\n",
              "      <td>32</td>\n",
              "    </tr>\n",
              "    <tr>\n",
              "      <th>1</th>\n",
              "      <td>12367.0</td>\n",
              "      <td>168.90</td>\n",
              "      <td>11</td>\n",
              "      <td>11</td>\n",
              "      <td>3</td>\n",
              "    </tr>\n",
              "    <tr>\n",
              "      <th>2</th>\n",
              "      <td>12371.0</td>\n",
              "      <td>5663.88</td>\n",
              "      <td>189</td>\n",
              "      <td>189</td>\n",
              "      <td>44</td>\n",
              "    </tr>\n",
              "    <tr>\n",
              "      <th>3</th>\n",
              "      <td>12372.0</td>\n",
              "      <td>1298.04</td>\n",
              "      <td>52</td>\n",
              "      <td>52</td>\n",
              "      <td>71</td>\n",
              "    </tr>\n",
              "    <tr>\n",
              "      <th>4</th>\n",
              "      <td>12377.0</td>\n",
              "      <td>4884.36</td>\n",
              "      <td>231</td>\n",
              "      <td>231</td>\n",
              "      <td>314</td>\n",
              "    </tr>\n",
              "  </tbody>\n",
              "</table>\n",
              "</div>"
            ],
            "text/plain": [
              "  CustomerID    Amount  Frequency  Class  Recency\n",
              "0    12357.0  18623.01        393    393       32\n",
              "1    12367.0    168.90         11     11        3\n",
              "2    12371.0   5663.88        189    189       44\n",
              "3    12372.0   1298.04         52     52       71\n",
              "4    12377.0   4884.36        231    231      314"
            ]
          },
          "metadata": {
            "tags": []
          },
          "execution_count": 96
        }
      ]
    },
    {
      "cell_type": "markdown",
      "metadata": {
        "id": "4XsiOVl5nJrH"
      },
      "source": [
        "##The removal of outliers from the dataset by two methods:\n",
        "\n",
        "\n",
        "1. Statistical\n",
        "2. Domain Specific\n",
        "\n"
      ]
    },
    {
      "cell_type": "markdown",
      "metadata": {
        "id": "Q1cj_IEZp7jq"
      },
      "source": [
        ""
      ]
    },
    {
      "cell_type": "code",
      "metadata": {
        "id": "MzWDZb1HnDBZ",
        "colab": {
          "base_uri": "https://localhost:8080/",
          "height": 542
        },
        "outputId": "f90ece97-9fac-4655-ee3a-f9d0b1fb4e50"
      },
      "source": [
        "# Outlier Analysis of Amount Frequency and Recency\n",
        "\n",
        "attributes = ['Amount','Frequency','Recency']\n",
        "plt.rcParams['figure.figsize'] = [10,8]\n",
        "sns.boxplot(data = rfm[attributes], orient=\"v\" ,whis=1.8,saturation=1.9, width=0.7)\n",
        "plt.title(\"Outliers Variable Distribution\", fontsize = 16, fontweight = 'bold')\n",
        "plt.ylabel(\"Range\", fontweight = 'bold')\n",
        "plt.xlabel(\"Attributes\", fontweight = 'bold')"
      ],
      "execution_count": null,
      "outputs": [
        {
          "output_type": "execute_result",
          "data": {
            "text/plain": [
              "Text(0.5, 0, 'Attributes')"
            ]
          },
          "metadata": {
            "tags": []
          },
          "execution_count": 97
        },
        {
          "output_type": "display_data",
          "data": {
            "image/png": "[encoded data removed]",
            "text/plain": [
              "<Figure size 720x576 with 1 Axes>"
            ]
          },
          "metadata": {
            "tags": []
          }
        }
      ]
    },
    {
      "cell_type": "code",
      "metadata": {
        "id": "KrqVwp-HoUaY"
      },
      "source": [
        "# Removing (statistical) outliers for Amount  # reference :https://www.kaggle.com/hellbuoy/online-retail-k-means-hierarchical-clustering\n",
        "Q1 = rfm.Amount.quantile(0.05)\n",
        "Q3 = rfm.Amount.quantile(0.95)\n",
        "IQR = Q3 - Q1\n",
        "rfm = rfm[(rfm.Amount >= Q1 - 1.5*IQR) & (rfm.Amount <= Q3 + 1.5*IQR)]\n",
        "\n",
        "# Removing (statistical) outliers for Recency\n",
        "Q1 = rfm.Recency.quantile(0.05)\n",
        "Q3 = rfm.Recency.quantile(0.95)\n",
        "IQR = Q3 - Q1\n",
        "rfm = rfm[(rfm.Recency >= Q1 - 1.5*IQR) & (rfm.Recency <= Q3 + 1.5*IQR)]\n",
        "\n",
        "# Removing (statistical) outliers for Frequency\n",
        "Q1 = rfm.Frequency.quantile(0.05)\n",
        "Q3 = rfm.Frequency.quantile(0.95)\n",
        "IQR = Q3 - Q1\n",
        "rfm = rfm[(rfm.Frequency >= Q1 - 1.5*IQR) & (rfm.Frequency <= Q3 + 1.5*IQR)]"
      ],
      "execution_count": null,
      "outputs": []
    },
    {
      "cell_type": "code",
      "metadata": {
        "id": "Wm7fFEspohg8",
        "colab": {
          "base_uri": "https://localhost:8080/",
          "height": 414
        },
        "outputId": "50444c16-a97d-47e0-dea5-daacc43d1ca3"
      },
      "source": [
        "rfm"
      ],
      "execution_count": null,
      "outputs": [
        {
          "output_type": "execute_result",
          "data": {
            "text/html": [
              "<div>\n",
              "<style scoped>\n",
              "    .dataframe tbody tr th:only-of-type {\n",
              "        vertical-align: middle;\n",
              "    }\n",
              "\n",
              "    .dataframe tbody tr th {\n",
              "        vertical-align: top;\n",
              "    }\n",
              "\n",
              "    .dataframe thead th {\n",
              "        text-align: right;\n",
              "    }\n",
              "</style>\n",
              "<table border=\"1\" class=\"dataframe\">\n",
              "  <thead>\n",
              "    <tr style=\"text-align: right;\">\n",
              "      <th></th>\n",
              "      <th>CustomerID</th>\n",
              "      <th>Amount</th>\n",
              "      <th>Frequency</th>\n",
              "      <th>Class</th>\n",
              "      <th>Recency</th>\n",
              "    </tr>\n",
              "  </thead>\n",
              "  <tbody>\n",
              "    <tr>\n",
              "      <th>0</th>\n",
              "      <td>12357.0</td>\n",
              "      <td>18623.01</td>\n",
              "      <td>393</td>\n",
              "      <td>393</td>\n",
              "      <td>32</td>\n",
              "    </tr>\n",
              "    <tr>\n",
              "      <th>1</th>\n",
              "      <td>12367.0</td>\n",
              "      <td>168.90</td>\n",
              "      <td>11</td>\n",
              "      <td>11</td>\n",
              "      <td>3</td>\n",
              "    </tr>\n",
              "    <tr>\n",
              "      <th>2</th>\n",
              "      <td>12371.0</td>\n",
              "      <td>5663.88</td>\n",
              "      <td>189</td>\n",
              "      <td>189</td>\n",
              "      <td>44</td>\n",
              "    </tr>\n",
              "    <tr>\n",
              "      <th>3</th>\n",
              "      <td>12372.0</td>\n",
              "      <td>1298.04</td>\n",
              "      <td>52</td>\n",
              "      <td>52</td>\n",
              "      <td>71</td>\n",
              "    </tr>\n",
              "    <tr>\n",
              "      <th>4</th>\n",
              "      <td>12377.0</td>\n",
              "      <td>4884.36</td>\n",
              "      <td>231</td>\n",
              "      <td>231</td>\n",
              "      <td>314</td>\n",
              "    </tr>\n",
              "    <tr>\n",
              "      <th>...</th>\n",
              "      <td>...</td>\n",
              "      <td>...</td>\n",
              "      <td>...</td>\n",
              "      <td>...</td>\n",
              "      <td>...</td>\n",
              "    </tr>\n",
              "    <tr>\n",
              "      <th>245</th>\n",
              "      <td>16321.0</td>\n",
              "      <td>230.70</td>\n",
              "      <td>16</td>\n",
              "      <td>16</td>\n",
              "      <td>71</td>\n",
              "    </tr>\n",
              "    <tr>\n",
              "      <th>246</th>\n",
              "      <td>17404.0</td>\n",
              "      <td>30300.82</td>\n",
              "      <td>201</td>\n",
              "      <td>201</td>\n",
              "      <td>3</td>\n",
              "    </tr>\n",
              "    <tr>\n",
              "      <th>247</th>\n",
              "      <td>17443.0</td>\n",
              "      <td>1602.72</td>\n",
              "      <td>3</td>\n",
              "      <td>3</td>\n",
              "      <td>219</td>\n",
              "    </tr>\n",
              "    <tr>\n",
              "      <th>248</th>\n",
              "      <td>17444.0</td>\n",
              "      <td>8820.12</td>\n",
              "      <td>405</td>\n",
              "      <td>405</td>\n",
              "      <td>147</td>\n",
              "    </tr>\n",
              "    <tr>\n",
              "      <th>249</th>\n",
              "      <td>17844.0</td>\n",
              "      <td>154.68</td>\n",
              "      <td>15</td>\n",
              "      <td>15</td>\n",
              "      <td>106</td>\n",
              "    </tr>\n",
              "  </tbody>\n",
              "</table>\n",
              "<p>246 rows × 5 columns</p>\n",
              "</div>"
            ],
            "text/plain": [
              "    CustomerID    Amount  Frequency  Class  Recency\n",
              "0      12357.0  18623.01        393    393       32\n",
              "1      12367.0    168.90         11     11        3\n",
              "2      12371.0   5663.88        189    189       44\n",
              "3      12372.0   1298.04         52     52       71\n",
              "4      12377.0   4884.36        231    231      314\n",
              "..         ...       ...        ...    ...      ...\n",
              "245    16321.0    230.70         16     16       71\n",
              "246    17404.0  30300.82        201    201        3\n",
              "247    17443.0   1602.72          3      3      219\n",
              "248    17444.0   8820.12        405    405      147\n",
              "249    17844.0    154.68         15     15      106\n",
              "\n",
              "[246 rows x 5 columns]"
            ]
          },
          "metadata": {
            "tags": []
          },
          "execution_count": 99
        }
      ]
    },
    {
      "cell_type": "code",
      "metadata": {
        "colab": {
          "base_uri": "https://localhost:8080/",
          "height": 414
        },
        "id": "xwh6FpJtumQs",
        "outputId": "523aa894-4834-46c0-b924-ae5b9dc04fa4"
      },
      "source": [
        "rfm.copy(deep=True)"
      ],
      "execution_count": null,
      "outputs": [
        {
          "output_type": "execute_result",
          "data": {
            "text/html": [
              "<div>\n",
              "<style scoped>\n",
              "    .dataframe tbody tr th:only-of-type {\n",
              "        vertical-align: middle;\n",
              "    }\n",
              "\n",
              "    .dataframe tbody tr th {\n",
              "        vertical-align: top;\n",
              "    }\n",
              "\n",
              "    .dataframe thead th {\n",
              "        text-align: right;\n",
              "    }\n",
              "</style>\n",
              "<table border=\"1\" class=\"dataframe\">\n",
              "  <thead>\n",
              "    <tr style=\"text-align: right;\">\n",
              "      <th></th>\n",
              "      <th>CustomerID</th>\n",
              "      <th>Amount</th>\n",
              "      <th>Frequency</th>\n",
              "      <th>Class</th>\n",
              "      <th>Recency</th>\n",
              "    </tr>\n",
              "  </thead>\n",
              "  <tbody>\n",
              "    <tr>\n",
              "      <th>0</th>\n",
              "      <td>12357.0</td>\n",
              "      <td>18623.01</td>\n",
              "      <td>393</td>\n",
              "      <td>393</td>\n",
              "      <td>32</td>\n",
              "    </tr>\n",
              "    <tr>\n",
              "      <th>1</th>\n",
              "      <td>12367.0</td>\n",
              "      <td>168.90</td>\n",
              "      <td>11</td>\n",
              "      <td>11</td>\n",
              "      <td>3</td>\n",
              "    </tr>\n",
              "    <tr>\n",
              "      <th>2</th>\n",
              "      <td>12371.0</td>\n",
              "      <td>5663.88</td>\n",
              "      <td>189</td>\n",
              "      <td>189</td>\n",
              "      <td>44</td>\n",
              "    </tr>\n",
              "    <tr>\n",
              "      <th>3</th>\n",
              "      <td>12372.0</td>\n",
              "      <td>1298.04</td>\n",
              "      <td>52</td>\n",
              "      <td>52</td>\n",
              "      <td>71</td>\n",
              "    </tr>\n",
              "    <tr>\n",
              "      <th>4</th>\n",
              "      <td>12377.0</td>\n",
              "      <td>4884.36</td>\n",
              "      <td>231</td>\n",
              "      <td>231</td>\n",
              "      <td>314</td>\n",
              "    </tr>\n",
              "    <tr>\n",
              "      <th>...</th>\n",
              "      <td>...</td>\n",
              "      <td>...</td>\n",
              "      <td>...</td>\n",
              "      <td>...</td>\n",
              "      <td>...</td>\n",
              "    </tr>\n",
              "    <tr>\n",
              "      <th>245</th>\n",
              "      <td>16321.0</td>\n",
              "      <td>230.70</td>\n",
              "      <td>16</td>\n",
              "      <td>16</td>\n",
              "      <td>71</td>\n",
              "    </tr>\n",
              "    <tr>\n",
              "      <th>246</th>\n",
              "      <td>17404.0</td>\n",
              "      <td>30300.82</td>\n",
              "      <td>201</td>\n",
              "      <td>201</td>\n",
              "      <td>3</td>\n",
              "    </tr>\n",
              "    <tr>\n",
              "      <th>247</th>\n",
              "      <td>17443.0</td>\n",
              "      <td>1602.72</td>\n",
              "      <td>3</td>\n",
              "      <td>3</td>\n",
              "      <td>219</td>\n",
              "    </tr>\n",
              "    <tr>\n",
              "      <th>248</th>\n",
              "      <td>17444.0</td>\n",
              "      <td>8820.12</td>\n",
              "      <td>405</td>\n",
              "      <td>405</td>\n",
              "      <td>147</td>\n",
              "    </tr>\n",
              "    <tr>\n",
              "      <th>249</th>\n",
              "      <td>17844.0</td>\n",
              "      <td>154.68</td>\n",
              "      <td>15</td>\n",
              "      <td>15</td>\n",
              "      <td>106</td>\n",
              "    </tr>\n",
              "  </tbody>\n",
              "</table>\n",
              "<p>246 rows × 5 columns</p>\n",
              "</div>"
            ],
            "text/plain": [
              "    CustomerID    Amount  Frequency  Class  Recency\n",
              "0      12357.0  18623.01        393    393       32\n",
              "1      12367.0    168.90         11     11        3\n",
              "2      12371.0   5663.88        189    189       44\n",
              "3      12372.0   1298.04         52     52       71\n",
              "4      12377.0   4884.36        231    231      314\n",
              "..         ...       ...        ...    ...      ...\n",
              "245    16321.0    230.70         16     16       71\n",
              "246    17404.0  30300.82        201    201        3\n",
              "247    17443.0   1602.72          3      3      219\n",
              "248    17444.0   8820.12        405    405      147\n",
              "249    17844.0    154.68         15     15      106\n",
              "\n",
              "[246 rows x 5 columns]"
            ]
          },
          "metadata": {
            "tags": []
          },
          "execution_count": 100
        }
      ]
    },
    {
      "cell_type": "code",
      "metadata": {
        "id": "z0CfohzJvgoB"
      },
      "source": [
        "rfm.to_hdf('Automl_rfm.h5','table',append=True)"
      ],
      "execution_count": null,
      "outputs": []
    },
    {
      "cell_type": "code",
      "metadata": {
        "id": "eyjq0jLk0A5b"
      },
      "source": [
        "rfm.to_csv('Evalml_rfm.csv')"
      ],
      "execution_count": null,
      "outputs": []
    },
    {
      "cell_type": "code",
      "metadata": {
        "id": "P1DmLmxr0LjK"
      },
      "source": [
        "Evalml_rfm =pd.read_csv('/content/Evalml_rfm.csv')"
      ],
      "execution_count": null,
      "outputs": []
    },
    {
      "cell_type": "code",
      "metadata": {
        "id": "xud-AGysxl1y"
      },
      "source": [
        "# # Call the model\n",
        "# model = rfm\n"
      ],
      "execution_count": null,
      "outputs": []
    },
    {
      "cell_type": "markdown",
      "metadata": {
        "id": "ubcLE8ofpEKT"
      },
      "source": [
        "##Rescaling the attributes\n",
        "It is very important to rescale the variables to have comparable scale.There rae two ways of rescaling such as:\n",
        "\n",
        "\n",
        "1.   Min-max scalng\n",
        "2.  standardisation (mean=0, sigma=1)\n",
        "\n"
      ]
    },
    {
      "cell_type": "code",
      "metadata": {
        "id": "g6OtIZxwplBm",
        "colab": {
          "base_uri": "https://localhost:8080/"
        },
        "outputId": "b2bdc3fa-dd0d-4f88-aba6-75414b262545"
      },
      "source": [
        "from sklearn.preprocessing import StandardScaler, normalize\n",
        "# Rescaling the attributes\n",
        "\n",
        "rfm_df = rfm[['Amount', 'Frequency', 'Recency']]\n",
        "\n",
        "# Instantiate\n",
        "scaler = StandardScaler()\n",
        "\n",
        "# fit_transform\n",
        "rfm_df_scaled = scaler.fit_transform(rfm_df)\n",
        "rfm_df_scaled.shape"
      ],
      "execution_count": null,
      "outputs": [
        {
          "output_type": "execute_result",
          "data": {
            "text/plain": [
              "(246, 3)"
            ]
          },
          "metadata": {
            "tags": []
          },
          "execution_count": 78
        }
      ]
    },
    {
      "cell_type": "code",
      "metadata": {
        "id": "GtJC1LW8psgJ",
        "colab": {
          "base_uri": "https://localhost:8080/",
          "height": 202
        },
        "outputId": "cf6f4d4c-2f85-4807-a28d-e56b6ae871d6"
      },
      "source": [
        "rfm_df_scaled = pd.DataFrame(rfm_df_scaled)\n",
        "rfm_df_scaled.columns = ['Amount', 'Frequency', 'Recency']\n",
        "rfm_df_scaled.head()"
      ],
      "execution_count": null,
      "outputs": [
        {
          "output_type": "execute_result",
          "data": {
            "text/html": [
              "<div>\n",
              "<style scoped>\n",
              "    .dataframe tbody tr th:only-of-type {\n",
              "        vertical-align: middle;\n",
              "    }\n",
              "\n",
              "    .dataframe tbody tr th {\n",
              "        vertical-align: top;\n",
              "    }\n",
              "\n",
              "    .dataframe thead th {\n",
              "        text-align: right;\n",
              "    }\n",
              "</style>\n",
              "<table border=\"1\" class=\"dataframe\">\n",
              "  <thead>\n",
              "    <tr style=\"text-align: right;\">\n",
              "      <th></th>\n",
              "      <th>Amount</th>\n",
              "      <th>Frequency</th>\n",
              "      <th>Recency</th>\n",
              "    </tr>\n",
              "  </thead>\n",
              "  <tbody>\n",
              "    <tr>\n",
              "      <th>0</th>\n",
              "      <td>2.581460</td>\n",
              "      <td>1.428642</td>\n",
              "      <td>-0.548664</td>\n",
              "    </tr>\n",
              "    <tr>\n",
              "      <th>1</th>\n",
              "      <td>-0.612947</td>\n",
              "      <td>-0.735532</td>\n",
              "      <td>-0.835395</td>\n",
              "    </tr>\n",
              "    <tr>\n",
              "      <th>2</th>\n",
              "      <td>0.338234</td>\n",
              "      <td>0.272905</td>\n",
              "      <td>-0.430016</td>\n",
              "    </tr>\n",
              "    <tr>\n",
              "      <th>3</th>\n",
              "      <td>-0.417493</td>\n",
              "      <td>-0.503251</td>\n",
              "      <td>-0.163060</td>\n",
              "    </tr>\n",
              "    <tr>\n",
              "      <th>4</th>\n",
              "      <td>0.203300</td>\n",
              "      <td>0.510851</td>\n",
              "      <td>2.239550</td>\n",
              "    </tr>\n",
              "  </tbody>\n",
              "</table>\n",
              "</div>"
            ],
            "text/plain": [
              "     Amount  Frequency   Recency\n",
              "0  2.581460   1.428642 -0.548664\n",
              "1 -0.612947  -0.735532 -0.835395\n",
              "2  0.338234   0.272905 -0.430016\n",
              "3 -0.417493  -0.503251 -0.163060\n",
              "4  0.203300   0.510851  2.239550"
            ]
          },
          "metadata": {
            "tags": []
          },
          "execution_count": 79
        }
      ]
    },
    {
      "cell_type": "code",
      "metadata": {
        "id": "eimiML1VsXbP",
        "colab": {
          "base_uri": "https://localhost:8080/"
        },
        "outputId": "199b59a2-991c-45f6-f98c-97b120c833b0"
      },
      "source": [
        "!pip install plotly==4.5.2"
      ],
      "execution_count": null,
      "outputs": [
        {
          "output_type": "stream",
          "text": [
            "Collecting plotly==4.5.2\n",
            "\u001b[?25l  Downloading https://files.pythonhosted.org/packages/a9/12/7d795064f87d1070975e55daa443ff5e5ee7eb6c8a9eaf41f3d6a5f91a91/plotly-4.5.2-py2.py3-none-any.whl (7.1MB)\n",
            "\u001b[K     |████████████████████████████████| 7.1MB 4.2MB/s \n",
            "\u001b[?25hRequirement already satisfied: six in /usr/local/lib/python3.7/dist-packages (from plotly==4.5.2) (1.15.0)\n",
            "Requirement already satisfied: retrying>=1.3.3 in /usr/local/lib/python3.7/dist-packages (from plotly==4.5.2) (1.3.3)\n",
            "Installing collected packages: plotly\n",
            "  Found existing installation: plotly 4.4.1\n",
            "    Uninstalling plotly-4.4.1:\n",
            "      Successfully uninstalled plotly-4.4.1\n",
            "Successfully installed plotly-4.5.2\n"
          ],
          "name": "stdout"
        }
      ]
    },
    {
      "cell_type": "code",
      "metadata": {
        "id": "ADFsjXUF74Rr",
        "colab": {
          "base_uri": "https://localhost:8080/"
        },
        "outputId": "5d3962c2-c083-4667-9e90-ac71ec348f75"
      },
      "source": [
        "!pip install dash"
      ],
      "execution_count": null,
      "outputs": [
        {
          "output_type": "stream",
          "text": [
            "Collecting dash\n",
            "\u001b[?25l  Downloading https://files.pythonhosted.org/packages/b2/8f/4e5f73f7c1fce28c7cfb5fc7c6c5b2a2e672e5b6ac8c45100bd80a829c11/dash-1.21.0.tar.gz (1.1MB)\n",
            "\u001b[K     |████████████████████████████████| 1.1MB 4.4MB/s \n",
            "\u001b[?25hRequirement already satisfied: Flask>=1.0.4 in /usr/local/lib/python3.7/dist-packages (from dash) (1.1.4)\n",
            "Collecting flask-compress\n",
            "  Downloading https://files.pythonhosted.org/packages/75/fa/a3c96f3f367ad1d6532fa8394c9a6f5879513868207096f6b41f4168b342/Flask_Compress-1.10.1-py3-none-any.whl\n",
            "Requirement already satisfied: plotly in /usr/local/lib/python3.7/dist-packages (from dash) (4.5.2)\n",
            "Collecting dash-core-components==1.17.1\n",
            "\u001b[?25l  Downloading https://files.pythonhosted.org/packages/8c/1c/08770766c517305016b62ad3c455631a1b72f4f69339cb68480a32c3f1fe/dash_core_components-1.17.1.tar.gz (3.7MB)\n",
            "\u001b[K     |████████████████████████████████| 3.7MB 14.0MB/s \n",
            "\u001b[?25hCollecting dash-html-components==1.1.4\n",
            "\u001b[?25l  Downloading https://files.pythonhosted.org/packages/7a/92/f846276024c34a7d37a1553d1c2be8e9dfb7f13bcb47e887018571979072/dash_html_components-1.1.4.tar.gz (83kB)\n",
            "\u001b[K     |████████████████████████████████| 92kB 9.7MB/s \n",
            "\u001b[?25hCollecting dash-table==4.12.0\n",
            "\u001b[?25l  Downloading https://files.pythonhosted.org/packages/ab/2e/1528e0c2534e9222bf7f467efc82d86f1f2ce9ec2fa14108af357a9245b1/dash_table-4.12.0.tar.gz (1.8MB)\n",
            "\u001b[K     |████████████████████████████████| 1.8MB 30.6MB/s \n",
            "\u001b[?25hRequirement already satisfied: future in /usr/local/lib/python3.7/dist-packages (from dash) (0.16.0)\n",
            "Requirement already satisfied: Werkzeug<2.0,>=0.15 in /usr/local/lib/python3.7/dist-packages (from Flask>=1.0.4->dash) (1.0.1)\n",
            "Requirement already satisfied: Jinja2<3.0,>=2.10.1 in /usr/local/lib/python3.7/dist-packages (from Flask>=1.0.4->dash) (2.11.3)\n",
            "Requirement already satisfied: itsdangerous<2.0,>=0.24 in /usr/local/lib/python3.7/dist-packages (from Flask>=1.0.4->dash) (1.1.0)\n",
            "Requirement already satisfied: click<8.0,>=5.1 in /usr/local/lib/python3.7/dist-packages (from Flask>=1.0.4->dash) (7.1.2)\n",
            "Collecting brotli\n",
            "\u001b[?25l  Downloading https://files.pythonhosted.org/packages/15/ea/5bd575511b37bbd1c794606a0a621e6feff8e96b7dd007a86a5d218b2d94/Brotli-1.0.9-cp37-cp37m-manylinux1_x86_64.whl (357kB)\n",
            "\u001b[K     |████████████████████████████████| 358kB 31.3MB/s \n",
            "\u001b[?25hRequirement already satisfied: six in /usr/local/lib/python3.7/dist-packages (from plotly->dash) (1.15.0)\n",
            "Requirement already satisfied: retrying>=1.3.3 in /usr/local/lib/python3.7/dist-packages (from plotly->dash) (1.3.3)\n",
            "Requirement already satisfied: MarkupSafe>=0.23 in /usr/local/lib/python3.7/dist-packages (from Jinja2<3.0,>=2.10.1->Flask>=1.0.4->dash) (2.0.1)\n",
            "Building wheels for collected packages: dash, dash-core-components, dash-html-components, dash-table\n",
            "  Building wheel for dash (setup.py) ... \u001b[?25l\u001b[?25hdone\n",
            "  Created wheel for dash: filename=dash-1.21.0-cp37-none-any.whl size=1100490 sha256=f9caaa851c914dbd2fdb56c2b62bcb0edf46eab92c7d003f169ad20138f17cfa\n",
            "  Stored in directory: /root/.cache/pip/wheels/7f/d6/e7/f0377e473d9b294478da4d5440e02b4bf864c2a8d6150b3990\n",
            "  Building wheel for dash-core-components (setup.py) ... \u001b[?25l\u001b[?25hdone\n",
            "  Created wheel for dash-core-components: filename=dash_core_components-1.17.1-cp37-none-any.whl size=3738997 sha256=6fe502bf7f4373f29ca360ef3d52f5540a77b295f133f24de1f36ea8879b2a80\n",
            "  Stored in directory: /root/.cache/pip/wheels/da/56/29/0e0b53d70c9f15f55c882dc2fa9778ed2549c48493b39b1106\n",
            "  Building wheel for dash-html-components (setup.py) ... \u001b[?25l\u001b[?25hdone\n",
            "  Created wheel for dash-html-components: filename=dash_html_components-1.1.4-cp37-none-any.whl size=319772 sha256=13abbf7833c25217caf650c4f4f7146524f209c88eff7e357999ded5f94f5f9c\n",
            "  Stored in directory: /root/.cache/pip/wheels/cd/c0/f1/e953b1feaf6d0f3cd2ebed89a2e7d5be019bb596e2313ba2c1\n",
            "  Building wheel for dash-table (setup.py) ... \u001b[?25l\u001b[?25hdone\n",
            "  Created wheel for dash-table: filename=dash_table-4.12.0-cp37-none-any.whl size=1837678 sha256=531c36b63f10ed07844c186d0598eefdd5114285bce6be92a091af0d38962c09\n",
            "  Stored in directory: /root/.cache/pip/wheels/8d/46/ea/134906ad3417f32c4c14b08abc7f1790beee74bfa5671fa85b\n",
            "Successfully built dash dash-core-components dash-html-components dash-table\n",
            "Installing collected packages: brotli, flask-compress, dash-core-components, dash-html-components, dash-table, dash\n",
            "Successfully installed brotli-1.0.9 dash-1.21.0 dash-core-components-1.17.1 dash-html-components-1.1.4 dash-table-4.12.0 flask-compress-1.10.1\n"
          ],
          "name": "stdout"
        }
      ]
    },
    {
      "cell_type": "code",
      "metadata": {
        "id": "SVJuDJiLrrxm"
      },
      "source": [
        "import plotly\n",
        "import plotly.graph_objects as go\n",
        "import plotly.express as px\n",
        "from plotly.subplots import make_subplots\n",
        "import plotly.graph_objects as go\n"
      ],
      "execution_count": null,
      "outputs": []
    },
    {
      "cell_type": "code",
      "metadata": {
        "id": "ZW0a-sG09SeX"
      },
      "source": [
        "market"
      ],
      "execution_count": null,
      "outputs": []
    },
    {
      "cell_type": "code",
      "metadata": {
        "id": "xRyTddeQUVF4",
        "colab": {
          "base_uri": "https://localhost:8080/",
          "height": 816
        },
        "outputId": "03febdce-4bc6-47af-a52f-442a78359f46"
      },
      "source": [
        "fig = px.sunburst(market, path=['Sector','Company'], height=800)\n",
        "fig.update_layout(title={\n",
        "    'text': \"Number of Companies per Sector\",\n",
        "    'y':0.97,\n",
        "    'x':0.5,\n",
        "    'xanchor': 'center',\n",
        "    'yanchor': 'top'},\n",
        "    showlegend=True)\n",
        "fig.show()"
      ],
      "execution_count": null,
      "outputs": [
        {
          "output_type": "display_data",
          "data": {
            "text/html": [
              "<html>\n",
              "<head><meta charset=\"utf-8\" /></head>\n",
              "<body>\n",
              "    <div>\n",
              "            <script src=\"https://cdnjs.cloudflare.com/ajax/libs/mathjax/2.7.5/MathJax.js?config=TeX-AMS-MML_SVG\"></script><script type=\"text/javascript\">if (window.MathJax) {MathJax.Hub.Config({SVG: {font: \"STIX-Web\"}});}</script>\n",
              "                <script type=\"text/javascript\">window.PlotlyConfig = {MathJaxConfig: 'local'};</script>\n",
              "        <script src=\"https://cdn.plot.ly/plotly-latest.min.js\"></script>    \n",
              "            <div id=\"561ade9d-5bef-4ce5-954f-f4c1d999dec2\" class=\"plotly-graph-div\" style=\"height:800px; width:100%;\"></div>\n",
              "            <script type=\"text/javascript\">\n",
              "                \n",
              "                    window.PLOTLYENV=window.PLOTLYENV || {};\n",
              "                    \n",
              "                if (document.getElementById(\"561ade9d-5bef-4ce5-954f-f4c1d999dec2\")) {\n",
              "                    Plotly.newPlot(\n",
              "                        '561ade9d-5bef-4ce5-954f-f4c1d999dec2',\n",
              "                        [{\"branchvalues\": \"total\", \"domain\": {\"x\": [0.0, 1.0], \"y\": [0.0, 1.0]}, \"hoverlabel\": {\"namelength\": 0}, \"hovertemplate\": \"labels=%{label}<br>count=%{value}<br>parent=%{parent}<br>id=%{id}\", \"ids\": [\"Technology/ASML\", \"Technology/Adyen\", \"Healthcare/Alibaba Health Information Technology\", \"Technology/Atlassian\", \"Consumer discretionary/Audi\", \"Materials/Barrick Gold\", \"Healthcare/Chugai Pharmaceutical\", \"Healthcare/Daiichi Sankyo\", \"Consumer discretionary/Herm\\u00e8s International\", \"Consumer discretionary/Just Eat Takeaway\", \"Technology/Keyence\", \"Consumer staples/L'Or\\u00e9al\", \"Healthcare/Lonza\", \"Consumer discretionary/Lululemon Athletica\", \"Consumer staples/Nestl\\u00e9\", \"Healthcare/Novo Nordisk\", \"Consumer discretionary/Prosus\", \"Healthcare/Roche\", \"Communication services/Sea Group\", \"Technology/Shopify\", \"Communication services/Spotify\", \"Consumer staples/Unilever\", \"Communication services\", \"Consumer discretionary\", \"Consumer staples\", \"Healthcare\", \"Materials\", \"Technology\"], \"labels\": [\"ASML\", \"Adyen\", \"Alibaba Health Information Technology\", \"Atlassian\", \"Audi\", \"Barrick Gold\", \"Chugai Pharmaceutical\", \"Daiichi Sankyo\", \"Herm\\u00e8s International\", \"Just Eat Takeaway\", \"Keyence\", \"L'Or\\u00e9al\", \"Lonza\", \"Lululemon Athletica\", \"Nestl\\u00e9\", \"Novo Nordisk\", \"Prosus\", \"Roche\", \"Sea Group\", \"Shopify\", \"Spotify\", \"Unilever\", \"Communication services\", \"Consumer discretionary\", \"Consumer staples\", \"Healthcare\", \"Materials\", \"Technology\"], \"name\": \"\", \"parents\": [\"Technology\", \"Technology\", \"Healthcare\", \"Technology\", \"Consumer discretionary\", \"Materials\", \"Healthcare\", \"Healthcare\", \"Consumer discretionary\", \"Consumer discretionary\", \"Technology\", \"Consumer staples\", \"Healthcare\", \"Consumer discretionary\", \"Consumer staples\", \"Healthcare\", \"Consumer discretionary\", \"Healthcare\", \"Communication services\", \"Technology\", \"Communication services\", \"Consumer staples\", \"\", \"\", \"\", \"\", \"\", \"\"], \"type\": \"sunburst\", \"values\": [2371, 2371, 288, 1259, 9495, 151, 358, 358, 8557, 2371, 358, 8557, 2002, 151, 2002, 389, 2371, 2002, 229, 151, 462, 2371, 691, 22945, 12930, 5397, 151, 6510]}],\n",
              "                        {\"height\": 800, \"legend\": {\"tracegroupgap\": 0}, \"margin\": {\"t\": 60}, \"showlegend\": true, \"template\": {\"data\": {\"bar\": [{\"error_x\": {\"color\": \"#2a3f5f\"}, \"error_y\": {\"color\": \"#2a3f5f\"}, \"marker\": {\"line\": {\"color\": \"#E5ECF6\", \"width\": 0.5}}, \"type\": \"bar\"}], \"barpolar\": [{\"marker\": {\"line\": {\"color\": \"#E5ECF6\", \"width\": 0.5}}, \"type\": \"barpolar\"}], \"carpet\": [{\"aaxis\": {\"endlinecolor\": \"#2a3f5f\", \"gridcolor\": \"white\", \"linecolor\": \"white\", \"minorgridcolor\": \"white\", \"startlinecolor\": \"#2a3f5f\"}, \"baxis\": {\"endlinecolor\": \"#2a3f5f\", \"gridcolor\": \"white\", \"linecolor\": \"white\", \"minorgridcolor\": \"white\", \"startlinecolor\": \"#2a3f5f\"}, \"type\": \"carpet\"}], \"choropleth\": [{\"colorbar\": {\"outlinewidth\": 0, \"ticks\": \"\"}, \"type\": \"choropleth\"}], \"contour\": [{\"colorbar\": {\"outlinewidth\": 0, \"ticks\": \"\"}, \"colorscale\": [[0.0, \"#0d0887\"], [0.1111111111111111, \"#46039f\"], [0.2222222222222222, \"#7201a8\"], [0.3333333333333333, \"#9c179e\"], [0.4444444444444444, \"#bd3786\"], [0.5555555555555556, \"#d8576b\"], [0.6666666666666666, \"#ed7953\"], [0.7777777777777778, \"#fb9f3a\"], [0.8888888888888888, \"#fdca26\"], [1.0, \"#f0f921\"]], \"type\": \"contour\"}], \"contourcarpet\": [{\"colorbar\": {\"outlinewidth\": 0, \"ticks\": \"\"}, \"type\": \"contourcarpet\"}], \"heatmap\": [{\"colorbar\": {\"outlinewidth\": 0, \"ticks\": \"\"}, \"colorscale\": [[0.0, \"#0d0887\"], [0.1111111111111111, \"#46039f\"], [0.2222222222222222, \"#7201a8\"], [0.3333333333333333, \"#9c179e\"], [0.4444444444444444, \"#bd3786\"], [0.5555555555555556, \"#d8576b\"], [0.6666666666666666, \"#ed7953\"], [0.7777777777777778, \"#fb9f3a\"], [0.8888888888888888, \"#fdca26\"], [1.0, \"#f0f921\"]], \"type\": \"heatmap\"}], \"heatmapgl\": [{\"colorbar\": {\"outlinewidth\": 0, \"ticks\": \"\"}, \"colorscale\": [[0.0, \"#0d0887\"], [0.1111111111111111, \"#46039f\"], [0.2222222222222222, \"#7201a8\"], [0.3333333333333333, \"#9c179e\"], [0.4444444444444444, \"#bd3786\"], [0.5555555555555556, \"#d8576b\"], [0.6666666666666666, \"#ed7953\"], [0.7777777777777778, \"#fb9f3a\"], [0.8888888888888888, \"#fdca26\"], [1.0, \"#f0f921\"]], \"type\": \"heatmapgl\"}], \"histogram\": [{\"marker\": {\"colorbar\": {\"outlinewidth\": 0, \"ticks\": \"\"}}, \"type\": \"histogram\"}], \"histogram2d\": [{\"colorbar\": {\"outlinewidth\": 0, \"ticks\": \"\"}, \"colorscale\": [[0.0, \"#0d0887\"], [0.1111111111111111, \"#46039f\"], [0.2222222222222222, \"#7201a8\"], [0.3333333333333333, \"#9c179e\"], [0.4444444444444444, \"#bd3786\"], [0.5555555555555556, \"#d8576b\"], [0.6666666666666666, \"#ed7953\"], [0.7777777777777778, \"#fb9f3a\"], [0.8888888888888888, \"#fdca26\"], [1.0, \"#f0f921\"]], \"type\": \"histogram2d\"}], \"histogram2dcontour\": [{\"colorbar\": {\"outlinewidth\": 0, \"ticks\": \"\"}, \"colorscale\": [[0.0, \"#0d0887\"], [0.1111111111111111, \"#46039f\"], [0.2222222222222222, \"#7201a8\"], [0.3333333333333333, \"#9c179e\"], [0.4444444444444444, \"#bd3786\"], [0.5555555555555556, \"#d8576b\"], [0.6666666666666666, \"#ed7953\"], [0.7777777777777778, \"#fb9f3a\"], [0.8888888888888888, \"#fdca26\"], [1.0, \"#f0f921\"]], \"type\": \"histogram2dcontour\"}], \"mesh3d\": [{\"colorbar\": {\"outlinewidth\": 0, \"ticks\": \"\"}, \"type\": \"mesh3d\"}], \"parcoords\": [{\"line\": {\"colorbar\": {\"outlinewidth\": 0, \"ticks\": \"\"}}, \"type\": \"parcoords\"}], \"pie\": [{\"automargin\": true, \"type\": \"pie\"}], \"scatter\": [{\"marker\": {\"colorbar\": {\"outlinewidth\": 0, \"ticks\": \"\"}}, \"type\": \"scatter\"}], \"scatter3d\": [{\"line\": {\"colorbar\": {\"outlinewidth\": 0, \"ticks\": \"\"}}, \"marker\": {\"colorbar\": {\"outlinewidth\": 0, \"ticks\": \"\"}}, \"type\": \"scatter3d\"}], \"scattercarpet\": [{\"marker\": {\"colorbar\": {\"outlinewidth\": 0, \"ticks\": \"\"}}, \"type\": \"scattercarpet\"}], \"scattergeo\": [{\"marker\": {\"colorbar\": {\"outlinewidth\": 0, \"ticks\": \"\"}}, \"type\": \"scattergeo\"}], \"scattergl\": [{\"marker\": {\"colorbar\": {\"outlinewidth\": 0, \"ticks\": \"\"}}, \"type\": \"scattergl\"}], \"scattermapbox\": [{\"marker\": {\"colorbar\": {\"outlinewidth\": 0, \"ticks\": \"\"}}, \"type\": \"scattermapbox\"}], \"scatterpolar\": [{\"marker\": {\"colorbar\": {\"outlinewidth\": 0, \"ticks\": \"\"}}, \"type\": \"scatterpolar\"}], \"scatterpolargl\": [{\"marker\": {\"colorbar\": {\"outlinewidth\": 0, \"ticks\": \"\"}}, \"type\": \"scatterpolargl\"}], \"scatterternary\": [{\"marker\": {\"colorbar\": {\"outlinewidth\": 0, \"ticks\": \"\"}}, \"type\": \"scatterternary\"}], \"surface\": [{\"colorbar\": {\"outlinewidth\": 0, \"ticks\": \"\"}, \"colorscale\": [[0.0, \"#0d0887\"], [0.1111111111111111, \"#46039f\"], [0.2222222222222222, \"#7201a8\"], [0.3333333333333333, \"#9c179e\"], [0.4444444444444444, \"#bd3786\"], [0.5555555555555556, \"#d8576b\"], [0.6666666666666666, \"#ed7953\"], [0.7777777777777778, \"#fb9f3a\"], [0.8888888888888888, \"#fdca26\"], [1.0, \"#f0f921\"]], \"type\": \"surface\"}], \"table\": [{\"cells\": {\"fill\": {\"color\": \"#EBF0F8\"}, \"line\": {\"color\": \"white\"}}, \"header\": {\"fill\": {\"color\": \"#C8D4E3\"}, \"line\": {\"color\": \"white\"}}, \"type\": \"table\"}]}, \"layout\": {\"annotationdefaults\": {\"arrowcolor\": \"#2a3f5f\", \"arrowhead\": 0, \"arrowwidth\": 1}, \"coloraxis\": {\"colorbar\": {\"outlinewidth\": 0, \"ticks\": \"\"}}, \"colorscale\": {\"diverging\": [[0, \"#8e0152\"], [0.1, \"#c51b7d\"], [0.2, \"#de77ae\"], [0.3, \"#f1b6da\"], [0.4, \"#fde0ef\"], [0.5, \"#f7f7f7\"], [0.6, \"#e6f5d0\"], [0.7, \"#b8e186\"], [0.8, \"#7fbc41\"], [0.9, \"#4d9221\"], [1, \"#276419\"]], \"sequential\": [[0.0, \"#0d0887\"], [0.1111111111111111, \"#46039f\"], [0.2222222222222222, \"#7201a8\"], [0.3333333333333333, \"#9c179e\"], [0.4444444444444444, \"#bd3786\"], [0.5555555555555556, \"#d8576b\"], [0.6666666666666666, \"#ed7953\"], [0.7777777777777778, \"#fb9f3a\"], [0.8888888888888888, \"#fdca26\"], [1.0, \"#f0f921\"]], \"sequentialminus\": [[0.0, \"#0d0887\"], [0.1111111111111111, \"#46039f\"], [0.2222222222222222, \"#7201a8\"], [0.3333333333333333, \"#9c179e\"], [0.4444444444444444, \"#bd3786\"], [0.5555555555555556, \"#d8576b\"], [0.6666666666666666, \"#ed7953\"], [0.7777777777777778, \"#fb9f3a\"], [0.8888888888888888, \"#fdca26\"], [1.0, \"#f0f921\"]]}, \"colorway\": [\"#636efa\", \"#EF553B\", \"#00cc96\", \"#ab63fa\", \"#FFA15A\", \"#19d3f3\", \"#FF6692\", \"#B6E880\", \"#FF97FF\", \"#FECB52\"], \"font\": {\"color\": \"#2a3f5f\"}, \"geo\": {\"bgcolor\": \"white\", \"lakecolor\": \"white\", \"landcolor\": \"#E5ECF6\", \"showlakes\": true, \"showland\": true, \"subunitcolor\": \"white\"}, \"hoverlabel\": {\"align\": \"left\"}, \"hovermode\": \"closest\", \"mapbox\": {\"style\": \"light\"}, \"paper_bgcolor\": \"white\", \"plot_bgcolor\": \"#E5ECF6\", \"polar\": {\"angularaxis\": {\"gridcolor\": \"white\", \"linecolor\": \"white\", \"ticks\": \"\"}, \"bgcolor\": \"#E5ECF6\", \"radialaxis\": {\"gridcolor\": \"white\", \"linecolor\": \"white\", \"ticks\": \"\"}}, \"scene\": {\"xaxis\": {\"backgroundcolor\": \"#E5ECF6\", \"gridcolor\": \"white\", \"gridwidth\": 2, \"linecolor\": \"white\", \"showbackground\": true, \"ticks\": \"\", \"zerolinecolor\": \"white\"}, \"yaxis\": {\"backgroundcolor\": \"#E5ECF6\", \"gridcolor\": \"white\", \"gridwidth\": 2, \"linecolor\": \"white\", \"showbackground\": true, \"ticks\": \"\", \"zerolinecolor\": \"white\"}, \"zaxis\": {\"backgroundcolor\": \"#E5ECF6\", \"gridcolor\": \"white\", \"gridwidth\": 2, \"linecolor\": \"white\", \"showbackground\": true, \"ticks\": \"\", \"zerolinecolor\": \"white\"}}, \"shapedefaults\": {\"line\": {\"color\": \"#2a3f5f\"}}, \"ternary\": {\"aaxis\": {\"gridcolor\": \"white\", \"linecolor\": \"white\", \"ticks\": \"\"}, \"baxis\": {\"gridcolor\": \"white\", \"linecolor\": \"white\", \"ticks\": \"\"}, \"bgcolor\": \"#E5ECF6\", \"caxis\": {\"gridcolor\": \"white\", \"linecolor\": \"white\", \"ticks\": \"\"}}, \"title\": {\"x\": 0.05}, \"xaxis\": {\"automargin\": true, \"gridcolor\": \"white\", \"linecolor\": \"white\", \"ticks\": \"\", \"title\": {\"standoff\": 15}, \"zerolinecolor\": \"white\", \"zerolinewidth\": 2}, \"yaxis\": {\"automargin\": true, \"gridcolor\": \"white\", \"linecolor\": \"white\", \"ticks\": \"\", \"title\": {\"standoff\": 15}, \"zerolinecolor\": \"white\", \"zerolinewidth\": 2}}}, \"title\": {\"text\": \"Number of Companies per Sector\", \"x\": 0.5, \"xanchor\": \"center\", \"y\": 0.97, \"yanchor\": \"top\"}},\n",
              "                        {\"responsive\": true}\n",
              "                    ).then(function(){\n",
              "                            \n",
              "var gd = document.getElementById('561ade9d-5bef-4ce5-954f-f4c1d999dec2');\n",
              "var x = new MutationObserver(function (mutations, observer) {{\n",
              "        var display = window.getComputedStyle(gd).display;\n",
              "        if (!display || display === 'none') {{\n",
              "            console.log([gd, 'removed!']);\n",
              "            Plotly.purge(gd);\n",
              "            observer.disconnect();\n",
              "        }}\n",
              "}});\n",
              "\n",
              "// Listen for the removal of the full notebook cells\n",
              "var notebookContainer = gd.closest('#notebook-container');\n",
              "if (notebookContainer) {{\n",
              "    x.observe(notebookContainer, {childList: true});\n",
              "}}\n",
              "\n",
              "// Listen for the clearing of the current output cell\n",
              "var outputEl = gd.closest('.output');\n",
              "if (outputEl) {{\n",
              "    x.observe(outputEl, {childList: true});\n",
              "}}\n",
              "\n",
              "                        })\n",
              "                };\n",
              "                \n",
              "            </script>\n",
              "        </div>\n",
              "</body>\n",
              "</html>"
            ]
          },
          "metadata": {
            "tags": []
          }
        }
      ]
    },
    {
      "cell_type": "markdown",
      "metadata": {
        "id": "jVdVth2aqLW2"
      },
      "source": [
        "#Building the model\n"
      ]
    },
    {
      "cell_type": "code",
      "metadata": {
        "id": "D7_27a3KWsFA"
      },
      "source": [
        "# Importing machinelearning library\n",
        "from sklearn.preprocessing import StandardScaler, normalize\n",
        "from sklearn.cluster import KMeans\n",
        "from sklearn.decomposition import PCA\n",
        "%matplotlib inline"
      ],
      "execution_count": null,
      "outputs": []
    },
    {
      "cell_type": "code",
      "metadata": {
        "id": "Zewh7aFiYKhX",
        "colab": {
          "base_uri": "https://localhost:8080/"
        },
        "outputId": "6803210e-396b-402e-e783-e553c2e95a05"
      },
      "source": [
        "kmeans = KMeans(n_clusters=4, max_iter=50)\n",
        "print(kmeans.fit(rfm_df_scaled))\n",
        "print(kmeans.labels_)"
      ],
      "execution_count": null,
      "outputs": [
        {
          "output_type": "stream",
          "text": [
            "KMeans(algorithm='auto', copy_x=True, init='k-means++', max_iter=50,\n",
            "       n_clusters=4, n_init=10, n_jobs=None, precompute_distances='auto',\n",
            "       random_state=None, tol=0.0001, verbose=0)\n",
            "[0 1 1 1 2 0 1 2 1 1 1 1 1 1 3 2 1 1 1 1 2 2 1 1 1 1 1 0 2 3 1 0 1 1 1 1 0\n",
            " 0 1 0 1 0 0 1 1 1 1 1 2 0 1 1 2 1 1 1 1 2 1 2 1 2 1 1 1 1 1 1 1 1 1 1 1 1\n",
            " 1 1 1 1 1 1 0 0 2 1 2 0 2 1 3 1 1 1 2 2 1 1 2 1 0 2 1 2 1 1 0 1 1 2 1 1 1\n",
            " 2 1 1 1 2 1 1 1 1 1 0 2 2 1 2 0 1 1 1 1 0 1 2 1 1 1 1 1 1 1 1 1 1 2 2 1 0\n",
            " 1 1 1 1 1 2 1 1 1 2 1 1 1 3 1 1 3 3 0 1 0 2 1 2 1 1 1 1 1 0 1 1 1 0 2 1 0\n",
            " 1 1 1 0 1 1 1 1 0 0 1 1 1 1 0 1 1 3 2 2 2 2 2 1 0 2 2 1 0 1 2 0 1 1 1 2 2\n",
            " 0 2 1 1 2 2 0 0 1 2 1 1 1 1 1 1 1 0 1 2 1 3 2 0 1 0]\n"
          ],
          "name": "stdout"
        }
      ]
    },
    {
      "cell_type": "code",
      "metadata": {
        "id": "hjGzqWCaPFBe"
      },
      "source": [
        "# Elbow-curve/SSD\n",
        "\n",
        "ssd = []\n",
        "range_n_clusters = [2, 3, 4, 5, 6, 7, 8]\n",
        "for num_clusters in range_n_clusters:\n",
        "    kmeans = KMeans ( n_clusters=num_clusters, max_iter=50 )\n",
        "    kmeans.fit ( rfm_df_scaled )\n",
        "\n",
        "    ssd.append ( kmeans.inertia_ )"
      ],
      "execution_count": null,
      "outputs": []
    },
    {
      "cell_type": "code",
      "metadata": {
        "id": "vBr6qtgrPL83",
        "colab": {
          "base_uri": "https://localhost:8080/",
          "height": 271
        },
        "outputId": "e4a35ac4-66da-483b-cafb-509a3f93d7b4"
      },
      "source": [
        "# plot the SSDs for each n_clusters\n",
        "plt.plot(ssd)\n",
        "plt.show()"
      ],
      "execution_count": null,
      "outputs": [
        {
          "output_type": "display_data",
          "data": {
            "image/png": "[encoded data removed]",
            "text/plain": [
              "<Figure size 432x288 with 1 Axes>"
            ]
          },
          "metadata": {
            "tags": [],
            "needs_background": "light"
          }
        }
      ]
    },
    {
      "cell_type": "code",
      "metadata": {
        "id": "BOVuL7W-TM22",
        "colab": {
          "base_uri": "https://localhost:8080/"
        },
        "outputId": "e0c0a90c-d4d7-458c-a28e-7432e2d13775"
      },
      "source": [
        "# Silhouette analysis\n",
        "from sklearn import metrics\n",
        "from sklearn.metrics import silhouette_score\n",
        "\n",
        "range_n_clusters = [2, 3, 4, 5, 6, 7, 8]\n",
        "\n",
        "for num_clusters in range_n_clusters:\n",
        "    \n",
        "    # intialise kmeans\n",
        "    kmeans = KMeans(n_clusters=num_clusters, max_iter=50)\n",
        "    kmeans.fit(rfm_df_scaled)\n",
        "    \n",
        "    cluster_labels = kmeans.labels_\n",
        "    \n",
        "    # silhouette score\n",
        "    silhouette_avg = silhouette_score(rfm_df_scaled, cluster_labels)\n",
        "    print(\"For n_clusters={0}, the silhouette score is {1}\".format(num_clusters, silhouette_avg))"
      ],
      "execution_count": null,
      "outputs": [
        {
          "output_type": "stream",
          "text": [
            "For n_clusters=2, the silhouette score is 0.5569112062277024\n",
            "For n_clusters=3, the silhouette score is 0.5588029503453339\n",
            "For n_clusters=4, the silhouette score is 0.5605549065159898\n",
            "For n_clusters=5, the silhouette score is 0.534421472076744\n",
            "For n_clusters=6, the silhouette score is 0.47992615057738935\n",
            "For n_clusters=7, the silhouette score is 0.46199017655529984\n",
            "For n_clusters=8, the silhouette score is 0.4057609589984615\n"
          ],
          "name": "stdout"
        }
      ]
    },
    {
      "cell_type": "code",
      "metadata": {
        "id": "a8U-bGveWe8Y",
        "colab": {
          "base_uri": "https://localhost:8080/"
        },
        "outputId": "b7f238ae-802d-4c2c-d8ce-4c99f96ee5fe"
      },
      "source": [
        "# Final model with k=3\n",
        "kmeans = KMeans(n_clusters=3, max_iter=50)\n",
        "kmeans.fit(rfm_df_scaled)"
      ],
      "execution_count": null,
      "outputs": [
        {
          "output_type": "execute_result",
          "data": {
            "text/plain": [
              "KMeans(algorithm='auto', copy_x=True, init='k-means++', max_iter=50,\n",
              "       n_clusters=3, n_init=10, n_jobs=None, precompute_distances='auto',\n",
              "       random_state=None, tol=0.0001, verbose=0)"
            ]
          },
          "metadata": {
            "tags": []
          },
          "execution_count": 38
        }
      ]
    },
    {
      "cell_type": "code",
      "metadata": {
        "id": "IKH71XQDWgT2",
        "colab": {
          "base_uri": "https://localhost:8080/"
        },
        "outputId": "78bbee6d-d4b6-4ab3-cab2-14cc18dd640f"
      },
      "source": [
        " kmeans.labels_"
      ],
      "execution_count": null,
      "outputs": [
        {
          "output_type": "execute_result",
          "data": {
            "text/plain": [
              "array([1, 2, 2, 2, 0, 1, 2, 0, 2, 2, 2, 2, 2, 2, 1, 0, 2, 2, 2, 2, 0, 0,\n",
              "       2, 2, 2, 2, 2, 1, 0, 1, 2, 1, 2, 2, 2, 2, 1, 2, 2, 1, 2, 2, 1, 2,\n",
              "       2, 2, 2, 2, 0, 1, 2, 2, 0, 2, 2, 2, 2, 0, 2, 0, 2, 0, 2, 2, 2, 2,\n",
              "       2, 2, 2, 2, 2, 2, 2, 2, 2, 2, 2, 2, 2, 2, 1, 2, 0, 2, 0, 2, 0, 2,\n",
              "       1, 2, 2, 2, 0, 0, 2, 2, 0, 2, 1, 0, 2, 0, 2, 2, 2, 2, 2, 0, 2, 2,\n",
              "       2, 0, 2, 2, 2, 0, 2, 2, 2, 2, 2, 1, 0, 0, 2, 0, 2, 2, 2, 2, 2, 1,\n",
              "       2, 0, 2, 2, 2, 2, 2, 2, 2, 0, 2, 2, 0, 0, 2, 2, 2, 2, 2, 2, 2, 0,\n",
              "       2, 2, 2, 0, 2, 2, 2, 1, 2, 2, 1, 1, 1, 2, 2, 0, 2, 0, 2, 2, 2, 2,\n",
              "       2, 1, 2, 2, 2, 2, 0, 2, 2, 2, 2, 2, 1, 2, 2, 2, 2, 2, 2, 2, 2, 2,\n",
              "       2, 2, 2, 2, 1, 0, 0, 0, 0, 0, 2, 2, 0, 0, 2, 1, 2, 0, 2, 2, 2, 2,\n",
              "       0, 0, 1, 0, 2, 2, 0, 0, 1, 2, 2, 0, 2, 2, 2, 2, 2, 2, 2, 1, 2, 0,\n",
              "       2, 1, 0, 1, 2, 1], dtype=int32)"
            ]
          },
          "metadata": {
            "tags": []
          },
          "execution_count": 39
        }
      ]
    },
    {
      "cell_type": "code",
      "metadata": {
        "id": "R_UCbWdkWj7q",
        "colab": {
          "base_uri": "https://localhost:8080/",
          "height": 202
        },
        "outputId": "ae9e638c-955b-4fa0-8613-885e6dfec015"
      },
      "source": [
        "# assign the label\n",
        "rfm['Cluster_Id'] = kmeans.labels_\n",
        "rfm.head()"
      ],
      "execution_count": null,
      "outputs": [
        {
          "output_type": "execute_result",
          "data": {
            "text/html": [
              "<div>\n",
              "<style scoped>\n",
              "    .dataframe tbody tr th:only-of-type {\n",
              "        vertical-align: middle;\n",
              "    }\n",
              "\n",
              "    .dataframe tbody tr th {\n",
              "        vertical-align: top;\n",
              "    }\n",
              "\n",
              "    .dataframe thead th {\n",
              "        text-align: right;\n",
              "    }\n",
              "</style>\n",
              "<table border=\"1\" class=\"dataframe\">\n",
              "  <thead>\n",
              "    <tr style=\"text-align: right;\">\n",
              "      <th></th>\n",
              "      <th>CustomerID</th>\n",
              "      <th>Amount</th>\n",
              "      <th>Frequency</th>\n",
              "      <th>Recency</th>\n",
              "      <th>Cluster_Id</th>\n",
              "    </tr>\n",
              "  </thead>\n",
              "  <tbody>\n",
              "    <tr>\n",
              "      <th>0</th>\n",
              "      <td>12357.0</td>\n",
              "      <td>18623.01</td>\n",
              "      <td>393</td>\n",
              "      <td>32</td>\n",
              "      <td>1</td>\n",
              "    </tr>\n",
              "    <tr>\n",
              "      <th>1</th>\n",
              "      <td>12367.0</td>\n",
              "      <td>168.90</td>\n",
              "      <td>11</td>\n",
              "      <td>3</td>\n",
              "      <td>2</td>\n",
              "    </tr>\n",
              "    <tr>\n",
              "      <th>2</th>\n",
              "      <td>12371.0</td>\n",
              "      <td>5663.88</td>\n",
              "      <td>189</td>\n",
              "      <td>44</td>\n",
              "      <td>2</td>\n",
              "    </tr>\n",
              "    <tr>\n",
              "      <th>3</th>\n",
              "      <td>12372.0</td>\n",
              "      <td>1298.04</td>\n",
              "      <td>52</td>\n",
              "      <td>71</td>\n",
              "      <td>2</td>\n",
              "    </tr>\n",
              "    <tr>\n",
              "      <th>4</th>\n",
              "      <td>12377.0</td>\n",
              "      <td>4884.36</td>\n",
              "      <td>231</td>\n",
              "      <td>314</td>\n",
              "      <td>0</td>\n",
              "    </tr>\n",
              "  </tbody>\n",
              "</table>\n",
              "</div>"
            ],
            "text/plain": [
              "  CustomerID    Amount  Frequency  Recency  Cluster_Id\n",
              "0    12357.0  18623.01        393       32           1\n",
              "1    12367.0    168.90         11        3           2\n",
              "2    12371.0   5663.88        189       44           2\n",
              "3    12372.0   1298.04         52       71           2\n",
              "4    12377.0   4884.36        231      314           0"
            ]
          },
          "metadata": {
            "tags": []
          },
          "execution_count": 41
        }
      ]
    },
    {
      "cell_type": "code",
      "metadata": {
        "id": "svXSZCKBWnu2",
        "colab": {
          "base_uri": "https://localhost:8080/",
          "height": 306
        },
        "outputId": "2af57d6a-bdaa-4678-cffa-c19e4a6d0fec"
      },
      "source": [
        "# Box plot to visualize Cluster Id vs Frequency\n",
        "\n",
        "sns.boxplot(x='Cluster_Id', y='Amount', data=rfm)"
      ],
      "execution_count": null,
      "outputs": [
        {
          "output_type": "execute_result",
          "data": {
            "text/plain": [
              "<matplotlib.axes._subplots.AxesSubplot at 0x7f92bb32ec90>"
            ]
          },
          "metadata": {
            "tags": []
          },
          "execution_count": 42
        },
        {
          "output_type": "display_data",
          "data": {
            "image/png": "[encoded data removed]",
            "text/plain": [
              "<Figure size 432x288 with 1 Axes>"
            ]
          },
          "metadata": {
            "tags": [],
            "needs_background": "light"
          }
        }
      ]
    },
    {
      "cell_type": "code",
      "metadata": {
        "id": "twehNfzNWruk",
        "colab": {
          "base_uri": "https://localhost:8080/",
          "height": 306
        },
        "outputId": "78c36655-88b0-477f-fbb3-6fcd2629f39c"
      },
      "source": [
        "# Box plot to visualize Cluster Id vs Frequency\n",
        "\n",
        "sns.boxplot(x='Cluster_Id', y='Frequency', data=rfm)"
      ],
      "execution_count": null,
      "outputs": [
        {
          "output_type": "execute_result",
          "data": {
            "text/plain": [
              "<matplotlib.axes._subplots.AxesSubplot at 0x7f92bb1cb490>"
            ]
          },
          "metadata": {
            "tags": []
          },
          "execution_count": 43
        },
        {
          "output_type": "display_data",
          "data": {
            "image/png": "[encoded data removed]",
            "text/plain": [
              "<Figure size 432x288 with 1 Axes>"
            ]
          },
          "metadata": {
            "tags": [],
            "needs_background": "light"
          }
        }
      ]
    },
    {
      "cell_type": "code",
      "metadata": {
        "id": "N2XRIHd7Wvp1",
        "colab": {
          "base_uri": "https://localhost:8080/",
          "height": 306
        },
        "outputId": "13b1e33e-5acc-4750-9c33-6f03652fd173"
      },
      "source": [
        "# Box plot to visualize Cluster Id vs Recency\n",
        "\n",
        "sns.boxplot(x='Cluster_Id', y='Recency', data=rfm)"
      ],
      "execution_count": null,
      "outputs": [
        {
          "output_type": "execute_result",
          "data": {
            "text/plain": [
              "<matplotlib.axes._subplots.AxesSubplot at 0x7f92bb35fb50>"
            ]
          },
          "metadata": {
            "tags": []
          },
          "execution_count": 44
        },
        {
          "output_type": "display_data",
          "data": {
            "image/png": "[encoded data removed]",
            "text/plain": [
              "<Figure size 432x288 with 1 Axes>"
            ]
          },
          "metadata": {
            "tags": [],
            "needs_background": "light"
          }
        }
      ]
    },
    {
      "cell_type": "code",
      "metadata": {
        "id": "BlBdzDNjWz7V",
        "colab": {
          "base_uri": "https://localhost:8080/",
          "height": 267
        },
        "outputId": "a425383a-3468-4ef2-c4ae-59f33fc96716"
      },
      "source": [
        "# Single linkage: \n",
        "from scipy.cluster.hierarchy import linkage\n",
        "from scipy.cluster.hierarchy import dendrogram\n",
        "mergings = linkage(rfm_df_scaled, method=\"single\", metric='euclidean')\n",
        "dendrogram(mergings)\n",
        "plt.show()"
      ],
      "execution_count": null,
      "outputs": [
        {
          "output_type": "display_data",
          "data": {
            "image/png": "[encoded data removed]",
            "text/plain": [
              "<Figure size 432x288 with 1 Axes>"
            ]
          },
          "metadata": {
            "tags": [],
            "needs_background": "light"
          }
        }
      ]
    },
    {
      "cell_type": "markdown",
      "metadata": {
        "id": "-zDYF6zdYKpm"
      },
      "source": [
        "Complete Linkage\n",
        "\n",
        "In complete linkage hierarchical clustering, the distance between two clusters is defined as the longest distance between two points in each cluster. For example, the distance between clusters “r” and “s” to the left is equal to the length of the arrow between their two furthest points.\n"
      ]
    },
    {
      "cell_type": "code",
      "metadata": {
        "id": "2JCA4BzMYIAt",
        "colab": {
          "base_uri": "https://localhost:8080/",
          "height": 266
        },
        "outputId": "e768659c-ed37-4f5c-b314-69eb13936172"
      },
      "source": [
        "# Complete linkage\n",
        "\n",
        "mergings = linkage(rfm_df_scaled, method=\"complete\", metric='euclidean')\n",
        "dendrogram(mergings)\n",
        "plt.show()"
      ],
      "execution_count": null,
      "outputs": [
        {
          "output_type": "display_data",
          "data": {
            "image/png": "[encoded data removed]",
            "text/plain": [
              "<Figure size 432x288 with 1 Axes>"
            ]
          },
          "metadata": {
            "tags": [],
            "needs_background": "light"
          }
        }
      ]
    },
    {
      "cell_type": "code",
      "metadata": {
        "id": "CNquaoD4Yw7f",
        "colab": {
          "base_uri": "https://localhost:8080/",
          "height": 266
        },
        "outputId": "4ea72356-66b8-4675-e220-a70198821938"
      },
      "source": [
        "# Average linkage\n",
        "\n",
        "mergings = linkage(rfm_df_scaled, method=\"average\", metric='euclidean')\n",
        "dendrogram(mergings)\n",
        "plt.show()"
      ],
      "execution_count": null,
      "outputs": [
        {
          "output_type": "display_data",
          "data": {
            "image/png": "[encoded data removed]",
            "text/plain": [
              "<Figure size 432x288 with 1 Axes>"
            ]
          },
          "metadata": {
            "tags": [],
            "needs_background": "light"
          }
        }
      ]
    },
    {
      "cell_type": "code",
      "metadata": {
        "id": "HWMpcHcUY4DV",
        "colab": {
          "base_uri": "https://localhost:8080/"
        },
        "outputId": "c820dbae-53d2-4632-c997-4e2fd0ad8ce5"
      },
      "source": [
        "# 3 clusters\n",
        "from scipy.cluster.hierarchy import cut_tree\n",
        "cluster_labels = kmeans.labels_\n",
        "cluster_labels = cut_tree(mergings, n_clusters=3).reshape(-1, )\n",
        "cluster_labels"
      ],
      "execution_count": null,
      "outputs": [
        {
          "output_type": "execute_result",
          "data": {
            "text/plain": [
              "array([0, 0, 0, 0, 0, 0, 0, 0, 0, 0, 0, 0, 0, 0, 1, 0, 0, 0, 0, 0, 0, 0,\n",
              "       0, 0, 0, 0, 0, 0, 0, 2, 0, 0, 0, 0, 0, 0, 0, 0, 0, 0, 0, 0, 0, 0,\n",
              "       0, 0, 0, 0, 0, 0, 0, 0, 0, 0, 0, 0, 0, 0, 0, 0, 0, 0, 0, 0, 0, 0,\n",
              "       0, 0, 0, 0, 0, 0, 0, 0, 0, 0, 0, 0, 0, 0, 0, 0, 0, 0, 0, 0, 0, 0,\n",
              "       0, 0, 0, 0, 0, 0, 0, 0, 0, 0, 0, 0, 0, 0, 0, 0, 0, 0, 0, 0, 0, 0,\n",
              "       0, 0, 0, 0, 0, 0, 0, 0, 0, 0, 0, 0, 0, 0, 0, 0, 0, 0, 0, 0, 0, 0,\n",
              "       0, 0, 0, 0, 0, 0, 0, 0, 0, 0, 0, 0, 0, 0, 0, 0, 0, 0, 0, 0, 0, 0,\n",
              "       0, 0, 0, 0, 0, 0, 0, 1, 0, 0, 2, 2, 0, 0, 0, 0, 0, 0, 0, 0, 0, 0,\n",
              "       0, 0, 0, 0, 0, 0, 0, 0, 0, 0, 0, 0, 0, 0, 0, 0, 0, 0, 0, 0, 0, 0,\n",
              "       0, 0, 0, 0, 1, 0, 0, 0, 0, 0, 0, 0, 0, 0, 0, 0, 0, 0, 0, 0, 0, 0,\n",
              "       0, 0, 1, 0, 0, 0, 0, 0, 0, 0, 0, 0, 0, 0, 0, 0, 0, 0, 0, 0, 0, 0,\n",
              "       0, 1, 0, 0, 0, 0])"
            ]
          },
          "metadata": {
            "tags": []
          },
          "execution_count": 48
        }
      ]
    },
    {
      "cell_type": "code",
      "metadata": {
        "id": "1YKwoDvbZqYd",
        "colab": {
          "base_uri": "https://localhost:8080/",
          "height": 202
        },
        "outputId": "aaabcb6d-b259-4e6d-e69a-cd4a0f1174cc"
      },
      "source": [
        "# Assign cluster labels\n",
        "\n",
        "rfm['Cluster_Labels'] = cluster_labels\n",
        "rfm.head()"
      ],
      "execution_count": null,
      "outputs": [
        {
          "output_type": "execute_result",
          "data": {
            "text/html": [
              "<div>\n",
              "<style scoped>\n",
              "    .dataframe tbody tr th:only-of-type {\n",
              "        vertical-align: middle;\n",
              "    }\n",
              "\n",
              "    .dataframe tbody tr th {\n",
              "        vertical-align: top;\n",
              "    }\n",
              "\n",
              "    .dataframe thead th {\n",
              "        text-align: right;\n",
              "    }\n",
              "</style>\n",
              "<table border=\"1\" class=\"dataframe\">\n",
              "  <thead>\n",
              "    <tr style=\"text-align: right;\">\n",
              "      <th></th>\n",
              "      <th>CustomerID</th>\n",
              "      <th>Amount</th>\n",
              "      <th>Frequency</th>\n",
              "      <th>Recency</th>\n",
              "      <th>Cluster_Id</th>\n",
              "      <th>Cluster_Labels</th>\n",
              "    </tr>\n",
              "  </thead>\n",
              "  <tbody>\n",
              "    <tr>\n",
              "      <th>0</th>\n",
              "      <td>12357.0</td>\n",
              "      <td>18623.01</td>\n",
              "      <td>393</td>\n",
              "      <td>32</td>\n",
              "      <td>1</td>\n",
              "      <td>0</td>\n",
              "    </tr>\n",
              "    <tr>\n",
              "      <th>1</th>\n",
              "      <td>12367.0</td>\n",
              "      <td>168.90</td>\n",
              "      <td>11</td>\n",
              "      <td>3</td>\n",
              "      <td>2</td>\n",
              "      <td>0</td>\n",
              "    </tr>\n",
              "    <tr>\n",
              "      <th>2</th>\n",
              "      <td>12371.0</td>\n",
              "      <td>5663.88</td>\n",
              "      <td>189</td>\n",
              "      <td>44</td>\n",
              "      <td>2</td>\n",
              "      <td>0</td>\n",
              "    </tr>\n",
              "    <tr>\n",
              "      <th>3</th>\n",
              "      <td>12372.0</td>\n",
              "      <td>1298.04</td>\n",
              "      <td>52</td>\n",
              "      <td>71</td>\n",
              "      <td>2</td>\n",
              "      <td>0</td>\n",
              "    </tr>\n",
              "    <tr>\n",
              "      <th>4</th>\n",
              "      <td>12377.0</td>\n",
              "      <td>4884.36</td>\n",
              "      <td>231</td>\n",
              "      <td>314</td>\n",
              "      <td>0</td>\n",
              "      <td>0</td>\n",
              "    </tr>\n",
              "  </tbody>\n",
              "</table>\n",
              "</div>"
            ],
            "text/plain": [
              "  CustomerID    Amount  Frequency  Recency  Cluster_Id  Cluster_Labels\n",
              "0    12357.0  18623.01        393       32           1               0\n",
              "1    12367.0    168.90         11        3           2               0\n",
              "2    12371.0   5663.88        189       44           2               0\n",
              "3    12372.0   1298.04         52       71           2               0\n",
              "4    12377.0   4884.36        231      314           0               0"
            ]
          },
          "metadata": {
            "tags": []
          },
          "execution_count": 49
        }
      ]
    },
    {
      "cell_type": "code",
      "metadata": {
        "id": "kivVfJ2SZsRv",
        "colab": {
          "base_uri": "https://localhost:8080/",
          "height": 306
        },
        "outputId": "dca2c184-e7f6-47ae-9c20-8fd61ee47c3b"
      },
      "source": [
        "# Plot Cluster Id vs Amount\n",
        "\n",
        "sns.boxplot(x='Cluster_Labels', y='Amount', data=rfm)"
      ],
      "execution_count": null,
      "outputs": [
        {
          "output_type": "execute_result",
          "data": {
            "text/plain": [
              "<matplotlib.axes._subplots.AxesSubplot at 0x7f92bb0a7d10>"
            ]
          },
          "metadata": {
            "tags": []
          },
          "execution_count": 50
        },
        {
          "output_type": "display_data",
          "data": {
            "image/png": "[encoded data removed]",
            "text/plain": [
              "<Figure size 432x288 with 1 Axes>"
            ]
          },
          "metadata": {
            "tags": [],
            "needs_background": "light"
          }
        }
      ]
    },
    {
      "cell_type": "code",
      "metadata": {
        "id": "tUwMIPJ4Zwxq",
        "colab": {
          "base_uri": "https://localhost:8080/",
          "height": 306
        },
        "outputId": "3ca73559-854d-4d93-9ba0-de68d96673b2"
      },
      "source": [
        "# Plot Cluster Id vs Frequency\n",
        "\n",
        "sns.boxplot(x='Cluster_Labels', y='Frequency', data=rfm)"
      ],
      "execution_count": null,
      "outputs": [
        {
          "output_type": "execute_result",
          "data": {
            "text/plain": [
              "<matplotlib.axes._subplots.AxesSubplot at 0x7f92baa5bd10>"
            ]
          },
          "metadata": {
            "tags": []
          },
          "execution_count": 51
        },
        {
          "output_type": "display_data",
          "data": {
            "image/png": "[encoded data removed]",
            "text/plain": [
              "<Figure size 432x288 with 1 Axes>"
            ]
          },
          "metadata": {
            "tags": [],
            "needs_background": "light"
          }
        }
      ]
    },
    {
      "cell_type": "code",
      "metadata": {
        "id": "qPfsnaatZ6Q1",
        "colab": {
          "base_uri": "https://localhost:8080/",
          "height": 306
        },
        "outputId": "4ec1f354-44ca-4a8e-81b0-5c262a3906ce"
      },
      "source": [
        "# Plot Cluster Id vs Recency\n",
        "\n",
        "sns.boxplot(x='Cluster_Labels', y='Recency', data=rfm)"
      ],
      "execution_count": null,
      "outputs": [
        {
          "output_type": "execute_result",
          "data": {
            "text/plain": [
              "<matplotlib.axes._subplots.AxesSubplot at 0x7f92baa27990>"
            ]
          },
          "metadata": {
            "tags": []
          },
          "execution_count": 52
        },
        {
          "output_type": "display_data",
          "data": {
            "image/png": "[encoded data removed]",
            "text/plain": [
              "<Figure size 432x288 with 1 Axes>"
            ]
          },
          "metadata": {
            "tags": [],
            "needs_background": "light"
          }
        }
      ]
    },
    {
      "cell_type": "markdown",
      "metadata": {
        "id": "HK-NzNQBaBlw"
      },
      "source": [
        "#Conclusion: First part\n",
        "##K-Means Clustering with 3 Cluster Ids\n",
        "\n",
        "Customers with Cluster Id 1 are the customers with high amount of transactions as compared to other customers.\n",
        "Customers with Cluster Id 1 are frequent buyers.\n",
        "Customers with Cluster Id 2 are not recent buyers and hence least of importance from business point of view.\n",
        "##Hierarchical Clustering with 3 Cluster Labels\n",
        "\n",
        "Customers with Cluster_Labels 2 are the customers with high amount of transactions as compared to other customers.\n",
        "Customers with Cluster_Labels 2 are frequent buyers.\n",
        "Customers with Cluster_Labels 0 are not recent buyers and hence least of importance from business point of view."
      ]
    }
  ]
}