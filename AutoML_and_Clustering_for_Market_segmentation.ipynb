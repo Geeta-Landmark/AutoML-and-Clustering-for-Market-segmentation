{
  "nbformat": 4,
  "nbformat_minor": 0,
  "metadata": {
    "colab": {
      "name": "AutoML-and-Clustering-for-Market-segmentation_visuals.ipynb",
      "provenance": [],
      "toc_visible": true,
      "authorship_tag": "ABX9TyNFj/UtO1XB9+kPNgFLkLj6",
      "include_colab_link": true
    },
    "kernelspec": {
      "name": "python3",
      "display_name": "Python 3"
    },
    "language_info": {
      "name": "python"
    },
    "accelerator": "GPU"
  },
  "cells": [
    {
      "cell_type": "markdown",
      "metadata": {
        "id": "view-in-github",
        "colab_type": "text"
      },
      "source": [
        "<a href=\"https://colab.research.google.com/github/geetanjalisawant16/AutoML-and-Clustering-for-Market-segmentation/blob/geetanjalisawant16-patch-1/AutoML_and_Clustering_for_Market_segmentation.ipynb\" target=\"_parent\"><img src=\"https://colab.research.google.com/assets/colab-badge.svg\" alt=\"Open In Colab\"/></a>"
      ]
    },
    {
      "cell_type": "markdown",
      "metadata": {
        "id": "6ZfeR3MUDEMr"
      },
      "source": [
        "#AutoML and Clustering Experiments on Pre and Post Pandemic Big Data for \n",
        "#Market Segmentation\n",
        "MSc. DATA SCIENCE\n",
        "\n",
        "Module: Project Dissertation \n",
        "\n",
        "Student ID: K1144343\n",
        "\n",
        "AutoML-and-Clustering-for-Market-segmentation Coding\n",
        "\n",
        "####################################################################################################\n",
        "\n",
        "This Jupyter Notebook consists of the assignment of \"Market Segmentation Practical Project\" for the MSc. Data Science CI7000 Project Dissertation Module at the Kingston University. The methods and steps of coding are reference from the case studies discussed during the lecture presented by the Module Leader.\n",
        "\n",
        "####################################################################################################"
      ]
    },
    {
      "cell_type": "markdown",
      "metadata": {
        "id": "HTb2_OvGTYjQ"
      },
      "source": [
        "# Importing the dataset\n",
        "\n",
        "##**Method 1**: From Github (official Pandas github link)\n",
        "\n",
        "\n",
        "First, we will import the online reatail and market cap datasets directly from the official pandas github [link1](https://github.com/geetanjalisawant16/AutoML-and-Clustering-for-Market-segmentation/blob/main/Online%20Retail.xlsx)\n",
        "[link2](https://github.com/geetanjalisawant16/AutoML-and-Clustering-for-Market-segmentation/blob/main/companies_market_cap.csv)"
      ]
    },
    {
      "cell_type": "code",
      "metadata": {
        "id": "fq3BnmAKUwnj"
      },
      "source": [
        "# import all the necessary libraries\n",
        "import numpy as np\n",
        "import pandas as pd\n",
        "import seaborn as sns\n",
        "import matplotlib.pyplot as plt\n",
        "from scipy.stats import mode"
      ],
      "execution_count": 1,
      "outputs": []
    },
    {
      "cell_type": "code",
      "metadata": {
        "colab": {
          "base_uri": "https://localhost:8080/"
        },
        "id": "pubJkN6guNTU",
        "outputId": "8a91ccfc-1a96-48bf-c218-f75cfacf5e57"
      },
      "source": [
        "!curl -O https://github.com/geetanjalisawant16/AutoML-and-Clustering-for-Market-segmentation/blob/main/Online%20Retail.xlsx\n",
        "!curl -O https://github.com/geetanjalisawant16/AutoML-and-Clustering-for-Market-segmentation/blob/main/companies_market_cap.csv"
      ],
      "execution_count": 2,
      "outputs": [
        {
          "output_type": "stream",
          "text": [
            "  % Total    % Received % Xferd  Average Speed   Time    Time     Time  Current\n",
            "                                 Dload  Upload   Total   Spent    Left  Speed\n",
            "100  183k    0  183k    0     0   847k      0 --:--:-- --:--:-- --:--:--  843k\n",
            "  % Total    % Received % Xferd  Average Speed   Time    Time     Time  Current\n",
            "                                 Dload  Upload   Total   Spent    Left  Speed\n",
            "100  183k    0  183k    0     0   892k      0 --:--:-- --:--:-- --:--:--  892k\n"
          ],
          "name": "stdout"
        }
      ]
    },
    {
      "cell_type": "code",
      "metadata": {
        "id": "87W2IjslU3PR"
      },
      "source": [
        "retail = pd.read_excel('/content/Online Retail.xlsx')\n"
      ],
      "execution_count": 10,
      "outputs": []
    },
    {
      "cell_type": "code",
      "metadata": {
        "id": "ZxK7ouVUuk6T"
      },
      "source": [
        "post_covid = pd.read_csv('companies_market_cap.csv')"
      ],
      "execution_count": 11,
      "outputs": []
    },
    {
      "cell_type": "code",
      "metadata": {
        "colab": {
          "base_uri": "https://localhost:8080/",
          "height": 414
        },
        "id": "YXl_K2cZWlVI",
        "outputId": "cb95cdff-f606-4449-f4ad-3d606d04280b"
      },
      "source": [
        "retail"
      ],
      "execution_count": 12,
      "outputs": [
        {
          "output_type": "execute_result",
          "data": {
            "text/html": [
              "<div>\n",
              "<style scoped>\n",
              "    .dataframe tbody tr th:only-of-type {\n",
              "        vertical-align: middle;\n",
              "    }\n",
              "\n",
              "    .dataframe tbody tr th {\n",
              "        vertical-align: top;\n",
              "    }\n",
              "\n",
              "    .dataframe thead th {\n",
              "        text-align: right;\n",
              "    }\n",
              "</style>\n",
              "<table border=\"1\" class=\"dataframe\">\n",
              "  <thead>\n",
              "    <tr style=\"text-align: right;\">\n",
              "      <th></th>\n",
              "      <th>InvoiceNo</th>\n",
              "      <th>StockCode</th>\n",
              "      <th>Description</th>\n",
              "      <th>Quantity</th>\n",
              "      <th>InvoiceDate</th>\n",
              "      <th>UnitPrice</th>\n",
              "      <th>CustomerID</th>\n",
              "      <th>Country</th>\n",
              "    </tr>\n",
              "  </thead>\n",
              "  <tbody>\n",
              "    <tr>\n",
              "      <th>0</th>\n",
              "      <td>536365</td>\n",
              "      <td>85123A</td>\n",
              "      <td>WHITE HANGING HEART T-LIGHT HOLDER</td>\n",
              "      <td>6</td>\n",
              "      <td>2010-12-01 08:26:00</td>\n",
              "      <td>2.55</td>\n",
              "      <td>17850.0</td>\n",
              "      <td>United Kingdom</td>\n",
              "    </tr>\n",
              "    <tr>\n",
              "      <th>1</th>\n",
              "      <td>536365</td>\n",
              "      <td>71053</td>\n",
              "      <td>WHITE METAL LANTERN</td>\n",
              "      <td>6</td>\n",
              "      <td>2010-12-01 08:26:00</td>\n",
              "      <td>3.39</td>\n",
              "      <td>17850.0</td>\n",
              "      <td>United Kingdom</td>\n",
              "    </tr>\n",
              "    <tr>\n",
              "      <th>2</th>\n",
              "      <td>536365</td>\n",
              "      <td>84406B</td>\n",
              "      <td>CREAM CUPID HEARTS COAT HANGER</td>\n",
              "      <td>8</td>\n",
              "      <td>2010-12-01 08:26:00</td>\n",
              "      <td>2.75</td>\n",
              "      <td>17850.0</td>\n",
              "      <td>United Kingdom</td>\n",
              "    </tr>\n",
              "    <tr>\n",
              "      <th>3</th>\n",
              "      <td>536365</td>\n",
              "      <td>84029G</td>\n",
              "      <td>KNITTED UNION FLAG HOT WATER BOTTLE</td>\n",
              "      <td>6</td>\n",
              "      <td>2010-12-01 08:26:00</td>\n",
              "      <td>3.39</td>\n",
              "      <td>17850.0</td>\n",
              "      <td>United Kingdom</td>\n",
              "    </tr>\n",
              "    <tr>\n",
              "      <th>4</th>\n",
              "      <td>536365</td>\n",
              "      <td>84029E</td>\n",
              "      <td>RED WOOLLY HOTTIE WHITE HEART.</td>\n",
              "      <td>6</td>\n",
              "      <td>2010-12-01 08:26:00</td>\n",
              "      <td>3.39</td>\n",
              "      <td>17850.0</td>\n",
              "      <td>United Kingdom</td>\n",
              "    </tr>\n",
              "    <tr>\n",
              "      <th>...</th>\n",
              "      <td>...</td>\n",
              "      <td>...</td>\n",
              "      <td>...</td>\n",
              "      <td>...</td>\n",
              "      <td>...</td>\n",
              "      <td>...</td>\n",
              "      <td>...</td>\n",
              "      <td>...</td>\n",
              "    </tr>\n",
              "    <tr>\n",
              "      <th>541904</th>\n",
              "      <td>581587</td>\n",
              "      <td>22613</td>\n",
              "      <td>PACK OF 20 SPACEBOY NAPKINS</td>\n",
              "      <td>12</td>\n",
              "      <td>2011-12-09 12:50:00</td>\n",
              "      <td>0.85</td>\n",
              "      <td>12680.0</td>\n",
              "      <td>France</td>\n",
              "    </tr>\n",
              "    <tr>\n",
              "      <th>541905</th>\n",
              "      <td>581587</td>\n",
              "      <td>22899</td>\n",
              "      <td>CHILDREN'S APRON DOLLY GIRL</td>\n",
              "      <td>6</td>\n",
              "      <td>2011-12-09 12:50:00</td>\n",
              "      <td>2.10</td>\n",
              "      <td>12680.0</td>\n",
              "      <td>France</td>\n",
              "    </tr>\n",
              "    <tr>\n",
              "      <th>541906</th>\n",
              "      <td>581587</td>\n",
              "      <td>23254</td>\n",
              "      <td>CHILDRENS CUTLERY DOLLY GIRL</td>\n",
              "      <td>4</td>\n",
              "      <td>2011-12-09 12:50:00</td>\n",
              "      <td>4.15</td>\n",
              "      <td>12680.0</td>\n",
              "      <td>France</td>\n",
              "    </tr>\n",
              "    <tr>\n",
              "      <th>541907</th>\n",
              "      <td>581587</td>\n",
              "      <td>23255</td>\n",
              "      <td>CHILDRENS CUTLERY CIRCUS PARADE</td>\n",
              "      <td>4</td>\n",
              "      <td>2011-12-09 12:50:00</td>\n",
              "      <td>4.15</td>\n",
              "      <td>12680.0</td>\n",
              "      <td>France</td>\n",
              "    </tr>\n",
              "    <tr>\n",
              "      <th>541908</th>\n",
              "      <td>581587</td>\n",
              "      <td>22138</td>\n",
              "      <td>BAKING SET 9 PIECE RETROSPOT</td>\n",
              "      <td>3</td>\n",
              "      <td>2011-12-09 12:50:00</td>\n",
              "      <td>4.95</td>\n",
              "      <td>12680.0</td>\n",
              "      <td>France</td>\n",
              "    </tr>\n",
              "  </tbody>\n",
              "</table>\n",
              "<p>541909 rows × 8 columns</p>\n",
              "</div>"
            ],
            "text/plain": [
              "       InvoiceNo StockCode  ... CustomerID         Country\n",
              "0         536365    85123A  ...    17850.0  United Kingdom\n",
              "1         536365     71053  ...    17850.0  United Kingdom\n",
              "2         536365    84406B  ...    17850.0  United Kingdom\n",
              "3         536365    84029G  ...    17850.0  United Kingdom\n",
              "4         536365    84029E  ...    17850.0  United Kingdom\n",
              "...          ...       ...  ...        ...             ...\n",
              "541904    581587     22613  ...    12680.0          France\n",
              "541905    581587     22899  ...    12680.0          France\n",
              "541906    581587     23254  ...    12680.0          France\n",
              "541907    581587     23255  ...    12680.0          France\n",
              "541908    581587     22138  ...    12680.0          France\n",
              "\n",
              "[541909 rows x 8 columns]"
            ]
          },
          "metadata": {
            "tags": []
          },
          "execution_count": 12
        }
      ]
    },
    {
      "cell_type": "code",
      "metadata": {
        "colab": {
          "base_uri": "https://localhost:8080/",
          "height": 202
        },
        "id": "2MJ74FeOt5em",
        "outputId": "7571f767-a23a-4f96-e308-1f5ba0765072"
      },
      "source": [
        "retail.tail(5)\n"
      ],
      "execution_count": 13,
      "outputs": [
        {
          "output_type": "execute_result",
          "data": {
            "text/html": [
              "<div>\n",
              "<style scoped>\n",
              "    .dataframe tbody tr th:only-of-type {\n",
              "        vertical-align: middle;\n",
              "    }\n",
              "\n",
              "    .dataframe tbody tr th {\n",
              "        vertical-align: top;\n",
              "    }\n",
              "\n",
              "    .dataframe thead th {\n",
              "        text-align: right;\n",
              "    }\n",
              "</style>\n",
              "<table border=\"1\" class=\"dataframe\">\n",
              "  <thead>\n",
              "    <tr style=\"text-align: right;\">\n",
              "      <th></th>\n",
              "      <th>InvoiceNo</th>\n",
              "      <th>StockCode</th>\n",
              "      <th>Description</th>\n",
              "      <th>Quantity</th>\n",
              "      <th>InvoiceDate</th>\n",
              "      <th>UnitPrice</th>\n",
              "      <th>CustomerID</th>\n",
              "      <th>Country</th>\n",
              "    </tr>\n",
              "  </thead>\n",
              "  <tbody>\n",
              "    <tr>\n",
              "      <th>541904</th>\n",
              "      <td>581587</td>\n",
              "      <td>22613</td>\n",
              "      <td>PACK OF 20 SPACEBOY NAPKINS</td>\n",
              "      <td>12</td>\n",
              "      <td>2011-12-09 12:50:00</td>\n",
              "      <td>0.85</td>\n",
              "      <td>12680.0</td>\n",
              "      <td>France</td>\n",
              "    </tr>\n",
              "    <tr>\n",
              "      <th>541905</th>\n",
              "      <td>581587</td>\n",
              "      <td>22899</td>\n",
              "      <td>CHILDREN'S APRON DOLLY GIRL</td>\n",
              "      <td>6</td>\n",
              "      <td>2011-12-09 12:50:00</td>\n",
              "      <td>2.10</td>\n",
              "      <td>12680.0</td>\n",
              "      <td>France</td>\n",
              "    </tr>\n",
              "    <tr>\n",
              "      <th>541906</th>\n",
              "      <td>581587</td>\n",
              "      <td>23254</td>\n",
              "      <td>CHILDRENS CUTLERY DOLLY GIRL</td>\n",
              "      <td>4</td>\n",
              "      <td>2011-12-09 12:50:00</td>\n",
              "      <td>4.15</td>\n",
              "      <td>12680.0</td>\n",
              "      <td>France</td>\n",
              "    </tr>\n",
              "    <tr>\n",
              "      <th>541907</th>\n",
              "      <td>581587</td>\n",
              "      <td>23255</td>\n",
              "      <td>CHILDRENS CUTLERY CIRCUS PARADE</td>\n",
              "      <td>4</td>\n",
              "      <td>2011-12-09 12:50:00</td>\n",
              "      <td>4.15</td>\n",
              "      <td>12680.0</td>\n",
              "      <td>France</td>\n",
              "    </tr>\n",
              "    <tr>\n",
              "      <th>541908</th>\n",
              "      <td>581587</td>\n",
              "      <td>22138</td>\n",
              "      <td>BAKING SET 9 PIECE RETROSPOT</td>\n",
              "      <td>3</td>\n",
              "      <td>2011-12-09 12:50:00</td>\n",
              "      <td>4.95</td>\n",
              "      <td>12680.0</td>\n",
              "      <td>France</td>\n",
              "    </tr>\n",
              "  </tbody>\n",
              "</table>\n",
              "</div>"
            ],
            "text/plain": [
              "       InvoiceNo StockCode  ... CustomerID  Country\n",
              "541904    581587     22613  ...    12680.0   France\n",
              "541905    581587     22899  ...    12680.0   France\n",
              "541906    581587     23254  ...    12680.0   France\n",
              "541907    581587     23255  ...    12680.0   France\n",
              "541908    581587     22138  ...    12680.0   France\n",
              "\n",
              "[5 rows x 8 columns]"
            ]
          },
          "metadata": {
            "tags": []
          },
          "execution_count": 13
        }
      ]
    },
    {
      "cell_type": "code",
      "metadata": {
        "colab": {
          "base_uri": "https://localhost:8080/",
          "height": 414
        },
        "id": "SaN1Ac_iWpQg",
        "outputId": "70e7bce4-1857-4adc-9b00-e4f7ad53a299"
      },
      "source": [
        "post_covid"
      ],
      "execution_count": 14,
      "outputs": [
        {
          "output_type": "execute_result",
          "data": {
            "text/html": [
              "<div>\n",
              "<style scoped>\n",
              "    .dataframe tbody tr th:only-of-type {\n",
              "        vertical-align: middle;\n",
              "    }\n",
              "\n",
              "    .dataframe tbody tr th {\n",
              "        vertical-align: top;\n",
              "    }\n",
              "\n",
              "    .dataframe thead th {\n",
              "        text-align: right;\n",
              "    }\n",
              "</style>\n",
              "<table border=\"1\" class=\"dataframe\">\n",
              "  <thead>\n",
              "    <tr style=\"text-align: right;\">\n",
              "      <th></th>\n",
              "      <th>S.No</th>\n",
              "      <th>Company</th>\n",
              "      <th>Country</th>\n",
              "      <th>Sector</th>\n",
              "      <th>Market cap ($bn)</th>\n",
              "      <th>Market cap added</th>\n",
              "      <th>Change</th>\n",
              "    </tr>\n",
              "  </thead>\n",
              "  <tbody>\n",
              "    <tr>\n",
              "      <th>0</th>\n",
              "      <td>1</td>\n",
              "      <td>Amazon</td>\n",
              "      <td>US</td>\n",
              "      <td>Consumer discretionary</td>\n",
              "      <td>1,317.30</td>\n",
              "      <td>401.1</td>\n",
              "      <td>43.8</td>\n",
              "    </tr>\n",
              "    <tr>\n",
              "      <th>1</th>\n",
              "      <td>2</td>\n",
              "      <td>Microsoft</td>\n",
              "      <td>US</td>\n",
              "      <td>Technology</td>\n",
              "      <td>1,473.00</td>\n",
              "      <td>269.9</td>\n",
              "      <td>22.4</td>\n",
              "    </tr>\n",
              "    <tr>\n",
              "      <th>2</th>\n",
              "      <td>3</td>\n",
              "      <td>Apple</td>\n",
              "      <td>US</td>\n",
              "      <td>Technology</td>\n",
              "      <td>1,523.90</td>\n",
              "      <td>219.1</td>\n",
              "      <td>16.8</td>\n",
              "    </tr>\n",
              "    <tr>\n",
              "      <th>3</th>\n",
              "      <td>4</td>\n",
              "      <td>Tesla</td>\n",
              "      <td>US</td>\n",
              "      <td>Consumer discretionary</td>\n",
              "      <td>183.8</td>\n",
              "      <td>108.4</td>\n",
              "      <td>143.8</td>\n",
              "    </tr>\n",
              "    <tr>\n",
              "      <th>4</th>\n",
              "      <td>5</td>\n",
              "      <td>Tencent</td>\n",
              "      <td>China</td>\n",
              "      <td>Communication services</td>\n",
              "      <td>550.9</td>\n",
              "      <td>93.1</td>\n",
              "      <td>20.3</td>\n",
              "    </tr>\n",
              "    <tr>\n",
              "      <th>...</th>\n",
              "      <td>...</td>\n",
              "      <td>...</td>\n",
              "      <td>...</td>\n",
              "      <td>...</td>\n",
              "      <td>...</td>\n",
              "      <td>...</td>\n",
              "      <td>...</td>\n",
              "    </tr>\n",
              "    <tr>\n",
              "      <th>95</th>\n",
              "      <td>96</td>\n",
              "      <td>Snap</td>\n",
              "      <td>US</td>\n",
              "      <td>Communication services</td>\n",
              "      <td>31.5</td>\n",
              "      <td>8.7</td>\n",
              "      <td>38.0</td>\n",
              "    </tr>\n",
              "    <tr>\n",
              "      <th>96</th>\n",
              "      <td>97</td>\n",
              "      <td>Changchun High &amp; New Technology Industry</td>\n",
              "      <td>China</td>\n",
              "      <td>Healthcare</td>\n",
              "      <td>21.5</td>\n",
              "      <td>8.5</td>\n",
              "      <td>65.2</td>\n",
              "    </tr>\n",
              "    <tr>\n",
              "      <th>97</th>\n",
              "      <td>98</td>\n",
              "      <td>Chewy</td>\n",
              "      <td>US</td>\n",
              "      <td>Consumer discretionary</td>\n",
              "      <td>19.9</td>\n",
              "      <td>8.3</td>\n",
              "      <td>72.2</td>\n",
              "    </tr>\n",
              "    <tr>\n",
              "      <th>98</th>\n",
              "      <td>99</td>\n",
              "      <td>GSX Techedu</td>\n",
              "      <td>China</td>\n",
              "      <td>Consumer discretionary</td>\n",
              "      <td>13.4</td>\n",
              "      <td>8.2</td>\n",
              "      <td>160.1</td>\n",
              "    </tr>\n",
              "    <tr>\n",
              "      <th>99</th>\n",
              "      <td>100</td>\n",
              "      <td>Teladoc Health</td>\n",
              "      <td>US</td>\n",
              "      <td>Healthcare</td>\n",
              "      <td>14.3</td>\n",
              "      <td>8.2</td>\n",
              "      <td>136.0</td>\n",
              "    </tr>\n",
              "  </tbody>\n",
              "</table>\n",
              "<p>100 rows × 7 columns</p>\n",
              "</div>"
            ],
            "text/plain": [
              "    S.No                                   Company  ... Market cap added Change\n",
              "0      1                                    Amazon  ...            401.1   43.8\n",
              "1      2                                 Microsoft  ...            269.9   22.4\n",
              "2      3                                     Apple  ...            219.1   16.8\n",
              "3      4                                     Tesla  ...            108.4  143.8\n",
              "4      5                                   Tencent  ...             93.1   20.3\n",
              "..   ...                                       ...  ...              ...    ...\n",
              "95    96                                      Snap  ...              8.7   38.0\n",
              "96    97  Changchun High & New Technology Industry  ...              8.5   65.2\n",
              "97    98                                     Chewy  ...              8.3   72.2\n",
              "98    99                               GSX Techedu  ...              8.2  160.1\n",
              "99   100                            Teladoc Health  ...              8.2  136.0\n",
              "\n",
              "[100 rows x 7 columns]"
            ]
          },
          "metadata": {
            "tags": []
          },
          "execution_count": 14
        }
      ]
    },
    {
      "cell_type": "code",
      "metadata": {
        "colab": {
          "base_uri": "https://localhost:8080/",
          "height": 914
        },
        "id": "piRBMh7PE2GI",
        "outputId": "14c438bd-6d8e-4819-83c1-24a27ecb4475"
      },
      "source": [
        "market = pd.merge(retail,post_covid)\n",
        "market"
      ],
      "execution_count": 15,
      "outputs": [
        {
          "output_type": "execute_result",
          "data": {
            "text/html": [
              "<div>\n",
              "<style scoped>\n",
              "    .dataframe tbody tr th:only-of-type {\n",
              "        vertical-align: middle;\n",
              "    }\n",
              "\n",
              "    .dataframe tbody tr th {\n",
              "        vertical-align: top;\n",
              "    }\n",
              "\n",
              "    .dataframe thead th {\n",
              "        text-align: right;\n",
              "    }\n",
              "</style>\n",
              "<table border=\"1\" class=\"dataframe\">\n",
              "  <thead>\n",
              "    <tr style=\"text-align: right;\">\n",
              "      <th></th>\n",
              "      <th>InvoiceNo</th>\n",
              "      <th>StockCode</th>\n",
              "      <th>Description</th>\n",
              "      <th>Quantity</th>\n",
              "      <th>InvoiceDate</th>\n",
              "      <th>UnitPrice</th>\n",
              "      <th>CustomerID</th>\n",
              "      <th>Country</th>\n",
              "      <th>S.No</th>\n",
              "      <th>Company</th>\n",
              "      <th>Sector</th>\n",
              "      <th>Market cap ($bn)</th>\n",
              "      <th>Market cap added</th>\n",
              "      <th>Change</th>\n",
              "    </tr>\n",
              "  </thead>\n",
              "  <tbody>\n",
              "    <tr>\n",
              "      <th>0</th>\n",
              "      <td>536370</td>\n",
              "      <td>22728</td>\n",
              "      <td>ALARM CLOCK BAKELIKE PINK</td>\n",
              "      <td>24</td>\n",
              "      <td>2010-12-01 08:45:00</td>\n",
              "      <td>3.75</td>\n",
              "      <td>12583.0</td>\n",
              "      <td>France</td>\n",
              "      <td>75</td>\n",
              "      <td>Hermès International</td>\n",
              "      <td>Consumer discretionary</td>\n",
              "      <td>88.2</td>\n",
              "      <td>10.6</td>\n",
              "      <td>13.7</td>\n",
              "    </tr>\n",
              "    <tr>\n",
              "      <th>1</th>\n",
              "      <td>536370</td>\n",
              "      <td>22728</td>\n",
              "      <td>ALARM CLOCK BAKELIKE PINK</td>\n",
              "      <td>24</td>\n",
              "      <td>2010-12-01 08:45:00</td>\n",
              "      <td>3.75</td>\n",
              "      <td>12583.0</td>\n",
              "      <td>France</td>\n",
              "      <td>95</td>\n",
              "      <td>L'Oréal</td>\n",
              "      <td>Consumer staples</td>\n",
              "      <td>173.4</td>\n",
              "      <td>8.8</td>\n",
              "      <td>5.3</td>\n",
              "    </tr>\n",
              "    <tr>\n",
              "      <th>2</th>\n",
              "      <td>536370</td>\n",
              "      <td>22727</td>\n",
              "      <td>ALARM CLOCK BAKELIKE RED</td>\n",
              "      <td>24</td>\n",
              "      <td>2010-12-01 08:45:00</td>\n",
              "      <td>3.75</td>\n",
              "      <td>12583.0</td>\n",
              "      <td>France</td>\n",
              "      <td>75</td>\n",
              "      <td>Hermès International</td>\n",
              "      <td>Consumer discretionary</td>\n",
              "      <td>88.2</td>\n",
              "      <td>10.6</td>\n",
              "      <td>13.7</td>\n",
              "    </tr>\n",
              "    <tr>\n",
              "      <th>3</th>\n",
              "      <td>536370</td>\n",
              "      <td>22727</td>\n",
              "      <td>ALARM CLOCK BAKELIKE RED</td>\n",
              "      <td>24</td>\n",
              "      <td>2010-12-01 08:45:00</td>\n",
              "      <td>3.75</td>\n",
              "      <td>12583.0</td>\n",
              "      <td>France</td>\n",
              "      <td>95</td>\n",
              "      <td>L'Oréal</td>\n",
              "      <td>Consumer staples</td>\n",
              "      <td>173.4</td>\n",
              "      <td>8.8</td>\n",
              "      <td>5.3</td>\n",
              "    </tr>\n",
              "    <tr>\n",
              "      <th>4</th>\n",
              "      <td>536370</td>\n",
              "      <td>22726</td>\n",
              "      <td>ALARM CLOCK BAKELIKE GREEN</td>\n",
              "      <td>12</td>\n",
              "      <td>2010-12-01 08:45:00</td>\n",
              "      <td>3.75</td>\n",
              "      <td>12583.0</td>\n",
              "      <td>France</td>\n",
              "      <td>75</td>\n",
              "      <td>Hermès International</td>\n",
              "      <td>Consumer discretionary</td>\n",
              "      <td>88.2</td>\n",
              "      <td>10.6</td>\n",
              "      <td>13.7</td>\n",
              "    </tr>\n",
              "    <tr>\n",
              "      <th>...</th>\n",
              "      <td>...</td>\n",
              "      <td>...</td>\n",
              "      <td>...</td>\n",
              "      <td>...</td>\n",
              "      <td>...</td>\n",
              "      <td>...</td>\n",
              "      <td>...</td>\n",
              "      <td>...</td>\n",
              "      <td>...</td>\n",
              "      <td>...</td>\n",
              "      <td>...</td>\n",
              "      <td>...</td>\n",
              "      <td>...</td>\n",
              "      <td>...</td>\n",
              "    </tr>\n",
              "    <tr>\n",
              "      <th>48619</th>\n",
              "      <td>564428</td>\n",
              "      <td>23296</td>\n",
              "      <td>SET OF 6 TEA TIME BAKING CASES</td>\n",
              "      <td>8</td>\n",
              "      <td>2011-08-25 11:27:00</td>\n",
              "      <td>1.25</td>\n",
              "      <td>17844.0</td>\n",
              "      <td>Canada</td>\n",
              "      <td>81</td>\n",
              "      <td>Barrick Gold</td>\n",
              "      <td>Materials</td>\n",
              "      <td>43.1</td>\n",
              "      <td>10.1</td>\n",
              "      <td>30.7</td>\n",
              "    </tr>\n",
              "    <tr>\n",
              "      <th>48620</th>\n",
              "      <td>564428</td>\n",
              "      <td>23296</td>\n",
              "      <td>SET OF 6 TEA TIME BAKING CASES</td>\n",
              "      <td>8</td>\n",
              "      <td>2011-08-25 11:27:00</td>\n",
              "      <td>1.25</td>\n",
              "      <td>17844.0</td>\n",
              "      <td>Canada</td>\n",
              "      <td>87</td>\n",
              "      <td>Lululemon Athletica</td>\n",
              "      <td>Consumer discretionary</td>\n",
              "      <td>39.5</td>\n",
              "      <td>9.4</td>\n",
              "      <td>31.0</td>\n",
              "    </tr>\n",
              "    <tr>\n",
              "      <th>48621</th>\n",
              "      <td>564428</td>\n",
              "      <td>23294</td>\n",
              "      <td>SET OF 6 SNACK LOAF BAKING CASES</td>\n",
              "      <td>8</td>\n",
              "      <td>2011-08-25 11:27:00</td>\n",
              "      <td>0.83</td>\n",
              "      <td>17844.0</td>\n",
              "      <td>Canada</td>\n",
              "      <td>14</td>\n",
              "      <td>Shopify</td>\n",
              "      <td>Technology</td>\n",
              "      <td>97.6</td>\n",
              "      <td>51.5</td>\n",
              "      <td>111.7</td>\n",
              "    </tr>\n",
              "    <tr>\n",
              "      <th>48622</th>\n",
              "      <td>564428</td>\n",
              "      <td>23294</td>\n",
              "      <td>SET OF 6 SNACK LOAF BAKING CASES</td>\n",
              "      <td>8</td>\n",
              "      <td>2011-08-25 11:27:00</td>\n",
              "      <td>0.83</td>\n",
              "      <td>17844.0</td>\n",
              "      <td>Canada</td>\n",
              "      <td>81</td>\n",
              "      <td>Barrick Gold</td>\n",
              "      <td>Materials</td>\n",
              "      <td>43.1</td>\n",
              "      <td>10.1</td>\n",
              "      <td>30.7</td>\n",
              "    </tr>\n",
              "    <tr>\n",
              "      <th>48623</th>\n",
              "      <td>564428</td>\n",
              "      <td>23294</td>\n",
              "      <td>SET OF 6 SNACK LOAF BAKING CASES</td>\n",
              "      <td>8</td>\n",
              "      <td>2011-08-25 11:27:00</td>\n",
              "      <td>0.83</td>\n",
              "      <td>17844.0</td>\n",
              "      <td>Canada</td>\n",
              "      <td>87</td>\n",
              "      <td>Lululemon Athletica</td>\n",
              "      <td>Consumer discretionary</td>\n",
              "      <td>39.5</td>\n",
              "      <td>9.4</td>\n",
              "      <td>31.0</td>\n",
              "    </tr>\n",
              "  </tbody>\n",
              "</table>\n",
              "<p>48624 rows × 14 columns</p>\n",
              "</div>"
            ],
            "text/plain": [
              "      InvoiceNo StockCode  ... Market cap added  Change\n",
              "0        536370     22728  ...             10.6    13.7\n",
              "1        536370     22728  ...              8.8     5.3\n",
              "2        536370     22727  ...             10.6    13.7\n",
              "3        536370     22727  ...              8.8     5.3\n",
              "4        536370     22726  ...             10.6    13.7\n",
              "...         ...       ...  ...              ...     ...\n",
              "48619    564428     23296  ...             10.1    30.7\n",
              "48620    564428     23296  ...              9.4    31.0\n",
              "48621    564428     23294  ...             51.5   111.7\n",
              "48622    564428     23294  ...             10.1    30.7\n",
              "48623    564428     23294  ...              9.4    31.0\n",
              "\n",
              "[48624 rows x 14 columns]"
            ]
          },
          "metadata": {
            "tags": []
          },
          "execution_count": 15
        }
      ]
    },
    {
      "cell_type": "markdown",
      "metadata": {
        "id": "OngKEONmLX8w"
      },
      "source": [
        "# Initial Data Analysis:\n",
        "\n",
        "> 1) Quality of data:\n",
        "\n",
        "*    Frequency counts:\n",
        "     The given dataset of covid-19 has got Structured and Unstructured data.\n",
        "     It has got numeric(integer,float),Boolean(0,1) and strings i.e sequence\n",
        "     of symbols kind of values in the data columns.\n",
        "*    Discriptive/ Summary statistics.\n",
        "      (mean,median,standard deviation, max,min,etc.)\n",
        "\n",
        "*    Normality(frequency histograms)\n",
        "  \n",
        "> 2) Quality of Measurements,if applicable\n",
        "\n",
        "> 3) Data Transformation: data transpose,data type change,sorting,deletion,etc.\n"
      ]
    },
    {
      "cell_type": "markdown",
      "metadata": {
        "id": "stKlr5_oQljF"
      },
      "source": [
        "## 1) Quality of data:\n"
      ]
    },
    {
      "cell_type": "code",
      "metadata": {
        "id": "bMVoSMQVLXmc",
        "colab": {
          "base_uri": "https://localhost:8080/"
        },
        "outputId": "a433fe1c-d72f-435e-ebd0-630b8e68c8c2"
      },
      "source": [
        "# a) checking the Datatypes frequency: \n",
        "market.info() # Gives the information about Index, Datatype and Memory information."
      ],
      "execution_count": 16,
      "outputs": [
        {
          "output_type": "stream",
          "text": [
            "<class 'pandas.core.frame.DataFrame'>\n",
            "Int64Index: 48624 entries, 0 to 48623\n",
            "Data columns (total 14 columns):\n",
            " #   Column            Non-Null Count  Dtype         \n",
            "---  ------            --------------  -----         \n",
            " 0   InvoiceNo         48624 non-null  object        \n",
            " 1   StockCode         48624 non-null  object        \n",
            " 2   Description       48624 non-null  object        \n",
            " 3   Quantity          48624 non-null  int64         \n",
            " 4   InvoiceDate       48624 non-null  datetime64[ns]\n",
            " 5   UnitPrice         48624 non-null  float64       \n",
            " 6   CustomerID        47829 non-null  float64       \n",
            " 7   Country           48624 non-null  object        \n",
            " 8   S.No              48624 non-null  int64         \n",
            " 9   Company           48624 non-null  object        \n",
            " 10  Sector            48624 non-null  object        \n",
            " 11  Market cap ($bn)  48624 non-null  object        \n",
            " 12  Market cap added  48624 non-null  float64       \n",
            " 13  Change            48624 non-null  float64       \n",
            "dtypes: datetime64[ns](1), float64(4), int64(2), object(7)\n",
            "memory usage: 5.6+ MB\n"
          ],
          "name": "stdout"
        }
      ]
    },
    {
      "cell_type": "code",
      "metadata": {
        "id": "nFCylR_eQ3nh",
        "colab": {
          "base_uri": "https://localhost:8080/"
        },
        "outputId": "1e1c31a5-777c-4b96-901c-2f8743e0fab4"
      },
      "source": [
        "market.count() # returns the value of non-null values in each Dataframe(market)"
      ],
      "execution_count": 17,
      "outputs": [
        {
          "output_type": "execute_result",
          "data": {
            "text/plain": [
              "InvoiceNo           48624\n",
              "StockCode           48624\n",
              "Description         48624\n",
              "Quantity            48624\n",
              "InvoiceDate         48624\n",
              "UnitPrice           48624\n",
              "CustomerID          47829\n",
              "Country             48624\n",
              "S.No                48624\n",
              "Company             48624\n",
              "Sector              48624\n",
              "Market cap ($bn)    48624\n",
              "Market cap added    48624\n",
              "Change              48624\n",
              "dtype: int64"
            ]
          },
          "metadata": {
            "tags": []
          },
          "execution_count": 17
        }
      ]
    },
    {
      "cell_type": "code",
      "metadata": {
        "id": "W_xE4RF6REHh",
        "colab": {
          "base_uri": "https://localhost:8080/",
          "height": 294
        },
        "outputId": "383b7619-29ff-4612-eff5-003ba8d41739"
      },
      "source": [
        "# b) Descriptive/ Summary Statistics(mean,meadian,standard deviation,max,min,etc)\n",
        "market.describe() # gives Summary staistics for numerical columns"
      ],
      "execution_count": 18,
      "outputs": [
        {
          "output_type": "execute_result",
          "data": {
            "text/html": [
              "<div>\n",
              "<style scoped>\n",
              "    .dataframe tbody tr th:only-of-type {\n",
              "        vertical-align: middle;\n",
              "    }\n",
              "\n",
              "    .dataframe tbody tr th {\n",
              "        vertical-align: top;\n",
              "    }\n",
              "\n",
              "    .dataframe thead th {\n",
              "        text-align: right;\n",
              "    }\n",
              "</style>\n",
              "<table border=\"1\" class=\"dataframe\">\n",
              "  <thead>\n",
              "    <tr style=\"text-align: right;\">\n",
              "      <th></th>\n",
              "      <th>Quantity</th>\n",
              "      <th>UnitPrice</th>\n",
              "      <th>CustomerID</th>\n",
              "      <th>S.No</th>\n",
              "      <th>Market cap added</th>\n",
              "      <th>Change</th>\n",
              "    </tr>\n",
              "  </thead>\n",
              "  <tbody>\n",
              "    <tr>\n",
              "      <th>count</th>\n",
              "      <td>48624.000000</td>\n",
              "      <td>48624.000000</td>\n",
              "      <td>47829.000000</td>\n",
              "      <td>48624.000000</td>\n",
              "      <td>48624.000000</td>\n",
              "      <td>48624.000000</td>\n",
              "    </tr>\n",
              "    <tr>\n",
              "      <th>mean</th>\n",
              "      <td>33.963619</td>\n",
              "      <td>4.653855</td>\n",
              "      <td>13161.048297</td>\n",
              "      <td>56.485830</td>\n",
              "      <td>18.868104</td>\n",
              "      <td>43.640058</td>\n",
              "    </tr>\n",
              "    <tr>\n",
              "      <th>std</th>\n",
              "      <td>73.552953</td>\n",
              "      <td>64.830839</td>\n",
              "      <td>995.588752</td>\n",
              "      <td>30.563052</td>\n",
              "      <td>11.334199</td>\n",
              "      <td>45.999461</td>\n",
              "    </tr>\n",
              "    <tr>\n",
              "      <th>min</th>\n",
              "      <td>-624.000000</td>\n",
              "      <td>0.000000</td>\n",
              "      <td>12357.000000</td>\n",
              "      <td>14.000000</td>\n",
              "      <td>8.800000</td>\n",
              "      <td>4.500000</td>\n",
              "    </tr>\n",
              "    <tr>\n",
              "      <th>25%</th>\n",
              "      <td>6.000000</td>\n",
              "      <td>1.050000</td>\n",
              "      <td>12532.000000</td>\n",
              "      <td>25.000000</td>\n",
              "      <td>9.000000</td>\n",
              "      <td>6.500000</td>\n",
              "    </tr>\n",
              "    <tr>\n",
              "      <th>50%</th>\n",
              "      <td>12.000000</td>\n",
              "      <td>1.650000</td>\n",
              "      <td>12681.000000</td>\n",
              "      <td>62.000000</td>\n",
              "      <td>11.600000</td>\n",
              "      <td>20.400000</td>\n",
              "    </tr>\n",
              "    <tr>\n",
              "      <th>75%</th>\n",
              "      <td>25.000000</td>\n",
              "      <td>3.350000</td>\n",
              "      <td>13813.000000</td>\n",
              "      <td>92.000000</td>\n",
              "      <td>27.300000</td>\n",
              "      <td>98.400000</td>\n",
              "    </tr>\n",
              "    <tr>\n",
              "      <th>max</th>\n",
              "      <td>2400.000000</td>\n",
              "      <td>4161.060000</td>\n",
              "      <td>17844.000000</td>\n",
              "      <td>95.000000</td>\n",
              "      <td>51.500000</td>\n",
              "      <td>171.100000</td>\n",
              "    </tr>\n",
              "  </tbody>\n",
              "</table>\n",
              "</div>"
            ],
            "text/plain": [
              "           Quantity     UnitPrice  ...  Market cap added        Change\n",
              "count  48624.000000  48624.000000  ...      48624.000000  48624.000000\n",
              "mean      33.963619      4.653855  ...         18.868104     43.640058\n",
              "std       73.552953     64.830839  ...         11.334199     45.999461\n",
              "min     -624.000000      0.000000  ...          8.800000      4.500000\n",
              "25%        6.000000      1.050000  ...          9.000000      6.500000\n",
              "50%       12.000000      1.650000  ...         11.600000     20.400000\n",
              "75%       25.000000      3.350000  ...         27.300000     98.400000\n",
              "max     2400.000000   4161.060000  ...         51.500000    171.100000\n",
              "\n",
              "[8 rows x 6 columns]"
            ]
          },
          "metadata": {
            "tags": []
          },
          "execution_count": 18
        }
      ]
    },
    {
      "cell_type": "code",
      "metadata": {
        "id": "SMVVVoaHRjE8",
        "colab": {
          "base_uri": "https://localhost:8080/",
          "height": 410
        },
        "outputId": "29b82b6d-fae2-426a-b2ec-41d292a05ed6"
      },
      "source": [
        "# c) Normality(frequency histograms)\n",
        "market.describe().plot.hist(bins=10,figsize=[13,6])\n",
        "plt.title('Frequency Histogram',fontsize=16)"
      ],
      "execution_count": 19,
      "outputs": [
        {
          "output_type": "execute_result",
          "data": {
            "text/plain": [
              "Text(0.5, 1.0, 'Frequency Histogram')"
            ]
          },
          "metadata": {
            "tags": []
          },
          "execution_count": 19
        },
        {
          "output_type": "display_data",
          "data": {
            "image/png": "[encoded data removed]",
            "text/plain": [
              "<Figure size 936x432 with 1 Axes>"
            ]
          },
          "metadata": {
            "tags": [],
            "needs_background": "light"
          }
        }
      ]
    },
    {
      "cell_type": "code",
      "metadata": {
        "id": "_LElbVT3SGBy",
        "colab": {
          "base_uri": "https://localhost:8080/"
        },
        "outputId": "0e30ad22-1666-4011-f3a8-e0f7e2384544"
      },
      "source": [
        "market.equals(market)"
      ],
      "execution_count": 20,
      "outputs": [
        {
          "output_type": "execute_result",
          "data": {
            "text/plain": [
              "True"
            ]
          },
          "metadata": {
            "tags": []
          },
          "execution_count": 20
        }
      ]
    },
    {
      "cell_type": "code",
      "metadata": {
        "id": "KwfTgrtySoSK",
        "colab": {
          "base_uri": "https://localhost:8080/"
        },
        "outputId": "1ab5f024-0782-4ef4-bc82-76eea506674e"
      },
      "source": [
        "market.index"
      ],
      "execution_count": 21,
      "outputs": [
        {
          "output_type": "execute_result",
          "data": {
            "text/plain": [
              "Int64Index([    0,     1,     2,     3,     4,     5,     6,     7,     8,\n",
              "                9,\n",
              "            ...\n",
              "            48614, 48615, 48616, 48617, 48618, 48619, 48620, 48621, 48622,\n",
              "            48623],\n",
              "           dtype='int64', length=48624)"
            ]
          },
          "metadata": {
            "tags": []
          },
          "execution_count": 21
        }
      ]
    },
    {
      "cell_type": "code",
      "metadata": {
        "id": "mA9LJ5xWStn8",
        "colab": {
          "base_uri": "https://localhost:8080/"
        },
        "outputId": "a1508a7d-002c-48b7-ac92-ddee00509739"
      },
      "source": [
        "market.shape"
      ],
      "execution_count": 22,
      "outputs": [
        {
          "output_type": "execute_result",
          "data": {
            "text/plain": [
              "(48624, 14)"
            ]
          },
          "metadata": {
            "tags": []
          },
          "execution_count": 22
        }
      ]
    },
    {
      "cell_type": "code",
      "metadata": {
        "id": "PM-W-3kqSwpB",
        "colab": {
          "base_uri": "https://localhost:8080/",
          "height": 431
        },
        "outputId": "922abbdc-e3d3-4c92-b70e-db755aa124e7"
      },
      "source": [
        "market.isna()"
      ],
      "execution_count": 23,
      "outputs": [
        {
          "output_type": "execute_result",
          "data": {
            "text/html": [
              "<div>\n",
              "<style scoped>\n",
              "    .dataframe tbody tr th:only-of-type {\n",
              "        vertical-align: middle;\n",
              "    }\n",
              "\n",
              "    .dataframe tbody tr th {\n",
              "        vertical-align: top;\n",
              "    }\n",
              "\n",
              "    .dataframe thead th {\n",
              "        text-align: right;\n",
              "    }\n",
              "</style>\n",
              "<table border=\"1\" class=\"dataframe\">\n",
              "  <thead>\n",
              "    <tr style=\"text-align: right;\">\n",
              "      <th></th>\n",
              "      <th>InvoiceNo</th>\n",
              "      <th>StockCode</th>\n",
              "      <th>Description</th>\n",
              "      <th>Quantity</th>\n",
              "      <th>InvoiceDate</th>\n",
              "      <th>UnitPrice</th>\n",
              "      <th>CustomerID</th>\n",
              "      <th>Country</th>\n",
              "      <th>S.No</th>\n",
              "      <th>Company</th>\n",
              "      <th>Sector</th>\n",
              "      <th>Market cap ($bn)</th>\n",
              "      <th>Market cap added</th>\n",
              "      <th>Change</th>\n",
              "    </tr>\n",
              "  </thead>\n",
              "  <tbody>\n",
              "    <tr>\n",
              "      <th>0</th>\n",
              "      <td>False</td>\n",
              "      <td>False</td>\n",
              "      <td>False</td>\n",
              "      <td>False</td>\n",
              "      <td>False</td>\n",
              "      <td>False</td>\n",
              "      <td>False</td>\n",
              "      <td>False</td>\n",
              "      <td>False</td>\n",
              "      <td>False</td>\n",
              "      <td>False</td>\n",
              "      <td>False</td>\n",
              "      <td>False</td>\n",
              "      <td>False</td>\n",
              "    </tr>\n",
              "    <tr>\n",
              "      <th>1</th>\n",
              "      <td>False</td>\n",
              "      <td>False</td>\n",
              "      <td>False</td>\n",
              "      <td>False</td>\n",
              "      <td>False</td>\n",
              "      <td>False</td>\n",
              "      <td>False</td>\n",
              "      <td>False</td>\n",
              "      <td>False</td>\n",
              "      <td>False</td>\n",
              "      <td>False</td>\n",
              "      <td>False</td>\n",
              "      <td>False</td>\n",
              "      <td>False</td>\n",
              "    </tr>\n",
              "    <tr>\n",
              "      <th>2</th>\n",
              "      <td>False</td>\n",
              "      <td>False</td>\n",
              "      <td>False</td>\n",
              "      <td>False</td>\n",
              "      <td>False</td>\n",
              "      <td>False</td>\n",
              "      <td>False</td>\n",
              "      <td>False</td>\n",
              "      <td>False</td>\n",
              "      <td>False</td>\n",
              "      <td>False</td>\n",
              "      <td>False</td>\n",
              "      <td>False</td>\n",
              "      <td>False</td>\n",
              "    </tr>\n",
              "    <tr>\n",
              "      <th>3</th>\n",
              "      <td>False</td>\n",
              "      <td>False</td>\n",
              "      <td>False</td>\n",
              "      <td>False</td>\n",
              "      <td>False</td>\n",
              "      <td>False</td>\n",
              "      <td>False</td>\n",
              "      <td>False</td>\n",
              "      <td>False</td>\n",
              "      <td>False</td>\n",
              "      <td>False</td>\n",
              "      <td>False</td>\n",
              "      <td>False</td>\n",
              "      <td>False</td>\n",
              "    </tr>\n",
              "    <tr>\n",
              "      <th>4</th>\n",
              "      <td>False</td>\n",
              "      <td>False</td>\n",
              "      <td>False</td>\n",
              "      <td>False</td>\n",
              "      <td>False</td>\n",
              "      <td>False</td>\n",
              "      <td>False</td>\n",
              "      <td>False</td>\n",
              "      <td>False</td>\n",
              "      <td>False</td>\n",
              "      <td>False</td>\n",
              "      <td>False</td>\n",
              "      <td>False</td>\n",
              "      <td>False</td>\n",
              "    </tr>\n",
              "    <tr>\n",
              "      <th>...</th>\n",
              "      <td>...</td>\n",
              "      <td>...</td>\n",
              "      <td>...</td>\n",
              "      <td>...</td>\n",
              "      <td>...</td>\n",
              "      <td>...</td>\n",
              "      <td>...</td>\n",
              "      <td>...</td>\n",
              "      <td>...</td>\n",
              "      <td>...</td>\n",
              "      <td>...</td>\n",
              "      <td>...</td>\n",
              "      <td>...</td>\n",
              "      <td>...</td>\n",
              "    </tr>\n",
              "    <tr>\n",
              "      <th>48619</th>\n",
              "      <td>False</td>\n",
              "      <td>False</td>\n",
              "      <td>False</td>\n",
              "      <td>False</td>\n",
              "      <td>False</td>\n",
              "      <td>False</td>\n",
              "      <td>False</td>\n",
              "      <td>False</td>\n",
              "      <td>False</td>\n",
              "      <td>False</td>\n",
              "      <td>False</td>\n",
              "      <td>False</td>\n",
              "      <td>False</td>\n",
              "      <td>False</td>\n",
              "    </tr>\n",
              "    <tr>\n",
              "      <th>48620</th>\n",
              "      <td>False</td>\n",
              "      <td>False</td>\n",
              "      <td>False</td>\n",
              "      <td>False</td>\n",
              "      <td>False</td>\n",
              "      <td>False</td>\n",
              "      <td>False</td>\n",
              "      <td>False</td>\n",
              "      <td>False</td>\n",
              "      <td>False</td>\n",
              "      <td>False</td>\n",
              "      <td>False</td>\n",
              "      <td>False</td>\n",
              "      <td>False</td>\n",
              "    </tr>\n",
              "    <tr>\n",
              "      <th>48621</th>\n",
              "      <td>False</td>\n",
              "      <td>False</td>\n",
              "      <td>False</td>\n",
              "      <td>False</td>\n",
              "      <td>False</td>\n",
              "      <td>False</td>\n",
              "      <td>False</td>\n",
              "      <td>False</td>\n",
              "      <td>False</td>\n",
              "      <td>False</td>\n",
              "      <td>False</td>\n",
              "      <td>False</td>\n",
              "      <td>False</td>\n",
              "      <td>False</td>\n",
              "    </tr>\n",
              "    <tr>\n",
              "      <th>48622</th>\n",
              "      <td>False</td>\n",
              "      <td>False</td>\n",
              "      <td>False</td>\n",
              "      <td>False</td>\n",
              "      <td>False</td>\n",
              "      <td>False</td>\n",
              "      <td>False</td>\n",
              "      <td>False</td>\n",
              "      <td>False</td>\n",
              "      <td>False</td>\n",
              "      <td>False</td>\n",
              "      <td>False</td>\n",
              "      <td>False</td>\n",
              "      <td>False</td>\n",
              "    </tr>\n",
              "    <tr>\n",
              "      <th>48623</th>\n",
              "      <td>False</td>\n",
              "      <td>False</td>\n",
              "      <td>False</td>\n",
              "      <td>False</td>\n",
              "      <td>False</td>\n",
              "      <td>False</td>\n",
              "      <td>False</td>\n",
              "      <td>False</td>\n",
              "      <td>False</td>\n",
              "      <td>False</td>\n",
              "      <td>False</td>\n",
              "      <td>False</td>\n",
              "      <td>False</td>\n",
              "      <td>False</td>\n",
              "    </tr>\n",
              "  </tbody>\n",
              "</table>\n",
              "<p>48624 rows × 14 columns</p>\n",
              "</div>"
            ],
            "text/plain": [
              "       InvoiceNo  StockCode  ...  Market cap added  Change\n",
              "0          False      False  ...             False   False\n",
              "1          False      False  ...             False   False\n",
              "2          False      False  ...             False   False\n",
              "3          False      False  ...             False   False\n",
              "4          False      False  ...             False   False\n",
              "...          ...        ...  ...               ...     ...\n",
              "48619      False      False  ...             False   False\n",
              "48620      False      False  ...             False   False\n",
              "48621      False      False  ...             False   False\n",
              "48622      False      False  ...             False   False\n",
              "48623      False      False  ...             False   False\n",
              "\n",
              "[48624 rows x 14 columns]"
            ]
          },
          "metadata": {
            "tags": []
          },
          "execution_count": 23
        }
      ]
    },
    {
      "cell_type": "markdown",
      "metadata": {
        "id": "-Nt3RXohkJ_C"
      },
      "source": [
        "#Data Cleaning\n"
      ]
    },
    {
      "cell_type": "code",
      "metadata": {
        "id": "23yqaV3oS8N7",
        "colab": {
          "base_uri": "https://localhost:8080/",
          "height": 881
        },
        "outputId": "0a1494a5-0eda-4b85-d8b1-58d7d4d074d5"
      },
      "source": [
        "# find duplicates\n",
        "market[market.duplicated()] \n",
        "# the o/p shows there are duplicates"
      ],
      "execution_count": 24,
      "outputs": [
        {
          "output_type": "execute_result",
          "data": {
            "text/html": [
              "<div>\n",
              "<style scoped>\n",
              "    .dataframe tbody tr th:only-of-type {\n",
              "        vertical-align: middle;\n",
              "    }\n",
              "\n",
              "    .dataframe tbody tr th {\n",
              "        vertical-align: top;\n",
              "    }\n",
              "\n",
              "    .dataframe thead th {\n",
              "        text-align: right;\n",
              "    }\n",
              "</style>\n",
              "<table border=\"1\" class=\"dataframe\">\n",
              "  <thead>\n",
              "    <tr style=\"text-align: right;\">\n",
              "      <th></th>\n",
              "      <th>InvoiceNo</th>\n",
              "      <th>StockCode</th>\n",
              "      <th>Description</th>\n",
              "      <th>Quantity</th>\n",
              "      <th>InvoiceDate</th>\n",
              "      <th>UnitPrice</th>\n",
              "      <th>CustomerID</th>\n",
              "      <th>Country</th>\n",
              "      <th>S.No</th>\n",
              "      <th>Company</th>\n",
              "      <th>Sector</th>\n",
              "      <th>Market cap ($bn)</th>\n",
              "      <th>Market cap added</th>\n",
              "      <th>Change</th>\n",
              "    </tr>\n",
              "  </thead>\n",
              "  <tbody>\n",
              "    <tr>\n",
              "      <th>3568</th>\n",
              "      <td>547194</td>\n",
              "      <td>22554</td>\n",
              "      <td>PLASTERS IN TIN WOODLAND ANIMALS</td>\n",
              "      <td>1</td>\n",
              "      <td>2011-03-21 12:42:00</td>\n",
              "      <td>1.65</td>\n",
              "      <td>12637.0</td>\n",
              "      <td>France</td>\n",
              "      <td>75</td>\n",
              "      <td>Hermès International</td>\n",
              "      <td>Consumer discretionary</td>\n",
              "      <td>88.2</td>\n",
              "      <td>10.6</td>\n",
              "      <td>13.7</td>\n",
              "    </tr>\n",
              "    <tr>\n",
              "      <th>3569</th>\n",
              "      <td>547194</td>\n",
              "      <td>22554</td>\n",
              "      <td>PLASTERS IN TIN WOODLAND ANIMALS</td>\n",
              "      <td>1</td>\n",
              "      <td>2011-03-21 12:42:00</td>\n",
              "      <td>1.65</td>\n",
              "      <td>12637.0</td>\n",
              "      <td>France</td>\n",
              "      <td>95</td>\n",
              "      <td>L'Oréal</td>\n",
              "      <td>Consumer staples</td>\n",
              "      <td>173.4</td>\n",
              "      <td>8.8</td>\n",
              "      <td>5.3</td>\n",
              "    </tr>\n",
              "    <tr>\n",
              "      <th>3614</th>\n",
              "      <td>547194</td>\n",
              "      <td>22895</td>\n",
              "      <td>SET OF 2 TEA TOWELS APPLE AND PEARS</td>\n",
              "      <td>1</td>\n",
              "      <td>2011-03-21 12:42:00</td>\n",
              "      <td>2.95</td>\n",
              "      <td>12637.0</td>\n",
              "      <td>France</td>\n",
              "      <td>75</td>\n",
              "      <td>Hermès International</td>\n",
              "      <td>Consumer discretionary</td>\n",
              "      <td>88.2</td>\n",
              "      <td>10.6</td>\n",
              "      <td>13.7</td>\n",
              "    </tr>\n",
              "    <tr>\n",
              "      <th>3615</th>\n",
              "      <td>547194</td>\n",
              "      <td>22895</td>\n",
              "      <td>SET OF 2 TEA TOWELS APPLE AND PEARS</td>\n",
              "      <td>1</td>\n",
              "      <td>2011-03-21 12:42:00</td>\n",
              "      <td>2.95</td>\n",
              "      <td>12637.0</td>\n",
              "      <td>France</td>\n",
              "      <td>95</td>\n",
              "      <td>L'Oréal</td>\n",
              "      <td>Consumer staples</td>\n",
              "      <td>173.4</td>\n",
              "      <td>8.8</td>\n",
              "      <td>5.3</td>\n",
              "    </tr>\n",
              "    <tr>\n",
              "      <th>5100</th>\n",
              "      <td>552826</td>\n",
              "      <td>82583</td>\n",
              "      <td>HOT BATHS METAL SIGN</td>\n",
              "      <td>4</td>\n",
              "      <td>2011-05-11 13:20:00</td>\n",
              "      <td>2.10</td>\n",
              "      <td>14277.0</td>\n",
              "      <td>France</td>\n",
              "      <td>75</td>\n",
              "      <td>Hermès International</td>\n",
              "      <td>Consumer discretionary</td>\n",
              "      <td>88.2</td>\n",
              "      <td>10.6</td>\n",
              "      <td>13.7</td>\n",
              "    </tr>\n",
              "    <tr>\n",
              "      <th>...</th>\n",
              "      <td>...</td>\n",
              "      <td>...</td>\n",
              "      <td>...</td>\n",
              "      <td>...</td>\n",
              "      <td>...</td>\n",
              "      <td>...</td>\n",
              "      <td>...</td>\n",
              "      <td>...</td>\n",
              "      <td>...</td>\n",
              "      <td>...</td>\n",
              "      <td>...</td>\n",
              "      <td>...</td>\n",
              "      <td>...</td>\n",
              "      <td>...</td>\n",
              "    </tr>\n",
              "    <tr>\n",
              "      <th>47484</th>\n",
              "      <td>564539</td>\n",
              "      <td>22378</td>\n",
              "      <td>WALL TIDY RETROSPOT</td>\n",
              "      <td>5</td>\n",
              "      <td>2011-08-25 15:22:00</td>\n",
              "      <td>2.10</td>\n",
              "      <td>12715.0</td>\n",
              "      <td>Sweden</td>\n",
              "      <td>77</td>\n",
              "      <td>Spotify</td>\n",
              "      <td>Communication services</td>\n",
              "      <td>37.2</td>\n",
              "      <td>10.4</td>\n",
              "      <td>38.8</td>\n",
              "    </tr>\n",
              "    <tr>\n",
              "      <th>47707</th>\n",
              "      <td>541975</td>\n",
              "      <td>22452</td>\n",
              "      <td>MEASURING TAPE BABUSHKA PINK</td>\n",
              "      <td>24</td>\n",
              "      <td>2011-01-24 14:24:00</td>\n",
              "      <td>2.95</td>\n",
              "      <td>NaN</td>\n",
              "      <td>Hong Kong</td>\n",
              "      <td>30</td>\n",
              "      <td>Alibaba Health Information Technology</td>\n",
              "      <td>Healthcare</td>\n",
              "      <td>34.1</td>\n",
              "      <td>20.2</td>\n",
              "      <td>145.3</td>\n",
              "    </tr>\n",
              "    <tr>\n",
              "      <th>47708</th>\n",
              "      <td>541975</td>\n",
              "      <td>22454</td>\n",
              "      <td>MEASURING TAPE BABUSHKA RED</td>\n",
              "      <td>24</td>\n",
              "      <td>2011-01-24 14:24:00</td>\n",
              "      <td>2.95</td>\n",
              "      <td>NaN</td>\n",
              "      <td>Hong Kong</td>\n",
              "      <td>30</td>\n",
              "      <td>Alibaba Health Information Technology</td>\n",
              "      <td>Healthcare</td>\n",
              "      <td>34.1</td>\n",
              "      <td>20.2</td>\n",
              "      <td>145.3</td>\n",
              "    </tr>\n",
              "    <tr>\n",
              "      <th>47709</th>\n",
              "      <td>541975</td>\n",
              "      <td>20749</td>\n",
              "      <td>ASSORTED COLOUR MINI CASES</td>\n",
              "      <td>6</td>\n",
              "      <td>2011-01-24 14:24:00</td>\n",
              "      <td>7.95</td>\n",
              "      <td>NaN</td>\n",
              "      <td>Hong Kong</td>\n",
              "      <td>30</td>\n",
              "      <td>Alibaba Health Information Technology</td>\n",
              "      <td>Healthcare</td>\n",
              "      <td>34.1</td>\n",
              "      <td>20.2</td>\n",
              "      <td>145.3</td>\n",
              "    </tr>\n",
              "    <tr>\n",
              "      <th>47710</th>\n",
              "      <td>541975</td>\n",
              "      <td>20682</td>\n",
              "      <td>RED RETROSPOT CHILDRENS UMBRELLA</td>\n",
              "      <td>6</td>\n",
              "      <td>2011-01-24 14:24:00</td>\n",
              "      <td>3.25</td>\n",
              "      <td>NaN</td>\n",
              "      <td>Hong Kong</td>\n",
              "      <td>30</td>\n",
              "      <td>Alibaba Health Information Technology</td>\n",
              "      <td>Healthcare</td>\n",
              "      <td>34.1</td>\n",
              "      <td>20.2</td>\n",
              "      <td>145.3</td>\n",
              "    </tr>\n",
              "  </tbody>\n",
              "</table>\n",
              "<p>77 rows × 14 columns</p>\n",
              "</div>"
            ],
            "text/plain": [
              "      InvoiceNo StockCode  ... Market cap added  Change\n",
              "3568     547194     22554  ...             10.6    13.7\n",
              "3569     547194     22554  ...              8.8     5.3\n",
              "3614     547194     22895  ...             10.6    13.7\n",
              "3615     547194     22895  ...              8.8     5.3\n",
              "5100     552826     82583  ...             10.6    13.7\n",
              "...         ...       ...  ...              ...     ...\n",
              "47484    564539     22378  ...             10.4    38.8\n",
              "47707    541975     22452  ...             20.2   145.3\n",
              "47708    541975     22454  ...             20.2   145.3\n",
              "47709    541975     20749  ...             20.2   145.3\n",
              "47710    541975     20682  ...             20.2   145.3\n",
              "\n",
              "[77 rows x 14 columns]"
            ]
          },
          "metadata": {
            "tags": []
          },
          "execution_count": 24
        }
      ]
    },
    {
      "cell_type": "code",
      "metadata": {
        "id": "sIv2j_Yh3DAU",
        "colab": {
          "base_uri": "https://localhost:8080/",
          "height": 914
        },
        "outputId": "f76002c6-5368-4263-a158-757877c0d42d"
      },
      "source": [
        "market.drop_duplicates()"
      ],
      "execution_count": 25,
      "outputs": [
        {
          "output_type": "execute_result",
          "data": {
            "text/html": [
              "<div>\n",
              "<style scoped>\n",
              "    .dataframe tbody tr th:only-of-type {\n",
              "        vertical-align: middle;\n",
              "    }\n",
              "\n",
              "    .dataframe tbody tr th {\n",
              "        vertical-align: top;\n",
              "    }\n",
              "\n",
              "    .dataframe thead th {\n",
              "        text-align: right;\n",
              "    }\n",
              "</style>\n",
              "<table border=\"1\" class=\"dataframe\">\n",
              "  <thead>\n",
              "    <tr style=\"text-align: right;\">\n",
              "      <th></th>\n",
              "      <th>InvoiceNo</th>\n",
              "      <th>StockCode</th>\n",
              "      <th>Description</th>\n",
              "      <th>Quantity</th>\n",
              "      <th>InvoiceDate</th>\n",
              "      <th>UnitPrice</th>\n",
              "      <th>CustomerID</th>\n",
              "      <th>Country</th>\n",
              "      <th>S.No</th>\n",
              "      <th>Company</th>\n",
              "      <th>Sector</th>\n",
              "      <th>Market cap ($bn)</th>\n",
              "      <th>Market cap added</th>\n",
              "      <th>Change</th>\n",
              "    </tr>\n",
              "  </thead>\n",
              "  <tbody>\n",
              "    <tr>\n",
              "      <th>0</th>\n",
              "      <td>536370</td>\n",
              "      <td>22728</td>\n",
              "      <td>ALARM CLOCK BAKELIKE PINK</td>\n",
              "      <td>24</td>\n",
              "      <td>2010-12-01 08:45:00</td>\n",
              "      <td>3.75</td>\n",
              "      <td>12583.0</td>\n",
              "      <td>France</td>\n",
              "      <td>75</td>\n",
              "      <td>Hermès International</td>\n",
              "      <td>Consumer discretionary</td>\n",
              "      <td>88.2</td>\n",
              "      <td>10.6</td>\n",
              "      <td>13.7</td>\n",
              "    </tr>\n",
              "    <tr>\n",
              "      <th>1</th>\n",
              "      <td>536370</td>\n",
              "      <td>22728</td>\n",
              "      <td>ALARM CLOCK BAKELIKE PINK</td>\n",
              "      <td>24</td>\n",
              "      <td>2010-12-01 08:45:00</td>\n",
              "      <td>3.75</td>\n",
              "      <td>12583.0</td>\n",
              "      <td>France</td>\n",
              "      <td>95</td>\n",
              "      <td>L'Oréal</td>\n",
              "      <td>Consumer staples</td>\n",
              "      <td>173.4</td>\n",
              "      <td>8.8</td>\n",
              "      <td>5.3</td>\n",
              "    </tr>\n",
              "    <tr>\n",
              "      <th>2</th>\n",
              "      <td>536370</td>\n",
              "      <td>22727</td>\n",
              "      <td>ALARM CLOCK BAKELIKE RED</td>\n",
              "      <td>24</td>\n",
              "      <td>2010-12-01 08:45:00</td>\n",
              "      <td>3.75</td>\n",
              "      <td>12583.0</td>\n",
              "      <td>France</td>\n",
              "      <td>75</td>\n",
              "      <td>Hermès International</td>\n",
              "      <td>Consumer discretionary</td>\n",
              "      <td>88.2</td>\n",
              "      <td>10.6</td>\n",
              "      <td>13.7</td>\n",
              "    </tr>\n",
              "    <tr>\n",
              "      <th>3</th>\n",
              "      <td>536370</td>\n",
              "      <td>22727</td>\n",
              "      <td>ALARM CLOCK BAKELIKE RED</td>\n",
              "      <td>24</td>\n",
              "      <td>2010-12-01 08:45:00</td>\n",
              "      <td>3.75</td>\n",
              "      <td>12583.0</td>\n",
              "      <td>France</td>\n",
              "      <td>95</td>\n",
              "      <td>L'Oréal</td>\n",
              "      <td>Consumer staples</td>\n",
              "      <td>173.4</td>\n",
              "      <td>8.8</td>\n",
              "      <td>5.3</td>\n",
              "    </tr>\n",
              "    <tr>\n",
              "      <th>4</th>\n",
              "      <td>536370</td>\n",
              "      <td>22726</td>\n",
              "      <td>ALARM CLOCK BAKELIKE GREEN</td>\n",
              "      <td>12</td>\n",
              "      <td>2010-12-01 08:45:00</td>\n",
              "      <td>3.75</td>\n",
              "      <td>12583.0</td>\n",
              "      <td>France</td>\n",
              "      <td>75</td>\n",
              "      <td>Hermès International</td>\n",
              "      <td>Consumer discretionary</td>\n",
              "      <td>88.2</td>\n",
              "      <td>10.6</td>\n",
              "      <td>13.7</td>\n",
              "    </tr>\n",
              "    <tr>\n",
              "      <th>...</th>\n",
              "      <td>...</td>\n",
              "      <td>...</td>\n",
              "      <td>...</td>\n",
              "      <td>...</td>\n",
              "      <td>...</td>\n",
              "      <td>...</td>\n",
              "      <td>...</td>\n",
              "      <td>...</td>\n",
              "      <td>...</td>\n",
              "      <td>...</td>\n",
              "      <td>...</td>\n",
              "      <td>...</td>\n",
              "      <td>...</td>\n",
              "      <td>...</td>\n",
              "    </tr>\n",
              "    <tr>\n",
              "      <th>48619</th>\n",
              "      <td>564428</td>\n",
              "      <td>23296</td>\n",
              "      <td>SET OF 6 TEA TIME BAKING CASES</td>\n",
              "      <td>8</td>\n",
              "      <td>2011-08-25 11:27:00</td>\n",
              "      <td>1.25</td>\n",
              "      <td>17844.0</td>\n",
              "      <td>Canada</td>\n",
              "      <td>81</td>\n",
              "      <td>Barrick Gold</td>\n",
              "      <td>Materials</td>\n",
              "      <td>43.1</td>\n",
              "      <td>10.1</td>\n",
              "      <td>30.7</td>\n",
              "    </tr>\n",
              "    <tr>\n",
              "      <th>48620</th>\n",
              "      <td>564428</td>\n",
              "      <td>23296</td>\n",
              "      <td>SET OF 6 TEA TIME BAKING CASES</td>\n",
              "      <td>8</td>\n",
              "      <td>2011-08-25 11:27:00</td>\n",
              "      <td>1.25</td>\n",
              "      <td>17844.0</td>\n",
              "      <td>Canada</td>\n",
              "      <td>87</td>\n",
              "      <td>Lululemon Athletica</td>\n",
              "      <td>Consumer discretionary</td>\n",
              "      <td>39.5</td>\n",
              "      <td>9.4</td>\n",
              "      <td>31.0</td>\n",
              "    </tr>\n",
              "    <tr>\n",
              "      <th>48621</th>\n",
              "      <td>564428</td>\n",
              "      <td>23294</td>\n",
              "      <td>SET OF 6 SNACK LOAF BAKING CASES</td>\n",
              "      <td>8</td>\n",
              "      <td>2011-08-25 11:27:00</td>\n",
              "      <td>0.83</td>\n",
              "      <td>17844.0</td>\n",
              "      <td>Canada</td>\n",
              "      <td>14</td>\n",
              "      <td>Shopify</td>\n",
              "      <td>Technology</td>\n",
              "      <td>97.6</td>\n",
              "      <td>51.5</td>\n",
              "      <td>111.7</td>\n",
              "    </tr>\n",
              "    <tr>\n",
              "      <th>48622</th>\n",
              "      <td>564428</td>\n",
              "      <td>23294</td>\n",
              "      <td>SET OF 6 SNACK LOAF BAKING CASES</td>\n",
              "      <td>8</td>\n",
              "      <td>2011-08-25 11:27:00</td>\n",
              "      <td>0.83</td>\n",
              "      <td>17844.0</td>\n",
              "      <td>Canada</td>\n",
              "      <td>81</td>\n",
              "      <td>Barrick Gold</td>\n",
              "      <td>Materials</td>\n",
              "      <td>43.1</td>\n",
              "      <td>10.1</td>\n",
              "      <td>30.7</td>\n",
              "    </tr>\n",
              "    <tr>\n",
              "      <th>48623</th>\n",
              "      <td>564428</td>\n",
              "      <td>23294</td>\n",
              "      <td>SET OF 6 SNACK LOAF BAKING CASES</td>\n",
              "      <td>8</td>\n",
              "      <td>2011-08-25 11:27:00</td>\n",
              "      <td>0.83</td>\n",
              "      <td>17844.0</td>\n",
              "      <td>Canada</td>\n",
              "      <td>87</td>\n",
              "      <td>Lululemon Athletica</td>\n",
              "      <td>Consumer discretionary</td>\n",
              "      <td>39.5</td>\n",
              "      <td>9.4</td>\n",
              "      <td>31.0</td>\n",
              "    </tr>\n",
              "  </tbody>\n",
              "</table>\n",
              "<p>48547 rows × 14 columns</p>\n",
              "</div>"
            ],
            "text/plain": [
              "      InvoiceNo StockCode  ... Market cap added  Change\n",
              "0        536370     22728  ...             10.6    13.7\n",
              "1        536370     22728  ...              8.8     5.3\n",
              "2        536370     22727  ...             10.6    13.7\n",
              "3        536370     22727  ...              8.8     5.3\n",
              "4        536370     22726  ...             10.6    13.7\n",
              "...         ...       ...  ...              ...     ...\n",
              "48619    564428     23296  ...             10.1    30.7\n",
              "48620    564428     23296  ...              9.4    31.0\n",
              "48621    564428     23294  ...             51.5   111.7\n",
              "48622    564428     23294  ...             10.1    30.7\n",
              "48623    564428     23294  ...              9.4    31.0\n",
              "\n",
              "[48547 rows x 14 columns]"
            ]
          },
          "metadata": {
            "tags": []
          },
          "execution_count": 25
        }
      ]
    },
    {
      "cell_type": "code",
      "metadata": {
        "id": "l4lODxwgTMjD",
        "colab": {
          "base_uri": "https://localhost:8080/"
        },
        "outputId": "6dd53bc1-7b68-4f43-beb2-1ee119fabba2"
      },
      "source": [
        "# count the number of null values of all columns\n",
        "market.isnull().sum()\n",
        "# o/p\n",
        "# customerID values can be removed\n"
      ],
      "execution_count": 26,
      "outputs": [
        {
          "output_type": "execute_result",
          "data": {
            "text/plain": [
              "InvoiceNo             0\n",
              "StockCode             0\n",
              "Description           0\n",
              "Quantity              0\n",
              "InvoiceDate           0\n",
              "UnitPrice             0\n",
              "CustomerID          795\n",
              "Country               0\n",
              "S.No                  0\n",
              "Company               0\n",
              "Sector                0\n",
              "Market cap ($bn)      0\n",
              "Market cap added      0\n",
              "Change                0\n",
              "dtype: int64"
            ]
          },
          "metadata": {
            "tags": []
          },
          "execution_count": 26
        }
      ]
    },
    {
      "cell_type": "code",
      "metadata": {
        "id": "v386j5VkTaks",
        "colab": {
          "base_uri": "https://localhost:8080/",
          "height": 366
        },
        "outputId": "1d204233-5a4e-436d-cee9-30109565290b"
      },
      "source": [
        "import seaborn as sns\n",
        "sns .heatmap(market.isnull()) # we can show missing values graphically presented"
      ],
      "execution_count": 27,
      "outputs": [
        {
          "output_type": "execute_result",
          "data": {
            "text/plain": [
              "<matplotlib.axes._subplots.AxesSubplot at 0x7f3789db2750>"
            ]
          },
          "metadata": {
            "tags": []
          },
          "execution_count": 27
        },
        {
          "output_type": "display_data",
          "data": {
            "image/png": "[encoded data removed]",
            "text/plain": [
              "<Figure size 432x288 with 2 Axes>"
            ]
          },
          "metadata": {
            "tags": [],
            "needs_background": "light"
          }
        }
      ]
    },
    {
      "cell_type": "code",
      "metadata": {
        "id": "1wmotM-Yh5Qh",
        "colab": {
          "base_uri": "https://localhost:8080/"
        },
        "outputId": "4a6c8e4d-b579-47fb-930c-141c185cf925"
      },
      "source": [
        "# Droping rows having missing values\n",
        "\n",
        "market = market.dropna()\n",
        "market.shape"
      ],
      "execution_count": 28,
      "outputs": [
        {
          "output_type": "execute_result",
          "data": {
            "text/plain": [
              "(47829, 14)"
            ]
          },
          "metadata": {
            "tags": []
          },
          "execution_count": 28
        }
      ]
    },
    {
      "cell_type": "code",
      "metadata": {
        "id": "8B-N1ctckgd7",
        "colab": {
          "base_uri": "https://localhost:8080/"
        },
        "outputId": "89a6a4a8-a410-4009-caf2-9f0a569e0ead"
      },
      "source": [
        "# count the number of null values of all columns\n",
        "market.isnull().sum()"
      ],
      "execution_count": 29,
      "outputs": [
        {
          "output_type": "execute_result",
          "data": {
            "text/plain": [
              "InvoiceNo           0\n",
              "StockCode           0\n",
              "Description         0\n",
              "Quantity            0\n",
              "InvoiceDate         0\n",
              "UnitPrice           0\n",
              "CustomerID          0\n",
              "Country             0\n",
              "S.No                0\n",
              "Company             0\n",
              "Sector              0\n",
              "Market cap ($bn)    0\n",
              "Market cap added    0\n",
              "Change              0\n",
              "dtype: int64"
            ]
          },
          "metadata": {
            "tags": []
          },
          "execution_count": 29
        }
      ]
    },
    {
      "cell_type": "code",
      "metadata": {
        "id": "ZTeR1_Ilguyf",
        "colab": {
          "base_uri": "https://localhost:8080/"
        },
        "outputId": "f60145e4-ffbf-447d-cdb5-804d30f9e86b"
      },
      "source": [
        "# Changing the datatype of CustomerID as per Bussiness understanding\n",
        "market['CustomerID'] = market['CustomerID'].astype(str)"
      ],
      "execution_count": 30,
      "outputs": [
        {
          "output_type": "stream",
          "text": [
            "/usr/local/lib/python3.7/dist-packages/ipykernel_launcher.py:2: SettingWithCopyWarning: \n",
            "A value is trying to be set on a copy of a slice from a DataFrame.\n",
            "Try using .loc[row_indexer,col_indexer] = value instead\n",
            "\n",
            "See the caveats in the documentation: https://pandas.pydata.org/pandas-docs/stable/user_guide/indexing.html#returning-a-view-versus-a-copy\n",
            "  \n"
          ],
          "name": "stderr"
        }
      ]
    },
    {
      "cell_type": "markdown",
      "metadata": {
        "id": "Vl9nciibkxmP"
      },
      "source": [
        "#Data Preparation"
      ]
    },
    {
      "cell_type": "markdown",
      "metadata": {
        "id": "bPLDNPzmlBBn"
      },
      "source": [
        "## We are going to analysis the Customers based on below 3 factors:\n",
        "* R (Recency): Number of days since last purchase\n",
        "* F (Frequency): Number of transactions\n",
        "* M (Monetary): Total amount of transactions (revenue contributed)\n",
        "\n",
        "\n",
        "\n",
        "\n",
        "\n",
        "\n"
      ]
    },
    {
      "cell_type": "code",
      "metadata": {
        "id": "a58zGXRjleBS",
        "colab": {
          "base_uri": "https://localhost:8080/",
          "height": 344
        },
        "outputId": "0834ebc0-a6fa-42bd-acd4-f264f74765e1"
      },
      "source": [
        "# New Attribute : Monetary\n",
        "\n",
        "market['Amount'] = market['Quantity']*market['UnitPrice']\n",
        "rfm_m = market.groupby('CustomerID')['Amount'].sum()\n",
        "rfm_m = rfm_m.reset_index()\n",
        "rfm_m.head()"
      ],
      "execution_count": 104,
      "outputs": [
        {
          "output_type": "stream",
          "text": [
            "/usr/local/lib/python3.7/dist-packages/ipykernel_launcher.py:3: SettingWithCopyWarning:\n",
            "\n",
            "\n",
            "A value is trying to be set on a copy of a slice from a DataFrame.\n",
            "Try using .loc[row_indexer,col_indexer] = value instead\n",
            "\n",
            "See the caveats in the documentation: https://pandas.pydata.org/pandas-docs/stable/user_guide/indexing.html#returning-a-view-versus-a-copy\n",
            "\n"
          ],
          "name": "stderr"
        },
        {
          "output_type": "execute_result",
          "data": {
            "text/html": [
              "<div>\n",
              "<style scoped>\n",
              "    .dataframe tbody tr th:only-of-type {\n",
              "        vertical-align: middle;\n",
              "    }\n",
              "\n",
              "    .dataframe tbody tr th {\n",
              "        vertical-align: top;\n",
              "    }\n",
              "\n",
              "    .dataframe thead th {\n",
              "        text-align: right;\n",
              "    }\n",
              "</style>\n",
              "<table border=\"1\" class=\"dataframe\">\n",
              "  <thead>\n",
              "    <tr style=\"text-align: right;\">\n",
              "      <th></th>\n",
              "      <th>CustomerID</th>\n",
              "      <th>Amount</th>\n",
              "    </tr>\n",
              "  </thead>\n",
              "  <tbody>\n",
              "    <tr>\n",
              "      <th>0</th>\n",
              "      <td>12357.0</td>\n",
              "      <td>18623.01</td>\n",
              "    </tr>\n",
              "    <tr>\n",
              "      <th>1</th>\n",
              "      <td>12367.0</td>\n",
              "      <td>168.90</td>\n",
              "    </tr>\n",
              "    <tr>\n",
              "      <th>2</th>\n",
              "      <td>12371.0</td>\n",
              "      <td>5663.88</td>\n",
              "    </tr>\n",
              "    <tr>\n",
              "      <th>3</th>\n",
              "      <td>12372.0</td>\n",
              "      <td>1298.04</td>\n",
              "    </tr>\n",
              "    <tr>\n",
              "      <th>4</th>\n",
              "      <td>12377.0</td>\n",
              "      <td>4884.36</td>\n",
              "    </tr>\n",
              "  </tbody>\n",
              "</table>\n",
              "</div>"
            ],
            "text/plain": [
              "  CustomerID    Amount\n",
              "0    12357.0  18623.01\n",
              "1    12367.0    168.90\n",
              "2    12371.0   5663.88\n",
              "3    12372.0   1298.04\n",
              "4    12377.0   4884.36"
            ]
          },
          "metadata": {
            "tags": []
          },
          "execution_count": 104
        }
      ]
    },
    {
      "cell_type": "code",
      "metadata": {
        "id": "WtywuN28lvN3",
        "colab": {
          "base_uri": "https://localhost:8080/",
          "height": 202
        },
        "outputId": "0613ebf2-4fdc-45b6-f164-57dc665c28ad"
      },
      "source": [
        "# New Attribute : Frequency\n",
        "\n",
        "rfm_f = market.groupby('CustomerID')['InvoiceNo'].count()\n",
        "rfm_f = rfm_f.reset_index()\n",
        "rfm_f.columns = ['CustomerID', 'Frequency']\n",
        "rfm_f.head()"
      ],
      "execution_count": 105,
      "outputs": [
        {
          "output_type": "execute_result",
          "data": {
            "text/html": [
              "<div>\n",
              "<style scoped>\n",
              "    .dataframe tbody tr th:only-of-type {\n",
              "        vertical-align: middle;\n",
              "    }\n",
              "\n",
              "    .dataframe tbody tr th {\n",
              "        vertical-align: top;\n",
              "    }\n",
              "\n",
              "    .dataframe thead th {\n",
              "        text-align: right;\n",
              "    }\n",
              "</style>\n",
              "<table border=\"1\" class=\"dataframe\">\n",
              "  <thead>\n",
              "    <tr style=\"text-align: right;\">\n",
              "      <th></th>\n",
              "      <th>CustomerID</th>\n",
              "      <th>Frequency</th>\n",
              "    </tr>\n",
              "  </thead>\n",
              "  <tbody>\n",
              "    <tr>\n",
              "      <th>0</th>\n",
              "      <td>12357.0</td>\n",
              "      <td>393</td>\n",
              "    </tr>\n",
              "    <tr>\n",
              "      <th>1</th>\n",
              "      <td>12367.0</td>\n",
              "      <td>11</td>\n",
              "    </tr>\n",
              "    <tr>\n",
              "      <th>2</th>\n",
              "      <td>12371.0</td>\n",
              "      <td>189</td>\n",
              "    </tr>\n",
              "    <tr>\n",
              "      <th>3</th>\n",
              "      <td>12372.0</td>\n",
              "      <td>52</td>\n",
              "    </tr>\n",
              "    <tr>\n",
              "      <th>4</th>\n",
              "      <td>12377.0</td>\n",
              "      <td>231</td>\n",
              "    </tr>\n",
              "  </tbody>\n",
              "</table>\n",
              "</div>"
            ],
            "text/plain": [
              "  CustomerID  Frequency\n",
              "0    12357.0        393\n",
              "1    12367.0         11\n",
              "2    12371.0        189\n",
              "3    12372.0         52\n",
              "4    12377.0        231"
            ]
          },
          "metadata": {
            "tags": []
          },
          "execution_count": 105
        }
      ]
    },
    {
      "cell_type": "code",
      "metadata": {
        "id": "wRIpFa_xl0Y2",
        "colab": {
          "base_uri": "https://localhost:8080/",
          "height": 202
        },
        "outputId": "91227fc9-2ccf-4f43-8c47-e7e70cc11986"
      },
      "source": [
        "# Merging the two dfs rfm_m, rfm_f\n",
        "\n",
        "rfm = pd.merge(rfm_m, rfm_f, on='CustomerID', how='inner')\n",
        "rfm.head()"
      ],
      "execution_count": 106,
      "outputs": [
        {
          "output_type": "execute_result",
          "data": {
            "text/html": [
              "<div>\n",
              "<style scoped>\n",
              "    .dataframe tbody tr th:only-of-type {\n",
              "        vertical-align: middle;\n",
              "    }\n",
              "\n",
              "    .dataframe tbody tr th {\n",
              "        vertical-align: top;\n",
              "    }\n",
              "\n",
              "    .dataframe thead th {\n",
              "        text-align: right;\n",
              "    }\n",
              "</style>\n",
              "<table border=\"1\" class=\"dataframe\">\n",
              "  <thead>\n",
              "    <tr style=\"text-align: right;\">\n",
              "      <th></th>\n",
              "      <th>CustomerID</th>\n",
              "      <th>Amount</th>\n",
              "      <th>Frequency</th>\n",
              "    </tr>\n",
              "  </thead>\n",
              "  <tbody>\n",
              "    <tr>\n",
              "      <th>0</th>\n",
              "      <td>12357.0</td>\n",
              "      <td>18623.01</td>\n",
              "      <td>393</td>\n",
              "    </tr>\n",
              "    <tr>\n",
              "      <th>1</th>\n",
              "      <td>12367.0</td>\n",
              "      <td>168.90</td>\n",
              "      <td>11</td>\n",
              "    </tr>\n",
              "    <tr>\n",
              "      <th>2</th>\n",
              "      <td>12371.0</td>\n",
              "      <td>5663.88</td>\n",
              "      <td>189</td>\n",
              "    </tr>\n",
              "    <tr>\n",
              "      <th>3</th>\n",
              "      <td>12372.0</td>\n",
              "      <td>1298.04</td>\n",
              "      <td>52</td>\n",
              "    </tr>\n",
              "    <tr>\n",
              "      <th>4</th>\n",
              "      <td>12377.0</td>\n",
              "      <td>4884.36</td>\n",
              "      <td>231</td>\n",
              "    </tr>\n",
              "  </tbody>\n",
              "</table>\n",
              "</div>"
            ],
            "text/plain": [
              "  CustomerID    Amount  Frequency\n",
              "0    12357.0  18623.01        393\n",
              "1    12367.0    168.90         11\n",
              "2    12371.0   5663.88        189\n",
              "3    12372.0   1298.04         52\n",
              "4    12377.0   4884.36        231"
            ]
          },
          "metadata": {
            "tags": []
          },
          "execution_count": 106
        }
      ]
    },
    {
      "cell_type": "code",
      "metadata": {
        "id": "E0aCxbBQmAcn",
        "colab": {
          "base_uri": "https://localhost:8080/"
        },
        "outputId": "6cbc193c-3d49-4664-dd41-dcf60bad28b4"
      },
      "source": [
        "# New Attribute : Recency\n",
        "\n",
        "# Convert to datetime to proper datatype\n",
        "\n",
        "market['InvoiceDate'] = pd.to_datetime(market['InvoiceDate'],format='%d-%m-%Y %H:%M')"
      ],
      "execution_count": 107,
      "outputs": [
        {
          "output_type": "stream",
          "text": [
            "/usr/local/lib/python3.7/dist-packages/ipykernel_launcher.py:5: SettingWithCopyWarning:\n",
            "\n",
            "\n",
            "A value is trying to be set on a copy of a slice from a DataFrame.\n",
            "Try using .loc[row_indexer,col_indexer] = value instead\n",
            "\n",
            "See the caveats in the documentation: https://pandas.pydata.org/pandas-docs/stable/user_guide/indexing.html#returning-a-view-versus-a-copy\n",
            "\n"
          ],
          "name": "stderr"
        }
      ]
    },
    {
      "cell_type": "code",
      "metadata": {
        "id": "Xv5tzJ5qmLbe",
        "colab": {
          "base_uri": "https://localhost:8080/"
        },
        "outputId": "4f4a78ae-f57e-4265-d3d3-c03931bccc18"
      },
      "source": [
        "# Compute the maximum date to know the last transaction date\n",
        "\n",
        "max_date = max(market['InvoiceDate'])\n",
        "max_date"
      ],
      "execution_count": 108,
      "outputs": [
        {
          "output_type": "execute_result",
          "data": {
            "text/plain": [
              "Timestamp('2011-12-09 12:50:00')"
            ]
          },
          "metadata": {
            "tags": []
          },
          "execution_count": 108
        }
      ]
    },
    {
      "cell_type": "code",
      "metadata": {
        "id": "WQNlgIF6mSyv",
        "colab": {
          "base_uri": "https://localhost:8080/",
          "height": 647
        },
        "outputId": "c00c94d0-4bf8-41ce-ed9d-f7eec54366ad"
      },
      "source": [
        "# Compute the difference between max date and transaction date\n",
        "\n",
        "market['Diff'] = max_date - market['InvoiceDate']\n",
        "market.head()"
      ],
      "execution_count": 109,
      "outputs": [
        {
          "output_type": "stream",
          "text": [
            "/usr/local/lib/python3.7/dist-packages/ipykernel_launcher.py:3: SettingWithCopyWarning:\n",
            "\n",
            "\n",
            "A value is trying to be set on a copy of a slice from a DataFrame.\n",
            "Try using .loc[row_indexer,col_indexer] = value instead\n",
            "\n",
            "See the caveats in the documentation: https://pandas.pydata.org/pandas-docs/stable/user_guide/indexing.html#returning-a-view-versus-a-copy\n",
            "\n"
          ],
          "name": "stderr"
        },
        {
          "output_type": "execute_result",
          "data": {
            "text/html": [
              "<div>\n",
              "<style scoped>\n",
              "    .dataframe tbody tr th:only-of-type {\n",
              "        vertical-align: middle;\n",
              "    }\n",
              "\n",
              "    .dataframe tbody tr th {\n",
              "        vertical-align: top;\n",
              "    }\n",
              "\n",
              "    .dataframe thead th {\n",
              "        text-align: right;\n",
              "    }\n",
              "</style>\n",
              "<table border=\"1\" class=\"dataframe\">\n",
              "  <thead>\n",
              "    <tr style=\"text-align: right;\">\n",
              "      <th></th>\n",
              "      <th>InvoiceNo</th>\n",
              "      <th>StockCode</th>\n",
              "      <th>Description</th>\n",
              "      <th>Quantity</th>\n",
              "      <th>InvoiceDate</th>\n",
              "      <th>UnitPrice</th>\n",
              "      <th>CustomerID</th>\n",
              "      <th>Country</th>\n",
              "      <th>S.No</th>\n",
              "      <th>Company</th>\n",
              "      <th>Sector</th>\n",
              "      <th>Market cap ($bn)</th>\n",
              "      <th>Market cap added</th>\n",
              "      <th>Change</th>\n",
              "      <th>Amount</th>\n",
              "      <th>Diff</th>\n",
              "    </tr>\n",
              "  </thead>\n",
              "  <tbody>\n",
              "    <tr>\n",
              "      <th>0</th>\n",
              "      <td>536370</td>\n",
              "      <td>22728</td>\n",
              "      <td>ALARM CLOCK BAKELIKE PINK</td>\n",
              "      <td>24</td>\n",
              "      <td>2010-12-01 08:45:00</td>\n",
              "      <td>3.75</td>\n",
              "      <td>12583.0</td>\n",
              "      <td>France</td>\n",
              "      <td>75</td>\n",
              "      <td>Hermès International</td>\n",
              "      <td>Consumer discretionary</td>\n",
              "      <td>88.2</td>\n",
              "      <td>10.6</td>\n",
              "      <td>13.7</td>\n",
              "      <td>90.0</td>\n",
              "      <td>373 days 04:05:00</td>\n",
              "    </tr>\n",
              "    <tr>\n",
              "      <th>1</th>\n",
              "      <td>536370</td>\n",
              "      <td>22728</td>\n",
              "      <td>ALARM CLOCK BAKELIKE PINK</td>\n",
              "      <td>24</td>\n",
              "      <td>2010-12-01 08:45:00</td>\n",
              "      <td>3.75</td>\n",
              "      <td>12583.0</td>\n",
              "      <td>France</td>\n",
              "      <td>95</td>\n",
              "      <td>L'Oréal</td>\n",
              "      <td>Consumer staples</td>\n",
              "      <td>173.4</td>\n",
              "      <td>8.8</td>\n",
              "      <td>5.3</td>\n",
              "      <td>90.0</td>\n",
              "      <td>373 days 04:05:00</td>\n",
              "    </tr>\n",
              "    <tr>\n",
              "      <th>2</th>\n",
              "      <td>536370</td>\n",
              "      <td>22727</td>\n",
              "      <td>ALARM CLOCK BAKELIKE RED</td>\n",
              "      <td>24</td>\n",
              "      <td>2010-12-01 08:45:00</td>\n",
              "      <td>3.75</td>\n",
              "      <td>12583.0</td>\n",
              "      <td>France</td>\n",
              "      <td>75</td>\n",
              "      <td>Hermès International</td>\n",
              "      <td>Consumer discretionary</td>\n",
              "      <td>88.2</td>\n",
              "      <td>10.6</td>\n",
              "      <td>13.7</td>\n",
              "      <td>90.0</td>\n",
              "      <td>373 days 04:05:00</td>\n",
              "    </tr>\n",
              "    <tr>\n",
              "      <th>3</th>\n",
              "      <td>536370</td>\n",
              "      <td>22727</td>\n",
              "      <td>ALARM CLOCK BAKELIKE RED</td>\n",
              "      <td>24</td>\n",
              "      <td>2010-12-01 08:45:00</td>\n",
              "      <td>3.75</td>\n",
              "      <td>12583.0</td>\n",
              "      <td>France</td>\n",
              "      <td>95</td>\n",
              "      <td>L'Oréal</td>\n",
              "      <td>Consumer staples</td>\n",
              "      <td>173.4</td>\n",
              "      <td>8.8</td>\n",
              "      <td>5.3</td>\n",
              "      <td>90.0</td>\n",
              "      <td>373 days 04:05:00</td>\n",
              "    </tr>\n",
              "    <tr>\n",
              "      <th>4</th>\n",
              "      <td>536370</td>\n",
              "      <td>22726</td>\n",
              "      <td>ALARM CLOCK BAKELIKE GREEN</td>\n",
              "      <td>12</td>\n",
              "      <td>2010-12-01 08:45:00</td>\n",
              "      <td>3.75</td>\n",
              "      <td>12583.0</td>\n",
              "      <td>France</td>\n",
              "      <td>75</td>\n",
              "      <td>Hermès International</td>\n",
              "      <td>Consumer discretionary</td>\n",
              "      <td>88.2</td>\n",
              "      <td>10.6</td>\n",
              "      <td>13.7</td>\n",
              "      <td>45.0</td>\n",
              "      <td>373 days 04:05:00</td>\n",
              "    </tr>\n",
              "  </tbody>\n",
              "</table>\n",
              "</div>"
            ],
            "text/plain": [
              "  InvoiceNo StockCode  ... Amount              Diff\n",
              "0    536370     22728  ...   90.0 373 days 04:05:00\n",
              "1    536370     22728  ...   90.0 373 days 04:05:00\n",
              "2    536370     22727  ...   90.0 373 days 04:05:00\n",
              "3    536370     22727  ...   90.0 373 days 04:05:00\n",
              "4    536370     22726  ...   45.0 373 days 04:05:00\n",
              "\n",
              "[5 rows x 16 columns]"
            ]
          },
          "metadata": {
            "tags": []
          },
          "execution_count": 109
        }
      ]
    },
    {
      "cell_type": "code",
      "metadata": {
        "id": "37sAkPeemdNP",
        "colab": {
          "base_uri": "https://localhost:8080/",
          "height": 202
        },
        "outputId": "5c80a6ff-b68f-4e18-8188-8be0fbcdb1be"
      },
      "source": [
        "# Compute last transaction date to get the recency of customers\n",
        "\n",
        "rfm_p = market.groupby('CustomerID')['Diff'].min()\n",
        "rfm_p = rfm_p.reset_index()\n",
        "rfm_p.head()"
      ],
      "execution_count": 110,
      "outputs": [
        {
          "output_type": "execute_result",
          "data": {
            "text/html": [
              "<div>\n",
              "<style scoped>\n",
              "    .dataframe tbody tr th:only-of-type {\n",
              "        vertical-align: middle;\n",
              "    }\n",
              "\n",
              "    .dataframe tbody tr th {\n",
              "        vertical-align: top;\n",
              "    }\n",
              "\n",
              "    .dataframe thead th {\n",
              "        text-align: right;\n",
              "    }\n",
              "</style>\n",
              "<table border=\"1\" class=\"dataframe\">\n",
              "  <thead>\n",
              "    <tr style=\"text-align: right;\">\n",
              "      <th></th>\n",
              "      <th>CustomerID</th>\n",
              "      <th>Diff</th>\n",
              "    </tr>\n",
              "  </thead>\n",
              "  <tbody>\n",
              "    <tr>\n",
              "      <th>0</th>\n",
              "      <td>12357.0</td>\n",
              "      <td>32 days 20:43:00</td>\n",
              "    </tr>\n",
              "    <tr>\n",
              "      <th>1</th>\n",
              "      <td>12367.0</td>\n",
              "      <td>3 days 20:02:00</td>\n",
              "    </tr>\n",
              "    <tr>\n",
              "      <th>2</th>\n",
              "      <td>12371.0</td>\n",
              "      <td>44 days 02:34:00</td>\n",
              "    </tr>\n",
              "    <tr>\n",
              "      <th>3</th>\n",
              "      <td>12372.0</td>\n",
              "      <td>71 days 00:38:00</td>\n",
              "    </tr>\n",
              "    <tr>\n",
              "      <th>4</th>\n",
              "      <td>12377.0</td>\n",
              "      <td>314 days 21:05:00</td>\n",
              "    </tr>\n",
              "  </tbody>\n",
              "</table>\n",
              "</div>"
            ],
            "text/plain": [
              "  CustomerID              Diff\n",
              "0    12357.0  32 days 20:43:00\n",
              "1    12367.0   3 days 20:02:00\n",
              "2    12371.0  44 days 02:34:00\n",
              "3    12372.0  71 days 00:38:00\n",
              "4    12377.0 314 days 21:05:00"
            ]
          },
          "metadata": {
            "tags": []
          },
          "execution_count": 110
        }
      ]
    },
    {
      "cell_type": "code",
      "metadata": {
        "id": "xkPczoOSmm5I",
        "colab": {
          "base_uri": "https://localhost:8080/",
          "height": 202
        },
        "outputId": "d392e08c-2a45-4e9a-869d-5a9a012d3aa5"
      },
      "source": [
        "# Extract number of days only\n",
        "\n",
        "rfm_p['Diff'] = rfm_p['Diff'].dt.days\n",
        "rfm_p.head()"
      ],
      "execution_count": 111,
      "outputs": [
        {
          "output_type": "execute_result",
          "data": {
            "text/html": [
              "<div>\n",
              "<style scoped>\n",
              "    .dataframe tbody tr th:only-of-type {\n",
              "        vertical-align: middle;\n",
              "    }\n",
              "\n",
              "    .dataframe tbody tr th {\n",
              "        vertical-align: top;\n",
              "    }\n",
              "\n",
              "    .dataframe thead th {\n",
              "        text-align: right;\n",
              "    }\n",
              "</style>\n",
              "<table border=\"1\" class=\"dataframe\">\n",
              "  <thead>\n",
              "    <tr style=\"text-align: right;\">\n",
              "      <th></th>\n",
              "      <th>CustomerID</th>\n",
              "      <th>Diff</th>\n",
              "    </tr>\n",
              "  </thead>\n",
              "  <tbody>\n",
              "    <tr>\n",
              "      <th>0</th>\n",
              "      <td>12357.0</td>\n",
              "      <td>32</td>\n",
              "    </tr>\n",
              "    <tr>\n",
              "      <th>1</th>\n",
              "      <td>12367.0</td>\n",
              "      <td>3</td>\n",
              "    </tr>\n",
              "    <tr>\n",
              "      <th>2</th>\n",
              "      <td>12371.0</td>\n",
              "      <td>44</td>\n",
              "    </tr>\n",
              "    <tr>\n",
              "      <th>3</th>\n",
              "      <td>12372.0</td>\n",
              "      <td>71</td>\n",
              "    </tr>\n",
              "    <tr>\n",
              "      <th>4</th>\n",
              "      <td>12377.0</td>\n",
              "      <td>314</td>\n",
              "    </tr>\n",
              "  </tbody>\n",
              "</table>\n",
              "</div>"
            ],
            "text/plain": [
              "  CustomerID  Diff\n",
              "0    12357.0    32\n",
              "1    12367.0     3\n",
              "2    12371.0    44\n",
              "3    12372.0    71\n",
              "4    12377.0   314"
            ]
          },
          "metadata": {
            "tags": []
          },
          "execution_count": 111
        }
      ]
    },
    {
      "cell_type": "code",
      "metadata": {
        "id": "XqiNsySFmp0t",
        "colab": {
          "base_uri": "https://localhost:8080/",
          "height": 202
        },
        "outputId": "3d69fabf-0bac-4394-8270-e3dc845424a9"
      },
      "source": [
        "# Merge tha dataframes to get the final RFM dataframe\n",
        "\n",
        "rfm = pd.merge(rfm, rfm_p, on='CustomerID', how='inner')\n",
        "rfm.columns = ['CustomerID', 'Amount', 'Frequency', 'Recency']\n",
        "rfm.head()"
      ],
      "execution_count": 112,
      "outputs": [
        {
          "output_type": "execute_result",
          "data": {
            "text/html": [
              "<div>\n",
              "<style scoped>\n",
              "    .dataframe tbody tr th:only-of-type {\n",
              "        vertical-align: middle;\n",
              "    }\n",
              "\n",
              "    .dataframe tbody tr th {\n",
              "        vertical-align: top;\n",
              "    }\n",
              "\n",
              "    .dataframe thead th {\n",
              "        text-align: right;\n",
              "    }\n",
              "</style>\n",
              "<table border=\"1\" class=\"dataframe\">\n",
              "  <thead>\n",
              "    <tr style=\"text-align: right;\">\n",
              "      <th></th>\n",
              "      <th>CustomerID</th>\n",
              "      <th>Amount</th>\n",
              "      <th>Frequency</th>\n",
              "      <th>Recency</th>\n",
              "    </tr>\n",
              "  </thead>\n",
              "  <tbody>\n",
              "    <tr>\n",
              "      <th>0</th>\n",
              "      <td>12357.0</td>\n",
              "      <td>18623.01</td>\n",
              "      <td>393</td>\n",
              "      <td>32</td>\n",
              "    </tr>\n",
              "    <tr>\n",
              "      <th>1</th>\n",
              "      <td>12367.0</td>\n",
              "      <td>168.90</td>\n",
              "      <td>11</td>\n",
              "      <td>3</td>\n",
              "    </tr>\n",
              "    <tr>\n",
              "      <th>2</th>\n",
              "      <td>12371.0</td>\n",
              "      <td>5663.88</td>\n",
              "      <td>189</td>\n",
              "      <td>44</td>\n",
              "    </tr>\n",
              "    <tr>\n",
              "      <th>3</th>\n",
              "      <td>12372.0</td>\n",
              "      <td>1298.04</td>\n",
              "      <td>52</td>\n",
              "      <td>71</td>\n",
              "    </tr>\n",
              "    <tr>\n",
              "      <th>4</th>\n",
              "      <td>12377.0</td>\n",
              "      <td>4884.36</td>\n",
              "      <td>231</td>\n",
              "      <td>314</td>\n",
              "    </tr>\n",
              "  </tbody>\n",
              "</table>\n",
              "</div>"
            ],
            "text/plain": [
              "  CustomerID    Amount  Frequency  Recency\n",
              "0    12357.0  18623.01        393       32\n",
              "1    12367.0    168.90         11        3\n",
              "2    12371.0   5663.88        189       44\n",
              "3    12372.0   1298.04         52       71\n",
              "4    12377.0   4884.36        231      314"
            ]
          },
          "metadata": {
            "tags": []
          },
          "execution_count": 112
        }
      ]
    },
    {
      "cell_type": "markdown",
      "metadata": {
        "id": "4XsiOVl5nJrH"
      },
      "source": [
        "##The removal of outliers from the dataset by two methods:\n",
        "\n",
        "\n",
        "1. Statistical\n",
        "2. Domain Specific\n",
        "\n"
      ]
    },
    {
      "cell_type": "markdown",
      "metadata": {
        "id": "Q1cj_IEZp7jq"
      },
      "source": [
        ""
      ]
    },
    {
      "cell_type": "code",
      "metadata": {
        "id": "MzWDZb1HnDBZ",
        "colab": {
          "base_uri": "https://localhost:8080/",
          "height": 532
        },
        "outputId": "618eb4f6-f61d-46aa-f643-fda57aeb8405"
      },
      "source": [
        "# Outlier Analysis of Amount Frequency and Recency\n",
        "\n",
        "attributes = ['Amount','Frequency','Recency']\n",
        "plt.rcParams['figure.figsize'] = [10,8]\n",
        "sns.boxplot(data = rfm[attributes], orient=\"v\" ,whis=1.8,saturation=1.9, width=0.7)\n",
        "plt.title(\"Outliers Variable Distribution\", fontsize = 16, fontweight = 'bold')\n",
        "plt.ylabel(\"Range\", fontweight = 'bold')\n",
        "plt.xlabel(\"Attributes\", fontweight = 'bold')"
      ],
      "execution_count": 113,
      "outputs": [
        {
          "output_type": "execute_result",
          "data": {
            "text/plain": [
              "Text(0.5, 0, 'Attributes')"
            ]
          },
          "metadata": {
            "tags": []
          },
          "execution_count": 113
        },
        {
          "output_type": "display_data",
          "data": {
            "image/png": "[encoded data removed]",
            "text/plain": [
              "<Figure size 720x576 with 1 Axes>"
            ]
          },
          "metadata": {
            "tags": [],
            "needs_background": "light"
          }
        }
      ]
    },
    {
      "cell_type": "code",
      "metadata": {
        "id": "KrqVwp-HoUaY"
      },
      "source": [
        "# Removing (statistical) outliers for Amount  # reference :https://www.kaggle.com/hellbuoy/online-retail-k-means-hierarchical-clustering\n",
        "Q1 = rfm.Amount.quantile(0.05)\n",
        "Q3 = rfm.Amount.quantile(0.95)\n",
        "IQR = Q3 - Q1\n",
        "rfm = rfm[(rfm.Amount >= Q1 - 1.5*IQR) & (rfm.Amount <= Q3 + 1.5*IQR)]\n",
        "\n",
        "# Removing (statistical) outliers for Recency\n",
        "Q1 = rfm.Recency.quantile(0.05)\n",
        "Q3 = rfm.Recency.quantile(0.95)\n",
        "IQR = Q3 - Q1\n",
        "rfm = rfm[(rfm.Recency >= Q1 - 1.5*IQR) & (rfm.Recency <= Q3 + 1.5*IQR)]\n",
        "\n",
        "# Removing (statistical) outliers for Frequency\n",
        "Q1 = rfm.Frequency.quantile(0.05)\n",
        "Q3 = rfm.Frequency.quantile(0.95)\n",
        "IQR = Q3 - Q1\n",
        "rfm = rfm[(rfm.Frequency >= Q1 - 1.5*IQR) & (rfm.Frequency <= Q3 + 1.5*IQR)]"
      ],
      "execution_count": 114,
      "outputs": []
    },
    {
      "cell_type": "code",
      "metadata": {
        "id": "Wm7fFEspohg8",
        "colab": {
          "base_uri": "https://localhost:8080/",
          "height": 414
        },
        "outputId": "e457eb32-78b1-4978-b194-d722cb182004"
      },
      "source": [
        "rfm"
      ],
      "execution_count": 115,
      "outputs": [
        {
          "output_type": "execute_result",
          "data": {
            "text/html": [
              "<div>\n",
              "<style scoped>\n",
              "    .dataframe tbody tr th:only-of-type {\n",
              "        vertical-align: middle;\n",
              "    }\n",
              "\n",
              "    .dataframe tbody tr th {\n",
              "        vertical-align: top;\n",
              "    }\n",
              "\n",
              "    .dataframe thead th {\n",
              "        text-align: right;\n",
              "    }\n",
              "</style>\n",
              "<table border=\"1\" class=\"dataframe\">\n",
              "  <thead>\n",
              "    <tr style=\"text-align: right;\">\n",
              "      <th></th>\n",
              "      <th>CustomerID</th>\n",
              "      <th>Amount</th>\n",
              "      <th>Frequency</th>\n",
              "      <th>Recency</th>\n",
              "    </tr>\n",
              "  </thead>\n",
              "  <tbody>\n",
              "    <tr>\n",
              "      <th>0</th>\n",
              "      <td>12357.0</td>\n",
              "      <td>18623.01</td>\n",
              "      <td>393</td>\n",
              "      <td>32</td>\n",
              "    </tr>\n",
              "    <tr>\n",
              "      <th>1</th>\n",
              "      <td>12367.0</td>\n",
              "      <td>168.90</td>\n",
              "      <td>11</td>\n",
              "      <td>3</td>\n",
              "    </tr>\n",
              "    <tr>\n",
              "      <th>2</th>\n",
              "      <td>12371.0</td>\n",
              "      <td>5663.88</td>\n",
              "      <td>189</td>\n",
              "      <td>44</td>\n",
              "    </tr>\n",
              "    <tr>\n",
              "      <th>3</th>\n",
              "      <td>12372.0</td>\n",
              "      <td>1298.04</td>\n",
              "      <td>52</td>\n",
              "      <td>71</td>\n",
              "    </tr>\n",
              "    <tr>\n",
              "      <th>4</th>\n",
              "      <td>12377.0</td>\n",
              "      <td>4884.36</td>\n",
              "      <td>231</td>\n",
              "      <td>314</td>\n",
              "    </tr>\n",
              "    <tr>\n",
              "      <th>...</th>\n",
              "      <td>...</td>\n",
              "      <td>...</td>\n",
              "      <td>...</td>\n",
              "      <td>...</td>\n",
              "    </tr>\n",
              "    <tr>\n",
              "      <th>245</th>\n",
              "      <td>16321.0</td>\n",
              "      <td>230.70</td>\n",
              "      <td>16</td>\n",
              "      <td>71</td>\n",
              "    </tr>\n",
              "    <tr>\n",
              "      <th>246</th>\n",
              "      <td>17404.0</td>\n",
              "      <td>30300.82</td>\n",
              "      <td>201</td>\n",
              "      <td>3</td>\n",
              "    </tr>\n",
              "    <tr>\n",
              "      <th>247</th>\n",
              "      <td>17443.0</td>\n",
              "      <td>1602.72</td>\n",
              "      <td>3</td>\n",
              "      <td>219</td>\n",
              "    </tr>\n",
              "    <tr>\n",
              "      <th>248</th>\n",
              "      <td>17444.0</td>\n",
              "      <td>8820.12</td>\n",
              "      <td>405</td>\n",
              "      <td>147</td>\n",
              "    </tr>\n",
              "    <tr>\n",
              "      <th>249</th>\n",
              "      <td>17844.0</td>\n",
              "      <td>154.68</td>\n",
              "      <td>15</td>\n",
              "      <td>106</td>\n",
              "    </tr>\n",
              "  </tbody>\n",
              "</table>\n",
              "<p>246 rows × 4 columns</p>\n",
              "</div>"
            ],
            "text/plain": [
              "    CustomerID    Amount  Frequency  Recency\n",
              "0      12357.0  18623.01        393       32\n",
              "1      12367.0    168.90         11        3\n",
              "2      12371.0   5663.88        189       44\n",
              "3      12372.0   1298.04         52       71\n",
              "4      12377.0   4884.36        231      314\n",
              "..         ...       ...        ...      ...\n",
              "245    16321.0    230.70         16       71\n",
              "246    17404.0  30300.82        201        3\n",
              "247    17443.0   1602.72          3      219\n",
              "248    17444.0   8820.12        405      147\n",
              "249    17844.0    154.68         15      106\n",
              "\n",
              "[246 rows x 4 columns]"
            ]
          },
          "metadata": {
            "tags": []
          },
          "execution_count": 115
        }
      ]
    },
    {
      "cell_type": "markdown",
      "metadata": {
        "id": "ubcLE8ofpEKT"
      },
      "source": [
        "##Rescaling the attributes\n",
        "It is very important to rescale the variables to have comparable scale.There rae two ways of rescaling such as:\n",
        "\n",
        "\n",
        "1.   Min-max scalng\n",
        "2.  standardisation (mean=0, sigma=1)\n",
        "\n"
      ]
    },
    {
      "cell_type": "code",
      "metadata": {
        "id": "g6OtIZxwplBm",
        "colab": {
          "base_uri": "https://localhost:8080/"
        },
        "outputId": "1330a2db-c8be-45f1-8d58-b13cc9b1cb01"
      },
      "source": [
        "from sklearn.preprocessing import StandardScaler, normalize\n",
        "# Rescaling the attributes\n",
        "\n",
        "rfm_df = rfm[['Amount', 'Frequency', 'Recency']]\n",
        "\n",
        "# Instantiate\n",
        "scaler = StandardScaler()\n",
        "\n",
        "# fit_transform\n",
        "rfm_df_scaled = scaler.fit_transform(rfm_df)\n",
        "rfm_df_scaled.shape"
      ],
      "execution_count": 116,
      "outputs": [
        {
          "output_type": "execute_result",
          "data": {
            "text/plain": [
              "(246, 3)"
            ]
          },
          "metadata": {
            "tags": []
          },
          "execution_count": 116
        }
      ]
    },
    {
      "cell_type": "code",
      "metadata": {
        "id": "GtJC1LW8psgJ",
        "colab": {
          "base_uri": "https://localhost:8080/",
          "height": 202
        },
        "outputId": "5f95ca63-d858-4b1d-f9ae-9ede431c1329"
      },
      "source": [
        "rfm_df_scaled = pd.DataFrame(rfm_df_scaled)\n",
        "rfm_df_scaled.columns = ['Amount', 'Frequency', 'Recency']\n",
        "rfm_df_scaled.head()"
      ],
      "execution_count": 117,
      "outputs": [
        {
          "output_type": "execute_result",
          "data": {
            "text/html": [
              "<div>\n",
              "<style scoped>\n",
              "    .dataframe tbody tr th:only-of-type {\n",
              "        vertical-align: middle;\n",
              "    }\n",
              "\n",
              "    .dataframe tbody tr th {\n",
              "        vertical-align: top;\n",
              "    }\n",
              "\n",
              "    .dataframe thead th {\n",
              "        text-align: right;\n",
              "    }\n",
              "</style>\n",
              "<table border=\"1\" class=\"dataframe\">\n",
              "  <thead>\n",
              "    <tr style=\"text-align: right;\">\n",
              "      <th></th>\n",
              "      <th>Amount</th>\n",
              "      <th>Frequency</th>\n",
              "      <th>Recency</th>\n",
              "    </tr>\n",
              "  </thead>\n",
              "  <tbody>\n",
              "    <tr>\n",
              "      <th>0</th>\n",
              "      <td>2.581460</td>\n",
              "      <td>1.428642</td>\n",
              "      <td>-0.548664</td>\n",
              "    </tr>\n",
              "    <tr>\n",
              "      <th>1</th>\n",
              "      <td>-0.612947</td>\n",
              "      <td>-0.735532</td>\n",
              "      <td>-0.835395</td>\n",
              "    </tr>\n",
              "    <tr>\n",
              "      <th>2</th>\n",
              "      <td>0.338234</td>\n",
              "      <td>0.272905</td>\n",
              "      <td>-0.430016</td>\n",
              "    </tr>\n",
              "    <tr>\n",
              "      <th>3</th>\n",
              "      <td>-0.417493</td>\n",
              "      <td>-0.503251</td>\n",
              "      <td>-0.163060</td>\n",
              "    </tr>\n",
              "    <tr>\n",
              "      <th>4</th>\n",
              "      <td>0.203300</td>\n",
              "      <td>0.510851</td>\n",
              "      <td>2.239550</td>\n",
              "    </tr>\n",
              "  </tbody>\n",
              "</table>\n",
              "</div>"
            ],
            "text/plain": [
              "     Amount  Frequency   Recency\n",
              "0  2.581460   1.428642 -0.548664\n",
              "1 -0.612947  -0.735532 -0.835395\n",
              "2  0.338234   0.272905 -0.430016\n",
              "3 -0.417493  -0.503251 -0.163060\n",
              "4  0.203300   0.510851  2.239550"
            ]
          },
          "metadata": {
            "tags": []
          },
          "execution_count": 117
        }
      ]
    },
    {
      "cell_type": "code",
      "metadata": {
        "id": "eimiML1VsXbP",
        "colab": {
          "base_uri": "https://localhost:8080/"
        },
        "outputId": "0dda7478-cbb5-4b69-8263-b7de400460ea"
      },
      "source": [
        "!pip install plotly==4.5.2"
      ],
      "execution_count": 118,
      "outputs": [
        {
          "output_type": "stream",
          "text": [
            "Requirement already satisfied: plotly==4.5.2 in /usr/local/lib/python3.7/dist-packages (4.5.2)\n",
            "Requirement already satisfied: six in /usr/local/lib/python3.7/dist-packages (from plotly==4.5.2) (1.15.0)\n",
            "Requirement already satisfied: retrying>=1.3.3 in /usr/local/lib/python3.7/dist-packages (from plotly==4.5.2) (1.3.3)\n"
          ],
          "name": "stdout"
        }
      ]
    },
    {
      "cell_type": "code",
      "metadata": {
        "id": "ADFsjXUF74Rr",
        "colab": {
          "base_uri": "https://localhost:8080/"
        },
        "outputId": "ebefb1f6-62f9-4401-f8cc-454e219e88e0"
      },
      "source": [
        "!pip install dash"
      ],
      "execution_count": 65,
      "outputs": [
        {
          "output_type": "stream",
          "text": [
            "Requirement already satisfied: dash in /usr/local/lib/python3.7/dist-packages (1.20.0)\n",
            "Requirement already satisfied: Flask>=1.0.4 in /usr/local/lib/python3.7/dist-packages (from dash) (1.1.4)\n",
            "Requirement already satisfied: dash-core-components==1.16.0 in /usr/local/lib/python3.7/dist-packages (from dash) (1.16.0)\n",
            "Requirement already satisfied: plotly in /usr/local/lib/python3.7/dist-packages (from dash) (4.5.2)\n",
            "Requirement already satisfied: future in /usr/local/lib/python3.7/dist-packages (from dash) (0.16.0)\n",
            "Requirement already satisfied: flask-compress in /usr/local/lib/python3.7/dist-packages (from dash) (1.10.1)\n",
            "Requirement already satisfied: dash-table==4.11.3 in /usr/local/lib/python3.7/dist-packages (from dash) (4.11.3)\n",
            "Requirement already satisfied: dash-html-components==1.1.3 in /usr/local/lib/python3.7/dist-packages (from dash) (1.1.3)\n",
            "Requirement already satisfied: dash-renderer==1.9.1 in /usr/local/lib/python3.7/dist-packages (from dash) (1.9.1)\n",
            "Requirement already satisfied: Jinja2<3.0,>=2.10.1 in /usr/local/lib/python3.7/dist-packages (from Flask>=1.0.4->dash) (2.11.3)\n",
            "Requirement already satisfied: Werkzeug<2.0,>=0.15 in /usr/local/lib/python3.7/dist-packages (from Flask>=1.0.4->dash) (1.0.1)\n",
            "Requirement already satisfied: click<8.0,>=5.1 in /usr/local/lib/python3.7/dist-packages (from Flask>=1.0.4->dash) (7.1.2)\n",
            "Requirement already satisfied: itsdangerous<2.0,>=0.24 in /usr/local/lib/python3.7/dist-packages (from Flask>=1.0.4->dash) (1.1.0)\n",
            "Requirement already satisfied: six in /usr/local/lib/python3.7/dist-packages (from plotly->dash) (1.15.0)\n",
            "Requirement already satisfied: retrying>=1.3.3 in /usr/local/lib/python3.7/dist-packages (from plotly->dash) (1.3.3)\n",
            "Requirement already satisfied: brotli in /usr/local/lib/python3.7/dist-packages (from flask-compress->dash) (1.0.9)\n",
            "Requirement already satisfied: MarkupSafe>=0.23 in /usr/local/lib/python3.7/dist-packages (from Jinja2<3.0,>=2.10.1->Flask>=1.0.4->dash) (2.0.1)\n"
          ],
          "name": "stdout"
        }
      ]
    },
    {
      "cell_type": "code",
      "metadata": {
        "id": "SVJuDJiLrrxm"
      },
      "source": [
        "import plotly\n",
        "import plotly.graph_objects as go\n",
        "import plotly.express as px\n",
        "from plotly.subplots import make_subplots\n",
        "import plotly.graph_objects as go\n"
      ],
      "execution_count": 66,
      "outputs": []
    },
    {
      "cell_type": "code",
      "metadata": {
        "id": "ZW0a-sG09SeX",
        "colab": {
          "base_uri": "https://localhost:8080/",
          "height": 1000
        },
        "outputId": "abe655f8-94c7-4af2-d43d-3d8ac5d611f5"
      },
      "source": [
        "market"
      ],
      "execution_count": 67,
      "outputs": [
        {
          "output_type": "execute_result",
          "data": {
            "text/html": [
              "<div>\n",
              "<style scoped>\n",
              "    .dataframe tbody tr th:only-of-type {\n",
              "        vertical-align: middle;\n",
              "    }\n",
              "\n",
              "    .dataframe tbody tr th {\n",
              "        vertical-align: top;\n",
              "    }\n",
              "\n",
              "    .dataframe thead th {\n",
              "        text-align: right;\n",
              "    }\n",
              "</style>\n",
              "<table border=\"1\" class=\"dataframe\">\n",
              "  <thead>\n",
              "    <tr style=\"text-align: right;\">\n",
              "      <th></th>\n",
              "      <th>InvoiceNo</th>\n",
              "      <th>StockCode</th>\n",
              "      <th>Description</th>\n",
              "      <th>Quantity</th>\n",
              "      <th>InvoiceDate</th>\n",
              "      <th>UnitPrice</th>\n",
              "      <th>CustomerID</th>\n",
              "      <th>Country</th>\n",
              "      <th>S.No</th>\n",
              "      <th>Company</th>\n",
              "      <th>Sector</th>\n",
              "      <th>Market cap ($bn)</th>\n",
              "      <th>Market cap added</th>\n",
              "      <th>Change</th>\n",
              "      <th>Amount</th>\n",
              "      <th>Diff</th>\n",
              "    </tr>\n",
              "  </thead>\n",
              "  <tbody>\n",
              "    <tr>\n",
              "      <th>0</th>\n",
              "      <td>536370</td>\n",
              "      <td>22728</td>\n",
              "      <td>ALARM CLOCK BAKELIKE PINK</td>\n",
              "      <td>24</td>\n",
              "      <td>2010-12-01 08:45:00</td>\n",
              "      <td>3.75</td>\n",
              "      <td>12583.0</td>\n",
              "      <td>France</td>\n",
              "      <td>75</td>\n",
              "      <td>Hermès International</td>\n",
              "      <td>Consumer discretionary</td>\n",
              "      <td>88.2</td>\n",
              "      <td>10.6</td>\n",
              "      <td>13.7</td>\n",
              "      <td>90.00</td>\n",
              "      <td>373 days 04:05:00</td>\n",
              "    </tr>\n",
              "    <tr>\n",
              "      <th>1</th>\n",
              "      <td>536370</td>\n",
              "      <td>22728</td>\n",
              "      <td>ALARM CLOCK BAKELIKE PINK</td>\n",
              "      <td>24</td>\n",
              "      <td>2010-12-01 08:45:00</td>\n",
              "      <td>3.75</td>\n",
              "      <td>12583.0</td>\n",
              "      <td>France</td>\n",
              "      <td>95</td>\n",
              "      <td>L'Oréal</td>\n",
              "      <td>Consumer staples</td>\n",
              "      <td>173.4</td>\n",
              "      <td>8.8</td>\n",
              "      <td>5.3</td>\n",
              "      <td>90.00</td>\n",
              "      <td>373 days 04:05:00</td>\n",
              "    </tr>\n",
              "    <tr>\n",
              "      <th>2</th>\n",
              "      <td>536370</td>\n",
              "      <td>22727</td>\n",
              "      <td>ALARM CLOCK BAKELIKE RED</td>\n",
              "      <td>24</td>\n",
              "      <td>2010-12-01 08:45:00</td>\n",
              "      <td>3.75</td>\n",
              "      <td>12583.0</td>\n",
              "      <td>France</td>\n",
              "      <td>75</td>\n",
              "      <td>Hermès International</td>\n",
              "      <td>Consumer discretionary</td>\n",
              "      <td>88.2</td>\n",
              "      <td>10.6</td>\n",
              "      <td>13.7</td>\n",
              "      <td>90.00</td>\n",
              "      <td>373 days 04:05:00</td>\n",
              "    </tr>\n",
              "    <tr>\n",
              "      <th>3</th>\n",
              "      <td>536370</td>\n",
              "      <td>22727</td>\n",
              "      <td>ALARM CLOCK BAKELIKE RED</td>\n",
              "      <td>24</td>\n",
              "      <td>2010-12-01 08:45:00</td>\n",
              "      <td>3.75</td>\n",
              "      <td>12583.0</td>\n",
              "      <td>France</td>\n",
              "      <td>95</td>\n",
              "      <td>L'Oréal</td>\n",
              "      <td>Consumer staples</td>\n",
              "      <td>173.4</td>\n",
              "      <td>8.8</td>\n",
              "      <td>5.3</td>\n",
              "      <td>90.00</td>\n",
              "      <td>373 days 04:05:00</td>\n",
              "    </tr>\n",
              "    <tr>\n",
              "      <th>4</th>\n",
              "      <td>536370</td>\n",
              "      <td>22726</td>\n",
              "      <td>ALARM CLOCK BAKELIKE GREEN</td>\n",
              "      <td>12</td>\n",
              "      <td>2010-12-01 08:45:00</td>\n",
              "      <td>3.75</td>\n",
              "      <td>12583.0</td>\n",
              "      <td>France</td>\n",
              "      <td>75</td>\n",
              "      <td>Hermès International</td>\n",
              "      <td>Consumer discretionary</td>\n",
              "      <td>88.2</td>\n",
              "      <td>10.6</td>\n",
              "      <td>13.7</td>\n",
              "      <td>45.00</td>\n",
              "      <td>373 days 04:05:00</td>\n",
              "    </tr>\n",
              "    <tr>\n",
              "      <th>...</th>\n",
              "      <td>...</td>\n",
              "      <td>...</td>\n",
              "      <td>...</td>\n",
              "      <td>...</td>\n",
              "      <td>...</td>\n",
              "      <td>...</td>\n",
              "      <td>...</td>\n",
              "      <td>...</td>\n",
              "      <td>...</td>\n",
              "      <td>...</td>\n",
              "      <td>...</td>\n",
              "      <td>...</td>\n",
              "      <td>...</td>\n",
              "      <td>...</td>\n",
              "      <td>...</td>\n",
              "      <td>...</td>\n",
              "    </tr>\n",
              "    <tr>\n",
              "      <th>48619</th>\n",
              "      <td>564428</td>\n",
              "      <td>23296</td>\n",
              "      <td>SET OF 6 TEA TIME BAKING CASES</td>\n",
              "      <td>8</td>\n",
              "      <td>2011-08-25 11:27:00</td>\n",
              "      <td>1.25</td>\n",
              "      <td>17844.0</td>\n",
              "      <td>Canada</td>\n",
              "      <td>81</td>\n",
              "      <td>Barrick Gold</td>\n",
              "      <td>Materials</td>\n",
              "      <td>43.1</td>\n",
              "      <td>10.1</td>\n",
              "      <td>30.7</td>\n",
              "      <td>10.00</td>\n",
              "      <td>106 days 01:23:00</td>\n",
              "    </tr>\n",
              "    <tr>\n",
              "      <th>48620</th>\n",
              "      <td>564428</td>\n",
              "      <td>23296</td>\n",
              "      <td>SET OF 6 TEA TIME BAKING CASES</td>\n",
              "      <td>8</td>\n",
              "      <td>2011-08-25 11:27:00</td>\n",
              "      <td>1.25</td>\n",
              "      <td>17844.0</td>\n",
              "      <td>Canada</td>\n",
              "      <td>87</td>\n",
              "      <td>Lululemon Athletica</td>\n",
              "      <td>Consumer discretionary</td>\n",
              "      <td>39.5</td>\n",
              "      <td>9.4</td>\n",
              "      <td>31.0</td>\n",
              "      <td>10.00</td>\n",
              "      <td>106 days 01:23:00</td>\n",
              "    </tr>\n",
              "    <tr>\n",
              "      <th>48621</th>\n",
              "      <td>564428</td>\n",
              "      <td>23294</td>\n",
              "      <td>SET OF 6 SNACK LOAF BAKING CASES</td>\n",
              "      <td>8</td>\n",
              "      <td>2011-08-25 11:27:00</td>\n",
              "      <td>0.83</td>\n",
              "      <td>17844.0</td>\n",
              "      <td>Canada</td>\n",
              "      <td>14</td>\n",
              "      <td>Shopify</td>\n",
              "      <td>Technology</td>\n",
              "      <td>97.6</td>\n",
              "      <td>51.5</td>\n",
              "      <td>111.7</td>\n",
              "      <td>6.64</td>\n",
              "      <td>106 days 01:23:00</td>\n",
              "    </tr>\n",
              "    <tr>\n",
              "      <th>48622</th>\n",
              "      <td>564428</td>\n",
              "      <td>23294</td>\n",
              "      <td>SET OF 6 SNACK LOAF BAKING CASES</td>\n",
              "      <td>8</td>\n",
              "      <td>2011-08-25 11:27:00</td>\n",
              "      <td>0.83</td>\n",
              "      <td>17844.0</td>\n",
              "      <td>Canada</td>\n",
              "      <td>81</td>\n",
              "      <td>Barrick Gold</td>\n",
              "      <td>Materials</td>\n",
              "      <td>43.1</td>\n",
              "      <td>10.1</td>\n",
              "      <td>30.7</td>\n",
              "      <td>6.64</td>\n",
              "      <td>106 days 01:23:00</td>\n",
              "    </tr>\n",
              "    <tr>\n",
              "      <th>48623</th>\n",
              "      <td>564428</td>\n",
              "      <td>23294</td>\n",
              "      <td>SET OF 6 SNACK LOAF BAKING CASES</td>\n",
              "      <td>8</td>\n",
              "      <td>2011-08-25 11:27:00</td>\n",
              "      <td>0.83</td>\n",
              "      <td>17844.0</td>\n",
              "      <td>Canada</td>\n",
              "      <td>87</td>\n",
              "      <td>Lululemon Athletica</td>\n",
              "      <td>Consumer discretionary</td>\n",
              "      <td>39.5</td>\n",
              "      <td>9.4</td>\n",
              "      <td>31.0</td>\n",
              "      <td>6.64</td>\n",
              "      <td>106 days 01:23:00</td>\n",
              "    </tr>\n",
              "  </tbody>\n",
              "</table>\n",
              "<p>47829 rows × 16 columns</p>\n",
              "</div>"
            ],
            "text/plain": [
              "      InvoiceNo StockCode  ... Amount              Diff\n",
              "0        536370     22728  ...  90.00 373 days 04:05:00\n",
              "1        536370     22728  ...  90.00 373 days 04:05:00\n",
              "2        536370     22727  ...  90.00 373 days 04:05:00\n",
              "3        536370     22727  ...  90.00 373 days 04:05:00\n",
              "4        536370     22726  ...  45.00 373 days 04:05:00\n",
              "...         ...       ...  ...    ...               ...\n",
              "48619    564428     23296  ...  10.00 106 days 01:23:00\n",
              "48620    564428     23296  ...  10.00 106 days 01:23:00\n",
              "48621    564428     23294  ...   6.64 106 days 01:23:00\n",
              "48622    564428     23294  ...   6.64 106 days 01:23:00\n",
              "48623    564428     23294  ...   6.64 106 days 01:23:00\n",
              "\n",
              "[47829 rows x 16 columns]"
            ]
          },
          "metadata": {
            "tags": []
          },
          "execution_count": 67
        }
      ]
    },
    {
      "cell_type": "code",
      "metadata": {
        "colab": {
          "base_uri": "https://localhost:8080/",
          "height": 816
        },
        "id": "xRyTddeQUVF4",
        "outputId": "627650c9-f276-437f-f302-a91ae903bed3"
      },
      "source": [
        "fig = px.sunburst(market, path=['Sector','Company'], height=800)\n",
        "fig.update_layout(title={\n",
        "    'text': \"Number of Companies per Sector\",\n",
        "    'y':0.97,\n",
        "    'x':0.5,\n",
        "    'xanchor': 'center',\n",
        "    'yanchor': 'top'},\n",
        "    showlegend=True)\n",
        "fig.show()"
      ],
      "execution_count": 68,
      "outputs": [
        {
          "output_type": "display_data",
          "data": {
            "text/html": [
              "<html>\n",
              "<head><meta charset=\"utf-8\" /></head>\n",
              "<body>\n",
              "    <div>\n",
              "            <script src=\"https://cdnjs.cloudflare.com/ajax/libs/mathjax/2.7.5/MathJax.js?config=TeX-AMS-MML_SVG\"></script><script type=\"text/javascript\">if (window.MathJax) {MathJax.Hub.Config({SVG: {font: \"STIX-Web\"}});}</script>\n",
              "                <script type=\"text/javascript\">window.PlotlyConfig = {MathJaxConfig: 'local'};</script>\n",
              "        <script src=\"https://cdn.plot.ly/plotly-latest.min.js\"></script>    \n",
              "            <div id=\"7b8485d8-8b61-4b72-b4bb-18948affb2e3\" class=\"plotly-graph-div\" style=\"height:800px; width:100%;\"></div>\n",
              "            <script type=\"text/javascript\">\n",
              "                \n",
              "                    window.PLOTLYENV=window.PLOTLYENV || {};\n",
              "                    \n",
              "                if (document.getElementById(\"7b8485d8-8b61-4b72-b4bb-18948affb2e3\")) {\n",
              "                    Plotly.newPlot(\n",
              "                        '7b8485d8-8b61-4b72-b4bb-18948affb2e3',\n",
              "                        [{\"branchvalues\": \"total\", \"domain\": {\"x\": [0.0, 1.0], \"y\": [0.0, 1.0]}, \"hoverlabel\": {\"namelength\": 0}, \"hovertemplate\": \"labels=%{label}<br>count=%{value}<br>parent=%{parent}<br>id=%{id}\", \"ids\": [\"Technology/ASML\", \"Technology/Adyen\", \"Technology/Atlassian\", \"Consumer discretionary/Audi\", \"Materials/Barrick Gold\", \"Healthcare/Chugai Pharmaceutical\", \"Healthcare/Daiichi Sankyo\", \"Consumer discretionary/Herm\\u00e8s International\", \"Consumer discretionary/Just Eat Takeaway\", \"Technology/Keyence\", \"Consumer staples/L'Or\\u00e9al\", \"Healthcare/Lonza\", \"Consumer discretionary/Lululemon Athletica\", \"Consumer staples/Nestl\\u00e9\", \"Healthcare/Novo Nordisk\", \"Consumer discretionary/Prosus\", \"Healthcare/Roche\", \"Communication services/Sea Group\", \"Technology/Shopify\", \"Communication services/Spotify\", \"Consumer staples/Unilever\", \"Communication services\", \"Consumer discretionary\", \"Consumer staples\", \"Healthcare\", \"Materials\", \"Technology\"], \"labels\": [\"ASML\", \"Adyen\", \"Atlassian\", \"Audi\", \"Barrick Gold\", \"Chugai Pharmaceutical\", \"Daiichi Sankyo\", \"Herm\\u00e8s International\", \"Just Eat Takeaway\", \"Keyence\", \"L'Or\\u00e9al\", \"Lonza\", \"Lululemon Athletica\", \"Nestl\\u00e9\", \"Novo Nordisk\", \"Prosus\", \"Roche\", \"Sea Group\", \"Shopify\", \"Spotify\", \"Unilever\", \"Communication services\", \"Consumer discretionary\", \"Consumer staples\", \"Healthcare\", \"Materials\", \"Technology\"], \"name\": \"\", \"parents\": [\"Technology\", \"Technology\", \"Technology\", \"Consumer discretionary\", \"Materials\", \"Healthcare\", \"Healthcare\", \"Consumer discretionary\", \"Consumer discretionary\", \"Technology\", \"Consumer staples\", \"Healthcare\", \"Consumer discretionary\", \"Consumer staples\", \"Healthcare\", \"Consumer discretionary\", \"Healthcare\", \"Communication services\", \"Technology\", \"Communication services\", \"Consumer staples\", \"\", \"\", \"\", \"\", \"\", \"\"], \"type\": \"sunburst\", \"values\": [2371, 2371, 1259, 9495, 151, 358, 358, 8491, 2371, 358, 8491, 1877, 151, 1877, 389, 2371, 1877, 229, 151, 462, 2371, 691, 22879, 12739, 4859, 151, 6510]}],\n",
              "                        {\"height\": 800, \"legend\": {\"tracegroupgap\": 0}, \"margin\": {\"t\": 60}, \"showlegend\": true, \"template\": {\"data\": {\"bar\": [{\"error_x\": {\"color\": \"#2a3f5f\"}, \"error_y\": {\"color\": \"#2a3f5f\"}, \"marker\": {\"line\": {\"color\": \"#E5ECF6\", \"width\": 0.5}}, \"type\": \"bar\"}], \"barpolar\": [{\"marker\": {\"line\": {\"color\": \"#E5ECF6\", \"width\": 0.5}}, \"type\": \"barpolar\"}], \"carpet\": [{\"aaxis\": {\"endlinecolor\": \"#2a3f5f\", \"gridcolor\": \"white\", \"linecolor\": \"white\", \"minorgridcolor\": \"white\", \"startlinecolor\": \"#2a3f5f\"}, \"baxis\": {\"endlinecolor\": \"#2a3f5f\", \"gridcolor\": \"white\", \"linecolor\": \"white\", \"minorgridcolor\": \"white\", \"startlinecolor\": \"#2a3f5f\"}, \"type\": \"carpet\"}], \"choropleth\": [{\"colorbar\": {\"outlinewidth\": 0, \"ticks\": \"\"}, \"type\": \"choropleth\"}], \"contour\": [{\"colorbar\": {\"outlinewidth\": 0, \"ticks\": \"\"}, \"colorscale\": [[0.0, \"#0d0887\"], [0.1111111111111111, \"#46039f\"], [0.2222222222222222, \"#7201a8\"], [0.3333333333333333, \"#9c179e\"], [0.4444444444444444, \"#bd3786\"], [0.5555555555555556, \"#d8576b\"], [0.6666666666666666, \"#ed7953\"], [0.7777777777777778, \"#fb9f3a\"], [0.8888888888888888, \"#fdca26\"], [1.0, \"#f0f921\"]], \"type\": \"contour\"}], \"contourcarpet\": [{\"colorbar\": {\"outlinewidth\": 0, \"ticks\": \"\"}, \"type\": \"contourcarpet\"}], \"heatmap\": [{\"colorbar\": {\"outlinewidth\": 0, \"ticks\": \"\"}, \"colorscale\": [[0.0, \"#0d0887\"], [0.1111111111111111, \"#46039f\"], [0.2222222222222222, \"#7201a8\"], [0.3333333333333333, \"#9c179e\"], [0.4444444444444444, \"#bd3786\"], [0.5555555555555556, \"#d8576b\"], [0.6666666666666666, \"#ed7953\"], [0.7777777777777778, \"#fb9f3a\"], [0.8888888888888888, \"#fdca26\"], [1.0, \"#f0f921\"]], \"type\": \"heatmap\"}], \"heatmapgl\": [{\"colorbar\": {\"outlinewidth\": 0, \"ticks\": \"\"}, \"colorscale\": [[0.0, \"#0d0887\"], [0.1111111111111111, \"#46039f\"], [0.2222222222222222, \"#7201a8\"], [0.3333333333333333, \"#9c179e\"], [0.4444444444444444, \"#bd3786\"], [0.5555555555555556, \"#d8576b\"], [0.6666666666666666, \"#ed7953\"], [0.7777777777777778, \"#fb9f3a\"], [0.8888888888888888, \"#fdca26\"], [1.0, \"#f0f921\"]], \"type\": \"heatmapgl\"}], \"histogram\": [{\"marker\": {\"colorbar\": {\"outlinewidth\": 0, \"ticks\": \"\"}}, \"type\": \"histogram\"}], \"histogram2d\": [{\"colorbar\": {\"outlinewidth\": 0, \"ticks\": \"\"}, \"colorscale\": [[0.0, \"#0d0887\"], [0.1111111111111111, \"#46039f\"], [0.2222222222222222, \"#7201a8\"], [0.3333333333333333, \"#9c179e\"], [0.4444444444444444, \"#bd3786\"], [0.5555555555555556, \"#d8576b\"], [0.6666666666666666, \"#ed7953\"], [0.7777777777777778, \"#fb9f3a\"], [0.8888888888888888, \"#fdca26\"], [1.0, \"#f0f921\"]], \"type\": \"histogram2d\"}], \"histogram2dcontour\": [{\"colorbar\": {\"outlinewidth\": 0, \"ticks\": \"\"}, \"colorscale\": [[0.0, \"#0d0887\"], [0.1111111111111111, \"#46039f\"], [0.2222222222222222, \"#7201a8\"], [0.3333333333333333, \"#9c179e\"], [0.4444444444444444, \"#bd3786\"], [0.5555555555555556, \"#d8576b\"], [0.6666666666666666, \"#ed7953\"], [0.7777777777777778, \"#fb9f3a\"], [0.8888888888888888, \"#fdca26\"], [1.0, \"#f0f921\"]], \"type\": \"histogram2dcontour\"}], \"mesh3d\": [{\"colorbar\": {\"outlinewidth\": 0, \"ticks\": \"\"}, \"type\": \"mesh3d\"}], \"parcoords\": [{\"line\": {\"colorbar\": {\"outlinewidth\": 0, \"ticks\": \"\"}}, \"type\": \"parcoords\"}], \"pie\": [{\"automargin\": true, \"type\": \"pie\"}], \"scatter\": [{\"marker\": {\"colorbar\": {\"outlinewidth\": 0, \"ticks\": \"\"}}, \"type\": \"scatter\"}], \"scatter3d\": [{\"line\": {\"colorbar\": {\"outlinewidth\": 0, \"ticks\": \"\"}}, \"marker\": {\"colorbar\": {\"outlinewidth\": 0, \"ticks\": \"\"}}, \"type\": \"scatter3d\"}], \"scattercarpet\": [{\"marker\": {\"colorbar\": {\"outlinewidth\": 0, \"ticks\": \"\"}}, \"type\": \"scattercarpet\"}], \"scattergeo\": [{\"marker\": {\"colorbar\": {\"outlinewidth\": 0, \"ticks\": \"\"}}, \"type\": \"scattergeo\"}], \"scattergl\": [{\"marker\": {\"colorbar\": {\"outlinewidth\": 0, \"ticks\": \"\"}}, \"type\": \"scattergl\"}], \"scattermapbox\": [{\"marker\": {\"colorbar\": {\"outlinewidth\": 0, \"ticks\": \"\"}}, \"type\": \"scattermapbox\"}], \"scatterpolar\": [{\"marker\": {\"colorbar\": {\"outlinewidth\": 0, \"ticks\": \"\"}}, \"type\": \"scatterpolar\"}], \"scatterpolargl\": [{\"marker\": {\"colorbar\": {\"outlinewidth\": 0, \"ticks\": \"\"}}, \"type\": \"scatterpolargl\"}], \"scatterternary\": [{\"marker\": {\"colorbar\": {\"outlinewidth\": 0, \"ticks\": \"\"}}, \"type\": \"scatterternary\"}], \"surface\": [{\"colorbar\": {\"outlinewidth\": 0, \"ticks\": \"\"}, \"colorscale\": [[0.0, \"#0d0887\"], [0.1111111111111111, \"#46039f\"], [0.2222222222222222, \"#7201a8\"], [0.3333333333333333, \"#9c179e\"], [0.4444444444444444, \"#bd3786\"], [0.5555555555555556, \"#d8576b\"], [0.6666666666666666, \"#ed7953\"], [0.7777777777777778, \"#fb9f3a\"], [0.8888888888888888, \"#fdca26\"], [1.0, \"#f0f921\"]], \"type\": \"surface\"}], \"table\": [{\"cells\": {\"fill\": {\"color\": \"#EBF0F8\"}, \"line\": {\"color\": \"white\"}}, \"header\": {\"fill\": {\"color\": \"#C8D4E3\"}, \"line\": {\"color\": \"white\"}}, \"type\": \"table\"}]}, \"layout\": {\"annotationdefaults\": {\"arrowcolor\": \"#2a3f5f\", \"arrowhead\": 0, \"arrowwidth\": 1}, \"coloraxis\": {\"colorbar\": {\"outlinewidth\": 0, \"ticks\": \"\"}}, \"colorscale\": {\"diverging\": [[0, \"#8e0152\"], [0.1, \"#c51b7d\"], [0.2, \"#de77ae\"], [0.3, \"#f1b6da\"], [0.4, \"#fde0ef\"], [0.5, \"#f7f7f7\"], [0.6, \"#e6f5d0\"], [0.7, \"#b8e186\"], [0.8, \"#7fbc41\"], [0.9, \"#4d9221\"], [1, \"#276419\"]], \"sequential\": [[0.0, \"#0d0887\"], [0.1111111111111111, \"#46039f\"], [0.2222222222222222, \"#7201a8\"], [0.3333333333333333, \"#9c179e\"], [0.4444444444444444, \"#bd3786\"], [0.5555555555555556, \"#d8576b\"], [0.6666666666666666, \"#ed7953\"], [0.7777777777777778, \"#fb9f3a\"], [0.8888888888888888, \"#fdca26\"], [1.0, \"#f0f921\"]], \"sequentialminus\": [[0.0, \"#0d0887\"], [0.1111111111111111, \"#46039f\"], [0.2222222222222222, \"#7201a8\"], [0.3333333333333333, \"#9c179e\"], [0.4444444444444444, \"#bd3786\"], [0.5555555555555556, \"#d8576b\"], [0.6666666666666666, \"#ed7953\"], [0.7777777777777778, \"#fb9f3a\"], [0.8888888888888888, \"#fdca26\"], [1.0, \"#f0f921\"]]}, \"colorway\": [\"#636efa\", \"#EF553B\", \"#00cc96\", \"#ab63fa\", \"#FFA15A\", \"#19d3f3\", \"#FF6692\", \"#B6E880\", \"#FF97FF\", \"#FECB52\"], \"font\": {\"color\": \"#2a3f5f\"}, \"geo\": {\"bgcolor\": \"white\", \"lakecolor\": \"white\", \"landcolor\": \"#E5ECF6\", \"showlakes\": true, \"showland\": true, \"subunitcolor\": \"white\"}, \"hoverlabel\": {\"align\": \"left\"}, \"hovermode\": \"closest\", \"mapbox\": {\"style\": \"light\"}, \"paper_bgcolor\": \"white\", \"plot_bgcolor\": \"#E5ECF6\", \"polar\": {\"angularaxis\": {\"gridcolor\": \"white\", \"linecolor\": \"white\", \"ticks\": \"\"}, \"bgcolor\": \"#E5ECF6\", \"radialaxis\": {\"gridcolor\": \"white\", \"linecolor\": \"white\", \"ticks\": \"\"}}, \"scene\": {\"xaxis\": {\"backgroundcolor\": \"#E5ECF6\", \"gridcolor\": \"white\", \"gridwidth\": 2, \"linecolor\": \"white\", \"showbackground\": true, \"ticks\": \"\", \"zerolinecolor\": \"white\"}, \"yaxis\": {\"backgroundcolor\": \"#E5ECF6\", \"gridcolor\": \"white\", \"gridwidth\": 2, \"linecolor\": \"white\", \"showbackground\": true, \"ticks\": \"\", \"zerolinecolor\": \"white\"}, \"zaxis\": {\"backgroundcolor\": \"#E5ECF6\", \"gridcolor\": \"white\", \"gridwidth\": 2, \"linecolor\": \"white\", \"showbackground\": true, \"ticks\": \"\", \"zerolinecolor\": \"white\"}}, \"shapedefaults\": {\"line\": {\"color\": \"#2a3f5f\"}}, \"ternary\": {\"aaxis\": {\"gridcolor\": \"white\", \"linecolor\": \"white\", \"ticks\": \"\"}, \"baxis\": {\"gridcolor\": \"white\", \"linecolor\": \"white\", \"ticks\": \"\"}, \"bgcolor\": \"#E5ECF6\", \"caxis\": {\"gridcolor\": \"white\", \"linecolor\": \"white\", \"ticks\": \"\"}}, \"title\": {\"x\": 0.05}, \"xaxis\": {\"automargin\": true, \"gridcolor\": \"white\", \"linecolor\": \"white\", \"ticks\": \"\", \"title\": {\"standoff\": 15}, \"zerolinecolor\": \"white\", \"zerolinewidth\": 2}, \"yaxis\": {\"automargin\": true, \"gridcolor\": \"white\", \"linecolor\": \"white\", \"ticks\": \"\", \"title\": {\"standoff\": 15}, \"zerolinecolor\": \"white\", \"zerolinewidth\": 2}}}, \"title\": {\"text\": \"Number of Companies per Sector\", \"x\": 0.5, \"xanchor\": \"center\", \"y\": 0.97, \"yanchor\": \"top\"}},\n",
              "                        {\"responsive\": true}\n",
              "                    ).then(function(){\n",
              "                            \n",
              "var gd = document.getElementById('7b8485d8-8b61-4b72-b4bb-18948affb2e3');\n",
              "var x = new MutationObserver(function (mutations, observer) {{\n",
              "        var display = window.getComputedStyle(gd).display;\n",
              "        if (!display || display === 'none') {{\n",
              "            console.log([gd, 'removed!']);\n",
              "            Plotly.purge(gd);\n",
              "            observer.disconnect();\n",
              "        }}\n",
              "}});\n",
              "\n",
              "// Listen for the removal of the full notebook cells\n",
              "var notebookContainer = gd.closest('#notebook-container');\n",
              "if (notebookContainer) {{\n",
              "    x.observe(notebookContainer, {childList: true});\n",
              "}}\n",
              "\n",
              "// Listen for the clearing of the current output cell\n",
              "var outputEl = gd.closest('.output');\n",
              "if (outputEl) {{\n",
              "    x.observe(outputEl, {childList: true});\n",
              "}}\n",
              "\n",
              "                        })\n",
              "                };\n",
              "                \n",
              "            </script>\n",
              "        </div>\n",
              "</body>\n",
              "</html>"
            ]
          },
          "metadata": {
            "tags": []
          }
        }
      ]
    },
    {
      "cell_type": "markdown",
      "metadata": {
        "id": "jVdVth2aqLW2"
      },
      "source": [
        "#Building the model\n"
      ]
    },
    {
      "cell_type": "code",
      "metadata": {
        "id": "D7_27a3KWsFA"
      },
      "source": [
        "# Importing machinelearning library\n",
        "from sklearn.preprocessing import StandardScaler, normalize\n",
        "from sklearn.cluster import KMeans\n",
        "from sklearn.decomposition import PCA\n",
        "%matplotlib inline"
      ],
      "execution_count": 138,
      "outputs": []
    },
    {
      "cell_type": "markdown",
      "metadata": {
        "id": "CEEqTR47DArO"
      },
      "source": [
        ""
      ]
    },
    {
      "cell_type": "code",
      "metadata": {
        "id": "Zewh7aFiYKhX",
        "colab": {
          "base_uri": "https://localhost:8080/"
        },
        "outputId": "0aad6a14-206f-4174-ba55-5e541b35de0a"
      },
      "source": [
        "kmeans = KMeans(n_clusters=4, max_iter=50)\n",
        "print(kmeans.fit(rfm_df_scaled))\n",
        "print(kmeans.labels_)"
      ],
      "execution_count": 139,
      "outputs": [
        {
          "output_type": "stream",
          "text": [
            "KMeans(algorithm='auto', copy_x=True, init='k-means++', max_iter=50,\n",
            "       n_clusters=4, n_init=10, n_jobs=None, precompute_distances='auto',\n",
            "       random_state=None, tol=0.0001, verbose=0)\n",
            "[1 0 3 0 2 1 0 2 0 0 0 3 0 0 1 2 0 0 0 0 2 2 0 0 3 0 0 3 2 1 0 3 3 0 0 0 1\n",
            " 3 0 3 0 3 3 0 0 3 0 0 2 3 0 0 2 0 0 0 0 2 0 2 0 2 0 0 3 0 0 0 0 0 3 0 0 0\n",
            " 0 0 0 0 0 0 3 3 2 0 2 3 2 0 1 3 0 0 2 2 3 0 2 0 1 2 0 2 0 0 3 0 0 2 0 0 0\n",
            " 2 0 0 0 2 3 0 0 0 0 3 2 2 0 2 3 3 0 0 0 1 0 2 0 0 0 0 0 0 0 0 0 0 2 2 0 3\n",
            " 0 0 0 0 3 2 0 0 3 2 0 0 0 1 0 0 1 1 3 3 2 0 2 0 0 0 0 0 3 0 0 0 3 2 0 3 0\n",
            " 0 0 3 0 0 0 0 3 3 0 0 0 3 3 0 0 1 2 2 2 2 2 0 3 2 2 0 3 0 2 3 3 0 0 2 2 3\n",
            " 2 0 0 2 2 1 3 0 2 0 0 0 0 0 0 0 3 0 2 0 1 2 3 0]\n"
          ],
          "name": "stdout"
        }
      ]
    },
    {
      "cell_type": "code",
      "metadata": {
        "id": "hjGzqWCaPFBe"
      },
      "source": [
        "# Elbow-curve/SSD\n",
        "\n",
        "ssd = []\n",
        "range_n_clusters = [2, 3, 4, 5, 6, 7, 8]\n",
        "for num_clusters in range_n_clusters:\n",
        "    kmeans = KMeans ( n_clusters=num_clusters, max_iter=50 )\n",
        "    kmeans.fit ( rfm_df_scaled )\n",
        "\n",
        "    ssd.append ( kmeans.inertia_ )"
      ],
      "execution_count": 140,
      "outputs": []
    },
    {
      "cell_type": "code",
      "metadata": {
        "id": "vBr6qtgrPL83",
        "colab": {
          "base_uri": "https://localhost:8080/",
          "height": 264
        },
        "outputId": "6cc136a7-2625-4763-f52f-cb17c802f77c"
      },
      "source": [
        "# plot the SSDs for each n_clusters\n",
        "plt.plot(ssd)\n",
        "plt.show()"
      ],
      "execution_count": 141,
      "outputs": [
        {
          "output_type": "display_data",
          "data": {
            "image/png": "[encoded data removed]",
            "text/plain": [
              "<Figure size 432x288 with 1 Axes>"
            ]
          },
          "metadata": {
            "tags": [],
            "needs_background": "light"
          }
        }
      ]
    },
    {
      "cell_type": "code",
      "metadata": {
        "colab": {
          "base_uri": "https://localhost:8080/"
        },
        "id": "BOVuL7W-TM22",
        "outputId": "887a587b-cd37-417a-f36c-d487f4f5429c"
      },
      "source": [
        "# Silhouette analysis\n",
        "from sklearn import metrics\n",
        "from sklearn.metrics import silhouette_score\n",
        "\n",
        "range_n_clusters = [2, 3, 4, 5, 6, 7, 8]\n",
        "\n",
        "for num_clusters in range_n_clusters:\n",
        "    \n",
        "    # intialise kmeans\n",
        "    kmeans = KMeans(n_clusters=num_clusters, max_iter=50)\n",
        "    kmeans.fit(rfm_df_scaled)\n",
        "    \n",
        "    cluster_labels = kmeans.labels_\n",
        "    \n",
        "    # silhouette score\n",
        "    silhouette_avg = silhouette_score(rfm_df_scaled, cluster_labels)\n",
        "    print(\"For n_clusters={0}, the silhouette score is {1}\".format(num_clusters, silhouette_avg))"
      ],
      "execution_count": 142,
      "outputs": [
        {
          "output_type": "stream",
          "text": [
            "For n_clusters=2, the silhouette score is 0.5419727051514495\n",
            "For n_clusters=3, the silhouette score is 0.5515166711749621\n",
            "For n_clusters=4, the silhouette score is 0.5238510407649032\n",
            "For n_clusters=5, the silhouette score is 0.5382588668590084\n",
            "For n_clusters=6, the silhouette score is 0.488544055596888\n",
            "For n_clusters=7, the silhouette score is 0.46475058504521566\n",
            "For n_clusters=8, the silhouette score is 0.39472348578714966\n"
          ],
          "name": "stdout"
        }
      ]
    },
    {
      "cell_type": "code",
      "metadata": {
        "colab": {
          "base_uri": "https://localhost:8080/"
        },
        "id": "a8U-bGveWe8Y",
        "outputId": "3e501052-6339-4190-a082-fefd2382c113"
      },
      "source": [
        "# Final model with k=3\n",
        "kmeans = KMeans(n_clusters=3, max_iter=50)\n",
        "kmeans.fit(rfm_df_scaled)"
      ],
      "execution_count": 143,
      "outputs": [
        {
          "output_type": "execute_result",
          "data": {
            "text/plain": [
              "KMeans(algorithm='auto', copy_x=True, init='k-means++', max_iter=50,\n",
              "       n_clusters=3, n_init=10, n_jobs=None, precompute_distances='auto',\n",
              "       random_state=None, tol=0.0001, verbose=0)"
            ]
          },
          "metadata": {
            "tags": []
          },
          "execution_count": 143
        }
      ]
    },
    {
      "cell_type": "code",
      "metadata": {
        "colab": {
          "base_uri": "https://localhost:8080/"
        },
        "id": "IKH71XQDWgT2",
        "outputId": "002cbea0-849c-4390-ccae-4c5e1a4e038d"
      },
      "source": [
        " kmeans.labels_"
      ],
      "execution_count": 144,
      "outputs": [
        {
          "output_type": "execute_result",
          "data": {
            "text/plain": [
              "array([1, 0, 0, 0, 2, 1, 0, 2, 0, 0, 0, 0, 0, 0, 1, 2, 0, 0, 0, 0, 2, 2,\n",
              "       0, 0, 0, 0, 0, 1, 2, 1, 0, 1, 0, 0, 0, 0, 1, 0, 0, 1, 0, 0, 1, 0,\n",
              "       0, 0, 0, 0, 2, 1, 0, 0, 2, 0, 0, 0, 0, 2, 0, 2, 0, 2, 0, 0, 0, 0,\n",
              "       0, 0, 0, 0, 0, 0, 0, 0, 0, 0, 0, 0, 0, 0, 1, 1, 2, 0, 2, 0, 2, 0,\n",
              "       1, 0, 0, 0, 2, 2, 0, 0, 2, 0, 1, 2, 0, 2, 0, 0, 0, 0, 0, 2, 0, 0,\n",
              "       0, 2, 0, 0, 0, 2, 0, 0, 0, 0, 0, 1, 2, 2, 0, 2, 0, 0, 0, 0, 0, 1,\n",
              "       0, 2, 0, 0, 0, 0, 0, 0, 0, 2, 0, 0, 2, 2, 0, 0, 0, 0, 0, 0, 0, 2,\n",
              "       0, 0, 0, 2, 0, 0, 0, 1, 0, 0, 1, 1, 0, 0, 2, 0, 2, 0, 0, 0, 0, 0,\n",
              "       1, 0, 0, 0, 0, 2, 0, 0, 0, 0, 0, 1, 0, 0, 0, 0, 0, 0, 0, 0, 0, 0,\n",
              "       0, 0, 0, 1, 2, 2, 2, 2, 2, 0, 0, 2, 2, 0, 1, 0, 2, 0, 0, 0, 0, 2,\n",
              "       2, 1, 2, 0, 0, 2, 2, 1, 1, 0, 2, 0, 0, 0, 0, 0, 0, 0, 1, 0, 2, 0,\n",
              "       1, 2, 1, 0], dtype=int32)"
            ]
          },
          "metadata": {
            "tags": []
          },
          "execution_count": 144
        }
      ]
    },
    {
      "cell_type": "code",
      "metadata": {
        "colab": {
          "base_uri": "https://localhost:8080/",
          "height": 202
        },
        "id": "R_UCbWdkWj7q",
        "outputId": "7f46a3c4-a00a-460b-ab35-245eaabd2d3b"
      },
      "source": [
        "# assign the label\n",
        "rfm['Cluster_Id'] = kmeans.labels_\n",
        "rfm.head()"
      ],
      "execution_count": 145,
      "outputs": [
        {
          "output_type": "execute_result",
          "data": {
            "text/html": [
              "<div>\n",
              "<style scoped>\n",
              "    .dataframe tbody tr th:only-of-type {\n",
              "        vertical-align: middle;\n",
              "    }\n",
              "\n",
              "    .dataframe tbody tr th {\n",
              "        vertical-align: top;\n",
              "    }\n",
              "\n",
              "    .dataframe thead th {\n",
              "        text-align: right;\n",
              "    }\n",
              "</style>\n",
              "<table border=\"1\" class=\"dataframe\">\n",
              "  <thead>\n",
              "    <tr style=\"text-align: right;\">\n",
              "      <th></th>\n",
              "      <th>CustomerID</th>\n",
              "      <th>Amount</th>\n",
              "      <th>Frequency</th>\n",
              "      <th>Recency</th>\n",
              "      <th>Cluster_Id</th>\n",
              "      <th>Cluster_Labels</th>\n",
              "    </tr>\n",
              "  </thead>\n",
              "  <tbody>\n",
              "    <tr>\n",
              "      <th>0</th>\n",
              "      <td>12357.0</td>\n",
              "      <td>18623.01</td>\n",
              "      <td>393</td>\n",
              "      <td>32</td>\n",
              "      <td>1</td>\n",
              "      <td>0</td>\n",
              "    </tr>\n",
              "    <tr>\n",
              "      <th>1</th>\n",
              "      <td>12367.0</td>\n",
              "      <td>168.90</td>\n",
              "      <td>11</td>\n",
              "      <td>3</td>\n",
              "      <td>0</td>\n",
              "      <td>0</td>\n",
              "    </tr>\n",
              "    <tr>\n",
              "      <th>2</th>\n",
              "      <td>12371.0</td>\n",
              "      <td>5663.88</td>\n",
              "      <td>189</td>\n",
              "      <td>44</td>\n",
              "      <td>0</td>\n",
              "      <td>0</td>\n",
              "    </tr>\n",
              "    <tr>\n",
              "      <th>3</th>\n",
              "      <td>12372.0</td>\n",
              "      <td>1298.04</td>\n",
              "      <td>52</td>\n",
              "      <td>71</td>\n",
              "      <td>0</td>\n",
              "      <td>0</td>\n",
              "    </tr>\n",
              "    <tr>\n",
              "      <th>4</th>\n",
              "      <td>12377.0</td>\n",
              "      <td>4884.36</td>\n",
              "      <td>231</td>\n",
              "      <td>314</td>\n",
              "      <td>2</td>\n",
              "      <td>0</td>\n",
              "    </tr>\n",
              "  </tbody>\n",
              "</table>\n",
              "</div>"
            ],
            "text/plain": [
              "  CustomerID    Amount  Frequency  Recency  Cluster_Id  Cluster_Labels\n",
              "0    12357.0  18623.01        393       32           1               0\n",
              "1    12367.0    168.90         11        3           0               0\n",
              "2    12371.0   5663.88        189       44           0               0\n",
              "3    12372.0   1298.04         52       71           0               0\n",
              "4    12377.0   4884.36        231      314           2               0"
            ]
          },
          "metadata": {
            "tags": []
          },
          "execution_count": 145
        }
      ]
    },
    {
      "cell_type": "code",
      "metadata": {
        "colab": {
          "base_uri": "https://localhost:8080/",
          "height": 297
        },
        "id": "svXSZCKBWnu2",
        "outputId": "072356d4-3d2c-46ab-e729-8606ea805e3e"
      },
      "source": [
        "# Box plot to visualize Cluster Id vs Frequency\n",
        "\n",
        "sns.boxplot(x='Cluster_Id', y='Amount', data=rfm)"
      ],
      "execution_count": 146,
      "outputs": [
        {
          "output_type": "execute_result",
          "data": {
            "text/plain": [
              "<matplotlib.axes._subplots.AxesSubplot at 0x7f3782500650>"
            ]
          },
          "metadata": {
            "tags": []
          },
          "execution_count": 146
        },
        {
          "output_type": "display_data",
          "data": {
            "image/png": "[encoded data removed]",
            "text/plain": [
              "<Figure size 432x288 with 1 Axes>"
            ]
          },
          "metadata": {
            "tags": [],
            "needs_background": "light"
          }
        }
      ]
    },
    {
      "cell_type": "code",
      "metadata": {
        "colab": {
          "base_uri": "https://localhost:8080/",
          "height": 297
        },
        "id": "twehNfzNWruk",
        "outputId": "f31388a6-e8d1-4265-8632-538289b3abec"
      },
      "source": [
        "# Box plot to visualize Cluster Id vs Frequency\n",
        "\n",
        "sns.boxplot(x='Cluster_Id', y='Frequency', data=rfm)"
      ],
      "execution_count": 147,
      "outputs": [
        {
          "output_type": "execute_result",
          "data": {
            "text/plain": [
              "<matplotlib.axes._subplots.AxesSubplot at 0x7f377c888310>"
            ]
          },
          "metadata": {
            "tags": []
          },
          "execution_count": 147
        },
        {
          "output_type": "display_data",
          "data": {
            "image/png": "[encoded data removed]",
            "text/plain": [
              "<Figure size 432x288 with 1 Axes>"
            ]
          },
          "metadata": {
            "tags": [],
            "needs_background": "light"
          }
        }
      ]
    },
    {
      "cell_type": "code",
      "metadata": {
        "colab": {
          "base_uri": "https://localhost:8080/",
          "height": 297
        },
        "id": "N2XRIHd7Wvp1",
        "outputId": "ee0b0eb4-12e7-47c6-eb6d-5f4e432140f9"
      },
      "source": [
        "# Box plot to visualize Cluster Id vs Recency\n",
        "\n",
        "sns.boxplot(x='Cluster_Id', y='Recency', data=rfm)"
      ],
      "execution_count": 148,
      "outputs": [
        {
          "output_type": "execute_result",
          "data": {
            "text/plain": [
              "<matplotlib.axes._subplots.AxesSubplot at 0x7f3779a96690>"
            ]
          },
          "metadata": {
            "tags": []
          },
          "execution_count": 148
        },
        {
          "output_type": "display_data",
          "data": {
            "image/png": "[encoded data removed]",
            "text/plain": [
              "<Figure size 432x288 with 1 Axes>"
            ]
          },
          "metadata": {
            "tags": [],
            "needs_background": "light"
          }
        }
      ]
    },
    {
      "cell_type": "code",
      "metadata": {
        "colab": {
          "base_uri": "https://localhost:8080/",
          "height": 264
        },
        "id": "BlBdzDNjWz7V",
        "outputId": "58b2e4be-6c75-403c-9a65-19790a95ccf2"
      },
      "source": [
        "# Single linkage: \n",
        "from scipy.cluster.hierarchy import linkage\n",
        "from scipy.cluster.hierarchy import dendrogram\n",
        "mergings = linkage(rfm_df_scaled, method=\"single\", metric='euclidean')\n",
        "dendrogram(mergings)\n",
        "plt.show()"
      ],
      "execution_count": 149,
      "outputs": [
        {
          "output_type": "display_data",
          "data": {
            "image/png": "[encoded data removed]",
            "text/plain": [
              "<Figure size 432x288 with 1 Axes>"
            ]
          },
          "metadata": {
            "tags": [],
            "needs_background": "light"
          }
        }
      ]
    },
    {
      "cell_type": "markdown",
      "metadata": {
        "id": "-zDYF6zdYKpm"
      },
      "source": [
        "Complete Linkage\n",
        "\n",
        "In complete linkage hierarchical clustering, the distance between two clusters is defined as the longest distance between two points in each cluster. For example, the distance between clusters “r” and “s” to the left is equal to the length of the arrow between their two furthest points.\n"
      ]
    },
    {
      "cell_type": "code",
      "metadata": {
        "colab": {
          "base_uri": "https://localhost:8080/",
          "height": 264
        },
        "id": "2JCA4BzMYIAt",
        "outputId": "e11a0dca-416f-49ac-91ee-f8ac077e9baa"
      },
      "source": [
        "# Complete linkage\n",
        "\n",
        "mergings = linkage(rfm_df_scaled, method=\"complete\", metric='euclidean')\n",
        "dendrogram(mergings)\n",
        "plt.show()"
      ],
      "execution_count": 150,
      "outputs": [
        {
          "output_type": "display_data",
          "data": {
            "image/png": "[encoded data removed]",
            "text/plain": [
              "<Figure size 432x288 with 1 Axes>"
            ]
          },
          "metadata": {
            "tags": [],
            "needs_background": "light"
          }
        }
      ]
    },
    {
      "cell_type": "code",
      "metadata": {
        "colab": {
          "base_uri": "https://localhost:8080/",
          "height": 264
        },
        "id": "CNquaoD4Yw7f",
        "outputId": "23c03d44-fb64-4192-f8bc-c3b1b29ed814"
      },
      "source": [
        "# Average linkage\n",
        "\n",
        "mergings = linkage(rfm_df_scaled, method=\"average\", metric='euclidean')\n",
        "dendrogram(mergings)\n",
        "plt.show()"
      ],
      "execution_count": 151,
      "outputs": [
        {
          "output_type": "display_data",
          "data": {
            "image/png": "[encoded data removed]",
            "text/plain": [
              "<Figure size 432x288 with 1 Axes>"
            ]
          },
          "metadata": {
            "tags": [],
            "needs_background": "light"
          }
        }
      ]
    },
    {
      "cell_type": "code",
      "metadata": {
        "colab": {
          "base_uri": "https://localhost:8080/"
        },
        "id": "HWMpcHcUY4DV",
        "outputId": "7d6588dc-29dc-4433-87c9-375c227de80d"
      },
      "source": [
        "# 3 clusters\n",
        "from scipy.cluster.hierarchy import cut_tree\n",
        "cluster_labels = kmeans.labels_\n",
        "cluster_labels = cut_tree(mergings, n_clusters=3).reshape(-1, )\n",
        "cluster_labels"
      ],
      "execution_count": 152,
      "outputs": [
        {
          "output_type": "execute_result",
          "data": {
            "text/plain": [
              "array([0, 0, 0, 0, 0, 0, 0, 0, 0, 0, 0, 0, 0, 0, 1, 0, 0, 0, 0, 0, 0, 0,\n",
              "       0, 0, 0, 0, 0, 0, 0, 2, 0, 0, 0, 0, 0, 0, 0, 0, 0, 0, 0, 0, 0, 0,\n",
              "       0, 0, 0, 0, 0, 0, 0, 0, 0, 0, 0, 0, 0, 0, 0, 0, 0, 0, 0, 0, 0, 0,\n",
              "       0, 0, 0, 0, 0, 0, 0, 0, 0, 0, 0, 0, 0, 0, 0, 0, 0, 0, 0, 0, 0, 0,\n",
              "       2, 0, 0, 0, 0, 0, 0, 0, 0, 0, 0, 0, 0, 0, 0, 0, 0, 0, 0, 0, 0, 0,\n",
              "       0, 0, 0, 0, 0, 0, 0, 0, 0, 0, 0, 0, 0, 0, 0, 0, 0, 0, 0, 0, 0, 0,\n",
              "       0, 0, 0, 0, 0, 0, 0, 0, 0, 0, 0, 0, 0, 0, 0, 0, 0, 0, 0, 0, 0, 0,\n",
              "       0, 0, 0, 0, 0, 0, 0, 1, 0, 0, 2, 0, 0, 0, 0, 0, 0, 0, 0, 0, 0, 0,\n",
              "       0, 0, 0, 0, 0, 0, 0, 0, 0, 0, 0, 0, 0, 0, 0, 0, 0, 0, 0, 0, 0, 0,\n",
              "       0, 0, 0, 1, 0, 0, 0, 0, 0, 0, 0, 0, 0, 0, 0, 0, 0, 0, 0, 0, 0, 0,\n",
              "       0, 1, 0, 0, 0, 0, 0, 0, 0, 0, 0, 0, 0, 0, 0, 0, 0, 0, 0, 0, 0, 0,\n",
              "       1, 0, 0, 0])"
            ]
          },
          "metadata": {
            "tags": []
          },
          "execution_count": 152
        }
      ]
    },
    {
      "cell_type": "code",
      "metadata": {
        "colab": {
          "base_uri": "https://localhost:8080/",
          "height": 202
        },
        "id": "1YKwoDvbZqYd",
        "outputId": "7e35d4ec-9cd5-4d07-806b-a00b51a6bb2b"
      },
      "source": [
        "# Assign cluster labels\n",
        "\n",
        "rfm['Cluster_Labels'] = cluster_labels\n",
        "rfm.head()"
      ],
      "execution_count": 153,
      "outputs": [
        {
          "output_type": "execute_result",
          "data": {
            "text/html": [
              "<div>\n",
              "<style scoped>\n",
              "    .dataframe tbody tr th:only-of-type {\n",
              "        vertical-align: middle;\n",
              "    }\n",
              "\n",
              "    .dataframe tbody tr th {\n",
              "        vertical-align: top;\n",
              "    }\n",
              "\n",
              "    .dataframe thead th {\n",
              "        text-align: right;\n",
              "    }\n",
              "</style>\n",
              "<table border=\"1\" class=\"dataframe\">\n",
              "  <thead>\n",
              "    <tr style=\"text-align: right;\">\n",
              "      <th></th>\n",
              "      <th>CustomerID</th>\n",
              "      <th>Amount</th>\n",
              "      <th>Frequency</th>\n",
              "      <th>Recency</th>\n",
              "      <th>Cluster_Id</th>\n",
              "      <th>Cluster_Labels</th>\n",
              "    </tr>\n",
              "  </thead>\n",
              "  <tbody>\n",
              "    <tr>\n",
              "      <th>0</th>\n",
              "      <td>12357.0</td>\n",
              "      <td>18623.01</td>\n",
              "      <td>393</td>\n",
              "      <td>32</td>\n",
              "      <td>1</td>\n",
              "      <td>0</td>\n",
              "    </tr>\n",
              "    <tr>\n",
              "      <th>1</th>\n",
              "      <td>12367.0</td>\n",
              "      <td>168.90</td>\n",
              "      <td>11</td>\n",
              "      <td>3</td>\n",
              "      <td>0</td>\n",
              "      <td>0</td>\n",
              "    </tr>\n",
              "    <tr>\n",
              "      <th>2</th>\n",
              "      <td>12371.0</td>\n",
              "      <td>5663.88</td>\n",
              "      <td>189</td>\n",
              "      <td>44</td>\n",
              "      <td>0</td>\n",
              "      <td>0</td>\n",
              "    </tr>\n",
              "    <tr>\n",
              "      <th>3</th>\n",
              "      <td>12372.0</td>\n",
              "      <td>1298.04</td>\n",
              "      <td>52</td>\n",
              "      <td>71</td>\n",
              "      <td>0</td>\n",
              "      <td>0</td>\n",
              "    </tr>\n",
              "    <tr>\n",
              "      <th>4</th>\n",
              "      <td>12377.0</td>\n",
              "      <td>4884.36</td>\n",
              "      <td>231</td>\n",
              "      <td>314</td>\n",
              "      <td>2</td>\n",
              "      <td>0</td>\n",
              "    </tr>\n",
              "  </tbody>\n",
              "</table>\n",
              "</div>"
            ],
            "text/plain": [
              "  CustomerID    Amount  Frequency  Recency  Cluster_Id  Cluster_Labels\n",
              "0    12357.0  18623.01        393       32           1               0\n",
              "1    12367.0    168.90         11        3           0               0\n",
              "2    12371.0   5663.88        189       44           0               0\n",
              "3    12372.0   1298.04         52       71           0               0\n",
              "4    12377.0   4884.36        231      314           2               0"
            ]
          },
          "metadata": {
            "tags": []
          },
          "execution_count": 153
        }
      ]
    },
    {
      "cell_type": "code",
      "metadata": {
        "colab": {
          "base_uri": "https://localhost:8080/",
          "height": 297
        },
        "id": "kivVfJ2SZsRv",
        "outputId": "8fdba8e8-cca6-4b6d-8e73-8d192a299a58"
      },
      "source": [
        "# Plot Cluster Id vs Amount\n",
        "\n",
        "sns.boxplot(x='Cluster_Labels', y='Amount', data=rfm)"
      ],
      "execution_count": 154,
      "outputs": [
        {
          "output_type": "execute_result",
          "data": {
            "text/plain": [
              "<matplotlib.axes._subplots.AxesSubplot at 0x7f378240e350>"
            ]
          },
          "metadata": {
            "tags": []
          },
          "execution_count": 154
        },
        {
          "output_type": "display_data",
          "data": {
            "image/png": "[encoded data removed]",
            "text/plain": [
              "<Figure size 432x288 with 1 Axes>"
            ]
          },
          "metadata": {
            "tags": [],
            "needs_background": "light"
          }
        }
      ]
    },
    {
      "cell_type": "code",
      "metadata": {
        "colab": {
          "base_uri": "https://localhost:8080/",
          "height": 297
        },
        "id": "tUwMIPJ4Zwxq",
        "outputId": "871c8263-794f-40d6-b500-28353c364acd"
      },
      "source": [
        "# Plot Cluster Id vs Frequency\n",
        "\n",
        "sns.boxplot(x='Cluster_Labels', y='Frequency', data=rfm)"
      ],
      "execution_count": 155,
      "outputs": [
        {
          "output_type": "execute_result",
          "data": {
            "text/plain": [
              "<matplotlib.axes._subplots.AxesSubplot at 0x7f377af7f290>"
            ]
          },
          "metadata": {
            "tags": []
          },
          "execution_count": 155
        },
        {
          "output_type": "display_data",
          "data": {
            "image/png": "[encoded data removed]",
            "text/plain": [
              "<Figure size 432x288 with 1 Axes>"
            ]
          },
          "metadata": {
            "tags": [],
            "needs_background": "light"
          }
        }
      ]
    },
    {
      "cell_type": "code",
      "metadata": {
        "colab": {
          "base_uri": "https://localhost:8080/",
          "height": 297
        },
        "id": "qPfsnaatZ6Q1",
        "outputId": "713d5c89-0799-45fd-c4e0-949ec7b64f1a"
      },
      "source": [
        "# Plot Cluster Id vs Recency\n",
        "\n",
        "sns.boxplot(x='Cluster_Labels', y='Recency', data=rfm)"
      ],
      "execution_count": 156,
      "outputs": [
        {
          "output_type": "execute_result",
          "data": {
            "text/plain": [
              "<matplotlib.axes._subplots.AxesSubplot at 0x7f377cab6590>"
            ]
          },
          "metadata": {
            "tags": []
          },
          "execution_count": 156
        },
        {
          "output_type": "display_data",
          "data": {
            "image/png": "[encoded data removed]",
            "text/plain": [
              "<Figure size 432x288 with 1 Axes>"
            ]
          },
          "metadata": {
            "tags": [],
            "needs_background": "light"
          }
        }
      ]
    },
    {
      "cell_type": "markdown",
      "metadata": {
        "id": "HK-NzNQBaBlw"
      },
      "source": [
        "#Conclusion: First part\n",
        "##K-Means Clustering with 3 Cluster Ids\n",
        "\n",
        "Customers with Cluster Id 1 are the customers with high amount of transactions as compared to other customers.\n",
        "Customers with Cluster Id 1 are frequent buyers.\n",
        "Customers with Cluster Id 2 are not recent buyers and hence least of importance from business point of view.\n",
        "##Hierarchical Clustering with 3 Cluster Labels\n",
        "\n",
        "Customers with Cluster_Labels 2 are the customers with high amount of transactions as compared to other customers.\n",
        "Customers with Cluster_Labels 2 are frequent buyers.\n",
        "Customers with Cluster_Labels 0 are not recent buyers and hence least of importance from business point of view."
      ]
    },
    {
      "cell_type": "code",
      "metadata": {
        "colab": {
          "base_uri": "https://localhost:8080/",
          "height": 1000
        },
        "id": "2wCTNCixY4-3",
        "outputId": "21adfa35-15fc-4b44-f5f7-85525b7250a4"
      },
      "source": [
        "!pip install evalml"
      ],
      "execution_count": 161,
      "outputs": [
        {
          "output_type": "stream",
          "text": [
            "Collecting evalml\n",
            "\u001b[?25l  Downloading https://files.pythonhosted.org/packages/3e/b1/73b83b1b2061534eecabeb2f01a72af60b0b2c15eaa834d9ecb16698526a/evalml-0.28.0-py3-none-any.whl (6.2MB)\n",
            "\u001b[K     |████████████████████████████████| 6.2MB 6.1MB/s \n",
            "\u001b[?25hCollecting texttable>=1.6.2\n",
            "  Downloading https://files.pythonhosted.org/packages/06/f5/46201c428aebe0eecfa83df66bf3e6caa29659dbac5a56ddfd83cae0d4a4/texttable-1.6.3-py2.py3-none-any.whl\n",
            "Collecting scikit-learn>=0.24.0\n",
            "\u001b[?25l  Downloading https://files.pythonhosted.org/packages/a8/eb/a48f25c967526b66d5f1fa7a984594f0bf0a5afafa94a8c4dbc317744620/scikit_learn-0.24.2-cp37-cp37m-manylinux2010_x86_64.whl (22.3MB)\n",
            "\u001b[K     |████████████████████████████████| 22.3MB 1.9MB/s \n",
            "\u001b[?25hCollecting nlp-primitives>=1.1.0\n",
            "\u001b[?25l  Downloading https://files.pythonhosted.org/packages/a0/b8/c5465a6ed6d5fce76703e62d60fde588cee1af65a8a3d7340b26e1a1c290/nlp_primitives-1.1.0-py3-none-any.whl (18.0MB)\n",
            "\u001b[K     |████████████████████████████████| 18.0MB 110kB/s \n",
            "\u001b[?25hCollecting imbalanced-learn>=0.8.0\n",
            "\u001b[?25l  Downloading https://files.pythonhosted.org/packages/80/98/dc784205a7e3034e84d41ac4781660c67ad6327f2f5a80c568df31673d1c/imbalanced_learn-0.8.0-py3-none-any.whl (206kB)\n",
            "\u001b[K     |████████████████████████████████| 215kB 53.4MB/s \n",
            "\u001b[?25hCollecting cloudpickle>=1.5.0\n",
            "  Downloading https://files.pythonhosted.org/packages/e7/e3/898487e5dbeb612054cf2e0c188463acb358167fef749c53c8bb8918cea1/cloudpickle-1.6.0-py3-none-any.whl\n",
            "Collecting kaleido>=0.1.0\n",
            "\u001b[?25l  Downloading https://files.pythonhosted.org/packages/ae/b3/a0f0f4faac229b0011d8c4a7ee6da7c2dca0b6fd08039c95920846f23ca4/kaleido-0.2.1-py2.py3-none-manylinux1_x86_64.whl (79.9MB)\n",
            "\u001b[K     |████████████████████████████████| 79.9MB 105kB/s \n",
            "\u001b[?25hCollecting lightgbm>=2.3.1\n",
            "\u001b[?25l  Downloading https://files.pythonhosted.org/packages/18/b2/fff8370f48549ce223f929fe8cab4ee6bf285a41f86037d91312b48ed95b/lightgbm-3.2.1-py3-none-manylinux1_x86_64.whl (2.0MB)\n",
            "\u001b[K     |████████████████████████████████| 2.0MB 45.4MB/s \n",
            "\u001b[?25hCollecting pmdarima==1.8.0\n",
            "\u001b[?25l  Downloading https://files.pythonhosted.org/packages/e4/a8/bdf15174e35d072e145d16388b1d3bc7605b752610170cb022a290411427/pmdarima-1.8.0-cp37-cp37m-manylinux1_x86_64.whl (1.5MB)\n",
            "\u001b[K     |████████████████████████████████| 1.5MB 36.9MB/s \n",
            "\u001b[?25hRequirement already satisfied: seaborn>=0.11.1 in /usr/local/lib/python3.7/dist-packages (from evalml) (0.11.1)\n",
            "Requirement already satisfied: ipywidgets>=7.5 in /usr/local/lib/python3.7/dist-packages (from evalml) (7.6.3)\n",
            "Requirement already satisfied: scipy>=1.3.3 in /usr/local/lib/python3.7/dist-packages (from evalml) (1.4.1)\n",
            "Collecting graphviz>=0.13\n",
            "  Downloading https://files.pythonhosted.org/packages/86/86/89ba50ba65928001d3161f23bfa03945ed18ea13a1d1d44a772ff1fa4e7a/graphviz-0.16-py2.py3-none-any.whl\n",
            "Collecting statsmodels>=0.12.2\n",
            "\u001b[?25l  Downloading https://files.pythonhosted.org/packages/da/69/8eef30a6237c54f3c0b524140e2975f4b1eea3489b45eb3339574fc8acee/statsmodels-0.12.2-cp37-cp37m-manylinux1_x86_64.whl (9.5MB)\n",
            "\u001b[K     |████████████████████████████████| 9.5MB 45.7MB/s \n",
            "\u001b[?25hCollecting xgboost<1.3.0,>=1.1.0\n",
            "\u001b[?25l  Downloading https://files.pythonhosted.org/packages/35/cc/fd3d5fc6b6616a03385a0f6492cc77a253940d1026406ecc07597095e381/xgboost-1.2.1-py3-none-manylinux2010_x86_64.whl (148.9MB)\n",
            "\u001b[K     |████████████████████████████████| 148.9MB 102kB/s \n",
            "\u001b[?25hRequirement already satisfied: pyzmq>=20.0.0 in /usr/local/lib/python3.7/dist-packages (from evalml) (22.1.0)\n",
            "Requirement already satisfied: networkx>=2.5 in /usr/local/lib/python3.7/dist-packages (from evalml) (2.5.1)\n",
            "Collecting plotly>=5.0.0\n",
            "\u001b[?25l  Downloading https://files.pythonhosted.org/packages/95/8d/ac1560f7ccc2ace85cd1e9619bbec1975b5d2d92e6c6fdbbdaa994c6ab4d/plotly-5.1.0-py2.py3-none-any.whl (20.6MB)\n",
            "\u001b[K     |████████████████████████████████| 20.6MB 1.5MB/s \n",
            "\u001b[?25hRequirement already satisfied: click>=7.1.2 in /usr/local/lib/python3.7/dist-packages (from evalml) (7.1.2)\n",
            "Collecting psutil>=5.6.6\n",
            "\u001b[?25l  Downloading https://files.pythonhosted.org/packages/84/da/f7efdcf012b51506938553dbe302aecc22f3f43abd5cffa8320e8e0588d5/psutil-5.8.0-cp37-cp37m-manylinux2010_x86_64.whl (296kB)\n",
            "\u001b[K     |████████████████████████████████| 296kB 57.5MB/s \n",
            "\u001b[?25hCollecting colorama>=0.4.4\n",
            "  Downloading https://files.pythonhosted.org/packages/44/98/5b86278fbbf250d239ae0ecb724f8572af1c91f4a11edf4d36a206189440/colorama-0.4.4-py2.py3-none-any.whl\n",
            "Collecting woodwork<0.5.0,>=0.4.1\n",
            "\u001b[?25l  Downloading https://files.pythonhosted.org/packages/c9/fe/6065fbef93b832af2746c761a75a04129493e7b0b1ee3b3be7755d2bd385/woodwork-0.4.2-py3-none-any.whl (128kB)\n",
            "\u001b[K     |████████████████████████████████| 133kB 55.7MB/s \n",
            "\u001b[?25hCollecting catboost>=0.20\n",
            "\u001b[?25l  Downloading https://files.pythonhosted.org/packages/5a/41/24e14322b9986cf72a8763e0a0a69cc256cf963cf9502c8f0044a62c1ae8/catboost-0.26-cp37-none-manylinux1_x86_64.whl (69.2MB)\n",
            "\u001b[K     |████████████████████████████████| 69.2MB 122kB/s \n",
            "\u001b[?25hCollecting featuretools>=0.21.0\n",
            "\u001b[?25l  Downloading https://files.pythonhosted.org/packages/32/62/ddee2eb9d55eb2aeb74d044badaa3eba6aa6e0b2672a1dbf6225c2650bbb/featuretools-0.25.0-py3-none-any.whl (299kB)\n",
            "\u001b[K     |████████████████████████████████| 307kB 55.5MB/s \n",
            "\u001b[?25hCollecting category-encoders>=2.2.2\n",
            "\u001b[?25l  Downloading https://files.pythonhosted.org/packages/44/57/fcef41c248701ee62e8325026b90c432adea35555cbc870aff9cfba23727/category_encoders-2.2.2-py2.py3-none-any.whl (80kB)\n",
            "\u001b[K     |████████████████████████████████| 81kB 13.4MB/s \n",
            "\u001b[?25hCollecting scikit-optimize>=0.8.1\n",
            "\u001b[?25l  Downloading https://files.pythonhosted.org/packages/8b/03/be33e89f55866065a02e515c5b319304a801a9f1027a9b311a9b1d1f8dc7/scikit_optimize-0.8.1-py2.py3-none-any.whl (101kB)\n",
            "\u001b[K     |████████████████████████████████| 102kB 15.7MB/s \n",
            "\u001b[?25hRequirement already satisfied: dask>=2.12.0 in /usr/local/lib/python3.7/dist-packages (from evalml) (2.12.0)\n",
            "Collecting pandas>=1.2.1\n",
            "\u001b[?25l  Downloading https://files.pythonhosted.org/packages/99/f7/01cea7f6c963100f045876eb4aa1817069c5c9eca73d2dbfb5d31ff9a39f/pandas-1.3.0-cp37-cp37m-manylinux_2_5_x86_64.manylinux1_x86_64.whl (10.8MB)\n",
            "\u001b[K     |████████████████████████████████| 10.8MB 26.8MB/s \n",
            "\u001b[?25hCollecting sktime>=0.5.3; python_version < \"3.9\"\n",
            "\u001b[?25l  Downloading https://files.pythonhosted.org/packages/be/47/1cdd9342586b1695397bc72b8602cac2f9af7a49e1b51ddb5452d23d99c9/sktime-0.6.1-cp37-cp37m-manylinux_2_17_x86_64.manylinux2014_x86_64.whl (5.7MB)\n",
            "\u001b[K     |████████████████████████████████| 5.7MB 11.5MB/s \n",
            "\u001b[?25hCollecting numpy>=1.20.0\n",
            "\u001b[?25l  Downloading https://files.pythonhosted.org/packages/3f/03/c3526fb4e79a793498829ca570f2f868204ad9a8040afcd72d82a8f121db/numpy-1.21.0-cp37-cp37m-manylinux_2_12_x86_64.manylinux2010_x86_64.whl (15.7MB)\n",
            "\u001b[K     |████████████████████████████████| 15.7MB 116kB/s \n",
            "\u001b[?25hCollecting matplotlib>=3.3.3\n",
            "\u001b[?25l  Downloading https://files.pythonhosted.org/packages/24/33/5568d443ba438d95d4db635dd69958056f087e57e1026bee56f959d53f9d/matplotlib-3.4.2-cp37-cp37m-manylinux1_x86_64.whl (10.3MB)\n",
            "\u001b[K     |████████████████████████████████| 10.3MB 45.4MB/s \n",
            "\u001b[?25hCollecting requirements-parser>=0.2.0\n",
            "  Downloading https://files.pythonhosted.org/packages/03/80/eb6ba1dd0429089436e90e556db50884ea21da060b10f2e5668c4cac99da/requirements-parser-0.2.0.tar.gz\n",
            "Collecting shap>=0.36.0\n",
            "\u001b[?25l  Downloading https://files.pythonhosted.org/packages/b9/f4/c5b95cddae15be80f8e58b25edceca105aa83c0b8c86a1edad24a6af80d3/shap-0.39.0.tar.gz (356kB)\n",
            "\u001b[K     |████████████████████████████████| 358kB 1.7MB/s \n",
            "\u001b[?25hCollecting threadpoolctl>=2.0.0\n",
            "  Downloading https://files.pythonhosted.org/packages/f7/12/ec3f2e203afa394a149911729357aa48affc59c20e2c1c8297a60f33f133/threadpoolctl-2.1.0-py3-none-any.whl\n",
            "Requirement already satisfied: joblib>=0.11 in /usr/local/lib/python3.7/dist-packages (from scikit-learn>=0.24.0->evalml) (1.0.1)\n",
            "Collecting nltk>=3.4.5\n",
            "\u001b[?25l  Downloading https://files.pythonhosted.org/packages/5e/37/9532ddd4b1bbb619333d5708aaad9bf1742f051a664c3c6fa6632a105fd8/nltk-3.6.2-py3-none-any.whl (1.5MB)\n",
            "\u001b[K     |████████████████████████████████| 1.5MB 26.3MB/s \n",
            "\u001b[?25hRequirement already satisfied: wheel in /usr/local/lib/python3.7/dist-packages (from lightgbm>=2.3.1->evalml) (0.36.2)\n",
            "Collecting Cython<0.29.18,>=0.29\n",
            "\u001b[?25l  Downloading https://files.pythonhosted.org/packages/dc/6c/198da24bf0a1d5b5ee6119e891c5300bb1b0b8904832fac9ff62d4e381c9/Cython-0.29.17-cp37-cp37m-manylinux1_x86_64.whl (2.1MB)\n",
            "\u001b[K     |████████████████████████████████| 2.1MB 23.5MB/s \n",
            "\u001b[?25hRequirement already satisfied: urllib3 in /usr/local/lib/python3.7/dist-packages (from pmdarima==1.8.0->evalml) (1.24.3)\n",
            "Requirement already satisfied: setuptools!=50.0.0,>=38.6.0 in /usr/local/lib/python3.7/dist-packages (from pmdarima==1.8.0->evalml) (57.0.0)\n",
            "Requirement already satisfied: widgetsnbextension~=3.5.0 in /usr/local/lib/python3.7/dist-packages (from ipywidgets>=7.5->evalml) (3.5.1)\n",
            "Requirement already satisfied: ipykernel>=4.5.1 in /usr/local/lib/python3.7/dist-packages (from ipywidgets>=7.5->evalml) (4.10.1)\n",
            "Requirement already satisfied: traitlets>=4.3.1 in /usr/local/lib/python3.7/dist-packages (from ipywidgets>=7.5->evalml) (5.0.5)\n",
            "Requirement already satisfied: jupyterlab-widgets>=1.0.0; python_version >= \"3.6\" in /usr/local/lib/python3.7/dist-packages (from ipywidgets>=7.5->evalml) (1.0.0)\n",
            "Requirement already satisfied: ipython>=4.0.0; python_version >= \"3.3\" in /usr/local/lib/python3.7/dist-packages (from ipywidgets>=7.5->evalml) (5.5.0)\n",
            "Requirement already satisfied: nbformat>=4.2.0 in /usr/local/lib/python3.7/dist-packages (from ipywidgets>=7.5->evalml) (5.1.3)\n",
            "Requirement already satisfied: patsy>=0.5 in /usr/local/lib/python3.7/dist-packages (from statsmodels>=0.12.2->evalml) (0.5.1)\n",
            "Requirement already satisfied: decorator<5,>=4.3 in /usr/local/lib/python3.7/dist-packages (from networkx>=2.5->evalml) (4.4.2)\n",
            "Requirement already satisfied: six in /usr/local/lib/python3.7/dist-packages (from plotly>=5.0.0->evalml) (1.15.0)\n",
            "Collecting tenacity>=6.2.0\n",
            "  Downloading https://files.pythonhosted.org/packages/41/ee/d6eddff86161c6a3a1753af4a66b06cbc508d3b77ca4698cd0374cd66531/tenacity-7.0.0-py2.py3-none-any.whl\n",
            "Collecting pyyaml>=5.4\n",
            "\u001b[?25l  Downloading https://files.pythonhosted.org/packages/7a/a5/393c087efdc78091afa2af9f1378762f9821c9c1d7a22c5753fb5ac5f97a/PyYAML-5.4.1-cp37-cp37m-manylinux1_x86_64.whl (636kB)\n",
            "\u001b[K     |████████████████████████████████| 645kB 53.5MB/s \n",
            "\u001b[?25hCollecting distributed>=2.12.0\n",
            "\u001b[?25l  Downloading https://files.pythonhosted.org/packages/14/03/104c2cb8f498165da0037fbe76581678027ea2722bac2775f04aaeafef65/distributed-2021.6.2-py3-none-any.whl (722kB)\n",
            "\u001b[K     |████████████████████████████████| 727kB 47.4MB/s \n",
            "\u001b[?25hRequirement already satisfied: tqdm>=4.32.0 in /usr/local/lib/python3.7/dist-packages (from featuretools>=0.21.0->evalml) (4.41.1)\n",
            "Collecting pyaml>=16.9\n",
            "  Downloading https://files.pythonhosted.org/packages/15/c4/1310a054d33abc318426a956e7d6df0df76a6ddfa9c66f6310274fb75d42/pyaml-20.4.0-py2.py3-none-any.whl\n",
            "Requirement already satisfied: pytz>=2017.3 in /usr/local/lib/python3.7/dist-packages (from pandas>=1.2.1->evalml) (2018.9)\n",
            "Requirement already satisfied: python-dateutil>=2.7.3 in /usr/local/lib/python3.7/dist-packages (from pandas>=1.2.1->evalml) (2.8.1)\n",
            "Requirement already satisfied: numba>=0.50 in /usr/local/lib/python3.7/dist-packages (from sktime>=0.5.3; python_version < \"3.9\"->evalml) (0.51.2)\n",
            "Requirement already satisfied: cycler>=0.10 in /usr/local/lib/python3.7/dist-packages (from matplotlib>=3.3.3->evalml) (0.10.0)\n",
            "Requirement already satisfied: kiwisolver>=1.0.1 in /usr/local/lib/python3.7/dist-packages (from matplotlib>=3.3.3->evalml) (1.3.1)\n",
            "Requirement already satisfied: pillow>=6.2.0 in /usr/local/lib/python3.7/dist-packages (from matplotlib>=3.3.3->evalml) (7.1.2)\n",
            "Requirement already satisfied: pyparsing>=2.2.1 in /usr/local/lib/python3.7/dist-packages (from matplotlib>=3.3.3->evalml) (2.4.7)\n",
            "Collecting slicer==0.0.7\n",
            "  Downloading https://files.pythonhosted.org/packages/78/c2/b3f55dfdb8af9812fdb9baf70cacf3b9e82e505b2bd4324d588888b81202/slicer-0.0.7-py3-none-any.whl\n",
            "Requirement already satisfied: regex in /usr/local/lib/python3.7/dist-packages (from nltk>=3.4.5->nlp-primitives>=1.1.0->evalml) (2019.12.20)\n",
            "Requirement already satisfied: notebook>=4.4.1 in /usr/local/lib/python3.7/dist-packages (from widgetsnbextension~=3.5.0->ipywidgets>=7.5->evalml) (5.3.1)\n",
            "Requirement already satisfied: tornado>=4.0 in /usr/local/lib/python3.7/dist-packages (from ipykernel>=4.5.1->ipywidgets>=7.5->evalml) (5.1.1)\n",
            "Requirement already satisfied: jupyter-client in /usr/local/lib/python3.7/dist-packages (from ipykernel>=4.5.1->ipywidgets>=7.5->evalml) (5.3.5)\n",
            "Requirement already satisfied: ipython-genutils in /usr/local/lib/python3.7/dist-packages (from traitlets>=4.3.1->ipywidgets>=7.5->evalml) (0.2.0)\n",
            "Requirement already satisfied: simplegeneric>0.8 in /usr/local/lib/python3.7/dist-packages (from ipython>=4.0.0; python_version >= \"3.3\"->ipywidgets>=7.5->evalml) (0.8.1)\n",
            "Requirement already satisfied: pygments in /usr/local/lib/python3.7/dist-packages (from ipython>=4.0.0; python_version >= \"3.3\"->ipywidgets>=7.5->evalml) (2.6.1)\n",
            "Requirement already satisfied: pexpect; sys_platform != \"win32\" in /usr/local/lib/python3.7/dist-packages (from ipython>=4.0.0; python_version >= \"3.3\"->ipywidgets>=7.5->evalml) (4.8.0)\n",
            "Requirement already satisfied: prompt-toolkit<2.0.0,>=1.0.4 in /usr/local/lib/python3.7/dist-packages (from ipython>=4.0.0; python_version >= \"3.3\"->ipywidgets>=7.5->evalml) (1.0.18)\n",
            "Requirement already satisfied: pickleshare in /usr/local/lib/python3.7/dist-packages (from ipython>=4.0.0; python_version >= \"3.3\"->ipywidgets>=7.5->evalml) (0.7.5)\n",
            "Requirement already satisfied: jupyter-core in /usr/local/lib/python3.7/dist-packages (from nbformat>=4.2.0->ipywidgets>=7.5->evalml) (4.7.1)\n",
            "Requirement already satisfied: jsonschema!=2.5.0,>=2.4 in /usr/local/lib/python3.7/dist-packages (from nbformat>=4.2.0->ipywidgets>=7.5->evalml) (2.6.0)\n",
            "Requirement already satisfied: msgpack>=0.6.0 in /usr/local/lib/python3.7/dist-packages (from distributed>=2.12.0->featuretools>=0.21.0->evalml) (1.0.2)\n",
            "Requirement already satisfied: zict>=0.1.3 in /usr/local/lib/python3.7/dist-packages (from distributed>=2.12.0->featuretools>=0.21.0->evalml) (2.0.0)\n",
            "Requirement already satisfied: tblib>=1.6.0 in /usr/local/lib/python3.7/dist-packages (from distributed>=2.12.0->featuretools>=0.21.0->evalml) (1.7.0)\n",
            "Requirement already satisfied: sortedcontainers!=2.0.0,!=2.0.1 in /usr/local/lib/python3.7/dist-packages (from distributed>=2.12.0->featuretools>=0.21.0->evalml) (2.4.0)\n",
            "Requirement already satisfied: toolz>=0.8.2 in /usr/local/lib/python3.7/dist-packages (from distributed>=2.12.0->featuretools>=0.21.0->evalml) (0.11.1)\n",
            "Requirement already satisfied: llvmlite<0.35,>=0.34.0.dev0 in /usr/local/lib/python3.7/dist-packages (from numba>=0.50->sktime>=0.5.3; python_version < \"3.9\"->evalml) (0.34.0)\n",
            "Requirement already satisfied: jinja2 in /usr/local/lib/python3.7/dist-packages (from notebook>=4.4.1->widgetsnbextension~=3.5.0->ipywidgets>=7.5->evalml) (2.11.3)\n",
            "Requirement already satisfied: Send2Trash in /usr/local/lib/python3.7/dist-packages (from notebook>=4.4.1->widgetsnbextension~=3.5.0->ipywidgets>=7.5->evalml) (1.5.0)\n",
            "Requirement already satisfied: nbconvert in /usr/local/lib/python3.7/dist-packages (from notebook>=4.4.1->widgetsnbextension~=3.5.0->ipywidgets>=7.5->evalml) (5.6.1)\n",
            "Requirement already satisfied: terminado>=0.8.1 in /usr/local/lib/python3.7/dist-packages (from notebook>=4.4.1->widgetsnbextension~=3.5.0->ipywidgets>=7.5->evalml) (0.10.1)\n",
            "Requirement already satisfied: ptyprocess>=0.5 in /usr/local/lib/python3.7/dist-packages (from pexpect; sys_platform != \"win32\"->ipython>=4.0.0; python_version >= \"3.3\"->ipywidgets>=7.5->evalml) (0.7.0)\n",
            "Requirement already satisfied: wcwidth in /usr/local/lib/python3.7/dist-packages (from prompt-toolkit<2.0.0,>=1.0.4->ipython>=4.0.0; python_version >= \"3.3\"->ipywidgets>=7.5->evalml) (0.2.5)\n",
            "Requirement already satisfied: heapdict in /usr/local/lib/python3.7/dist-packages (from zict>=0.1.3->distributed>=2.12.0->featuretools>=0.21.0->evalml) (1.0.1)\n",
            "Requirement already satisfied: MarkupSafe>=0.23 in /usr/local/lib/python3.7/dist-packages (from jinja2->notebook>=4.4.1->widgetsnbextension~=3.5.0->ipywidgets>=7.5->evalml) (2.0.1)\n",
            "Requirement already satisfied: defusedxml in /usr/local/lib/python3.7/dist-packages (from nbconvert->notebook>=4.4.1->widgetsnbextension~=3.5.0->ipywidgets>=7.5->evalml) (0.7.1)\n",
            "Requirement already satisfied: testpath in /usr/local/lib/python3.7/dist-packages (from nbconvert->notebook>=4.4.1->widgetsnbextension~=3.5.0->ipywidgets>=7.5->evalml) (0.5.0)\n",
            "Requirement already satisfied: pandocfilters>=1.4.1 in /usr/local/lib/python3.7/dist-packages (from nbconvert->notebook>=4.4.1->widgetsnbextension~=3.5.0->ipywidgets>=7.5->evalml) (1.4.3)\n",
            "Requirement already satisfied: bleach in /usr/local/lib/python3.7/dist-packages (from nbconvert->notebook>=4.4.1->widgetsnbextension~=3.5.0->ipywidgets>=7.5->evalml) (3.3.0)\n",
            "Requirement already satisfied: entrypoints>=0.2.2 in /usr/local/lib/python3.7/dist-packages (from nbconvert->notebook>=4.4.1->widgetsnbextension~=3.5.0->ipywidgets>=7.5->evalml) (0.3)\n",
            "Requirement already satisfied: mistune<2,>=0.8.1 in /usr/local/lib/python3.7/dist-packages (from nbconvert->notebook>=4.4.1->widgetsnbextension~=3.5.0->ipywidgets>=7.5->evalml) (0.8.4)\n",
            "Requirement already satisfied: webencodings in /usr/local/lib/python3.7/dist-packages (from bleach->nbconvert->notebook>=4.4.1->widgetsnbextension~=3.5.0->ipywidgets>=7.5->evalml) (0.5.1)\n",
            "Requirement already satisfied: packaging in /usr/local/lib/python3.7/dist-packages (from bleach->nbconvert->notebook>=4.4.1->widgetsnbextension~=3.5.0->ipywidgets>=7.5->evalml) (20.9)\n",
            "Building wheels for collected packages: requirements-parser, shap\n",
            "  Building wheel for requirements-parser (setup.py) ... \u001b[?25l\u001b[?25hdone\n",
            "  Created wheel for requirements-parser: filename=requirements_parser-0.2.0-cp37-none-any.whl size=7690 sha256=48296a8c8cf16451738563c6082c336bb120d13fb06ee04f860512de6f150f39\n",
            "  Stored in directory: /root/.cache/pip/wheels/c6/e5/ef/a12b26033eee476b7ebdd797528faa1765feae6e3b33a3954b\n",
            "  Building wheel for shap (setup.py) ... \u001b[?25l\u001b[?25hdone\n",
            "  Created wheel for shap: filename=shap-0.39.0-cp37-cp37m-linux_x86_64.whl size=491617 sha256=6016f70e6e90da66b24120d64df58b1a2791e3aba093b26b3c1dfc7febd167f0\n",
            "  Stored in directory: /root/.cache/pip/wheels/15/27/f5/a8ab9da52fd159aae6477b5ede6eaaec69fd130fa0fa59f283\n",
            "Successfully built requirements-parser shap\n",
            "\u001b[31mERROR: tensorflow 2.5.0 has requirement numpy~=1.19.2, but you'll have numpy 1.21.0 which is incompatible.\u001b[0m\n",
            "\u001b[31mERROR: google-colab 1.0.0 has requirement pandas~=1.1.0; python_version >= \"3.0\", but you'll have pandas 1.3.0 which is incompatible.\u001b[0m\n",
            "\u001b[31mERROR: distributed 2021.6.2 has requirement dask==2021.06.2, but you'll have dask 2.12.0 which is incompatible.\u001b[0m\n",
            "\u001b[31mERROR: datascience 0.10.6 has requirement folium==0.2.1, but you'll have folium 0.8.3 which is incompatible.\u001b[0m\n",
            "\u001b[31mERROR: albumentations 0.1.12 has requirement imgaug<0.2.7,>=0.2.5, but you'll have imgaug 0.2.9 which is incompatible.\u001b[0m\n",
            "\u001b[31mERROR: woodwork 0.4.2 has requirement pandas<1.2.5,>=1.2.0, but you'll have pandas 1.3.0 which is incompatible.\u001b[0m\n",
            "Installing collected packages: texttable, threadpoolctl, numpy, scikit-learn, nltk, pyyaml, psutil, cloudpickle, distributed, pandas, featuretools, nlp-primitives, imbalanced-learn, kaleido, lightgbm, statsmodels, Cython, pmdarima, graphviz, xgboost, tenacity, plotly, colorama, woodwork, matplotlib, catboost, category-encoders, pyaml, scikit-optimize, sktime, requirements-parser, slicer, shap, evalml\n",
            "  Found existing installation: numpy 1.19.5\n",
            "    Uninstalling numpy-1.19.5:\n",
            "      Successfully uninstalled numpy-1.19.5\n",
            "  Found existing installation: scikit-learn 0.22.2.post1\n",
            "    Uninstalling scikit-learn-0.22.2.post1:\n",
            "      Successfully uninstalled scikit-learn-0.22.2.post1\n",
            "  Found existing installation: nltk 3.2.5\n",
            "    Uninstalling nltk-3.2.5:\n",
            "      Successfully uninstalled nltk-3.2.5\n",
            "  Found existing installation: PyYAML 3.13\n",
            "    Uninstalling PyYAML-3.13:\n",
            "      Successfully uninstalled PyYAML-3.13\n",
            "  Found existing installation: psutil 5.4.8\n",
            "    Uninstalling psutil-5.4.8:\n",
            "      Successfully uninstalled psutil-5.4.8\n",
            "  Found existing installation: cloudpickle 1.3.0\n",
            "    Uninstalling cloudpickle-1.3.0:\n",
            "      Successfully uninstalled cloudpickle-1.3.0\n",
            "  Found existing installation: distributed 1.25.3\n",
            "    Uninstalling distributed-1.25.3:\n",
            "      Successfully uninstalled distributed-1.25.3\n",
            "  Found existing installation: pandas 1.1.5\n",
            "    Uninstalling pandas-1.1.5:\n",
            "      Successfully uninstalled pandas-1.1.5\n",
            "  Found existing installation: imbalanced-learn 0.4.3\n",
            "    Uninstalling imbalanced-learn-0.4.3:\n",
            "      Successfully uninstalled imbalanced-learn-0.4.3\n",
            "  Found existing installation: lightgbm 2.2.3\n",
            "    Uninstalling lightgbm-2.2.3:\n",
            "      Successfully uninstalled lightgbm-2.2.3\n",
            "  Found existing installation: statsmodels 0.10.2\n",
            "    Uninstalling statsmodels-0.10.2:\n",
            "      Successfully uninstalled statsmodels-0.10.2\n",
            "  Found existing installation: Cython 0.29.23\n",
            "    Uninstalling Cython-0.29.23:\n",
            "      Successfully uninstalled Cython-0.29.23\n",
            "  Found existing installation: graphviz 0.10.1\n",
            "    Uninstalling graphviz-0.10.1:\n",
            "      Successfully uninstalled graphviz-0.10.1\n",
            "  Found existing installation: xgboost 0.90\n",
            "    Uninstalling xgboost-0.90:\n",
            "      Successfully uninstalled xgboost-0.90\n",
            "  Found existing installation: plotly 4.5.2\n",
            "    Uninstalling plotly-4.5.2:\n",
            "      Successfully uninstalled plotly-4.5.2\n",
            "  Found existing installation: matplotlib 3.2.2\n",
            "    Uninstalling matplotlib-3.2.2:\n",
            "      Successfully uninstalled matplotlib-3.2.2\n",
            "Successfully installed Cython-0.29.17 catboost-0.26 category-encoders-2.2.2 cloudpickle-1.6.0 colorama-0.4.4 distributed-2021.6.2 evalml-0.28.0 featuretools-0.25.0 graphviz-0.16 imbalanced-learn-0.8.0 kaleido-0.2.1 lightgbm-3.2.1 matplotlib-3.4.2 nlp-primitives-1.1.0 nltk-3.6.2 numpy-1.21.0 pandas-1.3.0 plotly-5.1.0 pmdarima-1.8.0 psutil-5.8.0 pyaml-20.4.0 pyyaml-5.4.1 requirements-parser-0.2.0 scikit-learn-0.24.2 scikit-optimize-0.8.1 shap-0.39.0 sktime-0.6.1 slicer-0.0.7 statsmodels-0.12.2 tenacity-7.0.0 texttable-1.6.3 threadpoolctl-2.1.0 woodwork-0.4.2 xgboost-1.2.1\n"
          ],
          "name": "stdout"
        },
        {
          "output_type": "display_data",
          "data": {
            "application/vnd.colab-display-data+json": {
              "pip_warning": {
                "packages": [
                  "_plotly_utils",
                  "matplotlib",
                  "mpl_toolkits",
                  "numpy",
                  "pandas",
                  "plotly",
                  "psutil",
                  "sklearn",
                  "statsmodels"
                ]
              }
            }
          },
          "metadata": {
            "tags": []
          }
        }
      ]
    },
    {
      "cell_type": "code",
      "metadata": {
        "colab": {
          "base_uri": "https://localhost:8080/"
        },
        "id": "RUXouyDcZWyB",
        "outputId": "4fcf00cf-87bb-415b-f63f-9635a81ea04e"
      },
      "source": [
        "!pip install evalml --no-dependencies\n",
        "!pip install -r core-requirements.txt"
      ],
      "execution_count": 164,
      "outputs": [
        {
          "output_type": "stream",
          "text": [
            "Requirement already satisfied: evalml in /usr/local/lib/python3.7/dist-packages (0.28.0)\n",
            "\u001b[31mERROR: Could not open requirements file: [Errno 2] No such file or directory: 'core-requirements.txt'\u001b[0m\n"
          ],
          "name": "stdout"
        }
      ]
    },
    {
      "cell_type": "code",
      "metadata": {
        "colab": {
          "base_uri": "https://localhost:8080/"
        },
        "id": "JhEHRT4hZjLw",
        "outputId": "a75a1adb-5d9f-4ab7-9b91-b4dcae417c29"
      },
      "source": [
        "!pip install evalml[update_checker]"
      ],
      "execution_count": 166,
      "outputs": [
        {
          "output_type": "stream",
          "text": [
            "Requirement already satisfied: evalml[update_checker] in /usr/local/lib/python3.7/dist-packages (0.28.0)\n",
            "Requirement already satisfied: numpy>=1.20.0 in /usr/local/lib/python3.7/dist-packages (from evalml[update_checker]) (1.21.0)\n",
            "Requirement already satisfied: click>=7.1.2 in /usr/local/lib/python3.7/dist-packages (from evalml[update_checker]) (7.1.2)\n",
            "Requirement already satisfied: scipy>=1.3.3 in /usr/local/lib/python3.7/dist-packages (from evalml[update_checker]) (1.4.1)\n",
            "Requirement already satisfied: category-encoders>=2.2.2 in /usr/local/lib/python3.7/dist-packages (from evalml[update_checker]) (2.2.2)\n",
            "Requirement already satisfied: texttable>=1.6.2 in /usr/local/lib/python3.7/dist-packages (from evalml[update_checker]) (1.6.3)\n",
            "Requirement already satisfied: plotly>=5.0.0 in /usr/local/lib/python3.7/dist-packages (from evalml[update_checker]) (5.1.0)\n",
            "Requirement already satisfied: psutil>=5.6.6 in /usr/local/lib/python3.7/dist-packages (from evalml[update_checker]) (5.8.0)\n",
            "Requirement already satisfied: pyzmq>=20.0.0 in /usr/local/lib/python3.7/dist-packages (from evalml[update_checker]) (22.1.0)\n",
            "Requirement already satisfied: nlp-primitives>=1.1.0 in /usr/local/lib/python3.7/dist-packages (from evalml[update_checker]) (1.1.0)\n",
            "Requirement already satisfied: kaleido>=0.1.0 in /usr/local/lib/python3.7/dist-packages (from evalml[update_checker]) (0.2.1)\n",
            "Requirement already satisfied: ipywidgets>=7.5 in /usr/local/lib/python3.7/dist-packages (from evalml[update_checker]) (7.6.3)\n",
            "Requirement already satisfied: catboost>=0.20 in /usr/local/lib/python3.7/dist-packages (from evalml[update_checker]) (0.26)\n",
            "Requirement already satisfied: lightgbm>=2.3.1 in /usr/local/lib/python3.7/dist-packages (from evalml[update_checker]) (3.2.1)\n",
            "Requirement already satisfied: cloudpickle>=1.5.0 in /usr/local/lib/python3.7/dist-packages (from evalml[update_checker]) (1.6.0)\n",
            "Requirement already satisfied: requirements-parser>=0.2.0 in /usr/local/lib/python3.7/dist-packages (from evalml[update_checker]) (0.2.0)\n",
            "Requirement already satisfied: shap>=0.36.0 in /usr/local/lib/python3.7/dist-packages (from evalml[update_checker]) (0.39.0)\n",
            "Requirement already satisfied: matplotlib>=3.3.3 in /usr/local/lib/python3.7/dist-packages (from evalml[update_checker]) (3.4.2)\n",
            "Requirement already satisfied: seaborn>=0.11.1 in /usr/local/lib/python3.7/dist-packages (from evalml[update_checker]) (0.11.1)\n",
            "Requirement already satisfied: colorama>=0.4.4 in /usr/local/lib/python3.7/dist-packages (from evalml[update_checker]) (0.4.4)\n",
            "Requirement already satisfied: networkx>=2.5 in /usr/local/lib/python3.7/dist-packages (from evalml[update_checker]) (2.5.1)\n",
            "Requirement already satisfied: sktime>=0.5.3; python_version < \"3.9\" in /usr/local/lib/python3.7/dist-packages (from evalml[update_checker]) (0.6.1)\n",
            "Requirement already satisfied: graphviz>=0.13 in /usr/local/lib/python3.7/dist-packages (from evalml[update_checker]) (0.16)\n",
            "Requirement already satisfied: xgboost<1.3.0,>=1.1.0 in /usr/local/lib/python3.7/dist-packages (from evalml[update_checker]) (1.2.1)\n",
            "Requirement already satisfied: featuretools>=0.21.0 in /usr/local/lib/python3.7/dist-packages (from evalml[update_checker]) (0.25.0)\n",
            "Requirement already satisfied: scikit-learn>=0.24.0 in /usr/local/lib/python3.7/dist-packages (from evalml[update_checker]) (0.24.2)\n",
            "Requirement already satisfied: statsmodels>=0.12.2 in /usr/local/lib/python3.7/dist-packages (from evalml[update_checker]) (0.12.2)\n",
            "Requirement already satisfied: pmdarima==1.8.0 in /usr/local/lib/python3.7/dist-packages (from evalml[update_checker]) (1.8.0)\n",
            "Requirement already satisfied: woodwork<0.5.0,>=0.4.1 in /usr/local/lib/python3.7/dist-packages (from evalml[update_checker]) (0.4.2)\n",
            "Requirement already satisfied: dask>=2.12.0 in /usr/local/lib/python3.7/dist-packages (from evalml[update_checker]) (2.12.0)\n",
            "Requirement already satisfied: imbalanced-learn>=0.8.0 in /usr/local/lib/python3.7/dist-packages (from evalml[update_checker]) (0.8.0)\n",
            "Requirement already satisfied: pandas>=1.2.1 in /usr/local/lib/python3.7/dist-packages (from evalml[update_checker]) (1.3.0)\n",
            "Requirement already satisfied: scikit-optimize>=0.8.1 in /usr/local/lib/python3.7/dist-packages (from evalml[update_checker]) (0.8.1)\n",
            "Collecting alteryx-open-src-update-checker>=2.0.0; extra == \"update_checker\"\n",
            "  Downloading https://files.pythonhosted.org/packages/2d/81/b9e5b07605320557c8a287065181642d138145cac87e1d55026ccaf2dcf3/alteryx_open_src_update_checker-2.1.0-py3-none-any.whl\n",
            "Requirement already satisfied: patsy>=0.5.1 in /usr/local/lib/python3.7/dist-packages (from category-encoders>=2.2.2->evalml[update_checker]) (0.5.1)\n",
            "Requirement already satisfied: tenacity>=6.2.0 in /usr/local/lib/python3.7/dist-packages (from plotly>=5.0.0->evalml[update_checker]) (7.0.0)\n",
            "Requirement already satisfied: six in /usr/local/lib/python3.7/dist-packages (from plotly>=5.0.0->evalml[update_checker]) (1.15.0)\n",
            "Requirement already satisfied: nltk>=3.4.5 in /usr/local/lib/python3.7/dist-packages (from nlp-primitives>=1.1.0->evalml[update_checker]) (3.6.2)\n",
            "Requirement already satisfied: widgetsnbextension~=3.5.0 in /usr/local/lib/python3.7/dist-packages (from ipywidgets>=7.5->evalml[update_checker]) (3.5.1)\n",
            "Requirement already satisfied: jupyterlab-widgets>=1.0.0; python_version >= \"3.6\" in /usr/local/lib/python3.7/dist-packages (from ipywidgets>=7.5->evalml[update_checker]) (1.0.0)\n",
            "Requirement already satisfied: traitlets>=4.3.1 in /usr/local/lib/python3.7/dist-packages (from ipywidgets>=7.5->evalml[update_checker]) (5.0.5)\n",
            "Requirement already satisfied: nbformat>=4.2.0 in /usr/local/lib/python3.7/dist-packages (from ipywidgets>=7.5->evalml[update_checker]) (5.1.3)\n",
            "Requirement already satisfied: ipykernel>=4.5.1 in /usr/local/lib/python3.7/dist-packages (from ipywidgets>=7.5->evalml[update_checker]) (4.10.1)\n",
            "Requirement already satisfied: ipython>=4.0.0; python_version >= \"3.3\" in /usr/local/lib/python3.7/dist-packages (from ipywidgets>=7.5->evalml[update_checker]) (5.5.0)\n",
            "Requirement already satisfied: wheel in /usr/local/lib/python3.7/dist-packages (from lightgbm>=2.3.1->evalml[update_checker]) (0.36.2)\n",
            "Requirement already satisfied: slicer==0.0.7 in /usr/local/lib/python3.7/dist-packages (from shap>=0.36.0->evalml[update_checker]) (0.0.7)\n",
            "Requirement already satisfied: tqdm>4.25.0 in /usr/local/lib/python3.7/dist-packages (from shap>=0.36.0->evalml[update_checker]) (4.41.1)\n",
            "Requirement already satisfied: numba in /usr/local/lib/python3.7/dist-packages (from shap>=0.36.0->evalml[update_checker]) (0.51.2)\n",
            "Requirement already satisfied: cycler>=0.10 in /usr/local/lib/python3.7/dist-packages (from matplotlib>=3.3.3->evalml[update_checker]) (0.10.0)\n",
            "Requirement already satisfied: pyparsing>=2.2.1 in /usr/local/lib/python3.7/dist-packages (from matplotlib>=3.3.3->evalml[update_checker]) (2.4.7)\n",
            "Requirement already satisfied: python-dateutil>=2.7 in /usr/local/lib/python3.7/dist-packages (from matplotlib>=3.3.3->evalml[update_checker]) (2.8.1)\n",
            "Requirement already satisfied: pillow>=6.2.0 in /usr/local/lib/python3.7/dist-packages (from matplotlib>=3.3.3->evalml[update_checker]) (7.1.2)\n",
            "Requirement already satisfied: kiwisolver>=1.0.1 in /usr/local/lib/python3.7/dist-packages (from matplotlib>=3.3.3->evalml[update_checker]) (1.3.1)\n",
            "Requirement already satisfied: decorator<5,>=4.3 in /usr/local/lib/python3.7/dist-packages (from networkx>=2.5->evalml[update_checker]) (4.4.2)\n",
            "Requirement already satisfied: pyyaml>=5.4 in /usr/local/lib/python3.7/dist-packages (from featuretools>=0.21.0->evalml[update_checker]) (5.4.1)\n",
            "Requirement already satisfied: distributed>=2.12.0 in /usr/local/lib/python3.7/dist-packages (from featuretools>=0.21.0->evalml[update_checker]) (2021.6.2)\n",
            "Requirement already satisfied: joblib>=0.11 in /usr/local/lib/python3.7/dist-packages (from scikit-learn>=0.24.0->evalml[update_checker]) (1.0.1)\n",
            "Requirement already satisfied: threadpoolctl>=2.0.0 in /usr/local/lib/python3.7/dist-packages (from scikit-learn>=0.24.0->evalml[update_checker]) (2.1.0)\n",
            "Requirement already satisfied: Cython<0.29.18,>=0.29 in /usr/local/lib/python3.7/dist-packages (from pmdarima==1.8.0->evalml[update_checker]) (0.29.17)\n",
            "Requirement already satisfied: setuptools!=50.0.0,>=38.6.0 in /usr/local/lib/python3.7/dist-packages (from pmdarima==1.8.0->evalml[update_checker]) (57.0.0)\n",
            "Requirement already satisfied: urllib3 in /usr/local/lib/python3.7/dist-packages (from pmdarima==1.8.0->evalml[update_checker]) (1.24.3)\n",
            "Requirement already satisfied: pytz>=2017.3 in /usr/local/lib/python3.7/dist-packages (from pandas>=1.2.1->evalml[update_checker]) (2018.9)\n",
            "Requirement already satisfied: pyaml>=16.9 in /usr/local/lib/python3.7/dist-packages (from scikit-optimize>=0.8.1->evalml[update_checker]) (20.4.0)\n",
            "Requirement already satisfied: requests>=2.22.0 in /usr/local/lib/python3.7/dist-packages (from alteryx-open-src-update-checker>=2.0.0; extra == \"update_checker\"->evalml[update_checker]) (2.23.0)\n",
            "Requirement already satisfied: regex in /usr/local/lib/python3.7/dist-packages (from nltk>=3.4.5->nlp-primitives>=1.1.0->evalml[update_checker]) (2019.12.20)\n",
            "Requirement already satisfied: notebook>=4.4.1 in /usr/local/lib/python3.7/dist-packages (from widgetsnbextension~=3.5.0->ipywidgets>=7.5->evalml[update_checker]) (5.3.1)\n",
            "Requirement already satisfied: ipython-genutils in /usr/local/lib/python3.7/dist-packages (from traitlets>=4.3.1->ipywidgets>=7.5->evalml[update_checker]) (0.2.0)\n",
            "Requirement already satisfied: jupyter-core in /usr/local/lib/python3.7/dist-packages (from nbformat>=4.2.0->ipywidgets>=7.5->evalml[update_checker]) (4.7.1)\n",
            "Requirement already satisfied: jsonschema!=2.5.0,>=2.4 in /usr/local/lib/python3.7/dist-packages (from nbformat>=4.2.0->ipywidgets>=7.5->evalml[update_checker]) (2.6.0)\n",
            "Requirement already satisfied: jupyter-client in /usr/local/lib/python3.7/dist-packages (from ipykernel>=4.5.1->ipywidgets>=7.5->evalml[update_checker]) (5.3.5)\n",
            "Requirement already satisfied: tornado>=4.0 in /usr/local/lib/python3.7/dist-packages (from ipykernel>=4.5.1->ipywidgets>=7.5->evalml[update_checker]) (5.1.1)\n",
            "Requirement already satisfied: prompt-toolkit<2.0.0,>=1.0.4 in /usr/local/lib/python3.7/dist-packages (from ipython>=4.0.0; python_version >= \"3.3\"->ipywidgets>=7.5->evalml[update_checker]) (1.0.18)\n",
            "Requirement already satisfied: simplegeneric>0.8 in /usr/local/lib/python3.7/dist-packages (from ipython>=4.0.0; python_version >= \"3.3\"->ipywidgets>=7.5->evalml[update_checker]) (0.8.1)\n",
            "Requirement already satisfied: pickleshare in /usr/local/lib/python3.7/dist-packages (from ipython>=4.0.0; python_version >= \"3.3\"->ipywidgets>=7.5->evalml[update_checker]) (0.7.5)\n",
            "Requirement already satisfied: pexpect; sys_platform != \"win32\" in /usr/local/lib/python3.7/dist-packages (from ipython>=4.0.0; python_version >= \"3.3\"->ipywidgets>=7.5->evalml[update_checker]) (4.8.0)\n",
            "Requirement already satisfied: pygments in /usr/local/lib/python3.7/dist-packages (from ipython>=4.0.0; python_version >= \"3.3\"->ipywidgets>=7.5->evalml[update_checker]) (2.6.1)\n",
            "Requirement already satisfied: llvmlite<0.35,>=0.34.0.dev0 in /usr/local/lib/python3.7/dist-packages (from numba->shap>=0.36.0->evalml[update_checker]) (0.34.0)\n",
            "Requirement already satisfied: sortedcontainers!=2.0.0,!=2.0.1 in /usr/local/lib/python3.7/dist-packages (from distributed>=2.12.0->featuretools>=0.21.0->evalml[update_checker]) (2.4.0)\n",
            "Requirement already satisfied: toolz>=0.8.2 in /usr/local/lib/python3.7/dist-packages (from distributed>=2.12.0->featuretools>=0.21.0->evalml[update_checker]) (0.11.1)\n",
            "Requirement already satisfied: zict>=0.1.3 in /usr/local/lib/python3.7/dist-packages (from distributed>=2.12.0->featuretools>=0.21.0->evalml[update_checker]) (2.0.0)\n",
            "Requirement already satisfied: msgpack>=0.6.0 in /usr/local/lib/python3.7/dist-packages (from distributed>=2.12.0->featuretools>=0.21.0->evalml[update_checker]) (1.0.2)\n",
            "Requirement already satisfied: tblib>=1.6.0 in /usr/local/lib/python3.7/dist-packages (from distributed>=2.12.0->featuretools>=0.21.0->evalml[update_checker]) (1.7.0)\n",
            "Requirement already satisfied: chardet<4,>=3.0.2 in /usr/local/lib/python3.7/dist-packages (from requests>=2.22.0->alteryx-open-src-update-checker>=2.0.0; extra == \"update_checker\"->evalml[update_checker]) (3.0.4)\n",
            "Requirement already satisfied: idna<3,>=2.5 in /usr/local/lib/python3.7/dist-packages (from requests>=2.22.0->alteryx-open-src-update-checker>=2.0.0; extra == \"update_checker\"->evalml[update_checker]) (2.10)\n",
            "Requirement already satisfied: certifi>=2017.4.17 in /usr/local/lib/python3.7/dist-packages (from requests>=2.22.0->alteryx-open-src-update-checker>=2.0.0; extra == \"update_checker\"->evalml[update_checker]) (2021.5.30)\n",
            "Requirement already satisfied: Send2Trash in /usr/local/lib/python3.7/dist-packages (from notebook>=4.4.1->widgetsnbextension~=3.5.0->ipywidgets>=7.5->evalml[update_checker]) (1.5.0)\n",
            "Requirement already satisfied: nbconvert in /usr/local/lib/python3.7/dist-packages (from notebook>=4.4.1->widgetsnbextension~=3.5.0->ipywidgets>=7.5->evalml[update_checker]) (5.6.1)\n",
            "Requirement already satisfied: terminado>=0.8.1 in /usr/local/lib/python3.7/dist-packages (from notebook>=4.4.1->widgetsnbextension~=3.5.0->ipywidgets>=7.5->evalml[update_checker]) (0.10.1)\n",
            "Requirement already satisfied: jinja2 in /usr/local/lib/python3.7/dist-packages (from notebook>=4.4.1->widgetsnbextension~=3.5.0->ipywidgets>=7.5->evalml[update_checker]) (2.11.3)\n",
            "Requirement already satisfied: wcwidth in /usr/local/lib/python3.7/dist-packages (from prompt-toolkit<2.0.0,>=1.0.4->ipython>=4.0.0; python_version >= \"3.3\"->ipywidgets>=7.5->evalml[update_checker]) (0.2.5)\n",
            "Requirement already satisfied: ptyprocess>=0.5 in /usr/local/lib/python3.7/dist-packages (from pexpect; sys_platform != \"win32\"->ipython>=4.0.0; python_version >= \"3.3\"->ipywidgets>=7.5->evalml[update_checker]) (0.7.0)\n",
            "Requirement already satisfied: heapdict in /usr/local/lib/python3.7/dist-packages (from zict>=0.1.3->distributed>=2.12.0->featuretools>=0.21.0->evalml[update_checker]) (1.0.1)\n",
            "Requirement already satisfied: testpath in /usr/local/lib/python3.7/dist-packages (from nbconvert->notebook>=4.4.1->widgetsnbextension~=3.5.0->ipywidgets>=7.5->evalml[update_checker]) (0.5.0)\n",
            "Requirement already satisfied: entrypoints>=0.2.2 in /usr/local/lib/python3.7/dist-packages (from nbconvert->notebook>=4.4.1->widgetsnbextension~=3.5.0->ipywidgets>=7.5->evalml[update_checker]) (0.3)\n",
            "Requirement already satisfied: defusedxml in /usr/local/lib/python3.7/dist-packages (from nbconvert->notebook>=4.4.1->widgetsnbextension~=3.5.0->ipywidgets>=7.5->evalml[update_checker]) (0.7.1)\n",
            "Requirement already satisfied: bleach in /usr/local/lib/python3.7/dist-packages (from nbconvert->notebook>=4.4.1->widgetsnbextension~=3.5.0->ipywidgets>=7.5->evalml[update_checker]) (3.3.0)\n",
            "Requirement already satisfied: pandocfilters>=1.4.1 in /usr/local/lib/python3.7/dist-packages (from nbconvert->notebook>=4.4.1->widgetsnbextension~=3.5.0->ipywidgets>=7.5->evalml[update_checker]) (1.4.3)\n",
            "Requirement already satisfied: mistune<2,>=0.8.1 in /usr/local/lib/python3.7/dist-packages (from nbconvert->notebook>=4.4.1->widgetsnbextension~=3.5.0->ipywidgets>=7.5->evalml[update_checker]) (0.8.4)\n",
            "Requirement already satisfied: MarkupSafe>=0.23 in /usr/local/lib/python3.7/dist-packages (from jinja2->notebook>=4.4.1->widgetsnbextension~=3.5.0->ipywidgets>=7.5->evalml[update_checker]) (2.0.1)\n",
            "Requirement already satisfied: webencodings in /usr/local/lib/python3.7/dist-packages (from bleach->nbconvert->notebook>=4.4.1->widgetsnbextension~=3.5.0->ipywidgets>=7.5->evalml[update_checker]) (0.5.1)\n",
            "Requirement already satisfied: packaging in /usr/local/lib/python3.7/dist-packages (from bleach->nbconvert->notebook>=4.4.1->widgetsnbextension~=3.5.0->ipywidgets>=7.5->evalml[update_checker]) (20.9)\n",
            "Installing collected packages: alteryx-open-src-update-checker\n",
            "Successfully installed alteryx-open-src-update-checker-2.1.0\n"
          ],
          "name": "stdout"
        }
      ]
    }
  ]
}