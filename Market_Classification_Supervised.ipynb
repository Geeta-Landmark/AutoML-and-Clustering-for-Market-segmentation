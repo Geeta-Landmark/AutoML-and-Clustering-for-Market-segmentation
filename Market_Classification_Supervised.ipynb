{
  "nbformat": 4,
  "nbformat_minor": 0,
  "metadata": {
    "colab": {
      "name": "Market_Classification_Supervised.ipynb",
      "provenance": [],
      "collapsed_sections": [],
      "toc_visible": true,
      "include_colab_link": true
    },
    "kernelspec": {
      "display_name": "Python 3",
      "language": "python",
      "name": "python3"
    },
    "language_info": {
      "codemirror_mode": {
        "name": "ipython",
        "version": 3
      },
      "file_extension": ".py",
      "mimetype": "text/x-python",
      "name": "python",
      "nbconvert_exporter": "python",
      "pygments_lexer": "ipython3",
      "version": "3.8.5"
    }
  },
  "cells": [
    {
      "cell_type": "markdown",
      "metadata": {
        "id": "view-in-github",
        "colab_type": "text"
      },
      "source": [
        "<a href=\"https://colab.research.google.com/github/geetanjalisawant16/AutoML-and-Clustering-for-Market-segmentation/blob/main/Market_Classification_Supervised.ipynb\" target=\"_parent\"><img src=\"https://colab.research.google.com/assets/colab-badge.svg\" alt=\"Open In Colab\"/></a>"
      ]
    },
    {
      "cell_type": "markdown",
      "metadata": {
        "id": "cKYFSBRKAPaL"
      },
      "source": [
        "#Supervised Machine learning Experiments on Market Dataset\n",
        "\n",
        "```\n",
        "# Machine learning Experiments on Market Dataset includes:\n",
        "\n",
        "1.   Decision Tree Classification\n",
        "2.   SVC support Vector Machines Classifiers.\n",
        "3.   Random Forest Classifier.\n",
        "4.   Logistic Regressor Classifier.\n",
        "5.   Accuracy Metrics for each above classifier.\n",
        "6.   Confusion matrix for each above classifier.\n",
        "7.   Different Classification metrics for each above classifier.\n",
        "8.   ROC AUC plot for each above classifiers.\n",
        "\n",
        "```\n",
        "\n",
        "\n",
        "\n",
        "\n",
        "\n",
        "\n"
      ]
    },
    {
      "cell_type": "markdown",
      "metadata": {
        "id": "zJbCIqyQB_TU"
      },
      "source": [
        "#import all the necessary librarie"
      ]
    },
    {
      "cell_type": "code",
      "metadata": {
        "id": "xMXieeFu9r6T"
      },
      "source": [
        "# import all the necessary libraries\n",
        "import numpy as np\n",
        "import seaborn as sns\n",
        "import matplotlib.pyplot as plt\n",
        "from scipy.stats import mode\n",
        "import pandas as pd"
      ],
      "execution_count": 1,
      "outputs": []
    },
    {
      "cell_type": "code",
      "metadata": {
        "id": "OdL1zZh08G0_"
      },
      "source": [
        "from sklearn.metrics import plot_roc_curve\n",
        "import matplotlib.pyplot as plt\n",
        "from sklearn.svm import SVC"
      ],
      "execution_count": 2,
      "outputs": []
    },
    {
      "cell_type": "code",
      "metadata": {
        "colab": {
          "base_uri": "https://localhost:8080/"
        },
        "id": "I2-hJ3mX46h7",
        "outputId": "6b9252ce-5983-4717-835a-d63e518f9712"
      },
      "source": [
        "from google.colab import drive\n",
        "drive.mount('/content/drive')"
      ],
      "execution_count": 3,
      "outputs": [
        {
          "output_type": "stream",
          "name": "stdout",
          "text": [
            "Mounted at /content/drive\n"
          ]
        }
      ]
    },
    {
      "cell_type": "markdown",
      "metadata": {
        "id": "_iTiIKx8CFE5"
      },
      "source": [
        "# Reading the modified dataset from the google drive."
      ]
    },
    {
      "cell_type": "code",
      "metadata": {
        "id": "oHTf4yAX9WpH"
      },
      "source": [
        "rfm = pd.read_csv('/content/drive/MyDrive/rfm.csv')"
      ],
      "execution_count": 4,
      "outputs": []
    },
    {
      "cell_type": "code",
      "metadata": {
        "colab": {
          "base_uri": "https://localhost:8080/",
          "height": 417
        },
        "id": "BRVoF8rN9wfY",
        "outputId": "c88806b3-c194-40a7-9a8a-1ae1641f96e5"
      },
      "source": [
        "rfm"
      ],
      "execution_count": 5,
      "outputs": [
        {
          "output_type": "execute_result",
          "data": {
            "text/html": [
              "<div>\n",
              "<style scoped>\n",
              "    .dataframe tbody tr th:only-of-type {\n",
              "        vertical-align: middle;\n",
              "    }\n",
              "\n",
              "    .dataframe tbody tr th {\n",
              "        vertical-align: top;\n",
              "    }\n",
              "\n",
              "    .dataframe thead th {\n",
              "        text-align: right;\n",
              "    }\n",
              "</style>\n",
              "<table border=\"1\" class=\"dataframe\">\n",
              "  <thead>\n",
              "    <tr style=\"text-align: right;\">\n",
              "      <th></th>\n",
              "      <th>Unnamed: 0</th>\n",
              "      <th>CustomerID</th>\n",
              "      <th>Amount</th>\n",
              "      <th>Frequency</th>\n",
              "      <th>Class</th>\n",
              "      <th>Recency</th>\n",
              "      <th>Cluster_Id</th>\n",
              "      <th>Cluster_brc</th>\n",
              "    </tr>\n",
              "  </thead>\n",
              "  <tbody>\n",
              "    <tr>\n",
              "      <th>0</th>\n",
              "      <td>0</td>\n",
              "      <td>12357.0</td>\n",
              "      <td>18623.01</td>\n",
              "      <td>393</td>\n",
              "      <td>393</td>\n",
              "      <td>32</td>\n",
              "      <td>1</td>\n",
              "      <td>0</td>\n",
              "    </tr>\n",
              "    <tr>\n",
              "      <th>1</th>\n",
              "      <td>1</td>\n",
              "      <td>12367.0</td>\n",
              "      <td>168.90</td>\n",
              "      <td>11</td>\n",
              "      <td>11</td>\n",
              "      <td>3</td>\n",
              "      <td>0</td>\n",
              "      <td>1</td>\n",
              "    </tr>\n",
              "    <tr>\n",
              "      <th>2</th>\n",
              "      <td>2</td>\n",
              "      <td>12371.0</td>\n",
              "      <td>5663.88</td>\n",
              "      <td>189</td>\n",
              "      <td>189</td>\n",
              "      <td>44</td>\n",
              "      <td>0</td>\n",
              "      <td>2</td>\n",
              "    </tr>\n",
              "    <tr>\n",
              "      <th>3</th>\n",
              "      <td>3</td>\n",
              "      <td>12372.0</td>\n",
              "      <td>1298.04</td>\n",
              "      <td>52</td>\n",
              "      <td>52</td>\n",
              "      <td>71</td>\n",
              "      <td>0</td>\n",
              "      <td>1</td>\n",
              "    </tr>\n",
              "    <tr>\n",
              "      <th>4</th>\n",
              "      <td>4</td>\n",
              "      <td>12377.0</td>\n",
              "      <td>4884.36</td>\n",
              "      <td>231</td>\n",
              "      <td>231</td>\n",
              "      <td>314</td>\n",
              "      <td>2</td>\n",
              "      <td>1</td>\n",
              "    </tr>\n",
              "    <tr>\n",
              "      <th>...</th>\n",
              "      <td>...</td>\n",
              "      <td>...</td>\n",
              "      <td>...</td>\n",
              "      <td>...</td>\n",
              "      <td>...</td>\n",
              "      <td>...</td>\n",
              "      <td>...</td>\n",
              "      <td>...</td>\n",
              "    </tr>\n",
              "    <tr>\n",
              "      <th>241</th>\n",
              "      <td>245</td>\n",
              "      <td>16321.0</td>\n",
              "      <td>230.70</td>\n",
              "      <td>16</td>\n",
              "      <td>16</td>\n",
              "      <td>71</td>\n",
              "      <td>0</td>\n",
              "      <td>1</td>\n",
              "    </tr>\n",
              "    <tr>\n",
              "      <th>242</th>\n",
              "      <td>246</td>\n",
              "      <td>17404.0</td>\n",
              "      <td>30300.82</td>\n",
              "      <td>201</td>\n",
              "      <td>201</td>\n",
              "      <td>3</td>\n",
              "      <td>1</td>\n",
              "      <td>0</td>\n",
              "    </tr>\n",
              "    <tr>\n",
              "      <th>243</th>\n",
              "      <td>247</td>\n",
              "      <td>17443.0</td>\n",
              "      <td>1602.72</td>\n",
              "      <td>3</td>\n",
              "      <td>3</td>\n",
              "      <td>219</td>\n",
              "      <td>2</td>\n",
              "      <td>1</td>\n",
              "    </tr>\n",
              "    <tr>\n",
              "      <th>244</th>\n",
              "      <td>248</td>\n",
              "      <td>17444.0</td>\n",
              "      <td>8820.12</td>\n",
              "      <td>405</td>\n",
              "      <td>405</td>\n",
              "      <td>147</td>\n",
              "      <td>1</td>\n",
              "      <td>2</td>\n",
              "    </tr>\n",
              "    <tr>\n",
              "      <th>245</th>\n",
              "      <td>249</td>\n",
              "      <td>17844.0</td>\n",
              "      <td>154.68</td>\n",
              "      <td>15</td>\n",
              "      <td>15</td>\n",
              "      <td>106</td>\n",
              "      <td>0</td>\n",
              "      <td>1</td>\n",
              "    </tr>\n",
              "  </tbody>\n",
              "</table>\n",
              "<p>246 rows × 8 columns</p>\n",
              "</div>"
            ],
            "text/plain": [
              "     Unnamed: 0  CustomerID    Amount  ...  Recency  Cluster_Id  Cluster_brc\n",
              "0             0     12357.0  18623.01  ...       32           1            0\n",
              "1             1     12367.0    168.90  ...        3           0            1\n",
              "2             2     12371.0   5663.88  ...       44           0            2\n",
              "3             3     12372.0   1298.04  ...       71           0            1\n",
              "4             4     12377.0   4884.36  ...      314           2            1\n",
              "..          ...         ...       ...  ...      ...         ...          ...\n",
              "241         245     16321.0    230.70  ...       71           0            1\n",
              "242         246     17404.0  30300.82  ...        3           1            0\n",
              "243         247     17443.0   1602.72  ...      219           2            1\n",
              "244         248     17444.0   8820.12  ...      147           1            2\n",
              "245         249     17844.0    154.68  ...      106           0            1\n",
              "\n",
              "[246 rows x 8 columns]"
            ]
          },
          "metadata": {},
          "execution_count": 5
        }
      ]
    },
    {
      "cell_type": "code",
      "metadata": {
        "id": "zklXiGlcVYxE"
      },
      "source": [
        "rfm"
      ],
      "execution_count": null,
      "outputs": []
    },
    {
      "cell_type": "markdown",
      "metadata": {
        "id": "ZlT2Ml3vCOmy"
      },
      "source": [
        "#Assigning the X,y variables for training and testing."
      ]
    },
    {
      "cell_type": "code",
      "metadata": {
        "id": "SnPKqqGB8JB5"
      },
      "source": [
        "##Assigning X,y variables for training and testing \n",
        "y=rfm['Cluster_Id'] \n",
        "# Class is considered because it is a combination of \n",
        "#Sector and company flourished during Covid-19 pandemic\n",
        "X=rfm.drop('Class', axis=1)"
      ],
      "execution_count": 6,
      "outputs": []
    },
    {
      "cell_type": "code",
      "metadata": {
        "id": "MaAlyGN6MmvT",
        "colab": {
          "base_uri": "https://localhost:8080/",
          "height": 203
        },
        "outputId": "dc183a3c-9302-4f7e-c15b-f029d959f684"
      },
      "source": [
        "\n",
        "X=rfm.drop('Unnamed: 0', axis=1)\n",
        "X=rfm.drop('Cluster_Id', axis=1)\n",
        "X.head()"
      ],
      "execution_count": 7,
      "outputs": [
        {
          "output_type": "execute_result",
          "data": {
            "text/html": [
              "<div>\n",
              "<style scoped>\n",
              "    .dataframe tbody tr th:only-of-type {\n",
              "        vertical-align: middle;\n",
              "    }\n",
              "\n",
              "    .dataframe tbody tr th {\n",
              "        vertical-align: top;\n",
              "    }\n",
              "\n",
              "    .dataframe thead th {\n",
              "        text-align: right;\n",
              "    }\n",
              "</style>\n",
              "<table border=\"1\" class=\"dataframe\">\n",
              "  <thead>\n",
              "    <tr style=\"text-align: right;\">\n",
              "      <th></th>\n",
              "      <th>Unnamed: 0</th>\n",
              "      <th>CustomerID</th>\n",
              "      <th>Amount</th>\n",
              "      <th>Frequency</th>\n",
              "      <th>Class</th>\n",
              "      <th>Recency</th>\n",
              "      <th>Cluster_brc</th>\n",
              "    </tr>\n",
              "  </thead>\n",
              "  <tbody>\n",
              "    <tr>\n",
              "      <th>0</th>\n",
              "      <td>0</td>\n",
              "      <td>12357.0</td>\n",
              "      <td>18623.01</td>\n",
              "      <td>393</td>\n",
              "      <td>393</td>\n",
              "      <td>32</td>\n",
              "      <td>0</td>\n",
              "    </tr>\n",
              "    <tr>\n",
              "      <th>1</th>\n",
              "      <td>1</td>\n",
              "      <td>12367.0</td>\n",
              "      <td>168.90</td>\n",
              "      <td>11</td>\n",
              "      <td>11</td>\n",
              "      <td>3</td>\n",
              "      <td>1</td>\n",
              "    </tr>\n",
              "    <tr>\n",
              "      <th>2</th>\n",
              "      <td>2</td>\n",
              "      <td>12371.0</td>\n",
              "      <td>5663.88</td>\n",
              "      <td>189</td>\n",
              "      <td>189</td>\n",
              "      <td>44</td>\n",
              "      <td>2</td>\n",
              "    </tr>\n",
              "    <tr>\n",
              "      <th>3</th>\n",
              "      <td>3</td>\n",
              "      <td>12372.0</td>\n",
              "      <td>1298.04</td>\n",
              "      <td>52</td>\n",
              "      <td>52</td>\n",
              "      <td>71</td>\n",
              "      <td>1</td>\n",
              "    </tr>\n",
              "    <tr>\n",
              "      <th>4</th>\n",
              "      <td>4</td>\n",
              "      <td>12377.0</td>\n",
              "      <td>4884.36</td>\n",
              "      <td>231</td>\n",
              "      <td>231</td>\n",
              "      <td>314</td>\n",
              "      <td>1</td>\n",
              "    </tr>\n",
              "  </tbody>\n",
              "</table>\n",
              "</div>"
            ],
            "text/plain": [
              "   Unnamed: 0  CustomerID    Amount  Frequency  Class  Recency  Cluster_brc\n",
              "0           0     12357.0  18623.01        393    393       32            0\n",
              "1           1     12367.0    168.90         11     11        3            1\n",
              "2           2     12371.0   5663.88        189    189       44            2\n",
              "3           3     12372.0   1298.04         52     52       71            1\n",
              "4           4     12377.0   4884.36        231    231      314            1"
            ]
          },
          "metadata": {},
          "execution_count": 7
        }
      ]
    },
    {
      "cell_type": "markdown",
      "metadata": {
        "id": "N9nCZGL0CcSQ"
      },
      "source": [
        "# Building Classification models."
      ]
    },
    {
      "cell_type": "code",
      "metadata": {
        "id": "pnxzowBt8L-x"
      },
      "source": [
        "from sklearn.metrics import accuracy_score, balanced_accuracy_score, f1_score, roc_auc_score, roc_curve, \\\n",
        "    confusion_matrix, plot_roc_curve\n",
        "from sklearn.model_selection import train_test_split, KFold, cross_val_score"
      ],
      "execution_count": 8,
      "outputs": []
    },
    {
      "cell_type": "code",
      "metadata": {
        "id": "ZFLH1D0n8OFL"
      },
      "source": [
        "kfold = KFold(n_splits=10, random_state=0, shuffle=True)"
      ],
      "execution_count": 9,
      "outputs": []
    },
    {
      "cell_type": "markdown",
      "metadata": {
        "id": "s4qHM2cFC1Cb"
      },
      "source": [
        "#Decision tree classification model"
      ]
    },
    {
      "cell_type": "code",
      "metadata": {
        "id": "UQBkw14U8TWI"
      },
      "source": [
        "from sklearn.tree import DecisionTreeClassifier\n",
        "from sklearn.tree import DecisionTreeClassifier, plot_tree"
      ],
      "execution_count": 10,
      "outputs": []
    },
    {
      "cell_type": "code",
      "metadata": {
        "id": "Ea8EemP58WA_",
        "colab": {
          "base_uri": "https://localhost:8080/",
          "height": 625
        },
        "outputId": "2b7f6d51-49c7-499b-ee12-078a509b5d00"
      },
      "source": [
        "# Split the data into training (70%) and testing (30%)\n",
        "X_train, X_test, y_train, y_test = train_test_split(X, y, test_size=0.3, random_state=0)\n",
        "print(X_train.shape)\n",
        "print(X_test.shape)\n",
        "\n",
        "# Implementing 1st classification method (DecisionTreeClassifier)\n",
        "plt.figure(figsize=[22,10])\n",
        "print(\"\\n1st Classification Method: DecisionTreeClassifier\")\n",
        "print(\"---------------------------------------------------\")\n",
        "clf = DecisionTreeClassifier().fit(X_train,y_train)\n",
        "plot_tree(clf, filled=True, fontsize=10,label='all', node_ids=True)\n",
        "plt.title('Decision Tree for the market dataset', fontsize=26)\n",
        "plt.show()\n",
        "\n",
        "# K-fold cross-validation for K=10 for DecisionTreeClassifier\n",
        "decision_tree = DecisionTreeClassifier(max_depth=5, random_state=0)\n",
        "kfold = KFold(n_splits=10, random_state=0, shuffle=True)\n",
        "cross_val_decision = cross_val_score(decision_tree, X, y, cv=kfold, scoring='accuracy')\n",
        "\n"
      ],
      "execution_count": 11,
      "outputs": [
        {
          "output_type": "stream",
          "name": "stdout",
          "text": [
            "(172, 7)\n",
            "(74, 7)\n",
            "\n",
            "1st Classification Method: DecisionTreeClassifier\n",
            "---------------------------------------------------\n"
          ]
        },
        {
          "output_type": "display_data",
          "data": {
            "image/png": "[encoded data removed]",
            "text/plain": [
              "<Figure size 1584x720 with 1 Axes>"
            ]
          },
          "metadata": {
            "needs_background": "light"
          }
        }
      ]
    },
    {
      "cell_type": "code",
      "metadata": {
        "id": "EmhiS-vw8XSZ",
        "colab": {
          "base_uri": "https://localhost:8080/"
        },
        "outputId": "0421e29a-a41e-4e0d-a6e7-0cb12116a656"
      },
      "source": [
        "clf_decision = decision_tree.fit(X_train,y_train)\n",
        "y_pred_decision = clf_decision.predict(X_test)\n",
        "y_pred_decision_roc = clf_decision.predict_proba(X_test)\n",
        "\n",
        "print(\"Accuracy:\",accuracy_score(y_test, y_pred_decision))\n",
        "print(\"Balanced Accuracy: \", balanced_accuracy_score(y_test, y_pred_decision))\n",
        "print(\"F1-Score: \", f1_score(y_test, y_pred_decision, average='micro'))\n",
        "print(\"ROC AUC: \", roc_auc_score(y_test, y_pred_decision_roc, multi_class='ovr'))\n",
        "print(\"Confusion Matrix:\\n\",confusion_matrix(y_test, y_pred_decision))"
      ],
      "execution_count": 12,
      "outputs": [
        {
          "output_type": "stream",
          "name": "stdout",
          "text": [
            "Accuracy: 0.972972972972973\n",
            "Balanced Accuracy:  0.9878787878787879\n",
            "F1-Score:  0.972972972972973\n",
            "ROC AUC:  0.989177489177489\n",
            "Confusion Matrix:\n",
            " [[53  2  0]\n",
            " [ 0  4  0]\n",
            " [ 0  0 15]]\n"
          ]
        }
      ]
    },
    {
      "cell_type": "markdown",
      "metadata": {
        "id": "Vh-VV51YC-Cu"
      },
      "source": [
        "# Support Vector Machines Classifier "
      ]
    },
    {
      "cell_type": "code",
      "metadata": {
        "id": "DBRSEE-lCoaC"
      },
      "source": [
        "svc = SVC(kernel='rbf', random_state=0, probability=True)\n",
        "kfold = KFold(n_splits=10, random_state=0, shuffle=True)\n",
        "cross_val_svc = cross_val_score(svc, X, y, cv=kfold, scoring='accuracy')"
      ],
      "execution_count": 13,
      "outputs": []
    },
    {
      "cell_type": "code",
      "metadata": {
        "colab": {
          "base_uri": "https://localhost:8080/"
        },
        "id": "PFsGtg9PCv_h",
        "outputId": "0d416b1e-a155-4ec6-ee11-058537f1dfed"
      },
      "source": [
        "svc"
      ],
      "execution_count": 14,
      "outputs": [
        {
          "output_type": "execute_result",
          "data": {
            "text/plain": [
              "SVC(C=1.0, break_ties=False, cache_size=200, class_weight=None, coef0=0.0,\n",
              "    decision_function_shape='ovr', degree=3, gamma='scale', kernel='rbf',\n",
              "    max_iter=-1, probability=True, random_state=0, shrinking=True, tol=0.001,\n",
              "    verbose=False)"
            ]
          },
          "metadata": {},
          "execution_count": 14
        }
      ]
    },
    {
      "cell_type": "code",
      "metadata": {
        "id": "gS5BV6Yt8eDB",
        "colab": {
          "base_uri": "https://localhost:8080/"
        },
        "outputId": "a53d399b-c177-4de4-f0b3-d95a89c2a987"
      },
      "source": [
        "# Implementing 2nd classification method (SupportVectorClassifier)\n",
        "print(\"\\n2nd Classification Method: SupportVectorClassifier\")\n",
        "print(\"---------------------------------------------------\")\n",
        "\n",
        "# K-fold cross-validation for K=10 for SupportVectorClassifier\n",
        "svc = SVC(kernel='rbf', random_state=0, probability=True)\n",
        "kfold = KFold(n_splits=10, random_state=0, shuffle=True)\n",
        "cross_val_svc = cross_val_score(svc, X, y, cv=kfold, scoring='accuracy')\n",
        "\n",
        "clf_svc = svc.fit(X_train,y_train)\n",
        "y_pred_svc = clf_svc.predict(X_test)\n",
        "y_pred_svc_roc = clf_svc.predict_proba(X_test)\n",
        "\n",
        "print(\"Accuracy:\",accuracy_score(y_test, y_pred_svc))\n",
        "print(\"Balanced Accuracy: \", balanced_accuracy_score(y_test, y_pred_svc))\n",
        "print(\"F1-Score: \", f1_score(y_test, y_pred_svc, average='micro'))\n",
        "print(\"ROC AUC: \", roc_auc_score(y_test, y_pred_svc_roc, multi_class='ovr'))\n",
        "print(\"Confusion Matrix:\\n\",confusion_matrix(y_test, y_pred_svc))\n"
      ],
      "execution_count": 15,
      "outputs": [
        {
          "output_type": "stream",
          "name": "stdout",
          "text": [
            "\n",
            "2nd Classification Method: SupportVectorClassifier\n",
            "---------------------------------------------------\n",
            "Accuracy: 0.7972972972972973\n",
            "Balanced Accuracy:  0.6666666666666666\n",
            "F1-Score:  0.7972972972972974\n",
            "ROC AUC:  0.9782697627479072\n",
            "Confusion Matrix:\n",
            " [[55  0  0]\n",
            " [ 0  4  0]\n",
            " [14  1  0]]\n"
          ]
        }
      ]
    },
    {
      "cell_type": "markdown",
      "metadata": {
        "id": "xmjtaKq3DGkt"
      },
      "source": [
        "# Random Forest Classifier"
      ]
    },
    {
      "cell_type": "code",
      "metadata": {
        "id": "uwz9S43J8jPA"
      },
      "source": [
        "from sklearn.ensemble import RandomForestClassifier"
      ],
      "execution_count": 16,
      "outputs": []
    },
    {
      "cell_type": "code",
      "metadata": {
        "id": "SKkKB3SH8lq5",
        "colab": {
          "base_uri": "https://localhost:8080/"
        },
        "outputId": "ec04199d-834e-403a-da2a-0d80dd11ed82"
      },
      "source": [
        "\n",
        "# Implementing 3rd classification method (RandomForestClassifier)\n",
        "print(\"\\n3rd Classification Method: RandomForestClassifier\")\n",
        "print(\"---------------------------------------------------\")\n",
        "\n",
        "# K-fold cross-validation for K=10 for RandomForestClassifier\n",
        "rand_forest = RandomForestClassifier(n_estimators=1, max_depth=5, random_state=0)\n",
        "kfold = KFold(n_splits=10, random_state=0, shuffle=True)\n",
        "cross_val_randf = cross_val_score(rand_forest, X, y, cv=kfold, scoring='accuracy')\n",
        "\n",
        "clf_rand_forest = rand_forest.fit(X_train,y_train)\n",
        "y_pred_rand_forest = clf_rand_forest.predict(X_test)\n",
        "y_pred_rand_forest_roc = clf_rand_forest.predict_proba(X_test)\n",
        "\n",
        "print(\"Accuracy:\",accuracy_score(y_test, y_pred_rand_forest))\n",
        "print(\"Balanced Accuracy: \", balanced_accuracy_score(y_test, y_pred_rand_forest))\n",
        "print(\"F1-Score: \", f1_score(y_test, y_pred_rand_forest, average='micro'))\n",
        "print(\"ROC AUC: \", roc_auc_score(y_test, y_pred_rand_forest_roc, multi_class='ovr'))\n",
        "print(\"Confusion Matrix:\\n\",confusion_matrix(y_test, y_pred_rand_forest))"
      ],
      "execution_count": 17,
      "outputs": [
        {
          "output_type": "stream",
          "name": "stdout",
          "text": [
            "\n",
            "3rd Classification Method: RandomForestClassifier\n",
            "---------------------------------------------------\n",
            "Accuracy: 0.8918918918918919\n",
            "Balanced Accuracy:  0.8742424242424242\n",
            "F1-Score:  0.8918918918918919\n",
            "ROC AUC:  0.9094630837494352\n",
            "Confusion Matrix:\n",
            " [[48  2  5]\n",
            " [ 1  3  0]\n",
            " [ 0  0 15]]\n"
          ]
        }
      ]
    },
    {
      "cell_type": "markdown",
      "metadata": {
        "id": "3j4McDu6DMVt"
      },
      "source": [
        "# Logistic Regression model"
      ]
    },
    {
      "cell_type": "code",
      "metadata": {
        "id": "Jzf-u7C28mbZ"
      },
      "source": [
        "from sklearn.linear_model import LogisticRegression"
      ],
      "execution_count": 18,
      "outputs": []
    },
    {
      "cell_type": "code",
      "metadata": {
        "id": "sjbKEF1J8o0v",
        "colab": {
          "base_uri": "https://localhost:8080/"
        },
        "outputId": "171e8d1c-03bb-4350-88ae-ea4c9e871f9f"
      },
      "source": [
        "# Implementing 4th classification method (Logistic regression)\n",
        "print(\"\\n4th Classification Method: Logistic regression\")\n",
        "print(\"---------------------------------------------------\")\n",
        "\n",
        "# K-fold cross-validation for K=10 for Logistic regression\n",
        "log_reg = LogisticRegression(solver='saga',random_state = 0, max_iter = 10000)\n",
        "kfold = KFold(n_splits=10, random_state=0, shuffle=True)\n",
        "\n",
        "cross_val_log_reg = cross_val_score(log_reg, X, y, cv=kfold, scoring='accuracy')\n",
        "clf_log_reg = log_reg.fit(X_train,y_train)\n",
        "y_pred_log_reg = clf_log_reg.predict(X_test)\n",
        "y_pred_log_reg_roc = clf_log_reg.predict_proba(X_test)\n",
        "\n",
        "print(\"Accuracy:\",accuracy_score(y_test, y_pred_log_reg))\n",
        "print(\"Balanced Accuracy: \", balanced_accuracy_score(y_test, y_pred_log_reg))\n",
        "print(\"F1-Score: \", f1_score(y_test, y_pred_log_reg, average='micro'))\n",
        "print(\"ROC AUC: \", roc_auc_score(y_test, y_pred_log_reg_roc, multi_class='ovr'))\n",
        "print(\"Confusion Matrix:\\n\",confusion_matrix(y_test, y_pred_log_reg))\n"
      ],
      "execution_count": 20,
      "outputs": [
        {
          "output_type": "stream",
          "name": "stdout",
          "text": [
            "\n",
            "4th Classification Method: Logistic regression\n",
            "---------------------------------------------------\n",
            "Accuracy: 1.0\n",
            "Balanced Accuracy:  1.0\n",
            "F1-Score:  1.0\n",
            "ROC AUC:  1.0\n",
            "Confusion Matrix:\n",
            " [[55  0  0]\n",
            " [ 0  4  0]\n",
            " [ 0  0 15]]\n"
          ]
        }
      ]
    },
    {
      "cell_type": "code",
      "metadata": {
        "id": "WKIfZJOC8rS3"
      },
      "source": [
        "from sklearn.metrics import accuracy_score, balanced_accuracy_score, f1_score, roc_auc_score, roc_curve, \\\n",
        "    confusion_matrix, plot_roc_curve"
      ],
      "execution_count": 21,
      "outputs": []
    },
    {
      "cell_type": "markdown",
      "metadata": {
        "id": "xd4daTFrDU6w"
      },
      "source": [
        "#Accuracy metrics"
      ]
    },
    {
      "cell_type": "code",
      "metadata": {
        "id": "SjIFLAKe8t-W",
        "colab": {
          "base_uri": "https://localhost:8080/"
        },
        "outputId": "ec498562-e5d7-44ad-f466-788cc3a9b95c"
      },
      "source": [
        " #Results of all the algorithms\n",
        "clf_models = []\n",
        "\n",
        "clf_models.append((\"Decision Tree: \", DecisionTreeClassifier(max_depth=5, random_state=0)))\n",
        "clf_models.append((\"Support Vector Machine: \", SVC(kernel=\"rbf\", random_state=0, probability=True)))\n",
        "clf_models.append((\"Random Forest: \", RandomForestClassifier(n_estimators=1, max_depth=5, random_state=0)))\n",
        "clf_models.append((\"Logistic Regression: \", LogisticRegression(solver='saga',random_state = 0, max_iter = 10000)))\n",
        "\n",
        "print('\\nClassification models results are...')\n",
        "results = []\n",
        "names = []\n",
        "for name,model in clf_models:\n",
        "    kfold = KFold(n_splits=10, random_state=0, shuffle=True)\n",
        "    cv_result = cross_val_score(model,X,y, cv = kfold, scoring = \"accuracy\")\n",
        "    names.append(name)\n",
        "    results.append(cv_result)\n",
        "for i in range(len(names)):\n",
        "    print(names[i],results[i].mean()*100)"
      ],
      "execution_count": 22,
      "outputs": [
        {
          "output_type": "stream",
          "name": "stdout",
          "text": [
            "\n",
            "Classification models results are...\n",
            "Decision Tree:  96.73333333333333\n",
            "Support Vector Machine:  76.06666666666666\n",
            "Random Forest:  87.80000000000001\n",
            "Logistic Regression:  96.33333333333333\n"
          ]
        }
      ]
    },
    {
      "cell_type": "markdown",
      "metadata": {
        "id": "XiNx7Nz-DZH0"
      },
      "source": [
        "# ROC AUC plot"
      ]
    },
    {
      "cell_type": "code",
      "metadata": {
        "id": "1OjXpved82jp",
        "colab": {
          "base_uri": "https://localhost:8080/",
          "height": 305
        },
        "outputId": "032400f2-d544-4b0e-ea17-ddb711a1d769"
      },
      "source": [
        "# Implementing ROC classifier\n",
        "y=y==2\n",
        "X_train, X_test, y_train, y_test = train_test_split(X, y, test_size=0.3, random_state=0)\n",
        "\n",
        "# Implementing ROC Curve for DecisionTreeClassifier\n",
        "ax = plt.gca()\n",
        "decision_roc_curve = decision_tree.fit(X_train,y_train)\n",
        "plot_roc_curve(decision_roc_curve, X_test, y_test, ax = ax)\n",
        "\n",
        "# Implementing ROC Curve for SupportVectorClassifier\n",
        "svc_roc_curve = svc.fit(X_train,y_train)\n",
        "plot_roc_curve(svc_roc_curve, X_test, y_test, ax=ax)\n",
        "\n",
        "#Implementing ROC Curve for RandomForestClassifier\n",
        "rand_forest_roc_curve = rand_forest.fit(X_train,y_train)\n",
        "plot_roc_curve(rand_forest_roc_curve, X_test, y_test, ax = ax)\n",
        "\n",
        "# Implementing ROC Curve for Logistic Regression\n",
        "log_reg_roc_curve = log_reg.fit(X_train,y_train)\n",
        "plot_roc_curve(log_reg_roc_curve, X_test, y_test, ax=ax)\n",
        "plt.title('ROC_AUC Curve', fontsize=26)\n",
        "plt.show()"
      ],
      "execution_count": 23,
      "outputs": [
        {
          "output_type": "display_data",
          "data": {
            "image/png": "[encoded data removed]",
            "text/plain": [
              "<Figure size 432x288 with 1 Axes>"
            ]
          },
          "metadata": {
            "needs_background": "light"
          }
        }
      ]
    },
    {
      "cell_type": "markdown",
      "metadata": {
        "id": "TnS10qVvDfTP"
      },
      "source": [
        "# Conclusion:\n",
        "The cross-validation and metrics were exciting facts about the classifiers such as Decision tree classifier, SVC, Random Forest Classifier, and Logistic Regression classifier. There are four different visual plots for the confusion matrix. The most challenging part was the ROC AUC curve plotting due to the nature of the dataset is 'multiclass.' The final models created have satisfactory Accuracy and the AUC ROC curve. The best Classifier model in Supervised learning is the Decision tree Classifier with 96.67% accuracy and 100% AUC ROC(Area under the curve, Reciever Operating Characteristics)."
      ]
    }
  ]
}