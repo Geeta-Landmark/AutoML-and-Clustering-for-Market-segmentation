{
  "nbformat": 4,
  "nbformat_minor": 0,
  "metadata": {
    "colab": {
      "name": "Copy of AutoML-and-Clustering-for-Market-segmentation.ipynb",
      "provenance": [],
      "authorship_tag": "ABX9TyNLzlnjKyzJnH9kbe2bVekw",
      "include_colab_link": true
    },
    "kernelspec": {
      "name": "python3",
      "display_name": "Python 3"
    },
    "language_info": {
      "name": "python"
    },
    "accelerator": "GPU"
  },
  "cells": [
    {
      "cell_type": "markdown",
      "metadata": {
        "id": "view-in-github",
        "colab_type": "text"
      },
      "source": [
        "<a href=\"https://colab.research.google.com/github/geetanjalisawant16/AutoML-and-Clustering-for-Market-segmentation/blob/geetanjalisawant16-patch-1/Copy_of_AutoML_and_Clustering_for_Market_segmentation.ipynb\" target=\"_parent\"><img src=\"https://colab.research.google.com/assets/colab-badge.svg\" alt=\"Open In Colab\"/></a>"
      ]
    },
    {
      "cell_type": "markdown",
      "metadata": {
        "id": "6ZfeR3MUDEMr"
      },
      "source": [
        "#AutoML and Clustering Experiments on Pre and Post Pandemic Big Data for \n",
        "#Market Segmentation\n",
        "MSc. DATA SCIENCE\n",
        "\n",
        "Module: Project Dissertation \n",
        "\n",
        "Student ID: K1144343\n",
        "\n",
        "AutoML-and-Clustering-for-Market-segmentation Coding\n",
        "\n",
        "####################################################################################################\n",
        "\n",
        "This Jupyter Notebook consists of the assignment of \"Market Segmentation Practical Project\" for the MSc. Data Science CI7000 Project Dissertation Module at the Kingston University. The methods and steps of coding are reference from the case studies discussed during the lecture presented by the Module Leader.\n",
        "\n",
        "####################################################################################################"
      ]
    },
    {
      "cell_type": "markdown",
      "metadata": {
        "id": "HTb2_OvGTYjQ"
      },
      "source": [
        "# Importing the dataset\n",
        "\n",
        "##**Method 1**: From Github (official Pandas github link)\n",
        "\n",
        "\n",
        "First, we will import the online reatail and market cap datasets directly from the official pandas github [link1](https://github.com/geetanjalisawant16/AutoML-and-Clustering-for-Market-segmentation/blob/main/Online%20Retail.xlsx)\n",
        "[link2](https://github.com/geetanjalisawant16/AutoML-and-Clustering-for-Market-segmentation/blob/main/companies_market_cap.csv)"
      ]
    },
    {
      "cell_type": "code",
      "metadata": {
        "id": "fq3BnmAKUwnj"
      },
      "source": [
        "# import all the necessary libraries\n",
        "import numpy as np\n",
        "import pandas as pd\n",
        "import seaborn as sns\n",
        "import matplotlib.pyplot as plt\n",
        "from scipy.stats import mode"
      ],
      "execution_count": null,
      "outputs": []
    },
    {
      "cell_type": "code",
      "metadata": {
        "colab": {
          "base_uri": "https://localhost:8080/"
        },
        "id": "pubJkN6guNTU",
        "outputId": "43b741e7-afe9-4ebb-ea80-69c8a8cd7462"
      },
      "source": [
        "!curl -O https://github.com/geetanjalisawant16/AutoML-and-Clustering-for-Market-segmentation/blob/main/Online%20Retail.xlsx\n",
        "!curl -O https://github.com/geetanjalisawant16/AutoML-and-Clustering-for-Market-segmentation/blob/main/companies_market_cap.csv"
      ],
      "execution_count": null,
      "outputs": [
        {
          "output_type": "stream",
          "text": [
            "  % Total    % Received % Xferd  Average Speed   Time    Time     Time  Current\n",
            "                                 Dload  Upload   Total   Spent    Left  Speed\n",
            "100  183k    0  183k    0     0  1382k      0 --:--:-- --:--:-- --:--:-- 1382k\n",
            "  % Total    % Received % Xferd  Average Speed   Time    Time     Time  Current\n",
            "                                 Dload  Upload   Total   Spent    Left  Speed\n",
            "100  183k    0  183k    0     0  1641k      0 --:--:-- --:--:-- --:--:-- 1641k\n"
          ],
          "name": "stdout"
        }
      ]
    },
    {
      "cell_type": "code",
      "metadata": {
        "id": "87W2IjslU3PR"
      },
      "source": [
        "retail = pd.read_excel('/content/Online Retail.xlsx')\n"
      ],
      "execution_count": null,
      "outputs": []
    },
    {
      "cell_type": "code",
      "metadata": {
        "id": "ZxK7ouVUuk6T"
      },
      "source": [
        "post_covid = pd.read_csv('companies_market_cap.csv')"
      ],
      "execution_count": 43,
      "outputs": []
    },
    {
      "cell_type": "code",
      "metadata": {
        "colab": {
          "base_uri": "https://localhost:8080/",
          "height": 414
        },
        "id": "YXl_K2cZWlVI",
        "outputId": "3a626c17-4890-440d-9744-d7475b0d1a41"
      },
      "source": [
        "retail"
      ],
      "execution_count": null,
      "outputs": [
        {
          "output_type": "execute_result",
          "data": {
            "text/html": [
              "<div>\n",
              "<style scoped>\n",
              "    .dataframe tbody tr th:only-of-type {\n",
              "        vertical-align: middle;\n",
              "    }\n",
              "\n",
              "    .dataframe tbody tr th {\n",
              "        vertical-align: top;\n",
              "    }\n",
              "\n",
              "    .dataframe thead th {\n",
              "        text-align: right;\n",
              "    }\n",
              "</style>\n",
              "<table border=\"1\" class=\"dataframe\">\n",
              "  <thead>\n",
              "    <tr style=\"text-align: right;\">\n",
              "      <th></th>\n",
              "      <th>InvoiceNo</th>\n",
              "      <th>StockCode</th>\n",
              "      <th>Description</th>\n",
              "      <th>Quantity</th>\n",
              "      <th>InvoiceDate</th>\n",
              "      <th>UnitPrice</th>\n",
              "      <th>CustomerID</th>\n",
              "      <th>Country</th>\n",
              "    </tr>\n",
              "  </thead>\n",
              "  <tbody>\n",
              "    <tr>\n",
              "      <th>0</th>\n",
              "      <td>536365</td>\n",
              "      <td>85123A</td>\n",
              "      <td>WHITE HANGING HEART T-LIGHT HOLDER</td>\n",
              "      <td>6</td>\n",
              "      <td>2010-12-01 08:26:00</td>\n",
              "      <td>2.55</td>\n",
              "      <td>17850.0</td>\n",
              "      <td>United Kingdom</td>\n",
              "    </tr>\n",
              "    <tr>\n",
              "      <th>1</th>\n",
              "      <td>536365</td>\n",
              "      <td>71053</td>\n",
              "      <td>WHITE METAL LANTERN</td>\n",
              "      <td>6</td>\n",
              "      <td>2010-12-01 08:26:00</td>\n",
              "      <td>3.39</td>\n",
              "      <td>17850.0</td>\n",
              "      <td>United Kingdom</td>\n",
              "    </tr>\n",
              "    <tr>\n",
              "      <th>2</th>\n",
              "      <td>536365</td>\n",
              "      <td>84406B</td>\n",
              "      <td>CREAM CUPID HEARTS COAT HANGER</td>\n",
              "      <td>8</td>\n",
              "      <td>2010-12-01 08:26:00</td>\n",
              "      <td>2.75</td>\n",
              "      <td>17850.0</td>\n",
              "      <td>United Kingdom</td>\n",
              "    </tr>\n",
              "    <tr>\n",
              "      <th>3</th>\n",
              "      <td>536365</td>\n",
              "      <td>84029G</td>\n",
              "      <td>KNITTED UNION FLAG HOT WATER BOTTLE</td>\n",
              "      <td>6</td>\n",
              "      <td>2010-12-01 08:26:00</td>\n",
              "      <td>3.39</td>\n",
              "      <td>17850.0</td>\n",
              "      <td>United Kingdom</td>\n",
              "    </tr>\n",
              "    <tr>\n",
              "      <th>4</th>\n",
              "      <td>536365</td>\n",
              "      <td>84029E</td>\n",
              "      <td>RED WOOLLY HOTTIE WHITE HEART.</td>\n",
              "      <td>6</td>\n",
              "      <td>2010-12-01 08:26:00</td>\n",
              "      <td>3.39</td>\n",
              "      <td>17850.0</td>\n",
              "      <td>United Kingdom</td>\n",
              "    </tr>\n",
              "    <tr>\n",
              "      <th>...</th>\n",
              "      <td>...</td>\n",
              "      <td>...</td>\n",
              "      <td>...</td>\n",
              "      <td>...</td>\n",
              "      <td>...</td>\n",
              "      <td>...</td>\n",
              "      <td>...</td>\n",
              "      <td>...</td>\n",
              "    </tr>\n",
              "    <tr>\n",
              "      <th>541904</th>\n",
              "      <td>581587</td>\n",
              "      <td>22613</td>\n",
              "      <td>PACK OF 20 SPACEBOY NAPKINS</td>\n",
              "      <td>12</td>\n",
              "      <td>2011-12-09 12:50:00</td>\n",
              "      <td>0.85</td>\n",
              "      <td>12680.0</td>\n",
              "      <td>France</td>\n",
              "    </tr>\n",
              "    <tr>\n",
              "      <th>541905</th>\n",
              "      <td>581587</td>\n",
              "      <td>22899</td>\n",
              "      <td>CHILDREN'S APRON DOLLY GIRL</td>\n",
              "      <td>6</td>\n",
              "      <td>2011-12-09 12:50:00</td>\n",
              "      <td>2.10</td>\n",
              "      <td>12680.0</td>\n",
              "      <td>France</td>\n",
              "    </tr>\n",
              "    <tr>\n",
              "      <th>541906</th>\n",
              "      <td>581587</td>\n",
              "      <td>23254</td>\n",
              "      <td>CHILDRENS CUTLERY DOLLY GIRL</td>\n",
              "      <td>4</td>\n",
              "      <td>2011-12-09 12:50:00</td>\n",
              "      <td>4.15</td>\n",
              "      <td>12680.0</td>\n",
              "      <td>France</td>\n",
              "    </tr>\n",
              "    <tr>\n",
              "      <th>541907</th>\n",
              "      <td>581587</td>\n",
              "      <td>23255</td>\n",
              "      <td>CHILDRENS CUTLERY CIRCUS PARADE</td>\n",
              "      <td>4</td>\n",
              "      <td>2011-12-09 12:50:00</td>\n",
              "      <td>4.15</td>\n",
              "      <td>12680.0</td>\n",
              "      <td>France</td>\n",
              "    </tr>\n",
              "    <tr>\n",
              "      <th>541908</th>\n",
              "      <td>581587</td>\n",
              "      <td>22138</td>\n",
              "      <td>BAKING SET 9 PIECE RETROSPOT</td>\n",
              "      <td>3</td>\n",
              "      <td>2011-12-09 12:50:00</td>\n",
              "      <td>4.95</td>\n",
              "      <td>12680.0</td>\n",
              "      <td>France</td>\n",
              "    </tr>\n",
              "  </tbody>\n",
              "</table>\n",
              "<p>541909 rows × 8 columns</p>\n",
              "</div>"
            ],
            "text/plain": [
              "       InvoiceNo StockCode  ... CustomerID         Country\n",
              "0         536365    85123A  ...    17850.0  United Kingdom\n",
              "1         536365     71053  ...    17850.0  United Kingdom\n",
              "2         536365    84406B  ...    17850.0  United Kingdom\n",
              "3         536365    84029G  ...    17850.0  United Kingdom\n",
              "4         536365    84029E  ...    17850.0  United Kingdom\n",
              "...          ...       ...  ...        ...             ...\n",
              "541904    581587     22613  ...    12680.0          France\n",
              "541905    581587     22899  ...    12680.0          France\n",
              "541906    581587     23254  ...    12680.0          France\n",
              "541907    581587     23255  ...    12680.0          France\n",
              "541908    581587     22138  ...    12680.0          France\n",
              "\n",
              "[541909 rows x 8 columns]"
            ]
          },
          "metadata": {
            "tags": []
          },
          "execution_count": 15
        }
      ]
    },
    {
      "cell_type": "code",
      "metadata": {
        "colab": {
          "base_uri": "https://localhost:8080/",
          "height": 202
        },
        "id": "2MJ74FeOt5em",
        "outputId": "9b03f0d0-8675-48ea-e4f9-6bea025ad806"
      },
      "source": [
        "retail.tail(5)\n"
      ],
      "execution_count": null,
      "outputs": [
        {
          "output_type": "execute_result",
          "data": {
            "text/html": [
              "<div>\n",
              "<style scoped>\n",
              "    .dataframe tbody tr th:only-of-type {\n",
              "        vertical-align: middle;\n",
              "    }\n",
              "\n",
              "    .dataframe tbody tr th {\n",
              "        vertical-align: top;\n",
              "    }\n",
              "\n",
              "    .dataframe thead th {\n",
              "        text-align: right;\n",
              "    }\n",
              "</style>\n",
              "<table border=\"1\" class=\"dataframe\">\n",
              "  <thead>\n",
              "    <tr style=\"text-align: right;\">\n",
              "      <th></th>\n",
              "      <th>InvoiceNo</th>\n",
              "      <th>StockCode</th>\n",
              "      <th>Description</th>\n",
              "      <th>Quantity</th>\n",
              "      <th>InvoiceDate</th>\n",
              "      <th>UnitPrice</th>\n",
              "      <th>CustomerID</th>\n",
              "      <th>Country</th>\n",
              "    </tr>\n",
              "  </thead>\n",
              "  <tbody>\n",
              "    <tr>\n",
              "      <th>541904</th>\n",
              "      <td>581587</td>\n",
              "      <td>22613</td>\n",
              "      <td>PACK OF 20 SPACEBOY NAPKINS</td>\n",
              "      <td>12</td>\n",
              "      <td>2011-12-09 12:50:00</td>\n",
              "      <td>0.85</td>\n",
              "      <td>12680.0</td>\n",
              "      <td>France</td>\n",
              "    </tr>\n",
              "    <tr>\n",
              "      <th>541905</th>\n",
              "      <td>581587</td>\n",
              "      <td>22899</td>\n",
              "      <td>CHILDREN'S APRON DOLLY GIRL</td>\n",
              "      <td>6</td>\n",
              "      <td>2011-12-09 12:50:00</td>\n",
              "      <td>2.10</td>\n",
              "      <td>12680.0</td>\n",
              "      <td>France</td>\n",
              "    </tr>\n",
              "    <tr>\n",
              "      <th>541906</th>\n",
              "      <td>581587</td>\n",
              "      <td>23254</td>\n",
              "      <td>CHILDRENS CUTLERY DOLLY GIRL</td>\n",
              "      <td>4</td>\n",
              "      <td>2011-12-09 12:50:00</td>\n",
              "      <td>4.15</td>\n",
              "      <td>12680.0</td>\n",
              "      <td>France</td>\n",
              "    </tr>\n",
              "    <tr>\n",
              "      <th>541907</th>\n",
              "      <td>581587</td>\n",
              "      <td>23255</td>\n",
              "      <td>CHILDRENS CUTLERY CIRCUS PARADE</td>\n",
              "      <td>4</td>\n",
              "      <td>2011-12-09 12:50:00</td>\n",
              "      <td>4.15</td>\n",
              "      <td>12680.0</td>\n",
              "      <td>France</td>\n",
              "    </tr>\n",
              "    <tr>\n",
              "      <th>541908</th>\n",
              "      <td>581587</td>\n",
              "      <td>22138</td>\n",
              "      <td>BAKING SET 9 PIECE RETROSPOT</td>\n",
              "      <td>3</td>\n",
              "      <td>2011-12-09 12:50:00</td>\n",
              "      <td>4.95</td>\n",
              "      <td>12680.0</td>\n",
              "      <td>France</td>\n",
              "    </tr>\n",
              "  </tbody>\n",
              "</table>\n",
              "</div>"
            ],
            "text/plain": [
              "       InvoiceNo StockCode  ... CustomerID  Country\n",
              "541904    581587     22613  ...    12680.0   France\n",
              "541905    581587     22899  ...    12680.0   France\n",
              "541906    581587     23254  ...    12680.0   France\n",
              "541907    581587     23255  ...    12680.0   France\n",
              "541908    581587     22138  ...    12680.0   France\n",
              "\n",
              "[5 rows x 8 columns]"
            ]
          },
          "metadata": {
            "tags": []
          },
          "execution_count": 16
        }
      ]
    },
    {
      "cell_type": "code",
      "metadata": {
        "colab": {
          "base_uri": "https://localhost:8080/",
          "height": 414
        },
        "id": "SaN1Ac_iWpQg",
        "outputId": "4ef8c2f7-8ea9-4ebb-a163-8487d40e50ed"
      },
      "source": [
        "post_covid"
      ],
      "execution_count": 44,
      "outputs": [
        {
          "output_type": "execute_result",
          "data": {
            "text/html": [
              "<div>\n",
              "<style scoped>\n",
              "    .dataframe tbody tr th:only-of-type {\n",
              "        vertical-align: middle;\n",
              "    }\n",
              "\n",
              "    .dataframe tbody tr th {\n",
              "        vertical-align: top;\n",
              "    }\n",
              "\n",
              "    .dataframe thead th {\n",
              "        text-align: right;\n",
              "    }\n",
              "</style>\n",
              "<table border=\"1\" class=\"dataframe\">\n",
              "  <thead>\n",
              "    <tr style=\"text-align: right;\">\n",
              "      <th></th>\n",
              "      <th>S.No</th>\n",
              "      <th>Company</th>\n",
              "      <th>Country</th>\n",
              "      <th>Sector</th>\n",
              "      <th>Market cap ($bn)</th>\n",
              "      <th>Market cap added</th>\n",
              "      <th>Change</th>\n",
              "    </tr>\n",
              "  </thead>\n",
              "  <tbody>\n",
              "    <tr>\n",
              "      <th>0</th>\n",
              "      <td>1</td>\n",
              "      <td>Amazon</td>\n",
              "      <td>US</td>\n",
              "      <td>Consumer discretionary</td>\n",
              "      <td>1,317.30</td>\n",
              "      <td>401.1</td>\n",
              "      <td>43.8</td>\n",
              "    </tr>\n",
              "    <tr>\n",
              "      <th>1</th>\n",
              "      <td>2</td>\n",
              "      <td>Microsoft</td>\n",
              "      <td>US</td>\n",
              "      <td>Technology</td>\n",
              "      <td>1,473.00</td>\n",
              "      <td>269.9</td>\n",
              "      <td>22.4</td>\n",
              "    </tr>\n",
              "    <tr>\n",
              "      <th>2</th>\n",
              "      <td>3</td>\n",
              "      <td>Apple</td>\n",
              "      <td>US</td>\n",
              "      <td>Technology</td>\n",
              "      <td>1,523.90</td>\n",
              "      <td>219.1</td>\n",
              "      <td>16.8</td>\n",
              "    </tr>\n",
              "    <tr>\n",
              "      <th>3</th>\n",
              "      <td>4</td>\n",
              "      <td>Tesla</td>\n",
              "      <td>US</td>\n",
              "      <td>Consumer discretionary</td>\n",
              "      <td>183.8</td>\n",
              "      <td>108.4</td>\n",
              "      <td>143.8</td>\n",
              "    </tr>\n",
              "    <tr>\n",
              "      <th>4</th>\n",
              "      <td>5</td>\n",
              "      <td>Tencent</td>\n",
              "      <td>China</td>\n",
              "      <td>Communication services</td>\n",
              "      <td>550.9</td>\n",
              "      <td>93.1</td>\n",
              "      <td>20.3</td>\n",
              "    </tr>\n",
              "    <tr>\n",
              "      <th>...</th>\n",
              "      <td>...</td>\n",
              "      <td>...</td>\n",
              "      <td>...</td>\n",
              "      <td>...</td>\n",
              "      <td>...</td>\n",
              "      <td>...</td>\n",
              "      <td>...</td>\n",
              "    </tr>\n",
              "    <tr>\n",
              "      <th>95</th>\n",
              "      <td>96</td>\n",
              "      <td>Snap</td>\n",
              "      <td>US</td>\n",
              "      <td>Communication services</td>\n",
              "      <td>31.5</td>\n",
              "      <td>8.7</td>\n",
              "      <td>38.0</td>\n",
              "    </tr>\n",
              "    <tr>\n",
              "      <th>96</th>\n",
              "      <td>97</td>\n",
              "      <td>Changchun High &amp; New Technology Industry</td>\n",
              "      <td>China</td>\n",
              "      <td>Healthcare</td>\n",
              "      <td>21.5</td>\n",
              "      <td>8.5</td>\n",
              "      <td>65.2</td>\n",
              "    </tr>\n",
              "    <tr>\n",
              "      <th>97</th>\n",
              "      <td>98</td>\n",
              "      <td>Chewy</td>\n",
              "      <td>US</td>\n",
              "      <td>Consumer discretionary</td>\n",
              "      <td>19.9</td>\n",
              "      <td>8.3</td>\n",
              "      <td>72.2</td>\n",
              "    </tr>\n",
              "    <tr>\n",
              "      <th>98</th>\n",
              "      <td>99</td>\n",
              "      <td>GSX Techedu</td>\n",
              "      <td>China</td>\n",
              "      <td>Consumer discretionary</td>\n",
              "      <td>13.4</td>\n",
              "      <td>8.2</td>\n",
              "      <td>160.1</td>\n",
              "    </tr>\n",
              "    <tr>\n",
              "      <th>99</th>\n",
              "      <td>100</td>\n",
              "      <td>Teladoc Health</td>\n",
              "      <td>US</td>\n",
              "      <td>Healthcare</td>\n",
              "      <td>14.3</td>\n",
              "      <td>8.2</td>\n",
              "      <td>136.0</td>\n",
              "    </tr>\n",
              "  </tbody>\n",
              "</table>\n",
              "<p>100 rows × 7 columns</p>\n",
              "</div>"
            ],
            "text/plain": [
              "    S.No                                   Company  ... Market cap added Change\n",
              "0      1                                    Amazon  ...            401.1   43.8\n",
              "1      2                                 Microsoft  ...            269.9   22.4\n",
              "2      3                                     Apple  ...            219.1   16.8\n",
              "3      4                                     Tesla  ...            108.4  143.8\n",
              "4      5                                   Tencent  ...             93.1   20.3\n",
              "..   ...                                       ...  ...              ...    ...\n",
              "95    96                                      Snap  ...              8.7   38.0\n",
              "96    97  Changchun High & New Technology Industry  ...              8.5   65.2\n",
              "97    98                                     Chewy  ...              8.3   72.2\n",
              "98    99                               GSX Techedu  ...              8.2  160.1\n",
              "99   100                            Teladoc Health  ...              8.2  136.0\n",
              "\n",
              "[100 rows x 7 columns]"
            ]
          },
          "metadata": {
            "tags": []
          },
          "execution_count": 44
        }
      ]
    },
    {
      "cell_type": "code",
      "metadata": {
        "colab": {
          "base_uri": "https://localhost:8080/",
          "height": 597
        },
        "id": "piRBMh7PE2GI",
        "outputId": "4493e556-9acf-4aa5-962d-8a2b6dba8a98"
      },
      "source": [
        "market = pd.merge(retail,post_covid)\n",
        "market"
      ],
      "execution_count": 45,
      "outputs": [
        {
          "output_type": "execute_result",
          "data": {
            "text/html": [
              "<div>\n",
              "<style scoped>\n",
              "    .dataframe tbody tr th:only-of-type {\n",
              "        vertical-align: middle;\n",
              "    }\n",
              "\n",
              "    .dataframe tbody tr th {\n",
              "        vertical-align: top;\n",
              "    }\n",
              "\n",
              "    .dataframe thead th {\n",
              "        text-align: right;\n",
              "    }\n",
              "</style>\n",
              "<table border=\"1\" class=\"dataframe\">\n",
              "  <thead>\n",
              "    <tr style=\"text-align: right;\">\n",
              "      <th></th>\n",
              "      <th>InvoiceNo</th>\n",
              "      <th>StockCode</th>\n",
              "      <th>Description</th>\n",
              "      <th>Quantity</th>\n",
              "      <th>InvoiceDate</th>\n",
              "      <th>UnitPrice</th>\n",
              "      <th>CustomerID</th>\n",
              "      <th>Country</th>\n",
              "      <th>S.No</th>\n",
              "      <th>Company</th>\n",
              "      <th>Sector</th>\n",
              "      <th>Market cap ($bn)</th>\n",
              "      <th>Market cap added</th>\n",
              "      <th>Change</th>\n",
              "    </tr>\n",
              "  </thead>\n",
              "  <tbody>\n",
              "    <tr>\n",
              "      <th>0</th>\n",
              "      <td>536370</td>\n",
              "      <td>22728</td>\n",
              "      <td>ALARM CLOCK BAKELIKE PINK</td>\n",
              "      <td>24</td>\n",
              "      <td>2010-12-01 08:45:00</td>\n",
              "      <td>3.75</td>\n",
              "      <td>12583.0</td>\n",
              "      <td>France</td>\n",
              "      <td>75</td>\n",
              "      <td>Hermès International</td>\n",
              "      <td>Consumer discretionary</td>\n",
              "      <td>88.2</td>\n",
              "      <td>10.6</td>\n",
              "      <td>13.7</td>\n",
              "    </tr>\n",
              "    <tr>\n",
              "      <th>1</th>\n",
              "      <td>536370</td>\n",
              "      <td>22728</td>\n",
              "      <td>ALARM CLOCK BAKELIKE PINK</td>\n",
              "      <td>24</td>\n",
              "      <td>2010-12-01 08:45:00</td>\n",
              "      <td>3.75</td>\n",
              "      <td>12583.0</td>\n",
              "      <td>France</td>\n",
              "      <td>95</td>\n",
              "      <td>L'Oréal</td>\n",
              "      <td>Consumer staples</td>\n",
              "      <td>173.4</td>\n",
              "      <td>8.8</td>\n",
              "      <td>5.3</td>\n",
              "    </tr>\n",
              "    <tr>\n",
              "      <th>2</th>\n",
              "      <td>536370</td>\n",
              "      <td>22727</td>\n",
              "      <td>ALARM CLOCK BAKELIKE RED</td>\n",
              "      <td>24</td>\n",
              "      <td>2010-12-01 08:45:00</td>\n",
              "      <td>3.75</td>\n",
              "      <td>12583.0</td>\n",
              "      <td>France</td>\n",
              "      <td>75</td>\n",
              "      <td>Hermès International</td>\n",
              "      <td>Consumer discretionary</td>\n",
              "      <td>88.2</td>\n",
              "      <td>10.6</td>\n",
              "      <td>13.7</td>\n",
              "    </tr>\n",
              "    <tr>\n",
              "      <th>3</th>\n",
              "      <td>536370</td>\n",
              "      <td>22727</td>\n",
              "      <td>ALARM CLOCK BAKELIKE RED</td>\n",
              "      <td>24</td>\n",
              "      <td>2010-12-01 08:45:00</td>\n",
              "      <td>3.75</td>\n",
              "      <td>12583.0</td>\n",
              "      <td>France</td>\n",
              "      <td>95</td>\n",
              "      <td>L'Oréal</td>\n",
              "      <td>Consumer staples</td>\n",
              "      <td>173.4</td>\n",
              "      <td>8.8</td>\n",
              "      <td>5.3</td>\n",
              "    </tr>\n",
              "    <tr>\n",
              "      <th>4</th>\n",
              "      <td>536370</td>\n",
              "      <td>22726</td>\n",
              "      <td>ALARM CLOCK BAKELIKE GREEN</td>\n",
              "      <td>12</td>\n",
              "      <td>2010-12-01 08:45:00</td>\n",
              "      <td>3.75</td>\n",
              "      <td>12583.0</td>\n",
              "      <td>France</td>\n",
              "      <td>75</td>\n",
              "      <td>Hermès International</td>\n",
              "      <td>Consumer discretionary</td>\n",
              "      <td>88.2</td>\n",
              "      <td>10.6</td>\n",
              "      <td>13.7</td>\n",
              "    </tr>\n",
              "    <tr>\n",
              "      <th>...</th>\n",
              "      <td>...</td>\n",
              "      <td>...</td>\n",
              "      <td>...</td>\n",
              "      <td>...</td>\n",
              "      <td>...</td>\n",
              "      <td>...</td>\n",
              "      <td>...</td>\n",
              "      <td>...</td>\n",
              "      <td>...</td>\n",
              "      <td>...</td>\n",
              "      <td>...</td>\n",
              "      <td>...</td>\n",
              "      <td>...</td>\n",
              "      <td>...</td>\n",
              "    </tr>\n",
              "    <tr>\n",
              "      <th>48619</th>\n",
              "      <td>564428</td>\n",
              "      <td>23296</td>\n",
              "      <td>SET OF 6 TEA TIME BAKING CASES</td>\n",
              "      <td>8</td>\n",
              "      <td>2011-08-25 11:27:00</td>\n",
              "      <td>1.25</td>\n",
              "      <td>17844.0</td>\n",
              "      <td>Canada</td>\n",
              "      <td>81</td>\n",
              "      <td>Barrick Gold</td>\n",
              "      <td>Materials</td>\n",
              "      <td>43.1</td>\n",
              "      <td>10.1</td>\n",
              "      <td>30.7</td>\n",
              "    </tr>\n",
              "    <tr>\n",
              "      <th>48620</th>\n",
              "      <td>564428</td>\n",
              "      <td>23296</td>\n",
              "      <td>SET OF 6 TEA TIME BAKING CASES</td>\n",
              "      <td>8</td>\n",
              "      <td>2011-08-25 11:27:00</td>\n",
              "      <td>1.25</td>\n",
              "      <td>17844.0</td>\n",
              "      <td>Canada</td>\n",
              "      <td>87</td>\n",
              "      <td>Lululemon Athletica</td>\n",
              "      <td>Consumer discretionary</td>\n",
              "      <td>39.5</td>\n",
              "      <td>9.4</td>\n",
              "      <td>31.0</td>\n",
              "    </tr>\n",
              "    <tr>\n",
              "      <th>48621</th>\n",
              "      <td>564428</td>\n",
              "      <td>23294</td>\n",
              "      <td>SET OF 6 SNACK LOAF BAKING CASES</td>\n",
              "      <td>8</td>\n",
              "      <td>2011-08-25 11:27:00</td>\n",
              "      <td>0.83</td>\n",
              "      <td>17844.0</td>\n",
              "      <td>Canada</td>\n",
              "      <td>14</td>\n",
              "      <td>Shopify</td>\n",
              "      <td>Technology</td>\n",
              "      <td>97.6</td>\n",
              "      <td>51.5</td>\n",
              "      <td>111.7</td>\n",
              "    </tr>\n",
              "    <tr>\n",
              "      <th>48622</th>\n",
              "      <td>564428</td>\n",
              "      <td>23294</td>\n",
              "      <td>SET OF 6 SNACK LOAF BAKING CASES</td>\n",
              "      <td>8</td>\n",
              "      <td>2011-08-25 11:27:00</td>\n",
              "      <td>0.83</td>\n",
              "      <td>17844.0</td>\n",
              "      <td>Canada</td>\n",
              "      <td>81</td>\n",
              "      <td>Barrick Gold</td>\n",
              "      <td>Materials</td>\n",
              "      <td>43.1</td>\n",
              "      <td>10.1</td>\n",
              "      <td>30.7</td>\n",
              "    </tr>\n",
              "    <tr>\n",
              "      <th>48623</th>\n",
              "      <td>564428</td>\n",
              "      <td>23294</td>\n",
              "      <td>SET OF 6 SNACK LOAF BAKING CASES</td>\n",
              "      <td>8</td>\n",
              "      <td>2011-08-25 11:27:00</td>\n",
              "      <td>0.83</td>\n",
              "      <td>17844.0</td>\n",
              "      <td>Canada</td>\n",
              "      <td>87</td>\n",
              "      <td>Lululemon Athletica</td>\n",
              "      <td>Consumer discretionary</td>\n",
              "      <td>39.5</td>\n",
              "      <td>9.4</td>\n",
              "      <td>31.0</td>\n",
              "    </tr>\n",
              "  </tbody>\n",
              "</table>\n",
              "<p>48624 rows × 14 columns</p>\n",
              "</div>"
            ],
            "text/plain": [
              "      InvoiceNo StockCode  ... Market cap added  Change\n",
              "0        536370     22728  ...             10.6    13.7\n",
              "1        536370     22728  ...              8.8     5.3\n",
              "2        536370     22727  ...             10.6    13.7\n",
              "3        536370     22727  ...              8.8     5.3\n",
              "4        536370     22726  ...             10.6    13.7\n",
              "...         ...       ...  ...              ...     ...\n",
              "48619    564428     23296  ...             10.1    30.7\n",
              "48620    564428     23296  ...              9.4    31.0\n",
              "48621    564428     23294  ...             51.5   111.7\n",
              "48622    564428     23294  ...             10.1    30.7\n",
              "48623    564428     23294  ...              9.4    31.0\n",
              "\n",
              "[48624 rows x 14 columns]"
            ]
          },
          "metadata": {
            "tags": []
          },
          "execution_count": 45
        }
      ]
    },
    {
      "cell_type": "markdown",
      "metadata": {
        "id": "OngKEONmLX8w"
      },
      "source": [
        "# Initial Data Analysis:\n",
        "\n",
        "> 1) Quality of data:\n",
        "\n",
        "*    Frequency counts:\n",
        "     The given dataset of covid-19 has got Structured and Unstructured data.\n",
        "     It has got numeric(integer,float),Boolean(0,1) and strings i.e sequence\n",
        "     of symbols kind of values in the data columns.\n",
        "*    Discriptive/ Summary statistics.\n",
        "      (mean,median,standard deviation, max,min,etc.)\n",
        "\n",
        "*    Normality(frequency histograms)\n",
        "  \n",
        "> 2) Quality of Measurements,if applicable\n",
        "\n",
        "> 3) Data Transformation: data transpose,data type change,sorting,deletion,etc.\n"
      ]
    },
    {
      "cell_type": "markdown",
      "metadata": {
        "id": "stKlr5_oQljF"
      },
      "source": [
        "## 1) Quality of data:\n"
      ]
    },
    {
      "cell_type": "code",
      "metadata": {
        "id": "bMVoSMQVLXmc",
        "colab": {
          "base_uri": "https://localhost:8080/"
        },
        "outputId": "5bf3eb31-6c84-4c92-b84b-acbee876e4a9"
      },
      "source": [
        "# a) checking the Datatypes frequency: \n",
        "market.info() # Gives the information about Index, Datatype and Memory information."
      ],
      "execution_count": 46,
      "outputs": [
        {
          "output_type": "stream",
          "text": [
            "<class 'pandas.core.frame.DataFrame'>\n",
            "Int64Index: 48624 entries, 0 to 48623\n",
            "Data columns (total 14 columns):\n",
            " #   Column            Non-Null Count  Dtype         \n",
            "---  ------            --------------  -----         \n",
            " 0   InvoiceNo         48624 non-null  object        \n",
            " 1   StockCode         48624 non-null  object        \n",
            " 2   Description       48624 non-null  object        \n",
            " 3   Quantity          48624 non-null  int64         \n",
            " 4   InvoiceDate       48624 non-null  datetime64[ns]\n",
            " 5   UnitPrice         48624 non-null  float64       \n",
            " 6   CustomerID        47829 non-null  float64       \n",
            " 7   Country           48624 non-null  object        \n",
            " 8   S.No              48624 non-null  int64         \n",
            " 9   Company           48624 non-null  object        \n",
            " 10  Sector            48624 non-null  object        \n",
            " 11  Market cap ($bn)  48624 non-null  object        \n",
            " 12  Market cap added  48624 non-null  float64       \n",
            " 13  Change            48624 non-null  float64       \n",
            "dtypes: datetime64[ns](1), float64(4), int64(2), object(7)\n",
            "memory usage: 5.6+ MB\n"
          ],
          "name": "stdout"
        }
      ]
    },
    {
      "cell_type": "code",
      "metadata": {
        "id": "nFCylR_eQ3nh",
        "colab": {
          "base_uri": "https://localhost:8080/"
        },
        "outputId": "94180cd2-9b1a-45fb-e022-3f53d987de36"
      },
      "source": [
        "market.count() # returns the value of non-null values in each Dataframe(market)"
      ],
      "execution_count": 47,
      "outputs": [
        {
          "output_type": "execute_result",
          "data": {
            "text/plain": [
              "InvoiceNo           48624\n",
              "StockCode           48624\n",
              "Description         48624\n",
              "Quantity            48624\n",
              "InvoiceDate         48624\n",
              "UnitPrice           48624\n",
              "CustomerID          47829\n",
              "Country             48624\n",
              "S.No                48624\n",
              "Company             48624\n",
              "Sector              48624\n",
              "Market cap ($bn)    48624\n",
              "Market cap added    48624\n",
              "Change              48624\n",
              "dtype: int64"
            ]
          },
          "metadata": {
            "tags": []
          },
          "execution_count": 47
        }
      ]
    },
    {
      "cell_type": "code",
      "metadata": {
        "id": "W_xE4RF6REHh",
        "colab": {
          "base_uri": "https://localhost:8080/",
          "height": 294
        },
        "outputId": "4742e22d-366e-42a6-e36c-81e978c0a965"
      },
      "source": [
        "# b) Descriptive/ Summary Statistics(mean,meadian,standard deviation,max,min,etc)\n",
        "market.describe() # gives Summary staistics for numerical columns"
      ],
      "execution_count": 48,
      "outputs": [
        {
          "output_type": "execute_result",
          "data": {
            "text/html": [
              "<div>\n",
              "<style scoped>\n",
              "    .dataframe tbody tr th:only-of-type {\n",
              "        vertical-align: middle;\n",
              "    }\n",
              "\n",
              "    .dataframe tbody tr th {\n",
              "        vertical-align: top;\n",
              "    }\n",
              "\n",
              "    .dataframe thead th {\n",
              "        text-align: right;\n",
              "    }\n",
              "</style>\n",
              "<table border=\"1\" class=\"dataframe\">\n",
              "  <thead>\n",
              "    <tr style=\"text-align: right;\">\n",
              "      <th></th>\n",
              "      <th>Quantity</th>\n",
              "      <th>UnitPrice</th>\n",
              "      <th>CustomerID</th>\n",
              "      <th>S.No</th>\n",
              "      <th>Market cap added</th>\n",
              "      <th>Change</th>\n",
              "    </tr>\n",
              "  </thead>\n",
              "  <tbody>\n",
              "    <tr>\n",
              "      <th>count</th>\n",
              "      <td>48624.000000</td>\n",
              "      <td>48624.000000</td>\n",
              "      <td>47829.000000</td>\n",
              "      <td>48624.000000</td>\n",
              "      <td>48624.000000</td>\n",
              "      <td>48624.000000</td>\n",
              "    </tr>\n",
              "    <tr>\n",
              "      <th>mean</th>\n",
              "      <td>33.963619</td>\n",
              "      <td>4.653855</td>\n",
              "      <td>13161.048297</td>\n",
              "      <td>56.485830</td>\n",
              "      <td>18.868104</td>\n",
              "      <td>43.640058</td>\n",
              "    </tr>\n",
              "    <tr>\n",
              "      <th>std</th>\n",
              "      <td>73.552953</td>\n",
              "      <td>64.830839</td>\n",
              "      <td>995.588752</td>\n",
              "      <td>30.563052</td>\n",
              "      <td>11.334199</td>\n",
              "      <td>45.999461</td>\n",
              "    </tr>\n",
              "    <tr>\n",
              "      <th>min</th>\n",
              "      <td>-624.000000</td>\n",
              "      <td>0.000000</td>\n",
              "      <td>12357.000000</td>\n",
              "      <td>14.000000</td>\n",
              "      <td>8.800000</td>\n",
              "      <td>4.500000</td>\n",
              "    </tr>\n",
              "    <tr>\n",
              "      <th>25%</th>\n",
              "      <td>6.000000</td>\n",
              "      <td>1.050000</td>\n",
              "      <td>12532.000000</td>\n",
              "      <td>25.000000</td>\n",
              "      <td>9.000000</td>\n",
              "      <td>6.500000</td>\n",
              "    </tr>\n",
              "    <tr>\n",
              "      <th>50%</th>\n",
              "      <td>12.000000</td>\n",
              "      <td>1.650000</td>\n",
              "      <td>12681.000000</td>\n",
              "      <td>62.000000</td>\n",
              "      <td>11.600000</td>\n",
              "      <td>20.400000</td>\n",
              "    </tr>\n",
              "    <tr>\n",
              "      <th>75%</th>\n",
              "      <td>25.000000</td>\n",
              "      <td>3.350000</td>\n",
              "      <td>13813.000000</td>\n",
              "      <td>92.000000</td>\n",
              "      <td>27.300000</td>\n",
              "      <td>98.400000</td>\n",
              "    </tr>\n",
              "    <tr>\n",
              "      <th>max</th>\n",
              "      <td>2400.000000</td>\n",
              "      <td>4161.060000</td>\n",
              "      <td>17844.000000</td>\n",
              "      <td>95.000000</td>\n",
              "      <td>51.500000</td>\n",
              "      <td>171.100000</td>\n",
              "    </tr>\n",
              "  </tbody>\n",
              "</table>\n",
              "</div>"
            ],
            "text/plain": [
              "           Quantity     UnitPrice  ...  Market cap added        Change\n",
              "count  48624.000000  48624.000000  ...      48624.000000  48624.000000\n",
              "mean      33.963619      4.653855  ...         18.868104     43.640058\n",
              "std       73.552953     64.830839  ...         11.334199     45.999461\n",
              "min     -624.000000      0.000000  ...          8.800000      4.500000\n",
              "25%        6.000000      1.050000  ...          9.000000      6.500000\n",
              "50%       12.000000      1.650000  ...         11.600000     20.400000\n",
              "75%       25.000000      3.350000  ...         27.300000     98.400000\n",
              "max     2400.000000   4161.060000  ...         51.500000    171.100000\n",
              "\n",
              "[8 rows x 6 columns]"
            ]
          },
          "metadata": {
            "tags": []
          },
          "execution_count": 48
        }
      ]
    },
    {
      "cell_type": "code",
      "metadata": {
        "id": "SMVVVoaHRjE8",
        "colab": {
          "base_uri": "https://localhost:8080/",
          "height": 410
        },
        "outputId": "ce20444e-9581-4e65-cc7d-68821a04423e"
      },
      "source": [
        "# c) Normality(frequency histograms)\n",
        "market.describe().plot.hist(bins=10,figsize=[13,6])\n",
        "plt.title('Frequency Histogram',fontsize=16)"
      ],
      "execution_count": 49,
      "outputs": [
        {
          "output_type": "execute_result",
          "data": {
            "text/plain": [
              "Text(0.5, 1.0, 'Frequency Histogram')"
            ]
          },
          "metadata": {
            "tags": []
          },
          "execution_count": 49
        },
        {
          "output_type": "display_data",
          "data": {
            "image/png": "[encoded data removed]",
            "text/plain": [
              "<Figure size 936x432 with 1 Axes>"
            ]
          },
          "metadata": {
            "tags": [],
            "needs_background": "light"
          }
        }
      ]
    },
    {
      "cell_type": "code",
      "metadata": {
        "id": "_LElbVT3SGBy",
        "colab": {
          "base_uri": "https://localhost:8080/"
        },
        "outputId": "557d18f8-f0b5-4fb6-c58e-eecb51346581"
      },
      "source": [
        "market.equals(market)"
      ],
      "execution_count": 50,
      "outputs": [
        {
          "output_type": "execute_result",
          "data": {
            "text/plain": [
              "True"
            ]
          },
          "metadata": {
            "tags": []
          },
          "execution_count": 50
        }
      ]
    },
    {
      "cell_type": "code",
      "metadata": {
        "id": "KwfTgrtySoSK",
        "colab": {
          "base_uri": "https://localhost:8080/"
        },
        "outputId": "3444c76d-404f-4b76-a559-08fd7d1a8ea3"
      },
      "source": [
        "market.index"
      ],
      "execution_count": 51,
      "outputs": [
        {
          "output_type": "execute_result",
          "data": {
            "text/plain": [
              "Int64Index([    0,     1,     2,     3,     4,     5,     6,     7,     8,\n",
              "                9,\n",
              "            ...\n",
              "            48614, 48615, 48616, 48617, 48618, 48619, 48620, 48621, 48622,\n",
              "            48623],\n",
              "           dtype='int64', length=48624)"
            ]
          },
          "metadata": {
            "tags": []
          },
          "execution_count": 51
        }
      ]
    },
    {
      "cell_type": "code",
      "metadata": {
        "id": "mA9LJ5xWStn8",
        "colab": {
          "base_uri": "https://localhost:8080/"
        },
        "outputId": "0a173c87-a640-4489-eaaf-777462846065"
      },
      "source": [
        "market.shape"
      ],
      "execution_count": 52,
      "outputs": [
        {
          "output_type": "execute_result",
          "data": {
            "text/plain": [
              "(48624, 14)"
            ]
          },
          "metadata": {
            "tags": []
          },
          "execution_count": 52
        }
      ]
    },
    {
      "cell_type": "code",
      "metadata": {
        "id": "PM-W-3kqSwpB",
        "colab": {
          "base_uri": "https://localhost:8080/",
          "height": 414
        },
        "outputId": "eda61894-087e-48e9-bc2b-03017f125b69"
      },
      "source": [
        "market.isna()"
      ],
      "execution_count": 53,
      "outputs": [
        {
          "output_type": "execute_result",
          "data": {
            "text/html": [
              "<div>\n",
              "<style scoped>\n",
              "    .dataframe tbody tr th:only-of-type {\n",
              "        vertical-align: middle;\n",
              "    }\n",
              "\n",
              "    .dataframe tbody tr th {\n",
              "        vertical-align: top;\n",
              "    }\n",
              "\n",
              "    .dataframe thead th {\n",
              "        text-align: right;\n",
              "    }\n",
              "</style>\n",
              "<table border=\"1\" class=\"dataframe\">\n",
              "  <thead>\n",
              "    <tr style=\"text-align: right;\">\n",
              "      <th></th>\n",
              "      <th>InvoiceNo</th>\n",
              "      <th>StockCode</th>\n",
              "      <th>Description</th>\n",
              "      <th>Quantity</th>\n",
              "      <th>InvoiceDate</th>\n",
              "      <th>UnitPrice</th>\n",
              "      <th>CustomerID</th>\n",
              "      <th>Country</th>\n",
              "      <th>S.No</th>\n",
              "      <th>Company</th>\n",
              "      <th>Sector</th>\n",
              "      <th>Market cap ($bn)</th>\n",
              "      <th>Market cap added</th>\n",
              "      <th>Change</th>\n",
              "    </tr>\n",
              "  </thead>\n",
              "  <tbody>\n",
              "    <tr>\n",
              "      <th>0</th>\n",
              "      <td>False</td>\n",
              "      <td>False</td>\n",
              "      <td>False</td>\n",
              "      <td>False</td>\n",
              "      <td>False</td>\n",
              "      <td>False</td>\n",
              "      <td>False</td>\n",
              "      <td>False</td>\n",
              "      <td>False</td>\n",
              "      <td>False</td>\n",
              "      <td>False</td>\n",
              "      <td>False</td>\n",
              "      <td>False</td>\n",
              "      <td>False</td>\n",
              "    </tr>\n",
              "    <tr>\n",
              "      <th>1</th>\n",
              "      <td>False</td>\n",
              "      <td>False</td>\n",
              "      <td>False</td>\n",
              "      <td>False</td>\n",
              "      <td>False</td>\n",
              "      <td>False</td>\n",
              "      <td>False</td>\n",
              "      <td>False</td>\n",
              "      <td>False</td>\n",
              "      <td>False</td>\n",
              "      <td>False</td>\n",
              "      <td>False</td>\n",
              "      <td>False</td>\n",
              "      <td>False</td>\n",
              "    </tr>\n",
              "    <tr>\n",
              "      <th>2</th>\n",
              "      <td>False</td>\n",
              "      <td>False</td>\n",
              "      <td>False</td>\n",
              "      <td>False</td>\n",
              "      <td>False</td>\n",
              "      <td>False</td>\n",
              "      <td>False</td>\n",
              "      <td>False</td>\n",
              "      <td>False</td>\n",
              "      <td>False</td>\n",
              "      <td>False</td>\n",
              "      <td>False</td>\n",
              "      <td>False</td>\n",
              "      <td>False</td>\n",
              "    </tr>\n",
              "    <tr>\n",
              "      <th>3</th>\n",
              "      <td>False</td>\n",
              "      <td>False</td>\n",
              "      <td>False</td>\n",
              "      <td>False</td>\n",
              "      <td>False</td>\n",
              "      <td>False</td>\n",
              "      <td>False</td>\n",
              "      <td>False</td>\n",
              "      <td>False</td>\n",
              "      <td>False</td>\n",
              "      <td>False</td>\n",
              "      <td>False</td>\n",
              "      <td>False</td>\n",
              "      <td>False</td>\n",
              "    </tr>\n",
              "    <tr>\n",
              "      <th>4</th>\n",
              "      <td>False</td>\n",
              "      <td>False</td>\n",
              "      <td>False</td>\n",
              "      <td>False</td>\n",
              "      <td>False</td>\n",
              "      <td>False</td>\n",
              "      <td>False</td>\n",
              "      <td>False</td>\n",
              "      <td>False</td>\n",
              "      <td>False</td>\n",
              "      <td>False</td>\n",
              "      <td>False</td>\n",
              "      <td>False</td>\n",
              "      <td>False</td>\n",
              "    </tr>\n",
              "    <tr>\n",
              "      <th>...</th>\n",
              "      <td>...</td>\n",
              "      <td>...</td>\n",
              "      <td>...</td>\n",
              "      <td>...</td>\n",
              "      <td>...</td>\n",
              "      <td>...</td>\n",
              "      <td>...</td>\n",
              "      <td>...</td>\n",
              "      <td>...</td>\n",
              "      <td>...</td>\n",
              "      <td>...</td>\n",
              "      <td>...</td>\n",
              "      <td>...</td>\n",
              "      <td>...</td>\n",
              "    </tr>\n",
              "    <tr>\n",
              "      <th>48619</th>\n",
              "      <td>False</td>\n",
              "      <td>False</td>\n",
              "      <td>False</td>\n",
              "      <td>False</td>\n",
              "      <td>False</td>\n",
              "      <td>False</td>\n",
              "      <td>False</td>\n",
              "      <td>False</td>\n",
              "      <td>False</td>\n",
              "      <td>False</td>\n",
              "      <td>False</td>\n",
              "      <td>False</td>\n",
              "      <td>False</td>\n",
              "      <td>False</td>\n",
              "    </tr>\n",
              "    <tr>\n",
              "      <th>48620</th>\n",
              "      <td>False</td>\n",
              "      <td>False</td>\n",
              "      <td>False</td>\n",
              "      <td>False</td>\n",
              "      <td>False</td>\n",
              "      <td>False</td>\n",
              "      <td>False</td>\n",
              "      <td>False</td>\n",
              "      <td>False</td>\n",
              "      <td>False</td>\n",
              "      <td>False</td>\n",
              "      <td>False</td>\n",
              "      <td>False</td>\n",
              "      <td>False</td>\n",
              "    </tr>\n",
              "    <tr>\n",
              "      <th>48621</th>\n",
              "      <td>False</td>\n",
              "      <td>False</td>\n",
              "      <td>False</td>\n",
              "      <td>False</td>\n",
              "      <td>False</td>\n",
              "      <td>False</td>\n",
              "      <td>False</td>\n",
              "      <td>False</td>\n",
              "      <td>False</td>\n",
              "      <td>False</td>\n",
              "      <td>False</td>\n",
              "      <td>False</td>\n",
              "      <td>False</td>\n",
              "      <td>False</td>\n",
              "    </tr>\n",
              "    <tr>\n",
              "      <th>48622</th>\n",
              "      <td>False</td>\n",
              "      <td>False</td>\n",
              "      <td>False</td>\n",
              "      <td>False</td>\n",
              "      <td>False</td>\n",
              "      <td>False</td>\n",
              "      <td>False</td>\n",
              "      <td>False</td>\n",
              "      <td>False</td>\n",
              "      <td>False</td>\n",
              "      <td>False</td>\n",
              "      <td>False</td>\n",
              "      <td>False</td>\n",
              "      <td>False</td>\n",
              "    </tr>\n",
              "    <tr>\n",
              "      <th>48623</th>\n",
              "      <td>False</td>\n",
              "      <td>False</td>\n",
              "      <td>False</td>\n",
              "      <td>False</td>\n",
              "      <td>False</td>\n",
              "      <td>False</td>\n",
              "      <td>False</td>\n",
              "      <td>False</td>\n",
              "      <td>False</td>\n",
              "      <td>False</td>\n",
              "      <td>False</td>\n",
              "      <td>False</td>\n",
              "      <td>False</td>\n",
              "      <td>False</td>\n",
              "    </tr>\n",
              "  </tbody>\n",
              "</table>\n",
              "<p>48624 rows × 14 columns</p>\n",
              "</div>"
            ],
            "text/plain": [
              "       InvoiceNo  StockCode  ...  Market cap added  Change\n",
              "0          False      False  ...             False   False\n",
              "1          False      False  ...             False   False\n",
              "2          False      False  ...             False   False\n",
              "3          False      False  ...             False   False\n",
              "4          False      False  ...             False   False\n",
              "...          ...        ...  ...               ...     ...\n",
              "48619      False      False  ...             False   False\n",
              "48620      False      False  ...             False   False\n",
              "48621      False      False  ...             False   False\n",
              "48622      False      False  ...             False   False\n",
              "48623      False      False  ...             False   False\n",
              "\n",
              "[48624 rows x 14 columns]"
            ]
          },
          "metadata": {
            "tags": []
          },
          "execution_count": 53
        }
      ]
    },
    {
      "cell_type": "markdown",
      "metadata": {
        "id": "-Nt3RXohkJ_C"
      },
      "source": [
        "#Data Cleaning\n"
      ]
    },
    {
      "cell_type": "code",
      "metadata": {
        "id": "23yqaV3oS8N7",
        "colab": {
          "base_uri": "https://localhost:8080/",
          "height": 597
        },
        "outputId": "1cdb4386-829b-44af-b38f-27b7f947794c"
      },
      "source": [
        "# find duplicates\n",
        "market[market.duplicated()] \n",
        "# the o/p shows there are duplicates"
      ],
      "execution_count": 54,
      "outputs": [
        {
          "output_type": "execute_result",
          "data": {
            "text/html": [
              "<div>\n",
              "<style scoped>\n",
              "    .dataframe tbody tr th:only-of-type {\n",
              "        vertical-align: middle;\n",
              "    }\n",
              "\n",
              "    .dataframe tbody tr th {\n",
              "        vertical-align: top;\n",
              "    }\n",
              "\n",
              "    .dataframe thead th {\n",
              "        text-align: right;\n",
              "    }\n",
              "</style>\n",
              "<table border=\"1\" class=\"dataframe\">\n",
              "  <thead>\n",
              "    <tr style=\"text-align: right;\">\n",
              "      <th></th>\n",
              "      <th>InvoiceNo</th>\n",
              "      <th>StockCode</th>\n",
              "      <th>Description</th>\n",
              "      <th>Quantity</th>\n",
              "      <th>InvoiceDate</th>\n",
              "      <th>UnitPrice</th>\n",
              "      <th>CustomerID</th>\n",
              "      <th>Country</th>\n",
              "      <th>S.No</th>\n",
              "      <th>Company</th>\n",
              "      <th>Sector</th>\n",
              "      <th>Market cap ($bn)</th>\n",
              "      <th>Market cap added</th>\n",
              "      <th>Change</th>\n",
              "    </tr>\n",
              "  </thead>\n",
              "  <tbody>\n",
              "    <tr>\n",
              "      <th>3568</th>\n",
              "      <td>547194</td>\n",
              "      <td>22554</td>\n",
              "      <td>PLASTERS IN TIN WOODLAND ANIMALS</td>\n",
              "      <td>1</td>\n",
              "      <td>2011-03-21 12:42:00</td>\n",
              "      <td>1.65</td>\n",
              "      <td>12637.0</td>\n",
              "      <td>France</td>\n",
              "      <td>75</td>\n",
              "      <td>Hermès International</td>\n",
              "      <td>Consumer discretionary</td>\n",
              "      <td>88.2</td>\n",
              "      <td>10.6</td>\n",
              "      <td>13.7</td>\n",
              "    </tr>\n",
              "    <tr>\n",
              "      <th>3569</th>\n",
              "      <td>547194</td>\n",
              "      <td>22554</td>\n",
              "      <td>PLASTERS IN TIN WOODLAND ANIMALS</td>\n",
              "      <td>1</td>\n",
              "      <td>2011-03-21 12:42:00</td>\n",
              "      <td>1.65</td>\n",
              "      <td>12637.0</td>\n",
              "      <td>France</td>\n",
              "      <td>95</td>\n",
              "      <td>L'Oréal</td>\n",
              "      <td>Consumer staples</td>\n",
              "      <td>173.4</td>\n",
              "      <td>8.8</td>\n",
              "      <td>5.3</td>\n",
              "    </tr>\n",
              "    <tr>\n",
              "      <th>3614</th>\n",
              "      <td>547194</td>\n",
              "      <td>22895</td>\n",
              "      <td>SET OF 2 TEA TOWELS APPLE AND PEARS</td>\n",
              "      <td>1</td>\n",
              "      <td>2011-03-21 12:42:00</td>\n",
              "      <td>2.95</td>\n",
              "      <td>12637.0</td>\n",
              "      <td>France</td>\n",
              "      <td>75</td>\n",
              "      <td>Hermès International</td>\n",
              "      <td>Consumer discretionary</td>\n",
              "      <td>88.2</td>\n",
              "      <td>10.6</td>\n",
              "      <td>13.7</td>\n",
              "    </tr>\n",
              "    <tr>\n",
              "      <th>3615</th>\n",
              "      <td>547194</td>\n",
              "      <td>22895</td>\n",
              "      <td>SET OF 2 TEA TOWELS APPLE AND PEARS</td>\n",
              "      <td>1</td>\n",
              "      <td>2011-03-21 12:42:00</td>\n",
              "      <td>2.95</td>\n",
              "      <td>12637.0</td>\n",
              "      <td>France</td>\n",
              "      <td>95</td>\n",
              "      <td>L'Oréal</td>\n",
              "      <td>Consumer staples</td>\n",
              "      <td>173.4</td>\n",
              "      <td>8.8</td>\n",
              "      <td>5.3</td>\n",
              "    </tr>\n",
              "    <tr>\n",
              "      <th>5100</th>\n",
              "      <td>552826</td>\n",
              "      <td>82583</td>\n",
              "      <td>HOT BATHS METAL SIGN</td>\n",
              "      <td>4</td>\n",
              "      <td>2011-05-11 13:20:00</td>\n",
              "      <td>2.10</td>\n",
              "      <td>14277.0</td>\n",
              "      <td>France</td>\n",
              "      <td>75</td>\n",
              "      <td>Hermès International</td>\n",
              "      <td>Consumer discretionary</td>\n",
              "      <td>88.2</td>\n",
              "      <td>10.6</td>\n",
              "      <td>13.7</td>\n",
              "    </tr>\n",
              "    <tr>\n",
              "      <th>...</th>\n",
              "      <td>...</td>\n",
              "      <td>...</td>\n",
              "      <td>...</td>\n",
              "      <td>...</td>\n",
              "      <td>...</td>\n",
              "      <td>...</td>\n",
              "      <td>...</td>\n",
              "      <td>...</td>\n",
              "      <td>...</td>\n",
              "      <td>...</td>\n",
              "      <td>...</td>\n",
              "      <td>...</td>\n",
              "      <td>...</td>\n",
              "      <td>...</td>\n",
              "    </tr>\n",
              "    <tr>\n",
              "      <th>47484</th>\n",
              "      <td>564539</td>\n",
              "      <td>22378</td>\n",
              "      <td>WALL TIDY RETROSPOT</td>\n",
              "      <td>5</td>\n",
              "      <td>2011-08-25 15:22:00</td>\n",
              "      <td>2.10</td>\n",
              "      <td>12715.0</td>\n",
              "      <td>Sweden</td>\n",
              "      <td>77</td>\n",
              "      <td>Spotify</td>\n",
              "      <td>Communication services</td>\n",
              "      <td>37.2</td>\n",
              "      <td>10.4</td>\n",
              "      <td>38.8</td>\n",
              "    </tr>\n",
              "    <tr>\n",
              "      <th>47707</th>\n",
              "      <td>541975</td>\n",
              "      <td>22452</td>\n",
              "      <td>MEASURING TAPE BABUSHKA PINK</td>\n",
              "      <td>24</td>\n",
              "      <td>2011-01-24 14:24:00</td>\n",
              "      <td>2.95</td>\n",
              "      <td>NaN</td>\n",
              "      <td>Hong Kong</td>\n",
              "      <td>30</td>\n",
              "      <td>Alibaba Health Information Technology</td>\n",
              "      <td>Healthcare</td>\n",
              "      <td>34.1</td>\n",
              "      <td>20.2</td>\n",
              "      <td>145.3</td>\n",
              "    </tr>\n",
              "    <tr>\n",
              "      <th>47708</th>\n",
              "      <td>541975</td>\n",
              "      <td>22454</td>\n",
              "      <td>MEASURING TAPE BABUSHKA RED</td>\n",
              "      <td>24</td>\n",
              "      <td>2011-01-24 14:24:00</td>\n",
              "      <td>2.95</td>\n",
              "      <td>NaN</td>\n",
              "      <td>Hong Kong</td>\n",
              "      <td>30</td>\n",
              "      <td>Alibaba Health Information Technology</td>\n",
              "      <td>Healthcare</td>\n",
              "      <td>34.1</td>\n",
              "      <td>20.2</td>\n",
              "      <td>145.3</td>\n",
              "    </tr>\n",
              "    <tr>\n",
              "      <th>47709</th>\n",
              "      <td>541975</td>\n",
              "      <td>20749</td>\n",
              "      <td>ASSORTED COLOUR MINI CASES</td>\n",
              "      <td>6</td>\n",
              "      <td>2011-01-24 14:24:00</td>\n",
              "      <td>7.95</td>\n",
              "      <td>NaN</td>\n",
              "      <td>Hong Kong</td>\n",
              "      <td>30</td>\n",
              "      <td>Alibaba Health Information Technology</td>\n",
              "      <td>Healthcare</td>\n",
              "      <td>34.1</td>\n",
              "      <td>20.2</td>\n",
              "      <td>145.3</td>\n",
              "    </tr>\n",
              "    <tr>\n",
              "      <th>47710</th>\n",
              "      <td>541975</td>\n",
              "      <td>20682</td>\n",
              "      <td>RED RETROSPOT CHILDRENS UMBRELLA</td>\n",
              "      <td>6</td>\n",
              "      <td>2011-01-24 14:24:00</td>\n",
              "      <td>3.25</td>\n",
              "      <td>NaN</td>\n",
              "      <td>Hong Kong</td>\n",
              "      <td>30</td>\n",
              "      <td>Alibaba Health Information Technology</td>\n",
              "      <td>Healthcare</td>\n",
              "      <td>34.1</td>\n",
              "      <td>20.2</td>\n",
              "      <td>145.3</td>\n",
              "    </tr>\n",
              "  </tbody>\n",
              "</table>\n",
              "<p>77 rows × 14 columns</p>\n",
              "</div>"
            ],
            "text/plain": [
              "      InvoiceNo StockCode  ... Market cap added  Change\n",
              "3568     547194     22554  ...             10.6    13.7\n",
              "3569     547194     22554  ...              8.8     5.3\n",
              "3614     547194     22895  ...             10.6    13.7\n",
              "3615     547194     22895  ...              8.8     5.3\n",
              "5100     552826     82583  ...             10.6    13.7\n",
              "...         ...       ...  ...              ...     ...\n",
              "47484    564539     22378  ...             10.4    38.8\n",
              "47707    541975     22452  ...             20.2   145.3\n",
              "47708    541975     22454  ...             20.2   145.3\n",
              "47709    541975     20749  ...             20.2   145.3\n",
              "47710    541975     20682  ...             20.2   145.3\n",
              "\n",
              "[77 rows x 14 columns]"
            ]
          },
          "metadata": {
            "tags": []
          },
          "execution_count": 54
        }
      ]
    },
    {
      "cell_type": "code",
      "metadata": {
        "id": "sIv2j_Yh3DAU",
        "colab": {
          "base_uri": "https://localhost:8080/",
          "height": 597
        },
        "outputId": "ab60e421-eea5-463f-9011-6cf38d81b36e"
      },
      "source": [
        "market.drop_duplicates()"
      ],
      "execution_count": 56,
      "outputs": [
        {
          "output_type": "execute_result",
          "data": {
            "text/html": [
              "<div>\n",
              "<style scoped>\n",
              "    .dataframe tbody tr th:only-of-type {\n",
              "        vertical-align: middle;\n",
              "    }\n",
              "\n",
              "    .dataframe tbody tr th {\n",
              "        vertical-align: top;\n",
              "    }\n",
              "\n",
              "    .dataframe thead th {\n",
              "        text-align: right;\n",
              "    }\n",
              "</style>\n",
              "<table border=\"1\" class=\"dataframe\">\n",
              "  <thead>\n",
              "    <tr style=\"text-align: right;\">\n",
              "      <th></th>\n",
              "      <th>InvoiceNo</th>\n",
              "      <th>StockCode</th>\n",
              "      <th>Description</th>\n",
              "      <th>Quantity</th>\n",
              "      <th>InvoiceDate</th>\n",
              "      <th>UnitPrice</th>\n",
              "      <th>CustomerID</th>\n",
              "      <th>Country</th>\n",
              "      <th>S.No</th>\n",
              "      <th>Company</th>\n",
              "      <th>Sector</th>\n",
              "      <th>Market cap ($bn)</th>\n",
              "      <th>Market cap added</th>\n",
              "      <th>Change</th>\n",
              "    </tr>\n",
              "  </thead>\n",
              "  <tbody>\n",
              "    <tr>\n",
              "      <th>0</th>\n",
              "      <td>536370</td>\n",
              "      <td>22728</td>\n",
              "      <td>ALARM CLOCK BAKELIKE PINK</td>\n",
              "      <td>24</td>\n",
              "      <td>2010-12-01 08:45:00</td>\n",
              "      <td>3.75</td>\n",
              "      <td>12583.0</td>\n",
              "      <td>France</td>\n",
              "      <td>75</td>\n",
              "      <td>Hermès International</td>\n",
              "      <td>Consumer discretionary</td>\n",
              "      <td>88.2</td>\n",
              "      <td>10.6</td>\n",
              "      <td>13.7</td>\n",
              "    </tr>\n",
              "    <tr>\n",
              "      <th>1</th>\n",
              "      <td>536370</td>\n",
              "      <td>22728</td>\n",
              "      <td>ALARM CLOCK BAKELIKE PINK</td>\n",
              "      <td>24</td>\n",
              "      <td>2010-12-01 08:45:00</td>\n",
              "      <td>3.75</td>\n",
              "      <td>12583.0</td>\n",
              "      <td>France</td>\n",
              "      <td>95</td>\n",
              "      <td>L'Oréal</td>\n",
              "      <td>Consumer staples</td>\n",
              "      <td>173.4</td>\n",
              "      <td>8.8</td>\n",
              "      <td>5.3</td>\n",
              "    </tr>\n",
              "    <tr>\n",
              "      <th>2</th>\n",
              "      <td>536370</td>\n",
              "      <td>22727</td>\n",
              "      <td>ALARM CLOCK BAKELIKE RED</td>\n",
              "      <td>24</td>\n",
              "      <td>2010-12-01 08:45:00</td>\n",
              "      <td>3.75</td>\n",
              "      <td>12583.0</td>\n",
              "      <td>France</td>\n",
              "      <td>75</td>\n",
              "      <td>Hermès International</td>\n",
              "      <td>Consumer discretionary</td>\n",
              "      <td>88.2</td>\n",
              "      <td>10.6</td>\n",
              "      <td>13.7</td>\n",
              "    </tr>\n",
              "    <tr>\n",
              "      <th>3</th>\n",
              "      <td>536370</td>\n",
              "      <td>22727</td>\n",
              "      <td>ALARM CLOCK BAKELIKE RED</td>\n",
              "      <td>24</td>\n",
              "      <td>2010-12-01 08:45:00</td>\n",
              "      <td>3.75</td>\n",
              "      <td>12583.0</td>\n",
              "      <td>France</td>\n",
              "      <td>95</td>\n",
              "      <td>L'Oréal</td>\n",
              "      <td>Consumer staples</td>\n",
              "      <td>173.4</td>\n",
              "      <td>8.8</td>\n",
              "      <td>5.3</td>\n",
              "    </tr>\n",
              "    <tr>\n",
              "      <th>4</th>\n",
              "      <td>536370</td>\n",
              "      <td>22726</td>\n",
              "      <td>ALARM CLOCK BAKELIKE GREEN</td>\n",
              "      <td>12</td>\n",
              "      <td>2010-12-01 08:45:00</td>\n",
              "      <td>3.75</td>\n",
              "      <td>12583.0</td>\n",
              "      <td>France</td>\n",
              "      <td>75</td>\n",
              "      <td>Hermès International</td>\n",
              "      <td>Consumer discretionary</td>\n",
              "      <td>88.2</td>\n",
              "      <td>10.6</td>\n",
              "      <td>13.7</td>\n",
              "    </tr>\n",
              "    <tr>\n",
              "      <th>...</th>\n",
              "      <td>...</td>\n",
              "      <td>...</td>\n",
              "      <td>...</td>\n",
              "      <td>...</td>\n",
              "      <td>...</td>\n",
              "      <td>...</td>\n",
              "      <td>...</td>\n",
              "      <td>...</td>\n",
              "      <td>...</td>\n",
              "      <td>...</td>\n",
              "      <td>...</td>\n",
              "      <td>...</td>\n",
              "      <td>...</td>\n",
              "      <td>...</td>\n",
              "    </tr>\n",
              "    <tr>\n",
              "      <th>48619</th>\n",
              "      <td>564428</td>\n",
              "      <td>23296</td>\n",
              "      <td>SET OF 6 TEA TIME BAKING CASES</td>\n",
              "      <td>8</td>\n",
              "      <td>2011-08-25 11:27:00</td>\n",
              "      <td>1.25</td>\n",
              "      <td>17844.0</td>\n",
              "      <td>Canada</td>\n",
              "      <td>81</td>\n",
              "      <td>Barrick Gold</td>\n",
              "      <td>Materials</td>\n",
              "      <td>43.1</td>\n",
              "      <td>10.1</td>\n",
              "      <td>30.7</td>\n",
              "    </tr>\n",
              "    <tr>\n",
              "      <th>48620</th>\n",
              "      <td>564428</td>\n",
              "      <td>23296</td>\n",
              "      <td>SET OF 6 TEA TIME BAKING CASES</td>\n",
              "      <td>8</td>\n",
              "      <td>2011-08-25 11:27:00</td>\n",
              "      <td>1.25</td>\n",
              "      <td>17844.0</td>\n",
              "      <td>Canada</td>\n",
              "      <td>87</td>\n",
              "      <td>Lululemon Athletica</td>\n",
              "      <td>Consumer discretionary</td>\n",
              "      <td>39.5</td>\n",
              "      <td>9.4</td>\n",
              "      <td>31.0</td>\n",
              "    </tr>\n",
              "    <tr>\n",
              "      <th>48621</th>\n",
              "      <td>564428</td>\n",
              "      <td>23294</td>\n",
              "      <td>SET OF 6 SNACK LOAF BAKING CASES</td>\n",
              "      <td>8</td>\n",
              "      <td>2011-08-25 11:27:00</td>\n",
              "      <td>0.83</td>\n",
              "      <td>17844.0</td>\n",
              "      <td>Canada</td>\n",
              "      <td>14</td>\n",
              "      <td>Shopify</td>\n",
              "      <td>Technology</td>\n",
              "      <td>97.6</td>\n",
              "      <td>51.5</td>\n",
              "      <td>111.7</td>\n",
              "    </tr>\n",
              "    <tr>\n",
              "      <th>48622</th>\n",
              "      <td>564428</td>\n",
              "      <td>23294</td>\n",
              "      <td>SET OF 6 SNACK LOAF BAKING CASES</td>\n",
              "      <td>8</td>\n",
              "      <td>2011-08-25 11:27:00</td>\n",
              "      <td>0.83</td>\n",
              "      <td>17844.0</td>\n",
              "      <td>Canada</td>\n",
              "      <td>81</td>\n",
              "      <td>Barrick Gold</td>\n",
              "      <td>Materials</td>\n",
              "      <td>43.1</td>\n",
              "      <td>10.1</td>\n",
              "      <td>30.7</td>\n",
              "    </tr>\n",
              "    <tr>\n",
              "      <th>48623</th>\n",
              "      <td>564428</td>\n",
              "      <td>23294</td>\n",
              "      <td>SET OF 6 SNACK LOAF BAKING CASES</td>\n",
              "      <td>8</td>\n",
              "      <td>2011-08-25 11:27:00</td>\n",
              "      <td>0.83</td>\n",
              "      <td>17844.0</td>\n",
              "      <td>Canada</td>\n",
              "      <td>87</td>\n",
              "      <td>Lululemon Athletica</td>\n",
              "      <td>Consumer discretionary</td>\n",
              "      <td>39.5</td>\n",
              "      <td>9.4</td>\n",
              "      <td>31.0</td>\n",
              "    </tr>\n",
              "  </tbody>\n",
              "</table>\n",
              "<p>48547 rows × 14 columns</p>\n",
              "</div>"
            ],
            "text/plain": [
              "      InvoiceNo StockCode  ... Market cap added  Change\n",
              "0        536370     22728  ...             10.6    13.7\n",
              "1        536370     22728  ...              8.8     5.3\n",
              "2        536370     22727  ...             10.6    13.7\n",
              "3        536370     22727  ...              8.8     5.3\n",
              "4        536370     22726  ...             10.6    13.7\n",
              "...         ...       ...  ...              ...     ...\n",
              "48619    564428     23296  ...             10.1    30.7\n",
              "48620    564428     23296  ...              9.4    31.0\n",
              "48621    564428     23294  ...             51.5   111.7\n",
              "48622    564428     23294  ...             10.1    30.7\n",
              "48623    564428     23294  ...              9.4    31.0\n",
              "\n",
              "[48547 rows x 14 columns]"
            ]
          },
          "metadata": {
            "tags": []
          },
          "execution_count": 56
        }
      ]
    },
    {
      "cell_type": "code",
      "metadata": {
        "id": "l4lODxwgTMjD",
        "colab": {
          "base_uri": "https://localhost:8080/"
        },
        "outputId": "1b5ed242-85a4-45e0-b601-4835a7b04a79"
      },
      "source": [
        "# count the number of null values of all columns\n",
        "market.isnull().sum()\n",
        "# o/p\n",
        "# customerID values can be removed\n"
      ],
      "execution_count": 55,
      "outputs": [
        {
          "output_type": "execute_result",
          "data": {
            "text/plain": [
              "InvoiceNo             0\n",
              "StockCode             0\n",
              "Description           0\n",
              "Quantity              0\n",
              "InvoiceDate           0\n",
              "UnitPrice             0\n",
              "CustomerID          795\n",
              "Country               0\n",
              "S.No                  0\n",
              "Company               0\n",
              "Sector                0\n",
              "Market cap ($bn)      0\n",
              "Market cap added      0\n",
              "Change                0\n",
              "dtype: int64"
            ]
          },
          "metadata": {
            "tags": []
          },
          "execution_count": 55
        }
      ]
    },
    {
      "cell_type": "code",
      "metadata": {
        "id": "v386j5VkTaks",
        "colab": {
          "base_uri": "https://localhost:8080/",
          "height": 366
        },
        "outputId": "05310098-2b16-4799-80a1-20cff1a15313"
      },
      "source": [
        "import seaborn as sns\n",
        "sns .heatmap(market.isnull()) # we can show missing values graphically presented"
      ],
      "execution_count": 57,
      "outputs": [
        {
          "output_type": "execute_result",
          "data": {
            "text/plain": [
              "<matplotlib.axes._subplots.AxesSubplot at 0x7f69ddbaad10>"
            ]
          },
          "metadata": {
            "tags": []
          },
          "execution_count": 57
        },
        {
          "output_type": "display_data",
          "data": {
            "image/png": "[encoded data removed]",
            "text/plain": [
              "<Figure size 432x288 with 2 Axes>"
            ]
          },
          "metadata": {
            "tags": [],
            "needs_background": "light"
          }
        }
      ]
    },
    {
      "cell_type": "code",
      "metadata": {
        "id": "1wmotM-Yh5Qh",
        "colab": {
          "base_uri": "https://localhost:8080/"
        },
        "outputId": "00e217b6-40f5-4da3-eabf-4d71164872a7"
      },
      "source": [
        "# Droping rows having missing values\n",
        "\n",
        "market = market.dropna()\n",
        "market.shape"
      ],
      "execution_count": 58,
      "outputs": [
        {
          "output_type": "execute_result",
          "data": {
            "text/plain": [
              "(47829, 14)"
            ]
          },
          "metadata": {
            "tags": []
          },
          "execution_count": 58
        }
      ]
    },
    {
      "cell_type": "code",
      "metadata": {
        "id": "8B-N1ctckgd7",
        "colab": {
          "base_uri": "https://localhost:8080/"
        },
        "outputId": "3cca8ff4-9442-4542-ce70-a80dffc9f2fe"
      },
      "source": [
        "# count the number of null values of all columns\n",
        "market.isnull().sum()"
      ],
      "execution_count": 59,
      "outputs": [
        {
          "output_type": "execute_result",
          "data": {
            "text/plain": [
              "InvoiceNo           0\n",
              "StockCode           0\n",
              "Description         0\n",
              "Quantity            0\n",
              "InvoiceDate         0\n",
              "UnitPrice           0\n",
              "CustomerID          0\n",
              "Country             0\n",
              "S.No                0\n",
              "Company             0\n",
              "Sector              0\n",
              "Market cap ($bn)    0\n",
              "Market cap added    0\n",
              "Change              0\n",
              "dtype: int64"
            ]
          },
          "metadata": {
            "tags": []
          },
          "execution_count": 59
        }
      ]
    },
    {
      "cell_type": "code",
      "metadata": {
        "id": "ZTeR1_Ilguyf",
        "colab": {
          "base_uri": "https://localhost:8080/"
        },
        "outputId": "9a7d771b-b4a6-4816-bdfc-a5dfd4e705ba"
      },
      "source": [
        "# Changing the datatype of CustomerID as per Bussiness understanding\n",
        "market['CustomerID'] = market['CustomerID'].astype(str)"
      ],
      "execution_count": 60,
      "outputs": [
        {
          "output_type": "stream",
          "text": [
            "/usr/local/lib/python3.7/dist-packages/ipykernel_launcher.py:2: SettingWithCopyWarning: \n",
            "A value is trying to be set on a copy of a slice from a DataFrame.\n",
            "Try using .loc[row_indexer,col_indexer] = value instead\n",
            "\n",
            "See the caveats in the documentation: https://pandas.pydata.org/pandas-docs/stable/user_guide/indexing.html#returning-a-view-versus-a-copy\n",
            "  \n"
          ],
          "name": "stderr"
        }
      ]
    },
    {
      "cell_type": "markdown",
      "metadata": {
        "id": "Vl9nciibkxmP"
      },
      "source": [
        "#Data Preparation"
      ]
    },
    {
      "cell_type": "markdown",
      "metadata": {
        "id": "bPLDNPzmlBBn"
      },
      "source": [
        "## We are going to analysis the Customers based on below 3 factors:\n",
        "* R (Recency): Number of days since last purchase\n",
        "* F (Frequency): Number of transactions\n",
        "* M (Monetary): Total amount of transactions (revenue contributed)\n",
        "\n",
        "\n",
        "\n",
        "\n",
        "\n",
        "\n"
      ]
    },
    {
      "cell_type": "code",
      "metadata": {
        "id": "a58zGXRjleBS"
      },
      "source": [
        "# New Attribute : Monetary\n",
        "\n",
        "market['Amount'] = market['Quantity']*market['UnitPrice']\n",
        "rfm_m = market.groupby('CustomerID')['Amount'].sum()\n",
        "rfm_m = rfm_m.reset_index()\n",
        "rfm_m.head()"
      ],
      "execution_count": null,
      "outputs": []
    },
    {
      "cell_type": "code",
      "metadata": {
        "id": "WtywuN28lvN3"
      },
      "source": [
        "# New Attribute : Frequency\n",
        "\n",
        "rfm_f = market.groupby('CustomerID')['InvoiceNo'].count()\n",
        "rfm_f = rfm_f.reset_index()\n",
        "rfm_f.columns = ['CustomerID', 'Frequency']\n",
        "rfm_f.head()"
      ],
      "execution_count": null,
      "outputs": []
    },
    {
      "cell_type": "code",
      "metadata": {
        "id": "wRIpFa_xl0Y2"
      },
      "source": [
        "# Merging the two dfs rfm_m, rfm_f\n",
        "\n",
        "rfm = pd.merge(rfm_m, rfm_f, on='CustomerID', how='inner')\n",
        "rfm.head()"
      ],
      "execution_count": null,
      "outputs": []
    },
    {
      "cell_type": "code",
      "metadata": {
        "id": "E0aCxbBQmAcn"
      },
      "source": [
        "# New Attribute : Recency\n",
        "\n",
        "# Convert to datetime to proper datatype\n",
        "\n",
        "market['InvoiceDate'] = pd.to_datetime(market['InvoiceDate'],format='%d-%m-%Y %H:%M')"
      ],
      "execution_count": null,
      "outputs": []
    },
    {
      "cell_type": "code",
      "metadata": {
        "id": "Xv5tzJ5qmLbe"
      },
      "source": [
        "# Compute the maximum date to know the last transaction date\n",
        "\n",
        "max_date = max(market['InvoiceDate'])\n",
        "max_date"
      ],
      "execution_count": null,
      "outputs": []
    },
    {
      "cell_type": "code",
      "metadata": {
        "id": "WQNlgIF6mSyv"
      },
      "source": [
        "# Compute the difference between max date and transaction date\n",
        "\n",
        "market['Diff'] = max_date - market['InvoiceDate']\n",
        "market.head()"
      ],
      "execution_count": null,
      "outputs": []
    },
    {
      "cell_type": "code",
      "metadata": {
        "id": "37sAkPeemdNP"
      },
      "source": [
        "# Compute last transaction date to get the recency of customers\n",
        "\n",
        "rfm_p = market.groupby('CustomerID')['Diff'].min()\n",
        "rfm_p = rfm_p.reset_index()\n",
        "rfm_p.head()"
      ],
      "execution_count": null,
      "outputs": []
    },
    {
      "cell_type": "code",
      "metadata": {
        "id": "xkPczoOSmm5I"
      },
      "source": [
        "# Extract number of days only\n",
        "\n",
        "rfm_p['Diff'] = rfm_p['Diff'].dt.days\n",
        "rfm_p.head()"
      ],
      "execution_count": null,
      "outputs": []
    },
    {
      "cell_type": "code",
      "metadata": {
        "id": "XqiNsySFmp0t"
      },
      "source": [
        "# Merge tha dataframes to get the final RFM dataframe\n",
        "\n",
        "rfm = pd.merge(rfm, rfm_p, on='CustomerID', how='inner')\n",
        "rfm.columns = ['CustomerID', 'Amount', 'Frequency', 'Recency']\n",
        "rfm.head()"
      ],
      "execution_count": null,
      "outputs": []
    },
    {
      "cell_type": "markdown",
      "metadata": {
        "id": "4XsiOVl5nJrH"
      },
      "source": [
        "##The removal of outliers from the dataset by two methods:\n",
        "\n",
        "\n",
        "1. Statistical\n",
        "2. Domain Specific\n",
        "\n"
      ]
    },
    {
      "cell_type": "markdown",
      "metadata": {
        "id": "Q1cj_IEZp7jq"
      },
      "source": [
        ""
      ]
    },
    {
      "cell_type": "code",
      "metadata": {
        "id": "MzWDZb1HnDBZ",
        "colab": {
          "base_uri": "https://localhost:8080/",
          "height": 0
        },
        "outputId": "3c708348-0a56-45a8-9d43-daf1b56d3048"
      },
      "source": [
        "# Outlier Analysis of Amount Frequency and Recency\n",
        "\n",
        "attributes = ['Amount','Frequency','Recency']\n",
        "plt.rcParams['figure.figsize'] = [10,8]\n",
        "sns.boxplot(data = rfm[attributes], orient=\"v\" ,whis=1.8,saturation=1.9, width=0.7)\n",
        "plt.title(\"Outliers Variable Distribution\", fontsize = 16, fontweight = 'bold')\n",
        "plt.ylabel(\"Range\", fontweight = 'bold')\n",
        "plt.xlabel(\"Attributes\", fontweight = 'bold')"
      ],
      "execution_count": 70,
      "outputs": [
        {
          "output_type": "execute_result",
          "data": {
            "text/plain": [
              "Text(0.5, 0, 'Attributes')"
            ]
          },
          "metadata": {
            "tags": []
          },
          "execution_count": 70
        },
        {
          "output_type": "display_data",
          "data": {
            "image/png": "[encoded data removed]",
            "text/plain": [
              "<Figure size 720x576 with 1 Axes>"
            ]
          },
          "metadata": {
            "tags": [],
            "needs_background": "light"
          }
        }
      ]
    },
    {
      "cell_type": "code",
      "metadata": {
        "id": "KrqVwp-HoUaY"
      },
      "source": [
        "# Removing (statistical) outliers for Amount  # reference :https://www.kaggle.com/hellbuoy/online-retail-k-means-hierarchical-clustering\n",
        "Q1 = rfm.Amount.quantile(0.05)\n",
        "Q3 = rfm.Amount.quantile(0.95)\n",
        "IQR = Q3 - Q1\n",
        "rfm = rfm[(rfm.Amount >= Q1 - 1.5*IQR) & (rfm.Amount <= Q3 + 1.5*IQR)]\n",
        "\n",
        "# Removing (statistical) outliers for Recency\n",
        "Q1 = rfm.Recency.quantile(0.05)\n",
        "Q3 = rfm.Recency.quantile(0.95)\n",
        "IQR = Q3 - Q1\n",
        "rfm = rfm[(rfm.Recency >= Q1 - 1.5*IQR) & (rfm.Recency <= Q3 + 1.5*IQR)]\n",
        "\n",
        "# Removing (statistical) outliers for Frequency\n",
        "Q1 = rfm.Frequency.quantile(0.05)\n",
        "Q3 = rfm.Frequency.quantile(0.95)\n",
        "IQR = Q3 - Q1\n",
        "rfm = rfm[(rfm.Frequency >= Q1 - 1.5*IQR) & (rfm.Frequency <= Q3 + 1.5*IQR)]"
      ],
      "execution_count": 71,
      "outputs": []
    },
    {
      "cell_type": "code",
      "metadata": {
        "id": "Wm7fFEspohg8",
        "colab": {
          "base_uri": "https://localhost:8080/",
          "height": 0
        },
        "outputId": "66cedec5-fa84-4074-e42b-292bfa015dce"
      },
      "source": [
        "rfm"
      ],
      "execution_count": 72,
      "outputs": [
        {
          "output_type": "execute_result",
          "data": {
            "text/html": [
              "<div>\n",
              "<style scoped>\n",
              "    .dataframe tbody tr th:only-of-type {\n",
              "        vertical-align: middle;\n",
              "    }\n",
              "\n",
              "    .dataframe tbody tr th {\n",
              "        vertical-align: top;\n",
              "    }\n",
              "\n",
              "    .dataframe thead th {\n",
              "        text-align: right;\n",
              "    }\n",
              "</style>\n",
              "<table border=\"1\" class=\"dataframe\">\n",
              "  <thead>\n",
              "    <tr style=\"text-align: right;\">\n",
              "      <th></th>\n",
              "      <th>CustomerID</th>\n",
              "      <th>Amount</th>\n",
              "      <th>Frequency</th>\n",
              "      <th>Recency</th>\n",
              "    </tr>\n",
              "  </thead>\n",
              "  <tbody>\n",
              "    <tr>\n",
              "      <th>0</th>\n",
              "      <td>12357.0</td>\n",
              "      <td>18623.01</td>\n",
              "      <td>393</td>\n",
              "      <td>32</td>\n",
              "    </tr>\n",
              "    <tr>\n",
              "      <th>1</th>\n",
              "      <td>12367.0</td>\n",
              "      <td>168.90</td>\n",
              "      <td>11</td>\n",
              "      <td>3</td>\n",
              "    </tr>\n",
              "    <tr>\n",
              "      <th>2</th>\n",
              "      <td>12371.0</td>\n",
              "      <td>5663.88</td>\n",
              "      <td>189</td>\n",
              "      <td>44</td>\n",
              "    </tr>\n",
              "    <tr>\n",
              "      <th>3</th>\n",
              "      <td>12372.0</td>\n",
              "      <td>1298.04</td>\n",
              "      <td>52</td>\n",
              "      <td>71</td>\n",
              "    </tr>\n",
              "    <tr>\n",
              "      <th>4</th>\n",
              "      <td>12377.0</td>\n",
              "      <td>4884.36</td>\n",
              "      <td>231</td>\n",
              "      <td>314</td>\n",
              "    </tr>\n",
              "    <tr>\n",
              "      <th>...</th>\n",
              "      <td>...</td>\n",
              "      <td>...</td>\n",
              "      <td>...</td>\n",
              "      <td>...</td>\n",
              "    </tr>\n",
              "    <tr>\n",
              "      <th>245</th>\n",
              "      <td>16321.0</td>\n",
              "      <td>230.70</td>\n",
              "      <td>16</td>\n",
              "      <td>71</td>\n",
              "    </tr>\n",
              "    <tr>\n",
              "      <th>246</th>\n",
              "      <td>17404.0</td>\n",
              "      <td>30300.82</td>\n",
              "      <td>201</td>\n",
              "      <td>3</td>\n",
              "    </tr>\n",
              "    <tr>\n",
              "      <th>247</th>\n",
              "      <td>17443.0</td>\n",
              "      <td>1602.72</td>\n",
              "      <td>3</td>\n",
              "      <td>219</td>\n",
              "    </tr>\n",
              "    <tr>\n",
              "      <th>248</th>\n",
              "      <td>17444.0</td>\n",
              "      <td>8820.12</td>\n",
              "      <td>405</td>\n",
              "      <td>147</td>\n",
              "    </tr>\n",
              "    <tr>\n",
              "      <th>249</th>\n",
              "      <td>17844.0</td>\n",
              "      <td>154.68</td>\n",
              "      <td>15</td>\n",
              "      <td>106</td>\n",
              "    </tr>\n",
              "  </tbody>\n",
              "</table>\n",
              "<p>246 rows × 4 columns</p>\n",
              "</div>"
            ],
            "text/plain": [
              "    CustomerID    Amount  Frequency  Recency\n",
              "0      12357.0  18623.01        393       32\n",
              "1      12367.0    168.90         11        3\n",
              "2      12371.0   5663.88        189       44\n",
              "3      12372.0   1298.04         52       71\n",
              "4      12377.0   4884.36        231      314\n",
              "..         ...       ...        ...      ...\n",
              "245    16321.0    230.70         16       71\n",
              "246    17404.0  30300.82        201        3\n",
              "247    17443.0   1602.72          3      219\n",
              "248    17444.0   8820.12        405      147\n",
              "249    17844.0    154.68         15      106\n",
              "\n",
              "[246 rows x 4 columns]"
            ]
          },
          "metadata": {
            "tags": []
          },
          "execution_count": 72
        }
      ]
    },
    {
      "cell_type": "markdown",
      "metadata": {
        "id": "ubcLE8ofpEKT"
      },
      "source": [
        "##Rescaling the attributes\n",
        "It is very important to rescale the variables to have comparable scale.There rae two ways of rescaling such as:\n",
        "\n",
        "\n",
        "1.   Min-max scalng\n",
        "2.  standardisation (mean=0, sigma=1)\n",
        "\n"
      ]
    },
    {
      "cell_type": "code",
      "metadata": {
        "id": "g6OtIZxwplBm",
        "colab": {
          "base_uri": "https://localhost:8080/"
        },
        "outputId": "56e1098b-d6dd-401a-e431-9d7edd5db5f7"
      },
      "source": [
        "from sklearn.preprocessing import StandardScaler, normalize\n",
        "# Rescaling the attributes\n",
        "\n",
        "rfm_df = rfm[['Amount', 'Frequency', 'Recency']]\n",
        "\n",
        "# Instantiate\n",
        "scaler = StandardScaler()\n",
        "\n",
        "# fit_transform\n",
        "rfm_df_scaled = scaler.fit_transform(rfm_df)\n",
        "rfm_df_scaled.shape"
      ],
      "execution_count": 73,
      "outputs": [
        {
          "output_type": "execute_result",
          "data": {
            "text/plain": [
              "(246, 3)"
            ]
          },
          "metadata": {
            "tags": []
          },
          "execution_count": 73
        }
      ]
    },
    {
      "cell_type": "code",
      "metadata": {
        "id": "GtJC1LW8psgJ",
        "colab": {
          "base_uri": "https://localhost:8080/",
          "height": 202
        },
        "outputId": "976e267a-10b4-4cf6-fb71-bcb3b899996e"
      },
      "source": [
        "rfm_df_scaled = pd.DataFrame(rfm_df_scaled)\n",
        "rfm_df_scaled.columns = ['Amount', 'Frequency', 'Recency']\n",
        "rfm_df_scaled.head()"
      ],
      "execution_count": 74,
      "outputs": [
        {
          "output_type": "execute_result",
          "data": {
            "text/html": [
              "<div>\n",
              "<style scoped>\n",
              "    .dataframe tbody tr th:only-of-type {\n",
              "        vertical-align: middle;\n",
              "    }\n",
              "\n",
              "    .dataframe tbody tr th {\n",
              "        vertical-align: top;\n",
              "    }\n",
              "\n",
              "    .dataframe thead th {\n",
              "        text-align: right;\n",
              "    }\n",
              "</style>\n",
              "<table border=\"1\" class=\"dataframe\">\n",
              "  <thead>\n",
              "    <tr style=\"text-align: right;\">\n",
              "      <th></th>\n",
              "      <th>Amount</th>\n",
              "      <th>Frequency</th>\n",
              "      <th>Recency</th>\n",
              "    </tr>\n",
              "  </thead>\n",
              "  <tbody>\n",
              "    <tr>\n",
              "      <th>0</th>\n",
              "      <td>2.581460</td>\n",
              "      <td>1.428642</td>\n",
              "      <td>-0.548664</td>\n",
              "    </tr>\n",
              "    <tr>\n",
              "      <th>1</th>\n",
              "      <td>-0.612947</td>\n",
              "      <td>-0.735532</td>\n",
              "      <td>-0.835395</td>\n",
              "    </tr>\n",
              "    <tr>\n",
              "      <th>2</th>\n",
              "      <td>0.338234</td>\n",
              "      <td>0.272905</td>\n",
              "      <td>-0.430016</td>\n",
              "    </tr>\n",
              "    <tr>\n",
              "      <th>3</th>\n",
              "      <td>-0.417493</td>\n",
              "      <td>-0.503251</td>\n",
              "      <td>-0.163060</td>\n",
              "    </tr>\n",
              "    <tr>\n",
              "      <th>4</th>\n",
              "      <td>0.203300</td>\n",
              "      <td>0.510851</td>\n",
              "      <td>2.239550</td>\n",
              "    </tr>\n",
              "  </tbody>\n",
              "</table>\n",
              "</div>"
            ],
            "text/plain": [
              "     Amount  Frequency   Recency\n",
              "0  2.581460   1.428642 -0.548664\n",
              "1 -0.612947  -0.735532 -0.835395\n",
              "2  0.338234   0.272905 -0.430016\n",
              "3 -0.417493  -0.503251 -0.163060\n",
              "4  0.203300   0.510851  2.239550"
            ]
          },
          "metadata": {
            "tags": []
          },
          "execution_count": 74
        }
      ]
    },
    {
      "cell_type": "code",
      "metadata": {
        "id": "eimiML1VsXbP",
        "colab": {
          "base_uri": "https://localhost:8080/"
        },
        "outputId": "f32ed8a1-e7ca-4873-9aa5-e6e5225c6670"
      },
      "source": [
        "!pip install plotly==4.5.2"
      ],
      "execution_count": 80,
      "outputs": [
        {
          "output_type": "stream",
          "text": [
            "Requirement already satisfied: plotly==4.5.2 in /usr/local/lib/python3.7/dist-packages (4.5.2)\n",
            "Requirement already satisfied: retrying>=1.3.3 in /usr/local/lib/python3.7/dist-packages (from plotly==4.5.2) (1.3.3)\n",
            "Requirement already satisfied: six in /usr/local/lib/python3.7/dist-packages (from plotly==4.5.2) (1.15.0)\n"
          ],
          "name": "stdout"
        }
      ]
    },
    {
      "cell_type": "code",
      "metadata": {
        "id": "ADFsjXUF74Rr",
        "colab": {
          "base_uri": "https://localhost:8080/"
        },
        "outputId": "2dd8ef0c-5459-4448-cffb-b7f75022bbf0"
      },
      "source": [
        "!pip install dash"
      ],
      "execution_count": 76,
      "outputs": [
        {
          "output_type": "stream",
          "text": [
            "Collecting dash\n",
            "\u001b[?25l  Downloading https://files.pythonhosted.org/packages/d4/50/e7c2830168db186f84b7de2988543e974433a6cdb0a0b23d51c781e2b2ab/dash-1.20.0.tar.gz (77kB)\n",
            "\r\u001b[K     |████▏                           | 10kB 25.3MB/s eta 0:00:01\r\u001b[K     |████████▍                       | 20kB 33.2MB/s eta 0:00:01\r\u001b[K     |████████████▋                   | 30kB 34.9MB/s eta 0:00:01\r\u001b[K     |████████████████▉               | 40kB 37.8MB/s eta 0:00:01\r\u001b[K     |█████████████████████           | 51kB 31.8MB/s eta 0:00:01\r\u001b[K     |█████████████████████████▎      | 61kB 33.1MB/s eta 0:00:01\r\u001b[K     |█████████████████████████████▌  | 71kB 30.1MB/s eta 0:00:01\r\u001b[K     |████████████████████████████████| 81kB 9.9MB/s \n",
            "\u001b[?25hRequirement already satisfied: Flask>=1.0.4 in /usr/local/lib/python3.7/dist-packages (from dash) (1.1.4)\n",
            "Collecting flask-compress\n",
            "  Downloading https://files.pythonhosted.org/packages/75/fa/a3c96f3f367ad1d6532fa8394c9a6f5879513868207096f6b41f4168b342/Flask_Compress-1.10.1-py3-none-any.whl\n",
            "Requirement already satisfied: plotly in /usr/local/lib/python3.7/dist-packages (from dash) (4.5.2)\n",
            "Collecting dash_renderer==1.9.1\n",
            "\u001b[?25l  Downloading https://files.pythonhosted.org/packages/5f/d3/d661a68b4ce71498d5c0c79617bce3d5fc884d4448c698f77c2247cd1b46/dash_renderer-1.9.1.tar.gz (1.0MB)\n",
            "\u001b[K     |████████████████████████████████| 1.0MB 40.9MB/s \n",
            "\u001b[?25hCollecting dash-core-components==1.16.0\n",
            "\u001b[?25l  Downloading https://files.pythonhosted.org/packages/f4/79/434e14d77dbf82b27f98df077936a424de254059d47152b0445b7116e97e/dash_core_components-1.16.0.tar.gz (3.5MB)\n",
            "\u001b[K     |████████████████████████████████| 3.5MB 45.6MB/s \n",
            "\u001b[?25hCollecting dash-html-components==1.1.3\n",
            "\u001b[?25l  Downloading https://files.pythonhosted.org/packages/8f/ca/7eeca4cae4e15cc6f7d0bc41a46368dd3fcdddc72aaa5bac61a8b92d541c/dash_html_components-1.1.3.tar.gz (82kB)\n",
            "\u001b[K     |████████████████████████████████| 92kB 12.0MB/s \n",
            "\u001b[?25hCollecting dash-table==4.11.3\n",
            "\u001b[?25l  Downloading https://files.pythonhosted.org/packages/97/f7/f4969a926f20a55d3e5970d01b85ff9ad510dba32de189e72dd8f4992740/dash_table-4.11.3.tar.gz (1.8MB)\n",
            "\u001b[K     |████████████████████████████████| 1.8MB 44.3MB/s \n",
            "\u001b[?25hRequirement already satisfied: future in /usr/local/lib/python3.7/dist-packages (from dash) (0.16.0)\n",
            "Requirement already satisfied: itsdangerous<2.0,>=0.24 in /usr/local/lib/python3.7/dist-packages (from Flask>=1.0.4->dash) (1.1.0)\n",
            "Requirement already satisfied: Jinja2<3.0,>=2.10.1 in /usr/local/lib/python3.7/dist-packages (from Flask>=1.0.4->dash) (2.11.3)\n",
            "Requirement already satisfied: Werkzeug<2.0,>=0.15 in /usr/local/lib/python3.7/dist-packages (from Flask>=1.0.4->dash) (1.0.1)\n",
            "Requirement already satisfied: click<8.0,>=5.1 in /usr/local/lib/python3.7/dist-packages (from Flask>=1.0.4->dash) (7.1.2)\n",
            "Collecting brotli\n",
            "\u001b[?25l  Downloading https://files.pythonhosted.org/packages/15/ea/5bd575511b37bbd1c794606a0a621e6feff8e96b7dd007a86a5d218b2d94/Brotli-1.0.9-cp37-cp37m-manylinux1_x86_64.whl (357kB)\n",
            "\u001b[K     |████████████████████████████████| 358kB 39.8MB/s \n",
            "\u001b[?25hRequirement already satisfied: six in /usr/local/lib/python3.7/dist-packages (from plotly->dash) (1.15.0)\n",
            "Requirement already satisfied: retrying>=1.3.3 in /usr/local/lib/python3.7/dist-packages (from plotly->dash) (1.3.3)\n",
            "Requirement already satisfied: MarkupSafe>=0.23 in /usr/local/lib/python3.7/dist-packages (from Jinja2<3.0,>=2.10.1->Flask>=1.0.4->dash) (2.0.1)\n",
            "Building wheels for collected packages: dash, dash-renderer, dash-core-components, dash-html-components, dash-table\n",
            "  Building wheel for dash (setup.py) ... \u001b[?25l\u001b[?25hdone\n",
            "  Created wheel for dash: filename=dash-1.20.0-cp37-none-any.whl size=85845 sha256=7428064e4ed62842a057575273a8cae73ce6499668636a6601996690ce7f560c\n",
            "  Stored in directory: /root/.cache/pip/wheels/e6/33/41/ce361d0d1da277d2350f815b10f2ab1e331592d93ef2b07e29\n",
            "  Building wheel for dash-renderer (setup.py) ... \u001b[?25l\u001b[?25hdone\n",
            "  Created wheel for dash-renderer: filename=dash_renderer-1.9.1-cp37-none-any.whl size=1014873 sha256=074dfc61531ac6011a5d4054bde23bca790f399ba8e0a7990dad8aede67ecdcb\n",
            "  Stored in directory: /root/.cache/pip/wheels/03/a9/c5/dd5815c601b0ede164c223ffd7bafebde716ca57de06ef8aec\n",
            "  Building wheel for dash-core-components (setup.py) ... \u001b[?25l\u001b[?25hdone\n",
            "  Created wheel for dash-core-components: filename=dash_core_components-1.16.0-cp37-none-any.whl size=3540992 sha256=ceeb1dac4552fa013d2471eae74bab78d9e9a88cf06c5bc5f87a1f9faad0ff82\n",
            "  Stored in directory: /root/.cache/pip/wheels/86/1e/8c/e87ebba30b73c20dcd641224274febc983af88ed0fd7712a07\n",
            "  Building wheel for dash-html-components (setup.py) ... \u001b[?25l\u001b[?25hdone\n",
            "  Created wheel for dash-html-components: filename=dash_html_components-1.1.3-cp37-none-any.whl size=319488 sha256=ce8c4b6c395e5a9fc6262be549f1e76e5b13829be4139f46335db266804ec5ff\n",
            "  Stored in directory: /root/.cache/pip/wheels/07/f9/6c/f9b73a6ae1b7f347a92dc240293cebc267b370ba2a80added2\n",
            "  Building wheel for dash-table (setup.py) ... \u001b[?25l\u001b[?25hdone\n",
            "  Created wheel for dash-table: filename=dash_table-4.11.3-cp37-none-any.whl size=1827623 sha256=ba668d34c4dd65492dc04ad540b1a5cf848ae3832d09d216f298349f2f9040c8\n",
            "  Stored in directory: /root/.cache/pip/wheels/51/9b/89/374be1bc250e28a15edbd657cf364f163e392ba5257bfd0e87\n",
            "Successfully built dash dash-renderer dash-core-components dash-html-components dash-table\n",
            "Installing collected packages: brotli, flask-compress, dash-renderer, dash-core-components, dash-html-components, dash-table, dash\n",
            "Successfully installed brotli-1.0.9 dash-1.20.0 dash-core-components-1.16.0 dash-html-components-1.1.3 dash-renderer-1.9.1 dash-table-4.11.3 flask-compress-1.10.1\n"
          ],
          "name": "stdout"
        }
      ]
    },
    {
      "cell_type": "code",
      "metadata": {
        "id": "SVJuDJiLrrxm"
      },
      "source": [
        "import plotly\n",
        "import plotly.graph_objects as go\n",
        "import plotly.express as px\n",
        "from plotly.subplots import make_subplots\n",
        "import plotly.graph_objects as go\n"
      ],
      "execution_count": 83,
      "outputs": []
    },
    {
      "cell_type": "code",
      "metadata": {
        "id": "ZW0a-sG09SeX",
        "colab": {
          "base_uri": "https://localhost:8080/",
          "height": 597
        },
        "outputId": "1df0c5da-d65f-4cd7-912f-fce4cbc5efa4"
      },
      "source": [
        "market"
      ],
      "execution_count": 84,
      "outputs": [
        {
          "output_type": "execute_result",
          "data": {
            "text/html": [
              "<div>\n",
              "<style scoped>\n",
              "    .dataframe tbody tr th:only-of-type {\n",
              "        vertical-align: middle;\n",
              "    }\n",
              "\n",
              "    .dataframe tbody tr th {\n",
              "        vertical-align: top;\n",
              "    }\n",
              "\n",
              "    .dataframe thead th {\n",
              "        text-align: right;\n",
              "    }\n",
              "</style>\n",
              "<table border=\"1\" class=\"dataframe\">\n",
              "  <thead>\n",
              "    <tr style=\"text-align: right;\">\n",
              "      <th></th>\n",
              "      <th>InvoiceNo</th>\n",
              "      <th>StockCode</th>\n",
              "      <th>Description</th>\n",
              "      <th>Quantity</th>\n",
              "      <th>InvoiceDate</th>\n",
              "      <th>UnitPrice</th>\n",
              "      <th>CustomerID</th>\n",
              "      <th>Country</th>\n",
              "      <th>S.No</th>\n",
              "      <th>Company</th>\n",
              "      <th>Sector</th>\n",
              "      <th>Market cap ($bn)</th>\n",
              "      <th>Market cap added</th>\n",
              "      <th>Change</th>\n",
              "      <th>Amount</th>\n",
              "      <th>Diff</th>\n",
              "    </tr>\n",
              "  </thead>\n",
              "  <tbody>\n",
              "    <tr>\n",
              "      <th>0</th>\n",
              "      <td>536370</td>\n",
              "      <td>22728</td>\n",
              "      <td>ALARM CLOCK BAKELIKE PINK</td>\n",
              "      <td>24</td>\n",
              "      <td>2010-12-01 08:45:00</td>\n",
              "      <td>3.75</td>\n",
              "      <td>12583.0</td>\n",
              "      <td>France</td>\n",
              "      <td>75</td>\n",
              "      <td>Hermès International</td>\n",
              "      <td>Consumer discretionary</td>\n",
              "      <td>88.2</td>\n",
              "      <td>10.6</td>\n",
              "      <td>13.7</td>\n",
              "      <td>90.00</td>\n",
              "      <td>373 days 04:05:00</td>\n",
              "    </tr>\n",
              "    <tr>\n",
              "      <th>1</th>\n",
              "      <td>536370</td>\n",
              "      <td>22728</td>\n",
              "      <td>ALARM CLOCK BAKELIKE PINK</td>\n",
              "      <td>24</td>\n",
              "      <td>2010-12-01 08:45:00</td>\n",
              "      <td>3.75</td>\n",
              "      <td>12583.0</td>\n",
              "      <td>France</td>\n",
              "      <td>95</td>\n",
              "      <td>L'Oréal</td>\n",
              "      <td>Consumer staples</td>\n",
              "      <td>173.4</td>\n",
              "      <td>8.8</td>\n",
              "      <td>5.3</td>\n",
              "      <td>90.00</td>\n",
              "      <td>373 days 04:05:00</td>\n",
              "    </tr>\n",
              "    <tr>\n",
              "      <th>2</th>\n",
              "      <td>536370</td>\n",
              "      <td>22727</td>\n",
              "      <td>ALARM CLOCK BAKELIKE RED</td>\n",
              "      <td>24</td>\n",
              "      <td>2010-12-01 08:45:00</td>\n",
              "      <td>3.75</td>\n",
              "      <td>12583.0</td>\n",
              "      <td>France</td>\n",
              "      <td>75</td>\n",
              "      <td>Hermès International</td>\n",
              "      <td>Consumer discretionary</td>\n",
              "      <td>88.2</td>\n",
              "      <td>10.6</td>\n",
              "      <td>13.7</td>\n",
              "      <td>90.00</td>\n",
              "      <td>373 days 04:05:00</td>\n",
              "    </tr>\n",
              "    <tr>\n",
              "      <th>3</th>\n",
              "      <td>536370</td>\n",
              "      <td>22727</td>\n",
              "      <td>ALARM CLOCK BAKELIKE RED</td>\n",
              "      <td>24</td>\n",
              "      <td>2010-12-01 08:45:00</td>\n",
              "      <td>3.75</td>\n",
              "      <td>12583.0</td>\n",
              "      <td>France</td>\n",
              "      <td>95</td>\n",
              "      <td>L'Oréal</td>\n",
              "      <td>Consumer staples</td>\n",
              "      <td>173.4</td>\n",
              "      <td>8.8</td>\n",
              "      <td>5.3</td>\n",
              "      <td>90.00</td>\n",
              "      <td>373 days 04:05:00</td>\n",
              "    </tr>\n",
              "    <tr>\n",
              "      <th>4</th>\n",
              "      <td>536370</td>\n",
              "      <td>22726</td>\n",
              "      <td>ALARM CLOCK BAKELIKE GREEN</td>\n",
              "      <td>12</td>\n",
              "      <td>2010-12-01 08:45:00</td>\n",
              "      <td>3.75</td>\n",
              "      <td>12583.0</td>\n",
              "      <td>France</td>\n",
              "      <td>75</td>\n",
              "      <td>Hermès International</td>\n",
              "      <td>Consumer discretionary</td>\n",
              "      <td>88.2</td>\n",
              "      <td>10.6</td>\n",
              "      <td>13.7</td>\n",
              "      <td>45.00</td>\n",
              "      <td>373 days 04:05:00</td>\n",
              "    </tr>\n",
              "    <tr>\n",
              "      <th>...</th>\n",
              "      <td>...</td>\n",
              "      <td>...</td>\n",
              "      <td>...</td>\n",
              "      <td>...</td>\n",
              "      <td>...</td>\n",
              "      <td>...</td>\n",
              "      <td>...</td>\n",
              "      <td>...</td>\n",
              "      <td>...</td>\n",
              "      <td>...</td>\n",
              "      <td>...</td>\n",
              "      <td>...</td>\n",
              "      <td>...</td>\n",
              "      <td>...</td>\n",
              "      <td>...</td>\n",
              "      <td>...</td>\n",
              "    </tr>\n",
              "    <tr>\n",
              "      <th>48619</th>\n",
              "      <td>564428</td>\n",
              "      <td>23296</td>\n",
              "      <td>SET OF 6 TEA TIME BAKING CASES</td>\n",
              "      <td>8</td>\n",
              "      <td>2011-08-25 11:27:00</td>\n",
              "      <td>1.25</td>\n",
              "      <td>17844.0</td>\n",
              "      <td>Canada</td>\n",
              "      <td>81</td>\n",
              "      <td>Barrick Gold</td>\n",
              "      <td>Materials</td>\n",
              "      <td>43.1</td>\n",
              "      <td>10.1</td>\n",
              "      <td>30.7</td>\n",
              "      <td>10.00</td>\n",
              "      <td>106 days 01:23:00</td>\n",
              "    </tr>\n",
              "    <tr>\n",
              "      <th>48620</th>\n",
              "      <td>564428</td>\n",
              "      <td>23296</td>\n",
              "      <td>SET OF 6 TEA TIME BAKING CASES</td>\n",
              "      <td>8</td>\n",
              "      <td>2011-08-25 11:27:00</td>\n",
              "      <td>1.25</td>\n",
              "      <td>17844.0</td>\n",
              "      <td>Canada</td>\n",
              "      <td>87</td>\n",
              "      <td>Lululemon Athletica</td>\n",
              "      <td>Consumer discretionary</td>\n",
              "      <td>39.5</td>\n",
              "      <td>9.4</td>\n",
              "      <td>31.0</td>\n",
              "      <td>10.00</td>\n",
              "      <td>106 days 01:23:00</td>\n",
              "    </tr>\n",
              "    <tr>\n",
              "      <th>48621</th>\n",
              "      <td>564428</td>\n",
              "      <td>23294</td>\n",
              "      <td>SET OF 6 SNACK LOAF BAKING CASES</td>\n",
              "      <td>8</td>\n",
              "      <td>2011-08-25 11:27:00</td>\n",
              "      <td>0.83</td>\n",
              "      <td>17844.0</td>\n",
              "      <td>Canada</td>\n",
              "      <td>14</td>\n",
              "      <td>Shopify</td>\n",
              "      <td>Technology</td>\n",
              "      <td>97.6</td>\n",
              "      <td>51.5</td>\n",
              "      <td>111.7</td>\n",
              "      <td>6.64</td>\n",
              "      <td>106 days 01:23:00</td>\n",
              "    </tr>\n",
              "    <tr>\n",
              "      <th>48622</th>\n",
              "      <td>564428</td>\n",
              "      <td>23294</td>\n",
              "      <td>SET OF 6 SNACK LOAF BAKING CASES</td>\n",
              "      <td>8</td>\n",
              "      <td>2011-08-25 11:27:00</td>\n",
              "      <td>0.83</td>\n",
              "      <td>17844.0</td>\n",
              "      <td>Canada</td>\n",
              "      <td>81</td>\n",
              "      <td>Barrick Gold</td>\n",
              "      <td>Materials</td>\n",
              "      <td>43.1</td>\n",
              "      <td>10.1</td>\n",
              "      <td>30.7</td>\n",
              "      <td>6.64</td>\n",
              "      <td>106 days 01:23:00</td>\n",
              "    </tr>\n",
              "    <tr>\n",
              "      <th>48623</th>\n",
              "      <td>564428</td>\n",
              "      <td>23294</td>\n",
              "      <td>SET OF 6 SNACK LOAF BAKING CASES</td>\n",
              "      <td>8</td>\n",
              "      <td>2011-08-25 11:27:00</td>\n",
              "      <td>0.83</td>\n",
              "      <td>17844.0</td>\n",
              "      <td>Canada</td>\n",
              "      <td>87</td>\n",
              "      <td>Lululemon Athletica</td>\n",
              "      <td>Consumer discretionary</td>\n",
              "      <td>39.5</td>\n",
              "      <td>9.4</td>\n",
              "      <td>31.0</td>\n",
              "      <td>6.64</td>\n",
              "      <td>106 days 01:23:00</td>\n",
              "    </tr>\n",
              "  </tbody>\n",
              "</table>\n",
              "<p>47829 rows × 16 columns</p>\n",
              "</div>"
            ],
            "text/plain": [
              "      InvoiceNo StockCode  ... Amount              Diff\n",
              "0        536370     22728  ...  90.00 373 days 04:05:00\n",
              "1        536370     22728  ...  90.00 373 days 04:05:00\n",
              "2        536370     22727  ...  90.00 373 days 04:05:00\n",
              "3        536370     22727  ...  90.00 373 days 04:05:00\n",
              "4        536370     22726  ...  45.00 373 days 04:05:00\n",
              "...         ...       ...  ...    ...               ...\n",
              "48619    564428     23296  ...  10.00 106 days 01:23:00\n",
              "48620    564428     23296  ...  10.00 106 days 01:23:00\n",
              "48621    564428     23294  ...   6.64 106 days 01:23:00\n",
              "48622    564428     23294  ...   6.64 106 days 01:23:00\n",
              "48623    564428     23294  ...   6.64 106 days 01:23:00\n",
              "\n",
              "[47829 rows x 16 columns]"
            ]
          },
          "metadata": {
            "tags": []
          },
          "execution_count": 84
        }
      ]
    },
    {
      "cell_type": "markdown",
      "metadata": {
        "id": "jVdVth2aqLW2"
      },
      "source": [
        "#Building the model\n"
      ]
    },
    {
      "cell_type": "code",
      "metadata": {
        "id": "D7_27a3KWsFA"
      },
      "source": [
        "# Importing machinelearning library\n",
        "from sklearn.preprocessing import StandardScaler, normalize\n",
        "from sklearn.cluster import KMeans\n",
        "from sklearn.decomposition import PCA\n",
        "%matplotlib inline"
      ],
      "execution_count": 87,
      "outputs": []
    },
    {
      "cell_type": "markdown",
      "metadata": {
        "id": "CEEqTR47DArO"
      },
      "source": [
        ""
      ]
    },
    {
      "cell_type": "code",
      "metadata": {
        "id": "Zewh7aFiYKhX",
        "colab": {
          "base_uri": "https://localhost:8080/"
        },
        "outputId": "37926bd3-8875-4090-b362-f4a0bd2097e5"
      },
      "source": [
        "kmeans = KMeans(n_clusters=4, max_iter=50)\n",
        "print(kmeans.fit(rfm_df_scaled))\n",
        "print(kmeans.labels_)"
      ],
      "execution_count": 88,
      "outputs": [
        {
          "output_type": "stream",
          "text": [
            "KMeans(algorithm='auto', copy_x=True, init='k-means++', max_iter=50,\n",
            "       n_clusters=4, n_init=10, n_jobs=None, precompute_distances='auto',\n",
            "       random_state=None, tol=0.0001, verbose=0)\n",
            "[2 1 0 1 3 2 1 3 1 1 1 0 1 1 2 3 1 1 1 1 3 3 1 1 0 1 1 0 3 2 1 0 0 1 1 1 2\n",
            " 0 1 0 1 0 0 1 1 0 1 1 3 0 1 1 3 1 1 1 1 3 1 3 1 3 1 1 0 1 1 1 1 1 0 1 1 1\n",
            " 1 1 1 1 1 1 0 0 3 1 3 0 3 1 2 0 1 1 3 3 0 1 3 1 2 3 1 3 1 1 0 1 1 3 1 1 1\n",
            " 3 1 1 1 3 0 1 1 1 1 0 3 3 1 3 0 0 1 1 1 2 1 3 1 1 1 1 1 1 1 1 1 1 3 3 1 0\n",
            " 1 1 1 1 0 3 1 1 0 3 1 1 1 2 1 1 2 2 0 0 3 1 3 1 1 1 1 1 0 1 1 1 0 3 1 0 1\n",
            " 1 1 0 1 1 1 1 0 0 1 1 1 0 0 1 1 2 3 3 3 3 3 1 0 3 3 1 0 1 3 0 0 1 1 3 3 0\n",
            " 3 1 1 3 3 2 0 1 3 1 1 1 1 1 1 1 0 1 3 1 2 3 0 1]\n"
          ],
          "name": "stdout"
        }
      ]
    },
    {
      "cell_type": "code",
      "metadata": {
        "id": "hjGzqWCaPFBe"
      },
      "source": [
        "# Elbow-curve/SSD\n",
        "\n",
        "ssd = []\n",
        "range_n_clusters = [2, 3, 4, 5, 6, 7, 8]\n",
        "for num_clusters in range_n_clusters:\n",
        "    kmeans = KMeans ( n_clusters=num_clusters, max_iter=50 )\n",
        "    kmeans.fit ( rfm_df_scaled )\n",
        "\n",
        "    ssd.append ( kmeans.inertia_ )"
      ],
      "execution_count": 90,
      "outputs": []
    },
    {
      "cell_type": "code",
      "metadata": {
        "id": "vBr6qtgrPL83",
        "colab": {
          "base_uri": "https://localhost:8080/",
          "height": 264
        },
        "outputId": "43b5897c-3e0d-45e5-ff8e-eb6710895374"
      },
      "source": [
        "# plot the SSDs for each n_clusters\n",
        "plt.plot(ssd)\n",
        "plt.show()"
      ],
      "execution_count": 91,
      "outputs": [
        {
          "output_type": "display_data",
          "data": {
            "image/png": "[encoded data removed]",
            "text/plain": [
              "<Figure size 432x288 with 1 Axes>"
            ]
          },
          "metadata": {
            "tags": [],
            "needs_background": "light"
          }
        }
      ]
    }
  ]
}