{
  "nbformat": 4,
  "nbformat_minor": 0,
  "metadata": {
    "colab": {
      "name": "Copy_of_Automl_evalml (1).ipynb",
      "provenance": [],
      "collapsed_sections": [],
      "include_colab_link": true
    },
    "kernelspec": {
      "name": "python3",
      "display_name": "Python 3"
    },
    "language_info": {
      "name": "python"
    },
    "widgets": {
      "application/vnd.jupyter.widget-state+json": {
        "47087f5646fc4ca5aa2b693b356cfe95": {
          "model_module": "jupyterlab-plotly",
          "model_name": "FigureModel",
          "state": {
            "_view_name": "FigureView",
            "_py2js_animate": {},
            "_py2js_removeLayoutProps": {},
            "_last_trace_edit_id": 9,
            "_view_module": "jupyterlab-plotly",
            "_model_module_version": "^5.1.0",
            "_view_count": 0,
            "_js2py_relayout": {},
            "_py2js_moveTraces": {},
            "_py2js_addTraces": {},
            "_model_module": "jupyterlab-plotly",
            "_py2js_relayout": null,
            "_js2py_pointsCallback": {},
            "_js2py_update": {},
            "_js2py_restyle": {},
            "_py2js_removeTraceProps": {},
            "_py2js_deleteTraces": {},
            "_dom_classes": [],
            "_model_name": "FigureModel",
            "_layout": {
              "yaxis": {
                "title": {
                  "text": "Score"
                }
              },
              "xaxis": {
                "title": {
                  "text": "Iteration"
                },
                "rangemode": "tozero"
              },
              "title": {
                "text": "Pipeline Search: Iteration vs. Log Loss Multiclass<br><sub>Gray marker indicates the score at current iteration</sub>"
              }
            },
            "_js2py_layoutDelta": {},
            "_py2js_update": null,
            "_data": [
              {
                "uid": "42fa9b6a-f0d3-4429-9874-a28de176d5cc",
                "mode": "lines+markers",
                "y": [],
                "x": [],
                "type": "scatter",
                "name": "Best Score"
              },
              {
                "name": "Iter score",
                "y": [],
                "mode": "markers",
                "marker": {
                  "color": "gray"
                },
                "x": [],
                "type": "scatter",
                "uid": "9655cffd-102c-4641-964d-2a6c522ba274"
              }
            ],
            "_config": {
              "plotlyServerURL": "https://plot.ly"
            },
            "_py2js_restyle": null,
            "_view_module_version": "^5.1.0",
            "_last_layout_edit_id": 9,
            "_js2py_traceDeltas": {}
          }
        }
      }
    }
  },
  "cells": [
    {
      "cell_type": "markdown",
      "metadata": {
        "id": "view-in-github",
        "colab_type": "text"
      },
      "source": [
        "<a href=\"https://colab.research.google.com/github/geetanjalisawant16/AutoML-and-Clustering-for-Market-segmentation/blob/geetanjalisawant16-patch-1/Copy_of_Automl_evalml.ipynb\" target=\"_parent\"><img src=\"https://colab.research.google.com/assets/colab-badge.svg\" alt=\"Open In Colab\"/></a>"
      ]
    },
    {
      "cell_type": "code",
      "metadata": {
        "id": "mWfifUAC9Wdr"
      },
      "source": [
        "import numpy as np\n",
        "import seaborn as sns\n",
        "import matplotlib.pyplot as plt\n",
        "from scipy.stats import mode\n",
        "import pandas as pd"
      ],
      "execution_count": 1,
      "outputs": []
    },
    {
      "cell_type": "code",
      "metadata": {
        "colab": {
          "base_uri": "https://localhost:8080/",
          "height": 1000
        },
        "id": "N9wrS-vSDxJN",
        "outputId": "04b0372e-fc25-4daa-830f-df5fbb7fa8a3"
      },
      "source": [
        "!pip install evalml"
      ],
      "execution_count": 2,
      "outputs": [
        {
          "output_type": "stream",
          "text": [
            "Collecting evalml\n",
            "\u001b[?25l  Downloading https://files.pythonhosted.org/packages/3e/b1/73b83b1b2061534eecabeb2f01a72af60b0b2c15eaa834d9ecb16698526a/evalml-0.28.0-py3-none-any.whl (6.2MB)\n",
            "\u001b[K     |████████████████████████████████| 6.2MB 4.0MB/s \n",
            "\u001b[?25hRequirement already satisfied: networkx>=2.5 in /usr/local/lib/python3.7/dist-packages (from evalml) (2.5.1)\n",
            "Collecting cloudpickle>=1.5.0\n",
            "  Downloading https://files.pythonhosted.org/packages/e7/e3/898487e5dbeb612054cf2e0c188463acb358167fef749c53c8bb8918cea1/cloudpickle-1.6.0-py3-none-any.whl\n",
            "Collecting colorama>=0.4.4\n",
            "  Downloading https://files.pythonhosted.org/packages/44/98/5b86278fbbf250d239ae0ecb724f8572af1c91f4a11edf4d36a206189440/colorama-0.4.4-py2.py3-none-any.whl\n",
            "Collecting woodwork<0.5.0,>=0.4.1\n",
            "\u001b[?25l  Downloading https://files.pythonhosted.org/packages/c9/fe/6065fbef93b832af2746c761a75a04129493e7b0b1ee3b3be7755d2bd385/woodwork-0.4.2-py3-none-any.whl (128kB)\n",
            "\u001b[K     |████████████████████████████████| 133kB 42.9MB/s \n",
            "\u001b[?25hCollecting pandas>=1.2.1\n",
            "\u001b[?25l  Downloading https://files.pythonhosted.org/packages/99/f7/01cea7f6c963100f045876eb4aa1817069c5c9eca73d2dbfb5d31ff9a39f/pandas-1.3.0-cp37-cp37m-manylinux_2_5_x86_64.manylinux1_x86_64.whl (10.8MB)\n",
            "\u001b[K     |████████████████████████████████| 10.8MB 33.9MB/s \n",
            "\u001b[?25hCollecting scikit-optimize>=0.8.1\n",
            "\u001b[?25l  Downloading https://files.pythonhosted.org/packages/8b/03/be33e89f55866065a02e515c5b319304a801a9f1027a9b311a9b1d1f8dc7/scikit_optimize-0.8.1-py2.py3-none-any.whl (101kB)\n",
            "\u001b[K     |████████████████████████████████| 102kB 10.1MB/s \n",
            "\u001b[?25hCollecting requirements-parser>=0.2.0\n",
            "  Downloading https://files.pythonhosted.org/packages/03/80/eb6ba1dd0429089436e90e556db50884ea21da060b10f2e5668c4cac99da/requirements-parser-0.2.0.tar.gz\n",
            "Collecting xgboost<1.3.0,>=1.1.0\n",
            "\u001b[?25l  Downloading https://files.pythonhosted.org/packages/35/cc/fd3d5fc6b6616a03385a0f6492cc77a253940d1026406ecc07597095e381/xgboost-1.2.1-py3-none-manylinux2010_x86_64.whl (148.9MB)\n",
            "\u001b[K     |████████████████████████████████| 148.9MB 71kB/s \n",
            "\u001b[?25hCollecting nlp-primitives>=1.1.0\n",
            "\u001b[?25l  Downloading https://files.pythonhosted.org/packages/a0/b8/c5465a6ed6d5fce76703e62d60fde588cee1af65a8a3d7340b26e1a1c290/nlp_primitives-1.1.0-py3-none-any.whl (18.0MB)\n",
            "\u001b[K     |████████████████████████████████| 18.0MB 205kB/s \n",
            "\u001b[?25hCollecting lightgbm>=2.3.1\n",
            "\u001b[?25l  Downloading https://files.pythonhosted.org/packages/18/b2/fff8370f48549ce223f929fe8cab4ee6bf285a41f86037d91312b48ed95b/lightgbm-3.2.1-py3-none-manylinux1_x86_64.whl (2.0MB)\n",
            "\u001b[K     |████████████████████████████████| 2.0MB 37.5MB/s \n",
            "\u001b[?25hCollecting scikit-learn>=0.24.0\n",
            "\u001b[?25l  Downloading https://files.pythonhosted.org/packages/a8/eb/a48f25c967526b66d5f1fa7a984594f0bf0a5afafa94a8c4dbc317744620/scikit_learn-0.24.2-cp37-cp37m-manylinux2010_x86_64.whl (22.3MB)\n",
            "\u001b[K     |████████████████████████████████| 22.3MB 1.5MB/s \n",
            "\u001b[?25hCollecting pmdarima==1.8.0\n",
            "\u001b[?25l  Downloading https://files.pythonhosted.org/packages/e4/a8/bdf15174e35d072e145d16388b1d3bc7605b752610170cb022a290411427/pmdarima-1.8.0-cp37-cp37m-manylinux1_x86_64.whl (1.5MB)\n",
            "\u001b[K     |████████████████████████████████| 1.5MB 30.9MB/s \n",
            "\u001b[?25hRequirement already satisfied: dask>=2.12.0 in /usr/local/lib/python3.7/dist-packages (from evalml) (2.12.0)\n",
            "Requirement already satisfied: scipy>=1.3.3 in /usr/local/lib/python3.7/dist-packages (from evalml) (1.4.1)\n",
            "Requirement already satisfied: pyzmq>=20.0.0 in /usr/local/lib/python3.7/dist-packages (from evalml) (22.1.0)\n",
            "Collecting numpy>=1.20.0\n",
            "\u001b[?25l  Downloading https://files.pythonhosted.org/packages/3f/03/c3526fb4e79a793498829ca570f2f868204ad9a8040afcd72d82a8f121db/numpy-1.21.0-cp37-cp37m-manylinux_2_12_x86_64.manylinux2010_x86_64.whl (15.7MB)\n",
            "\u001b[K     |████████████████████████████████| 15.7MB 131kB/s \n",
            "\u001b[?25hCollecting texttable>=1.6.2\n",
            "  Downloading https://files.pythonhosted.org/packages/75/23/8170868d04b153b1b9ed1bb84348212bb4a08f31b292ef9d7f6ea648fd49/texttable-1.6.4-py2.py3-none-any.whl\n",
            "Collecting shap>=0.36.0\n",
            "\u001b[?25l  Downloading https://files.pythonhosted.org/packages/b9/f4/c5b95cddae15be80f8e58b25edceca105aa83c0b8c86a1edad24a6af80d3/shap-0.39.0.tar.gz (356kB)\n",
            "\u001b[K     |████████████████████████████████| 358kB 37.4MB/s \n",
            "\u001b[?25hCollecting statsmodels>=0.12.2\n",
            "\u001b[?25l  Downloading https://files.pythonhosted.org/packages/da/69/8eef30a6237c54f3c0b524140e2975f4b1eea3489b45eb3339574fc8acee/statsmodels-0.12.2-cp37-cp37m-manylinux1_x86_64.whl (9.5MB)\n",
            "\u001b[K     |████████████████████████████████| 9.5MB 31.6MB/s \n",
            "\u001b[?25hCollecting kaleido>=0.1.0\n",
            "\u001b[?25l  Downloading https://files.pythonhosted.org/packages/ae/b3/a0f0f4faac229b0011d8c4a7ee6da7c2dca0b6fd08039c95920846f23ca4/kaleido-0.2.1-py2.py3-none-manylinux1_x86_64.whl (79.9MB)\n",
            "\u001b[K     |████████████████████████████████| 79.9MB 111kB/s \n",
            "\u001b[?25hCollecting featuretools>=0.21.0\n",
            "\u001b[?25l  Downloading https://files.pythonhosted.org/packages/d8/9d/c06ed4fb7d65083b7a7aca94e2e1ffb66848d31c1f2a8aacc528d1122ef0/featuretools-0.26.0-py3-none-any.whl (326kB)\n",
            "\u001b[K     |████████████████████████████████| 327kB 40.7MB/s \n",
            "\u001b[?25hRequirement already satisfied: seaborn>=0.11.1 in /usr/local/lib/python3.7/dist-packages (from evalml) (0.11.1)\n",
            "Collecting imbalanced-learn>=0.8.0\n",
            "\u001b[?25l  Downloading https://files.pythonhosted.org/packages/80/98/dc784205a7e3034e84d41ac4781660c67ad6327f2f5a80c568df31673d1c/imbalanced_learn-0.8.0-py3-none-any.whl (206kB)\n",
            "\u001b[K     |████████████████████████████████| 215kB 29.5MB/s \n",
            "\u001b[?25hCollecting sktime>=0.5.3; python_version < \"3.9\"\n",
            "\u001b[?25l  Downloading https://files.pythonhosted.org/packages/0f/06/09c592a35ce03e9ba6f68f593218e1cebdb8ef3f6945e5dc974bf80f4289/sktime-0.7.0-cp37-cp37m-manylinux_2_17_x86_64.manylinux2014_x86_64.whl (5.8MB)\n",
            "\u001b[K     |████████████████████████████████| 5.8MB 37.6MB/s \n",
            "\u001b[?25hCollecting plotly>=5.0.0\n",
            "\u001b[?25l  Downloading https://files.pythonhosted.org/packages/95/8d/ac1560f7ccc2ace85cd1e9619bbec1975b5d2d92e6c6fdbbdaa994c6ab4d/plotly-5.1.0-py2.py3-none-any.whl (20.6MB)\n",
            "\u001b[K     |████████████████████████████████| 20.6MB 44.2MB/s \n",
            "\u001b[?25hCollecting graphviz>=0.13\n",
            "  Downloading https://files.pythonhosted.org/packages/97/14/b5eeeb6d24dbca0ada857ce4a453985df34d9512464bb20cc1a8aca44c54/graphviz-0.17-py3-none-any.whl\n",
            "Requirement already satisfied: ipywidgets>=7.5 in /usr/local/lib/python3.7/dist-packages (from evalml) (7.6.3)\n",
            "Collecting matplotlib>=3.3.3\n",
            "\u001b[?25l  Downloading https://files.pythonhosted.org/packages/24/33/5568d443ba438d95d4db635dd69958056f087e57e1026bee56f959d53f9d/matplotlib-3.4.2-cp37-cp37m-manylinux1_x86_64.whl (10.3MB)\n",
            "\u001b[K     |████████████████████████████████| 10.3MB 41.1MB/s \n",
            "\u001b[?25hRequirement already satisfied: click>=7.1.2 in /usr/local/lib/python3.7/dist-packages (from evalml) (7.1.2)\n",
            "Collecting psutil>=5.6.6\n",
            "\u001b[?25l  Downloading https://files.pythonhosted.org/packages/84/da/f7efdcf012b51506938553dbe302aecc22f3f43abd5cffa8320e8e0588d5/psutil-5.8.0-cp37-cp37m-manylinux2010_x86_64.whl (296kB)\n",
            "\u001b[K     |████████████████████████████████| 296kB 37.0MB/s \n",
            "\u001b[?25hCollecting catboost>=0.20\n",
            "\u001b[?25l  Downloading https://files.pythonhosted.org/packages/5a/41/24e14322b9986cf72a8763e0a0a69cc256cf963cf9502c8f0044a62c1ae8/catboost-0.26-cp37-none-manylinux1_x86_64.whl (69.2MB)\n",
            "\u001b[K     |████████████████████████████████| 69.2MB 43kB/s \n",
            "\u001b[?25hCollecting category-encoders>=2.2.2\n",
            "\u001b[?25l  Downloading https://files.pythonhosted.org/packages/44/57/fcef41c248701ee62e8325026b90c432adea35555cbc870aff9cfba23727/category_encoders-2.2.2-py2.py3-none-any.whl (80kB)\n",
            "\u001b[K     |████████████████████████████████| 81kB 6.9MB/s \n",
            "\u001b[?25hRequirement already satisfied: decorator<5,>=4.3 in /usr/local/lib/python3.7/dist-packages (from networkx>=2.5->evalml) (4.4.2)\n",
            "Requirement already satisfied: pytz>=2017.3 in /usr/local/lib/python3.7/dist-packages (from pandas>=1.2.1->evalml) (2018.9)\n",
            "Requirement already satisfied: python-dateutil>=2.7.3 in /usr/local/lib/python3.7/dist-packages (from pandas>=1.2.1->evalml) (2.8.1)\n",
            "Collecting pyaml>=16.9\n",
            "  Downloading https://files.pythonhosted.org/packages/15/c4/1310a054d33abc318426a956e7d6df0df76a6ddfa9c66f6310274fb75d42/pyaml-20.4.0-py2.py3-none-any.whl\n",
            "Requirement already satisfied: joblib>=0.11 in /usr/local/lib/python3.7/dist-packages (from scikit-optimize>=0.8.1->evalml) (1.0.1)\n",
            "Collecting nltk>=3.4.5\n",
            "\u001b[?25l  Downloading https://files.pythonhosted.org/packages/5e/37/9532ddd4b1bbb619333d5708aaad9bf1742f051a664c3c6fa6632a105fd8/nltk-3.6.2-py3-none-any.whl (1.5MB)\n",
            "\u001b[K     |████████████████████████████████| 1.5MB 46.0MB/s \n",
            "\u001b[?25hRequirement already satisfied: wheel in /usr/local/lib/python3.7/dist-packages (from lightgbm>=2.3.1->evalml) (0.36.2)\n",
            "Collecting threadpoolctl>=2.0.0\n",
            "  Downloading https://files.pythonhosted.org/packages/c6/e8/c216b9b60cbba4642d3ca1bae7a53daa0c24426f662e0e3ce3dc7f6caeaa/threadpoolctl-2.2.0-py3-none-any.whl\n",
            "Collecting Cython<0.29.18,>=0.29\n",
            "\u001b[?25l  Downloading https://files.pythonhosted.org/packages/dc/6c/198da24bf0a1d5b5ee6119e891c5300bb1b0b8904832fac9ff62d4e381c9/Cython-0.29.17-cp37-cp37m-manylinux1_x86_64.whl (2.1MB)\n",
            "\u001b[K     |████████████████████████████████| 2.1MB 38.7MB/s \n",
            "\u001b[?25hRequirement already satisfied: urllib3 in /usr/local/lib/python3.7/dist-packages (from pmdarima==1.8.0->evalml) (1.24.3)\n",
            "Requirement already satisfied: setuptools!=50.0.0,>=38.6.0 in /usr/local/lib/python3.7/dist-packages (from pmdarima==1.8.0->evalml) (57.0.0)\n",
            "Requirement already satisfied: tqdm>4.25.0 in /usr/local/lib/python3.7/dist-packages (from shap>=0.36.0->evalml) (4.41.1)\n",
            "Collecting slicer==0.0.7\n",
            "  Downloading https://files.pythonhosted.org/packages/78/c2/b3f55dfdb8af9812fdb9baf70cacf3b9e82e505b2bd4324d588888b81202/slicer-0.0.7-py3-none-any.whl\n",
            "Requirement already satisfied: numba in /usr/local/lib/python3.7/dist-packages (from shap>=0.36.0->evalml) (0.51.2)\n",
            "Requirement already satisfied: patsy>=0.5 in /usr/local/lib/python3.7/dist-packages (from statsmodels>=0.12.2->evalml) (0.5.1)\n",
            "Collecting distributed>=2.12.0\n",
            "\u001b[?25l  Downloading https://files.pythonhosted.org/packages/31/8b/0d704fdaa170a05797057c4676ceb9f53e139111b9b37f53e90a62c4c770/distributed-2021.7.0-py3-none-any.whl (1.0MB)\n",
            "\u001b[K     |████████████████████████████████| 1.0MB 21.5MB/s \n",
            "\u001b[?25hCollecting pyyaml>=5.4\n",
            "\u001b[?25l  Downloading https://files.pythonhosted.org/packages/7a/a5/393c087efdc78091afa2af9f1378762f9821c9c1d7a22c5753fb5ac5f97a/PyYAML-5.4.1-cp37-cp37m-manylinux1_x86_64.whl (636kB)\n",
            "\u001b[K     |████████████████████████████████| 645kB 33.9MB/s \n",
            "\u001b[?25hRequirement already satisfied: six in /usr/local/lib/python3.7/dist-packages (from plotly>=5.0.0->evalml) (1.15.0)\n",
            "Collecting tenacity>=6.2.0\n",
            "  Downloading https://files.pythonhosted.org/packages/f2/a5/f86bc8d67c979020438c8559cc70cfe3a1643fd160d35e09c9cca6a09189/tenacity-8.0.1-py3-none-any.whl\n",
            "Requirement already satisfied: nbformat>=4.2.0 in /usr/local/lib/python3.7/dist-packages (from ipywidgets>=7.5->evalml) (5.1.3)\n",
            "Requirement already satisfied: ipython>=4.0.0; python_version >= \"3.3\" in /usr/local/lib/python3.7/dist-packages (from ipywidgets>=7.5->evalml) (5.5.0)\n",
            "Requirement already satisfied: ipykernel>=4.5.1 in /usr/local/lib/python3.7/dist-packages (from ipywidgets>=7.5->evalml) (4.10.1)\n",
            "Requirement already satisfied: jupyterlab-widgets>=1.0.0; python_version >= \"3.6\" in /usr/local/lib/python3.7/dist-packages (from ipywidgets>=7.5->evalml) (1.0.0)\n",
            "Requirement already satisfied: traitlets>=4.3.1 in /usr/local/lib/python3.7/dist-packages (from ipywidgets>=7.5->evalml) (5.0.5)\n",
            "Requirement already satisfied: widgetsnbextension~=3.5.0 in /usr/local/lib/python3.7/dist-packages (from ipywidgets>=7.5->evalml) (3.5.1)\n",
            "Requirement already satisfied: cycler>=0.10 in /usr/local/lib/python3.7/dist-packages (from matplotlib>=3.3.3->evalml) (0.10.0)\n",
            "Requirement already satisfied: kiwisolver>=1.0.1 in /usr/local/lib/python3.7/dist-packages (from matplotlib>=3.3.3->evalml) (1.3.1)\n",
            "Requirement already satisfied: pillow>=6.2.0 in /usr/local/lib/python3.7/dist-packages (from matplotlib>=3.3.3->evalml) (7.1.2)\n",
            "Requirement already satisfied: pyparsing>=2.2.1 in /usr/local/lib/python3.7/dist-packages (from matplotlib>=3.3.3->evalml) (2.4.7)\n",
            "Requirement already satisfied: regex in /usr/local/lib/python3.7/dist-packages (from nltk>=3.4.5->nlp-primitives>=1.1.0->evalml) (2019.12.20)\n",
            "Requirement already satisfied: llvmlite<0.35,>=0.34.0.dev0 in /usr/local/lib/python3.7/dist-packages (from numba->shap>=0.36.0->evalml) (0.34.0)\n",
            "Requirement already satisfied: tblib>=1.6.0 in /usr/local/lib/python3.7/dist-packages (from distributed>=2.12.0->featuretools>=0.21.0->evalml) (1.7.0)\n",
            "Requirement already satisfied: toolz>=0.8.2 in /usr/local/lib/python3.7/dist-packages (from distributed>=2.12.0->featuretools>=0.21.0->evalml) (0.11.1)\n",
            "Requirement already satisfied: msgpack>=0.6.0 in /usr/local/lib/python3.7/dist-packages (from distributed>=2.12.0->featuretools>=0.21.0->evalml) (1.0.2)\n",
            "Requirement already satisfied: zict>=0.1.3 in /usr/local/lib/python3.7/dist-packages (from distributed>=2.12.0->featuretools>=0.21.0->evalml) (2.0.0)\n",
            "Requirement already satisfied: tornado>=5; python_version < \"3.8\" in /usr/local/lib/python3.7/dist-packages (from distributed>=2.12.0->featuretools>=0.21.0->evalml) (5.1.1)\n",
            "Requirement already satisfied: sortedcontainers!=2.0.0,!=2.0.1 in /usr/local/lib/python3.7/dist-packages (from distributed>=2.12.0->featuretools>=0.21.0->evalml) (2.4.0)\n",
            "Requirement already satisfied: ipython-genutils in /usr/local/lib/python3.7/dist-packages (from nbformat>=4.2.0->ipywidgets>=7.5->evalml) (0.2.0)\n",
            "Requirement already satisfied: jsonschema!=2.5.0,>=2.4 in /usr/local/lib/python3.7/dist-packages (from nbformat>=4.2.0->ipywidgets>=7.5->evalml) (2.6.0)\n",
            "Requirement already satisfied: jupyter-core in /usr/local/lib/python3.7/dist-packages (from nbformat>=4.2.0->ipywidgets>=7.5->evalml) (4.7.1)\n",
            "Requirement already satisfied: simplegeneric>0.8 in /usr/local/lib/python3.7/dist-packages (from ipython>=4.0.0; python_version >= \"3.3\"->ipywidgets>=7.5->evalml) (0.8.1)\n",
            "Requirement already satisfied: pygments in /usr/local/lib/python3.7/dist-packages (from ipython>=4.0.0; python_version >= \"3.3\"->ipywidgets>=7.5->evalml) (2.6.1)\n",
            "Requirement already satisfied: prompt-toolkit<2.0.0,>=1.0.4 in /usr/local/lib/python3.7/dist-packages (from ipython>=4.0.0; python_version >= \"3.3\"->ipywidgets>=7.5->evalml) (1.0.18)\n",
            "Requirement already satisfied: pickleshare in /usr/local/lib/python3.7/dist-packages (from ipython>=4.0.0; python_version >= \"3.3\"->ipywidgets>=7.5->evalml) (0.7.5)\n",
            "Requirement already satisfied: pexpect; sys_platform != \"win32\" in /usr/local/lib/python3.7/dist-packages (from ipython>=4.0.0; python_version >= \"3.3\"->ipywidgets>=7.5->evalml) (4.8.0)\n",
            "Requirement already satisfied: jupyter-client in /usr/local/lib/python3.7/dist-packages (from ipykernel>=4.5.1->ipywidgets>=7.5->evalml) (5.3.5)\n",
            "Requirement already satisfied: notebook>=4.4.1 in /usr/local/lib/python3.7/dist-packages (from widgetsnbextension~=3.5.0->ipywidgets>=7.5->evalml) (5.3.1)\n",
            "Requirement already satisfied: heapdict in /usr/local/lib/python3.7/dist-packages (from zict>=0.1.3->distributed>=2.12.0->featuretools>=0.21.0->evalml) (1.0.1)\n",
            "Requirement already satisfied: wcwidth in /usr/local/lib/python3.7/dist-packages (from prompt-toolkit<2.0.0,>=1.0.4->ipython>=4.0.0; python_version >= \"3.3\"->ipywidgets>=7.5->evalml) (0.2.5)\n",
            "Requirement already satisfied: ptyprocess>=0.5 in /usr/local/lib/python3.7/dist-packages (from pexpect; sys_platform != \"win32\"->ipython>=4.0.0; python_version >= \"3.3\"->ipywidgets>=7.5->evalml) (0.7.0)\n",
            "Requirement already satisfied: nbconvert in /usr/local/lib/python3.7/dist-packages (from notebook>=4.4.1->widgetsnbextension~=3.5.0->ipywidgets>=7.5->evalml) (5.6.1)\n",
            "Requirement already satisfied: Send2Trash in /usr/local/lib/python3.7/dist-packages (from notebook>=4.4.1->widgetsnbextension~=3.5.0->ipywidgets>=7.5->evalml) (1.7.1)\n",
            "Requirement already satisfied: jinja2 in /usr/local/lib/python3.7/dist-packages (from notebook>=4.4.1->widgetsnbextension~=3.5.0->ipywidgets>=7.5->evalml) (2.11.3)\n",
            "Requirement already satisfied: terminado>=0.8.1 in /usr/local/lib/python3.7/dist-packages (from notebook>=4.4.1->widgetsnbextension~=3.5.0->ipywidgets>=7.5->evalml) (0.10.1)\n",
            "Requirement already satisfied: entrypoints>=0.2.2 in /usr/local/lib/python3.7/dist-packages (from nbconvert->notebook>=4.4.1->widgetsnbextension~=3.5.0->ipywidgets>=7.5->evalml) (0.3)\n",
            "Requirement already satisfied: testpath in /usr/local/lib/python3.7/dist-packages (from nbconvert->notebook>=4.4.1->widgetsnbextension~=3.5.0->ipywidgets>=7.5->evalml) (0.5.0)\n",
            "Requirement already satisfied: bleach in /usr/local/lib/python3.7/dist-packages (from nbconvert->notebook>=4.4.1->widgetsnbextension~=3.5.0->ipywidgets>=7.5->evalml) (3.3.0)\n",
            "Requirement already satisfied: mistune<2,>=0.8.1 in /usr/local/lib/python3.7/dist-packages (from nbconvert->notebook>=4.4.1->widgetsnbextension~=3.5.0->ipywidgets>=7.5->evalml) (0.8.4)\n",
            "Requirement already satisfied: defusedxml in /usr/local/lib/python3.7/dist-packages (from nbconvert->notebook>=4.4.1->widgetsnbextension~=3.5.0->ipywidgets>=7.5->evalml) (0.7.1)\n",
            "Requirement already satisfied: pandocfilters>=1.4.1 in /usr/local/lib/python3.7/dist-packages (from nbconvert->notebook>=4.4.1->widgetsnbextension~=3.5.0->ipywidgets>=7.5->evalml) (1.4.3)\n",
            "Requirement already satisfied: MarkupSafe>=0.23 in /usr/local/lib/python3.7/dist-packages (from jinja2->notebook>=4.4.1->widgetsnbextension~=3.5.0->ipywidgets>=7.5->evalml) (2.0.1)\n",
            "Requirement already satisfied: webencodings in /usr/local/lib/python3.7/dist-packages (from bleach->nbconvert->notebook>=4.4.1->widgetsnbextension~=3.5.0->ipywidgets>=7.5->evalml) (0.5.1)\n",
            "Requirement already satisfied: packaging in /usr/local/lib/python3.7/dist-packages (from bleach->nbconvert->notebook>=4.4.1->widgetsnbextension~=3.5.0->ipywidgets>=7.5->evalml) (21.0)\n",
            "Building wheels for collected packages: requirements-parser, shap\n",
            "  Building wheel for requirements-parser (setup.py) ... \u001b[?25l\u001b[?25hdone\n",
            "  Created wheel for requirements-parser: filename=requirements_parser-0.2.0-cp37-none-any.whl size=7690 sha256=5f3de57d75a8bae4c01ff7a008501e70f9645a8488fcf8f34a9142a6e9275931\n",
            "  Stored in directory: /root/.cache/pip/wheels/c6/e5/ef/a12b26033eee476b7ebdd797528faa1765feae6e3b33a3954b\n",
            "  Building wheel for shap (setup.py) ... \u001b[?25l\u001b[?25hdone\n",
            "  Created wheel for shap: filename=shap-0.39.0-cp37-cp37m-linux_x86_64.whl size=491624 sha256=97846d89d2145aa3784a623882c1bd8f5f9635939ac7e545ad0938c94a17107c\n",
            "  Stored in directory: /root/.cache/pip/wheels/15/27/f5/a8ab9da52fd159aae6477b5ede6eaaec69fd130fa0fa59f283\n",
            "Successfully built requirements-parser shap\n",
            "\u001b[31mERROR: tensorflow 2.5.0 has requirement numpy~=1.19.2, but you'll have numpy 1.21.0 which is incompatible.\u001b[0m\n",
            "\u001b[31mERROR: google-colab 1.0.0 has requirement pandas~=1.1.0; python_version >= \"3.0\", but you'll have pandas 1.3.0 which is incompatible.\u001b[0m\n",
            "\u001b[31mERROR: distributed 2021.7.0 has requirement dask==2021.07.0, but you'll have dask 2.12.0 which is incompatible.\u001b[0m\n",
            "\u001b[31mERROR: datascience 0.10.6 has requirement folium==0.2.1, but you'll have folium 0.8.3 which is incompatible.\u001b[0m\n",
            "\u001b[31mERROR: albumentations 0.1.12 has requirement imgaug<0.2.7,>=0.2.5, but you'll have imgaug 0.2.9 which is incompatible.\u001b[0m\n",
            "\u001b[31mERROR: woodwork 0.4.2 has requirement pandas<1.2.5,>=1.2.0, but you'll have pandas 1.3.0 which is incompatible.\u001b[0m\n",
            "Installing collected packages: cloudpickle, colorama, numpy, threadpoolctl, scikit-learn, pandas, woodwork, pyyaml, pyaml, scikit-optimize, requirements-parser, xgboost, nltk, psutil, distributed, featuretools, nlp-primitives, lightgbm, Cython, statsmodels, pmdarima, texttable, slicer, shap, kaleido, imbalanced-learn, sktime, tenacity, plotly, graphviz, matplotlib, catboost, category-encoders, evalml\n",
            "  Found existing installation: cloudpickle 1.3.0\n",
            "    Uninstalling cloudpickle-1.3.0:\n",
            "      Successfully uninstalled cloudpickle-1.3.0\n",
            "  Found existing installation: numpy 1.19.5\n",
            "    Uninstalling numpy-1.19.5:\n",
            "      Successfully uninstalled numpy-1.19.5\n",
            "  Found existing installation: scikit-learn 0.22.2.post1\n",
            "    Uninstalling scikit-learn-0.22.2.post1:\n",
            "      Successfully uninstalled scikit-learn-0.22.2.post1\n",
            "  Found existing installation: pandas 1.1.5\n",
            "    Uninstalling pandas-1.1.5:\n",
            "      Successfully uninstalled pandas-1.1.5\n",
            "  Found existing installation: PyYAML 3.13\n",
            "    Uninstalling PyYAML-3.13:\n",
            "      Successfully uninstalled PyYAML-3.13\n",
            "  Found existing installation: xgboost 0.90\n",
            "    Uninstalling xgboost-0.90:\n",
            "      Successfully uninstalled xgboost-0.90\n",
            "  Found existing installation: nltk 3.2.5\n",
            "    Uninstalling nltk-3.2.5:\n",
            "      Successfully uninstalled nltk-3.2.5\n",
            "  Found existing installation: psutil 5.4.8\n",
            "    Uninstalling psutil-5.4.8:\n",
            "      Successfully uninstalled psutil-5.4.8\n",
            "  Found existing installation: distributed 1.25.3\n",
            "    Uninstalling distributed-1.25.3:\n",
            "      Successfully uninstalled distributed-1.25.3\n",
            "  Found existing installation: lightgbm 2.2.3\n",
            "    Uninstalling lightgbm-2.2.3:\n",
            "      Successfully uninstalled lightgbm-2.2.3\n",
            "  Found existing installation: Cython 0.29.23\n",
            "    Uninstalling Cython-0.29.23:\n",
            "      Successfully uninstalled Cython-0.29.23\n",
            "  Found existing installation: statsmodels 0.10.2\n",
            "    Uninstalling statsmodels-0.10.2:\n",
            "      Successfully uninstalled statsmodels-0.10.2\n",
            "  Found existing installation: imbalanced-learn 0.4.3\n",
            "    Uninstalling imbalanced-learn-0.4.3:\n",
            "      Successfully uninstalled imbalanced-learn-0.4.3\n",
            "  Found existing installation: plotly 4.4.1\n",
            "    Uninstalling plotly-4.4.1:\n",
            "      Successfully uninstalled plotly-4.4.1\n",
            "  Found existing installation: graphviz 0.10.1\n",
            "    Uninstalling graphviz-0.10.1:\n",
            "      Successfully uninstalled graphviz-0.10.1\n",
            "  Found existing installation: matplotlib 3.2.2\n",
            "    Uninstalling matplotlib-3.2.2:\n",
            "      Successfully uninstalled matplotlib-3.2.2\n",
            "Successfully installed Cython-0.29.17 catboost-0.26 category-encoders-2.2.2 cloudpickle-1.6.0 colorama-0.4.4 distributed-2021.7.0 evalml-0.28.0 featuretools-0.26.0 graphviz-0.17 imbalanced-learn-0.8.0 kaleido-0.2.1 lightgbm-3.2.1 matplotlib-3.4.2 nlp-primitives-1.1.0 nltk-3.6.2 numpy-1.21.0 pandas-1.3.0 plotly-5.1.0 pmdarima-1.8.0 psutil-5.8.0 pyaml-20.4.0 pyyaml-5.4.1 requirements-parser-0.2.0 scikit-learn-0.24.2 scikit-optimize-0.8.1 shap-0.39.0 sktime-0.7.0 slicer-0.0.7 statsmodels-0.12.2 tenacity-8.0.1 texttable-1.6.4 threadpoolctl-2.2.0 woodwork-0.4.2 xgboost-1.2.1\n"
          ],
          "name": "stdout"
        },
        {
          "output_type": "display_data",
          "data": {
            "application/vnd.colab-display-data+json": {
              "pip_warning": {
                "packages": [
                  "matplotlib",
                  "mpl_toolkits",
                  "numpy",
                  "pandas",
                  "psutil",
                  "statsmodels"
                ]
              }
            }
          },
          "metadata": {
            "tags": []
          }
        }
      ]
    },
    {
      "cell_type": "code",
      "metadata": {
        "colab": {
          "base_uri": "https://localhost:8080/"
        },
        "id": "6hE_dJyaD5Oj",
        "outputId": "1a3cd84d-268b-496f-c3e5-70d946ac0587"
      },
      "source": [
        "!python -m pip install dask[dataframe] --upgrade"
      ],
      "execution_count": 1,
      "outputs": [
        {
          "output_type": "stream",
          "text": [
            "Collecting dask[dataframe]\n",
            "\u001b[?25l  Downloading https://files.pythonhosted.org/packages/a9/22/c99e0377c0b8d4679ae93d7d495349333c8b1455938c528eb9f66b850b04/dask-2021.7.0-py3-none-any.whl (977kB)\n",
            "\u001b[K     |████████████████████████████████| 983kB 4.2MB/s \n",
            "\u001b[?25hRequirement already satisfied, skipping upgrade: toolz>=0.8.2 in /usr/local/lib/python3.7/dist-packages (from dask[dataframe]) (0.11.1)\n",
            "Collecting fsspec>=0.6.0\n",
            "\u001b[?25l  Downloading https://files.pythonhosted.org/packages/40/e1/7111d8afc76ee3171f4f99592cd29bac9d233ae1aa34623011506f955434/fsspec-2021.7.0-py3-none-any.whl (118kB)\n",
            "\u001b[K     |████████████████████████████████| 122kB 14.5MB/s \n",
            "\u001b[?25hRequirement already satisfied, skipping upgrade: cloudpickle>=1.1.1 in /usr/local/lib/python3.7/dist-packages (from dask[dataframe]) (1.6.0)\n",
            "Requirement already satisfied, skipping upgrade: pyyaml in /usr/local/lib/python3.7/dist-packages (from dask[dataframe]) (5.4.1)\n",
            "Collecting partd>=0.3.10\n",
            "  Downloading https://files.pythonhosted.org/packages/41/94/360258a68b55f47859d72b2d0b2b3cfe0ca4fbbcb81b78812bd00ae86b7c/partd-1.2.0-py3-none-any.whl\n",
            "Requirement already satisfied, skipping upgrade: numpy>=1.16; extra == \"dataframe\" in /usr/local/lib/python3.7/dist-packages (from dask[dataframe]) (1.21.0)\n",
            "Requirement already satisfied, skipping upgrade: pandas>=0.25.0; extra == \"dataframe\" in /usr/local/lib/python3.7/dist-packages (from dask[dataframe]) (1.3.0)\n",
            "Collecting locket\n",
            "  Downloading https://files.pythonhosted.org/packages/50/b8/e789e45b9b9c2db75e9d9e6ceb022c8d1d7e49b2c085ce8c05600f90a96b/locket-0.2.1-py2.py3-none-any.whl\n",
            "Requirement already satisfied, skipping upgrade: pytz>=2017.3 in /usr/local/lib/python3.7/dist-packages (from pandas>=0.25.0; extra == \"dataframe\"->dask[dataframe]) (2018.9)\n",
            "Requirement already satisfied, skipping upgrade: python-dateutil>=2.7.3 in /usr/local/lib/python3.7/dist-packages (from pandas>=0.25.0; extra == \"dataframe\"->dask[dataframe]) (2.8.1)\n",
            "Requirement already satisfied, skipping upgrade: six>=1.5 in /usr/local/lib/python3.7/dist-packages (from python-dateutil>=2.7.3->pandas>=0.25.0; extra == \"dataframe\"->dask[dataframe]) (1.15.0)\n",
            "Installing collected packages: fsspec, locket, partd, dask\n",
            "  Found existing installation: dask 2.12.0\n",
            "    Uninstalling dask-2.12.0:\n",
            "      Successfully uninstalled dask-2.12.0\n",
            "Successfully installed dask-2021.7.0 fsspec-2021.7.0 locket-0.2.1 partd-1.2.0\n"
          ],
          "name": "stdout"
        }
      ]
    },
    {
      "cell_type": "code",
      "metadata": {
        "id": "xJAm8ev5-VuL"
      },
      "source": [
        "# for feature in market.columns:\n",
        "#     if market[feature].dtype not in ['int64', 'float64']:\n",
        "#         print(f'{feature}: {market[feature].unique()}')"
      ],
      "execution_count": 3,
      "outputs": []
    },
    {
      "cell_type": "code",
      "metadata": {
        "id": "IyE5GpxW-hRH"
      },
      "source": [
        "import evalml\n",
        "from evalml import AutoMLSearch"
      ],
      "execution_count": 2,
      "outputs": []
    },
    {
      "cell_type": "code",
      "metadata": {
        "id": "gcv6o2sjJvv7"
      },
      "source": [
        "from evalml.utils import infer_feature_types"
      ],
      "execution_count": 3,
      "outputs": []
    },
    {
      "cell_type": "code",
      "metadata": {
        "id": "yxZCqb_wGX7F"
      },
      "source": [
        "# Filling NA values with median\n",
        "# market = market.fillna(market.median())\n",
        "# import numpy as np"
      ],
      "execution_count": null,
      "outputs": []
    },
    {
      "cell_type": "code",
      "metadata": {
        "id": "0bOPNR0zLafc"
      },
      "source": [
        "#from evalml.preprocessing import load_data\n",
        "\n",
        "\n",
        "# def load_market(n_rows=None, verbose=True):\n",
        "#     \"\"\"Load market_segementation dataset.\n",
        "#        this dataset can be used for binary classification problems.\n",
        "\n",
        "#     Arguments:\n",
        "#         n_rows (int): Number of rows from the dataset to return\n",
        "#         verbose (bool): Whether to print information about features and labels\n",
        "\n",
        "#     Returns:\n",
        "#         (pd.Dataframe, pd.Series): X and y\n",
        "#     \"\"\"\n",
        "#     market_seg_path = ('/content/market_seg.csv'\n",
        "        \n",
        "#         + evalml.__version__\n",
        "#     )\n",
        "\n",
        "#     X, y = load_data(\n",
        "#         path=market_seg_path,\n",
        "#         index=\"id\",\n",
        "#         target=\"market\",\n",
        "#         compression=\"gzip\",\n",
        "#         n_rows=n_rows,\n",
        "#         verbose=verbose,\n",
        "#     )\n",
        "#     X.ww.set_types(logical_types={\"provider\": \"Categorical\", \"region\": \"Categorical\"})\n",
        "#     return X, y"
      ],
      "execution_count": null,
      "outputs": []
    },
    {
      "cell_type": "code",
      "metadata": {
        "colab": {
          "base_uri": "https://localhost:8080/"
        },
        "id": "rGmLWergRMuP",
        "outputId": "6d2e1985-1e42-44b0-9e81-226e6604737f"
      },
      "source": [
        "#load_market"
      ],
      "execution_count": null,
      "outputs": [
        {
          "output_type": "execute_result",
          "data": {
            "text/plain": [
              "<function __main__.load_market>"
            ]
          },
          "metadata": {
            "tags": []
          },
          "execution_count": 18
        }
      ]
    },
    {
      "cell_type": "code",
      "metadata": {
        "id": "2a5DNx3lYiIt"
      },
      "source": [
        "import os\n",
        "from tensorflow import keras\n",
        "from tensorflow.keras import layers\n",
        "import tensorflow as tf\n",
        "import tensorflow.keras.preprocessing as dir"
      ],
      "execution_count": 4,
      "outputs": []
    },
    {
      "cell_type": "code",
      "metadata": {
        "id": "PYLl03dpTVT9"
      },
      "source": [
        "from sklearn.model_selection import train_test_split\n",
        "import pandas as pd\n"
      ],
      "execution_count": 5,
      "outputs": []
    },
    {
      "cell_type": "code",
      "metadata": {
        "id": "IQx3LXmUYnED",
        "colab": {
          "base_uri": "https://localhost:8080/"
        },
        "outputId": "a70a50a2-6f25-48f7-c70e-45be5982d96c"
      },
      "source": [
        "# Loading training dataset(BSD500)\n",
        "#market = tf.keras.utils.get_file(\n",
        "    # \"Online Retail\",\n",
        "    # \"http://archive.ics.uci.edu/ml/machine-learning-databases/00502/\",\n",
        "    #  untar=True)"
      ],
      "execution_count": null,
      "outputs": [
        {
          "output_type": "stream",
          "text": [
            "Downloading data from http://archive.ics.uci.edu/ml/machine-learning-databases/00502/\n",
            "8192/536 [==========================================================================================================================================================================================================================================================================================================================================================================================================================================================================] - 0s 0us/step\n"
          ],
          "name": "stdout"
        }
      ]
    },
    {
      "cell_type": "code",
      "metadata": {
        "id": "I0wjNgxhaDfy",
        "colab": {
          "base_uri": "https://localhost:8080/",
          "height": 167
        },
        "outputId": "10b8d517-278c-4f94-fa6e-3c3298b4291d"
      },
      "source": [
        "#cap = os.path.join(train_dataset,\"/content/companies_market_cap.csv\")"
      ],
      "execution_count": null,
      "outputs": [
        {
          "output_type": "error",
          "ename": "NameError",
          "evalue": "ignored",
          "traceback": [
            "\u001b[0;31m---------------------------------------------------------------------------\u001b[0m",
            "\u001b[0;31mNameError\u001b[0m                                 Traceback (most recent call last)",
            "\u001b[0;32m<ipython-input-12-24ceb7351d24>\u001b[0m in \u001b[0;36m<module>\u001b[0;34m()\u001b[0m\n\u001b[0;32m----> 1\u001b[0;31m \u001b[0mcap\u001b[0m \u001b[0;34m=\u001b[0m \u001b[0mos\u001b[0m\u001b[0;34m.\u001b[0m\u001b[0mpath\u001b[0m\u001b[0;34m.\u001b[0m\u001b[0mjoin\u001b[0m\u001b[0;34m(\u001b[0m\u001b[0mtrain_dataset\u001b[0m\u001b[0;34m,\u001b[0m\u001b[0;34m\"/content/companies_market_cap.csv\"\u001b[0m\u001b[0;34m)\u001b[0m\u001b[0;34m\u001b[0m\u001b[0;34m\u001b[0m\u001b[0m\n\u001b[0m",
            "\u001b[0;31mNameError\u001b[0m: name 'train_dataset' is not defined"
          ]
        }
      ]
    },
    {
      "cell_type": "code",
      "metadata": {
        "id": "sztjLbQGaXHw"
      },
      "source": [
        "# retail = pd.read_csv('Online Retail.csv')\n",
        "# #retail.head(5)"
      ],
      "execution_count": null,
      "outputs": []
    },
    {
      "cell_type": "code",
      "metadata": {
        "colab": {
          "base_uri": "https://localhost:8080/",
          "height": 589
        },
        "id": "BB6QGb32g-Ww",
        "outputId": "240f05d7-7d53-4070-cf35-112a754b2508"
      },
      "source": [
        "# customerid=retail[pd.isnull(retail['CustomerID'])]\n"
      ],
      "execution_count": null,
      "outputs": [
        {
          "output_type": "execute_result",
          "data": {
            "text/html": [
              "<div>\n",
              "<style scoped>\n",
              "    .dataframe tbody tr th:only-of-type {\n",
              "        vertical-align: middle;\n",
              "    }\n",
              "\n",
              "    .dataframe tbody tr th {\n",
              "        vertical-align: top;\n",
              "    }\n",
              "\n",
              "    .dataframe thead th {\n",
              "        text-align: right;\n",
              "    }\n",
              "</style>\n",
              "<table border=\"1\" class=\"dataframe\">\n",
              "  <thead>\n",
              "    <tr style=\"text-align: right;\">\n",
              "      <th></th>\n",
              "      <th>InvoiceNo</th>\n",
              "      <th>StockCode</th>\n",
              "      <th>Description</th>\n",
              "      <th>Quantity</th>\n",
              "      <th>InvoiceDate</th>\n",
              "      <th>UnitPrice</th>\n",
              "      <th>CustomerID</th>\n",
              "      <th>Country</th>\n",
              "    </tr>\n",
              "  </thead>\n",
              "  <tbody>\n",
              "    <tr>\n",
              "      <th>622</th>\n",
              "      <td>536414</td>\n",
              "      <td>22139</td>\n",
              "      <td>NaN</td>\n",
              "      <td>56</td>\n",
              "      <td>01/12/2010 11:52</td>\n",
              "      <td>0.00</td>\n",
              "      <td>NaN</td>\n",
              "      <td>United Kingdom</td>\n",
              "    </tr>\n",
              "    <tr>\n",
              "      <th>1443</th>\n",
              "      <td>536544</td>\n",
              "      <td>21773</td>\n",
              "      <td>DECORATIVE ROSE BATHROOM BOTTLE</td>\n",
              "      <td>1</td>\n",
              "      <td>01/12/2010 14:32</td>\n",
              "      <td>2.51</td>\n",
              "      <td>NaN</td>\n",
              "      <td>United Kingdom</td>\n",
              "    </tr>\n",
              "    <tr>\n",
              "      <th>1444</th>\n",
              "      <td>536544</td>\n",
              "      <td>21774</td>\n",
              "      <td>DECORATIVE CATS BATHROOM BOTTLE</td>\n",
              "      <td>2</td>\n",
              "      <td>01/12/2010 14:32</td>\n",
              "      <td>2.51</td>\n",
              "      <td>NaN</td>\n",
              "      <td>United Kingdom</td>\n",
              "    </tr>\n",
              "    <tr>\n",
              "      <th>1445</th>\n",
              "      <td>536544</td>\n",
              "      <td>21786</td>\n",
              "      <td>POLKADOT RAIN HAT</td>\n",
              "      <td>4</td>\n",
              "      <td>01/12/2010 14:32</td>\n",
              "      <td>0.85</td>\n",
              "      <td>NaN</td>\n",
              "      <td>United Kingdom</td>\n",
              "    </tr>\n",
              "    <tr>\n",
              "      <th>1446</th>\n",
              "      <td>536544</td>\n",
              "      <td>21787</td>\n",
              "      <td>RAIN PONCHO RETROSPOT</td>\n",
              "      <td>2</td>\n",
              "      <td>01/12/2010 14:32</td>\n",
              "      <td>1.66</td>\n",
              "      <td>NaN</td>\n",
              "      <td>United Kingdom</td>\n",
              "    </tr>\n",
              "    <tr>\n",
              "      <th>...</th>\n",
              "      <td>...</td>\n",
              "      <td>...</td>\n",
              "      <td>...</td>\n",
              "      <td>...</td>\n",
              "      <td>...</td>\n",
              "      <td>...</td>\n",
              "      <td>...</td>\n",
              "      <td>...</td>\n",
              "    </tr>\n",
              "    <tr>\n",
              "      <th>541536</th>\n",
              "      <td>581498</td>\n",
              "      <td>85099B</td>\n",
              "      <td>JUMBO BAG RED RETROSPOT</td>\n",
              "      <td>5</td>\n",
              "      <td>09/12/2011 10:26</td>\n",
              "      <td>4.13</td>\n",
              "      <td>NaN</td>\n",
              "      <td>United Kingdom</td>\n",
              "    </tr>\n",
              "    <tr>\n",
              "      <th>541537</th>\n",
              "      <td>581498</td>\n",
              "      <td>85099C</td>\n",
              "      <td>JUMBO  BAG BAROQUE BLACK WHITE</td>\n",
              "      <td>4</td>\n",
              "      <td>09/12/2011 10:26</td>\n",
              "      <td>4.13</td>\n",
              "      <td>NaN</td>\n",
              "      <td>United Kingdom</td>\n",
              "    </tr>\n",
              "    <tr>\n",
              "      <th>541538</th>\n",
              "      <td>581498</td>\n",
              "      <td>85150</td>\n",
              "      <td>LADIES &amp; GENTLEMEN METAL SIGN</td>\n",
              "      <td>1</td>\n",
              "      <td>09/12/2011 10:26</td>\n",
              "      <td>4.96</td>\n",
              "      <td>NaN</td>\n",
              "      <td>United Kingdom</td>\n",
              "    </tr>\n",
              "    <tr>\n",
              "      <th>541539</th>\n",
              "      <td>581498</td>\n",
              "      <td>85174</td>\n",
              "      <td>S/4 CACTI CANDLES</td>\n",
              "      <td>1</td>\n",
              "      <td>09/12/2011 10:26</td>\n",
              "      <td>10.79</td>\n",
              "      <td>NaN</td>\n",
              "      <td>United Kingdom</td>\n",
              "    </tr>\n",
              "    <tr>\n",
              "      <th>541540</th>\n",
              "      <td>581498</td>\n",
              "      <td>DOT</td>\n",
              "      <td>DOTCOM POSTAGE</td>\n",
              "      <td>1</td>\n",
              "      <td>09/12/2011 10:26</td>\n",
              "      <td>1714.17</td>\n",
              "      <td>NaN</td>\n",
              "      <td>United Kingdom</td>\n",
              "    </tr>\n",
              "  </tbody>\n",
              "</table>\n",
              "<p>135080 rows × 8 columns</p>\n",
              "</div>"
            ],
            "text/plain": [
              "       InvoiceNo StockCode  ... CustomerID         Country\n",
              "622       536414     22139  ...        NaN  United Kingdom\n",
              "1443      536544     21773  ...        NaN  United Kingdom\n",
              "1444      536544     21774  ...        NaN  United Kingdom\n",
              "1445      536544     21786  ...        NaN  United Kingdom\n",
              "1446      536544     21787  ...        NaN  United Kingdom\n",
              "...          ...       ...  ...        ...             ...\n",
              "541536    581498    85099B  ...        NaN  United Kingdom\n",
              "541537    581498    85099C  ...        NaN  United Kingdom\n",
              "541538    581498     85150  ...        NaN  United Kingdom\n",
              "541539    581498     85174  ...        NaN  United Kingdom\n",
              "541540    581498       DOT  ...        NaN  United Kingdom\n",
              "\n",
              "[135080 rows x 8 columns]"
            ]
          },
          "metadata": {
            "tags": []
          },
          "execution_count": 71
        }
      ]
    },
    {
      "cell_type": "markdown",
      "metadata": {
        "id": "3ydz6BgWpOaA"
      },
      "source": [
        "Temp is a label to predict temperatures in y; we use the drop() function to take all other data in x. Then, we split the data."
      ]
    },
    {
      "cell_type": "code",
      "metadata": {
        "colab": {
          "base_uri": "https://localhost:8080/"
        },
        "id": "hDCjccCix58F",
        "outputId": "1eb67f1a-ea14-419e-c620-c0d0e83f524a"
      },
      "source": [
        "# for feature in retail.columns:\n",
        "#     if retail[feature].dtype not in ['int64', 'float64']:\n",
        "#         print(f'{feature}: {retail[feature].unique()}')"
      ],
      "execution_count": null,
      "outputs": [
        {
          "output_type": "stream",
          "text": [
            "InvoiceNo: ['536365' '536366' '536367' ... '581585' '581586' '581587']\n",
            "StockCode: ['85123A' '71053' '84406B' ... '90214U' '47591b' '23843']\n",
            "Description: ['WHITE HANGING HEART T-LIGHT HOLDER' 'WHITE METAL LANTERN'\n",
            " 'CREAM CUPID HEARTS COAT HANGER' ... 'lost'\n",
            " 'CREAM HANGING HEART T-LIGHT HOLDER' 'PAPER CRAFT , LITTLE BIRDIE']\n",
            "InvoiceDate: ['01/12/2010 08:26' '01/12/2010 08:28' '01/12/2010 08:34' ...\n",
            " '09/12/2011 12:31' '09/12/2011 12:49' '09/12/2011 12:50']\n",
            "Country: ['United Kingdom' 'France' 'Australia' 'Netherlands' 'Germany' 'Norway'\n",
            " 'EIRE' 'Switzerland' 'Spain' 'Poland' 'Portugal' 'Italy' 'Belgium'\n",
            " 'Lithuania' 'Japan' 'Iceland' 'Channel Islands' 'Denmark' 'Cyprus'\n",
            " 'Sweden' 'Austria' 'Israel' 'Finland' 'Bahrain' 'Greece' 'Hong Kong'\n",
            " 'Singapore' 'Lebanon' 'United Arab Emirates' 'Saudi Arabia'\n",
            " 'Czech Republic' 'Canada' 'Unspecified' 'Brazil' 'USA'\n",
            " 'European Community' 'Malta' 'RSA']\n"
          ],
          "name": "stdout"
        }
      ]
    },
    {
      "cell_type": "code",
      "metadata": {
        "id": "cHBelViAyZk5"
      },
      "source": [
        "#retail = retail.fillna(retail.median())"
      ],
      "execution_count": null,
      "outputs": []
    },
    {
      "cell_type": "code",
      "metadata": {
        "id": "h5s5QlXkdK3G"
      },
      "source": [
        "# ##y=retail['Country']         #https://data-flair.training/blogs/train-test-set-in-python-ml/\n",
        "# x=retail.drop('Country',axis=1)"
      ],
      "execution_count": null,
      "outputs": []
    },
    {
      "cell_type": "code",
      "metadata": {
        "id": "KNe_x4RkxEMY"
      },
      "source": [
        "#Evalml_rfm =pd.read_csv('/content/Evalml_rfm .csv')"
      ],
      "execution_count": 33,
      "outputs": []
    },
    {
      "cell_type": "code",
      "metadata": {
        "colab": {
          "base_uri": "https://localhost:8080/"
        },
        "id": "GjJf3WTo1Wug",
        "outputId": "92a4938f-8a1e-49ba-a449-2668f2bc1d8c"
      },
      "source": [
        "new_market = pd.read_csv('/content/new_market.csv')"
      ],
      "execution_count": 6,
      "outputs": [
        {
          "output_type": "stream",
          "text": [
            "Columns (0) have mixed types.Specify dtype option on import or set low_memory=False.\n"
          ],
          "name": "stderr"
        }
      ]
    },
    {
      "cell_type": "code",
      "metadata": {
        "colab": {
          "base_uri": "https://localhost:8080/",
          "height": 967
        },
        "id": "j8vQgzIz1jLd",
        "outputId": "f96e357c-be42-494b-d9c0-67ed93436871"
      },
      "source": [
        "new_market"
      ],
      "execution_count": 7,
      "outputs": [
        {
          "output_type": "execute_result",
          "data": {
            "text/html": [
              "<div>\n",
              "<style scoped>\n",
              "    .dataframe tbody tr th:only-of-type {\n",
              "        vertical-align: middle;\n",
              "    }\n",
              "\n",
              "    .dataframe tbody tr th {\n",
              "        vertical-align: top;\n",
              "    }\n",
              "\n",
              "    .dataframe thead th {\n",
              "        text-align: right;\n",
              "    }\n",
              "</style>\n",
              "<table border=\"1\" class=\"dataframe\">\n",
              "  <thead>\n",
              "    <tr style=\"text-align: right;\">\n",
              "      <th></th>\n",
              "      <th>Unnamed: 0</th>\n",
              "      <th>InvoiceNo</th>\n",
              "      <th>StockCode</th>\n",
              "      <th>Description</th>\n",
              "      <th>Quantity</th>\n",
              "      <th>InvoiceDate</th>\n",
              "      <th>UnitPrice</th>\n",
              "      <th>CustomerID</th>\n",
              "      <th>Country</th>\n",
              "      <th>S.No</th>\n",
              "      <th>Company</th>\n",
              "      <th>Sector</th>\n",
              "      <th>Market cap ($bn)</th>\n",
              "      <th>Market cap added</th>\n",
              "      <th>Change</th>\n",
              "      <th>Amount</th>\n",
              "      <th>Class</th>\n",
              "      <th>Diff</th>\n",
              "      <th>Recency</th>\n",
              "    </tr>\n",
              "  </thead>\n",
              "  <tbody>\n",
              "    <tr>\n",
              "      <th>0</th>\n",
              "      <td>0</td>\n",
              "      <td>536370</td>\n",
              "      <td>22728</td>\n",
              "      <td>ALARM CLOCK BAKELIKE PINK</td>\n",
              "      <td>24.0</td>\n",
              "      <td>2010-12-01 08:45:00</td>\n",
              "      <td>3.75</td>\n",
              "      <td>12583.0</td>\n",
              "      <td>France</td>\n",
              "      <td>75.0</td>\n",
              "      <td>Hermès International</td>\n",
              "      <td>Consumer discretionary</td>\n",
              "      <td>88.2</td>\n",
              "      <td>10.6</td>\n",
              "      <td>13.7</td>\n",
              "      <td>90.00</td>\n",
              "      <td>Consumer discretionaryHermès International</td>\n",
              "      <td>373 days 04:05:00</td>\n",
              "      <td>373 days 04:05:00</td>\n",
              "    </tr>\n",
              "    <tr>\n",
              "      <th>1</th>\n",
              "      <td>1</td>\n",
              "      <td>536370</td>\n",
              "      <td>22728</td>\n",
              "      <td>ALARM CLOCK BAKELIKE PINK</td>\n",
              "      <td>24.0</td>\n",
              "      <td>2010-12-01 08:45:00</td>\n",
              "      <td>3.75</td>\n",
              "      <td>12583.0</td>\n",
              "      <td>France</td>\n",
              "      <td>95.0</td>\n",
              "      <td>L'Oréal</td>\n",
              "      <td>Consumer staples</td>\n",
              "      <td>173.4</td>\n",
              "      <td>8.8</td>\n",
              "      <td>5.3</td>\n",
              "      <td>90.00</td>\n",
              "      <td>Consumer staplesL'Oréal</td>\n",
              "      <td>373 days 04:05:00</td>\n",
              "      <td>373 days 04:05:00</td>\n",
              "    </tr>\n",
              "    <tr>\n",
              "      <th>2</th>\n",
              "      <td>2</td>\n",
              "      <td>536370</td>\n",
              "      <td>22727</td>\n",
              "      <td>ALARM CLOCK BAKELIKE RED</td>\n",
              "      <td>24.0</td>\n",
              "      <td>2010-12-01 08:45:00</td>\n",
              "      <td>3.75</td>\n",
              "      <td>12583.0</td>\n",
              "      <td>France</td>\n",
              "      <td>75.0</td>\n",
              "      <td>Hermès International</td>\n",
              "      <td>Consumer discretionary</td>\n",
              "      <td>88.2</td>\n",
              "      <td>10.6</td>\n",
              "      <td>13.7</td>\n",
              "      <td>90.00</td>\n",
              "      <td>Consumer discretionaryHermès International</td>\n",
              "      <td>373 days 04:05:00</td>\n",
              "      <td>373 days 04:05:00</td>\n",
              "    </tr>\n",
              "    <tr>\n",
              "      <th>3</th>\n",
              "      <td>3</td>\n",
              "      <td>536370</td>\n",
              "      <td>22727</td>\n",
              "      <td>ALARM CLOCK BAKELIKE RED</td>\n",
              "      <td>24.0</td>\n",
              "      <td>2010-12-01 08:45:00</td>\n",
              "      <td>3.75</td>\n",
              "      <td>12583.0</td>\n",
              "      <td>France</td>\n",
              "      <td>95.0</td>\n",
              "      <td>L'Oréal</td>\n",
              "      <td>Consumer staples</td>\n",
              "      <td>173.4</td>\n",
              "      <td>8.8</td>\n",
              "      <td>5.3</td>\n",
              "      <td>90.00</td>\n",
              "      <td>Consumer staplesL'Oréal</td>\n",
              "      <td>373 days 04:05:00</td>\n",
              "      <td>373 days 04:05:00</td>\n",
              "    </tr>\n",
              "    <tr>\n",
              "      <th>4</th>\n",
              "      <td>4</td>\n",
              "      <td>536370</td>\n",
              "      <td>22726</td>\n",
              "      <td>ALARM CLOCK BAKELIKE GREEN</td>\n",
              "      <td>12.0</td>\n",
              "      <td>2010-12-01 08:45:00</td>\n",
              "      <td>3.75</td>\n",
              "      <td>12583.0</td>\n",
              "      <td>France</td>\n",
              "      <td>75.0</td>\n",
              "      <td>Hermès International</td>\n",
              "      <td>Consumer discretionary</td>\n",
              "      <td>88.2</td>\n",
              "      <td>10.6</td>\n",
              "      <td>13.7</td>\n",
              "      <td>45.00</td>\n",
              "      <td>Consumer discretionaryHermès International</td>\n",
              "      <td>373 days 04:05:00</td>\n",
              "      <td>373 days 04:05:00</td>\n",
              "    </tr>\n",
              "    <tr>\n",
              "      <th>...</th>\n",
              "      <td>...</td>\n",
              "      <td>...</td>\n",
              "      <td>...</td>\n",
              "      <td>...</td>\n",
              "      <td>...</td>\n",
              "      <td>...</td>\n",
              "      <td>...</td>\n",
              "      <td>...</td>\n",
              "      <td>...</td>\n",
              "      <td>...</td>\n",
              "      <td>...</td>\n",
              "      <td>...</td>\n",
              "      <td>...</td>\n",
              "      <td>...</td>\n",
              "      <td>...</td>\n",
              "      <td>...</td>\n",
              "      <td>...</td>\n",
              "      <td>...</td>\n",
              "      <td>...</td>\n",
              "    </tr>\n",
              "    <tr>\n",
              "      <th>47825</th>\n",
              "      <td>48620</td>\n",
              "      <td>564428</td>\n",
              "      <td>23296</td>\n",
              "      <td>SET OF 6 TEA TIME BAKING CASES</td>\n",
              "      <td>8.0</td>\n",
              "      <td>2011-08-25 11:27:00</td>\n",
              "      <td>1.25</td>\n",
              "      <td>17844.0</td>\n",
              "      <td>Canada</td>\n",
              "      <td>87.0</td>\n",
              "      <td>Lululemon Athletica</td>\n",
              "      <td>Consumer discretionary</td>\n",
              "      <td>39.5</td>\n",
              "      <td>9.4</td>\n",
              "      <td>31.0</td>\n",
              "      <td>10.00</td>\n",
              "      <td>Consumer discretionaryLululemon Athletica</td>\n",
              "      <td>106 days 01:23:00</td>\n",
              "      <td>106 days 01:23:00</td>\n",
              "    </tr>\n",
              "    <tr>\n",
              "      <th>47826</th>\n",
              "      <td>48621</td>\n",
              "      <td>564428</td>\n",
              "      <td>23294</td>\n",
              "      <td>SET OF 6 SNACK LOAF BAKING CASES</td>\n",
              "      <td>8.0</td>\n",
              "      <td>2011-08-25 11:27:00</td>\n",
              "      <td>0.83</td>\n",
              "      <td>17844.0</td>\n",
              "      <td>Canada</td>\n",
              "      <td>14.0</td>\n",
              "      <td>Shopify</td>\n",
              "      <td>Technology</td>\n",
              "      <td>97.6</td>\n",
              "      <td>51.5</td>\n",
              "      <td>111.7</td>\n",
              "      <td>6.64</td>\n",
              "      <td>TechnologyShopify</td>\n",
              "      <td>106 days 01:23:00</td>\n",
              "      <td>106 days 01:23:00</td>\n",
              "    </tr>\n",
              "    <tr>\n",
              "      <th>47827</th>\n",
              "      <td>48622</td>\n",
              "      <td>564428</td>\n",
              "      <td>23294</td>\n",
              "      <td>SET OF 6 SNACK LOAF BAKING CASES</td>\n",
              "      <td>8.0</td>\n",
              "      <td>2011-08-25 11:27:00</td>\n",
              "      <td>0.83</td>\n",
              "      <td>17844.0</td>\n",
              "      <td>Canada</td>\n",
              "      <td>81.0</td>\n",
              "      <td>Barrick Gold</td>\n",
              "      <td>Materials</td>\n",
              "      <td>43.1</td>\n",
              "      <td>10.1</td>\n",
              "      <td>30.7</td>\n",
              "      <td>6.64</td>\n",
              "      <td>MaterialsBarrick Gold</td>\n",
              "      <td>106 days 01:23:00</td>\n",
              "      <td>106 days 01:23:00</td>\n",
              "    </tr>\n",
              "    <tr>\n",
              "      <th>47828</th>\n",
              "      <td>48623</td>\n",
              "      <td>564428</td>\n",
              "      <td>23294</td>\n",
              "      <td>SET OF 6 SNACK LOAF BAKING CASES</td>\n",
              "      <td>8.0</td>\n",
              "      <td>2011-08-25 11:27:00</td>\n",
              "      <td>0.83</td>\n",
              "      <td>17844.0</td>\n",
              "      <td>Canada</td>\n",
              "      <td>87.0</td>\n",
              "      <td>Lululemon Athletica</td>\n",
              "      <td>Consumer discretionary</td>\n",
              "      <td>39.5</td>\n",
              "      <td>9.4</td>\n",
              "      <td>31.0</td>\n",
              "      <td>6.64</td>\n",
              "      <td>Consumer discretionaryLululemon Athletica</td>\n",
              "      <td>106 days 01:23:00</td>\n",
              "      <td>106 days 01:23:00</td>\n",
              "    </tr>\n",
              "    <tr>\n",
              "      <th>47829</th>\n",
              "      <td>Amount</td>\n",
              "      <td>NaN</td>\n",
              "      <td>NaN</td>\n",
              "      <td>NaN</td>\n",
              "      <td>NaN</td>\n",
              "      <td>NaN</td>\n",
              "      <td>NaN</td>\n",
              "      <td>NaN</td>\n",
              "      <td>NaN</td>\n",
              "      <td>NaN</td>\n",
              "      <td>NaN</td>\n",
              "      <td>NaN</td>\n",
              "      <td>NaN</td>\n",
              "      <td>NaN</td>\n",
              "      <td>NaN</td>\n",
              "      <td>NaN</td>\n",
              "      <td>NaN</td>\n",
              "      <td>NaN</td>\n",
              "      <td>NaN</td>\n",
              "    </tr>\n",
              "  </tbody>\n",
              "</table>\n",
              "<p>47830 rows × 19 columns</p>\n",
              "</div>"
            ],
            "text/plain": [
              "      Unnamed: 0 InvoiceNo  ...               Diff            Recency\n",
              "0              0    536370  ...  373 days 04:05:00  373 days 04:05:00\n",
              "1              1    536370  ...  373 days 04:05:00  373 days 04:05:00\n",
              "2              2    536370  ...  373 days 04:05:00  373 days 04:05:00\n",
              "3              3    536370  ...  373 days 04:05:00  373 days 04:05:00\n",
              "4              4    536370  ...  373 days 04:05:00  373 days 04:05:00\n",
              "...          ...       ...  ...                ...                ...\n",
              "47825      48620    564428  ...  106 days 01:23:00  106 days 01:23:00\n",
              "47826      48621    564428  ...  106 days 01:23:00  106 days 01:23:00\n",
              "47827      48622    564428  ...  106 days 01:23:00  106 days 01:23:00\n",
              "47828      48623    564428  ...  106 days 01:23:00  106 days 01:23:00\n",
              "47829     Amount       NaN  ...                NaN                NaN\n",
              "\n",
              "[47830 rows x 19 columns]"
            ]
          },
          "metadata": {
            "tags": []
          },
          "execution_count": 7
        }
      ]
    },
    {
      "cell_type": "code",
      "metadata": {
        "colab": {
          "base_uri": "https://localhost:8080/",
          "height": 414
        },
        "id": "vDyBbUdN1MOy",
        "outputId": "35049de9-8e49-4b3f-996c-af23a9a224bb"
      },
      "source": [
        "#Evalml_rfm"
      ],
      "execution_count": 132,
      "outputs": [
        {
          "output_type": "execute_result",
          "data": {
            "text/html": [
              "<div>\n",
              "<style scoped>\n",
              "    .dataframe tbody tr th:only-of-type {\n",
              "        vertical-align: middle;\n",
              "    }\n",
              "\n",
              "    .dataframe tbody tr th {\n",
              "        vertical-align: top;\n",
              "    }\n",
              "\n",
              "    .dataframe thead th {\n",
              "        text-align: right;\n",
              "    }\n",
              "</style>\n",
              "<table border=\"1\" class=\"dataframe\">\n",
              "  <thead>\n",
              "    <tr style=\"text-align: right;\">\n",
              "      <th></th>\n",
              "      <th>Unnamed: 0</th>\n",
              "      <th>CustomerID</th>\n",
              "      <th>Amount</th>\n",
              "      <th>Frequency</th>\n",
              "      <th>Class</th>\n",
              "      <th>Recency</th>\n",
              "    </tr>\n",
              "  </thead>\n",
              "  <tbody>\n",
              "    <tr>\n",
              "      <th>0</th>\n",
              "      <td>0</td>\n",
              "      <td>12357.0</td>\n",
              "      <td>18623.01</td>\n",
              "      <td>393</td>\n",
              "      <td>393</td>\n",
              "      <td>32</td>\n",
              "    </tr>\n",
              "    <tr>\n",
              "      <th>1</th>\n",
              "      <td>1</td>\n",
              "      <td>12367.0</td>\n",
              "      <td>168.90</td>\n",
              "      <td>11</td>\n",
              "      <td>11</td>\n",
              "      <td>3</td>\n",
              "    </tr>\n",
              "    <tr>\n",
              "      <th>2</th>\n",
              "      <td>2</td>\n",
              "      <td>12371.0</td>\n",
              "      <td>5663.88</td>\n",
              "      <td>189</td>\n",
              "      <td>189</td>\n",
              "      <td>44</td>\n",
              "    </tr>\n",
              "    <tr>\n",
              "      <th>3</th>\n",
              "      <td>3</td>\n",
              "      <td>12372.0</td>\n",
              "      <td>1298.04</td>\n",
              "      <td>52</td>\n",
              "      <td>52</td>\n",
              "      <td>71</td>\n",
              "    </tr>\n",
              "    <tr>\n",
              "      <th>4</th>\n",
              "      <td>4</td>\n",
              "      <td>12377.0</td>\n",
              "      <td>4884.36</td>\n",
              "      <td>231</td>\n",
              "      <td>231</td>\n",
              "      <td>314</td>\n",
              "    </tr>\n",
              "    <tr>\n",
              "      <th>...</th>\n",
              "      <td>...</td>\n",
              "      <td>...</td>\n",
              "      <td>...</td>\n",
              "      <td>...</td>\n",
              "      <td>...</td>\n",
              "      <td>...</td>\n",
              "    </tr>\n",
              "    <tr>\n",
              "      <th>241</th>\n",
              "      <td>245</td>\n",
              "      <td>16321.0</td>\n",
              "      <td>230.70</td>\n",
              "      <td>16</td>\n",
              "      <td>16</td>\n",
              "      <td>71</td>\n",
              "    </tr>\n",
              "    <tr>\n",
              "      <th>242</th>\n",
              "      <td>246</td>\n",
              "      <td>17404.0</td>\n",
              "      <td>30300.82</td>\n",
              "      <td>201</td>\n",
              "      <td>201</td>\n",
              "      <td>3</td>\n",
              "    </tr>\n",
              "    <tr>\n",
              "      <th>243</th>\n",
              "      <td>247</td>\n",
              "      <td>17443.0</td>\n",
              "      <td>1602.72</td>\n",
              "      <td>3</td>\n",
              "      <td>3</td>\n",
              "      <td>219</td>\n",
              "    </tr>\n",
              "    <tr>\n",
              "      <th>244</th>\n",
              "      <td>248</td>\n",
              "      <td>17444.0</td>\n",
              "      <td>8820.12</td>\n",
              "      <td>405</td>\n",
              "      <td>405</td>\n",
              "      <td>147</td>\n",
              "    </tr>\n",
              "    <tr>\n",
              "      <th>245</th>\n",
              "      <td>249</td>\n",
              "      <td>17844.0</td>\n",
              "      <td>154.68</td>\n",
              "      <td>15</td>\n",
              "      <td>15</td>\n",
              "      <td>106</td>\n",
              "    </tr>\n",
              "  </tbody>\n",
              "</table>\n",
              "<p>246 rows × 6 columns</p>\n",
              "</div>"
            ],
            "text/plain": [
              "     Unnamed: 0  CustomerID    Amount  Frequency Class  Recency\n",
              "0             0     12357.0  18623.01        393   393       32\n",
              "1             1     12367.0    168.90         11    11        3\n",
              "2             2     12371.0   5663.88        189   189       44\n",
              "3             3     12372.0   1298.04         52    52       71\n",
              "4             4     12377.0   4884.36        231   231      314\n",
              "..          ...         ...       ...        ...   ...      ...\n",
              "241         245     16321.0    230.70         16    16       71\n",
              "242         246     17404.0  30300.82        201   201        3\n",
              "243         247     17443.0   1602.72          3     3      219\n",
              "244         248     17444.0   8820.12        405   405      147\n",
              "245         249     17844.0    154.68         15    15      106\n",
              "\n",
              "[246 rows x 6 columns]"
            ]
          },
          "metadata": {
            "tags": []
          },
          "execution_count": 132
        }
      ]
    },
    {
      "cell_type": "code",
      "metadata": {
        "colab": {
          "base_uri": "https://localhost:8080/"
        },
        "id": "eejkpSs4u8DC",
        "outputId": "b1f9169b-a4d7-425f-c3cb-0326b82c9bbb"
      },
      "source": [
        "#Evalml_rfm.Class[[89,201,231]]"
      ],
      "execution_count": 154,
      "outputs": [
        {
          "output_type": "execute_result",
          "data": {
            "text/plain": [
              "89     191\n",
              "201    554\n",
              "231     36\n",
              "Name: Class, dtype: object"
            ]
          },
          "metadata": {
            "tags": []
          },
          "execution_count": 154
        }
      ]
    },
    {
      "cell_type": "code",
      "metadata": {
        "colab": {
          "base_uri": "https://localhost:8080/"
        },
        "id": "kV61cOMFtMLe",
        "outputId": "c6389e07-067a-48dc-d425-9a2fa01a4e44"
      },
      "source": [
        "#Evalml_rfm['Class'].apply(str)"
      ],
      "execution_count": 109,
      "outputs": [
        {
          "output_type": "execute_result",
          "data": {
            "text/plain": [
              "0      393\n",
              "1       11\n",
              "2      189\n",
              "3       52\n",
              "4      231\n",
              "      ... \n",
              "241     16\n",
              "242    201\n",
              "243      3\n",
              "244    405\n",
              "245     15\n",
              "Name: Class, Length: 246, dtype: object"
            ]
          },
          "metadata": {
            "tags": []
          },
          "execution_count": 109
        }
      ]
    },
    {
      "cell_type": "code",
      "metadata": {
        "colab": {
          "base_uri": "https://localhost:8080/"
        },
        "id": "igW39clJ1-ix",
        "outputId": "d26a2fd4-0363-4272-c22b-99e05b76b8b4"
      },
      "source": [
        "new_market.isnull().sum()"
      ],
      "execution_count": 8,
      "outputs": [
        {
          "output_type": "execute_result",
          "data": {
            "text/plain": [
              "Unnamed: 0          0\n",
              "InvoiceNo           1\n",
              "StockCode           1\n",
              "Description         1\n",
              "Quantity            1\n",
              "InvoiceDate         1\n",
              "UnitPrice           1\n",
              "CustomerID          1\n",
              "Country             1\n",
              "S.No                1\n",
              "Company             1\n",
              "Sector              1\n",
              "Market cap ($bn)    1\n",
              "Market cap added    1\n",
              "Change              1\n",
              "Amount              1\n",
              "Class               1\n",
              "Diff                1\n",
              "Recency             1\n",
              "dtype: int64"
            ]
          },
          "metadata": {
            "tags": []
          },
          "execution_count": 8
        }
      ]
    },
    {
      "cell_type": "code",
      "metadata": {
        "colab": {
          "base_uri": "https://localhost:8080/",
          "height": 967
        },
        "id": "6hL8Xyy02bp7",
        "outputId": "f8c6cce4-2c4f-4f78-c1cb-c22b65e80b85"
      },
      "source": [
        "new_market.drop_duplicates()"
      ],
      "execution_count": 9,
      "outputs": [
        {
          "output_type": "execute_result",
          "data": {
            "text/html": [
              "<div>\n",
              "<style scoped>\n",
              "    .dataframe tbody tr th:only-of-type {\n",
              "        vertical-align: middle;\n",
              "    }\n",
              "\n",
              "    .dataframe tbody tr th {\n",
              "        vertical-align: top;\n",
              "    }\n",
              "\n",
              "    .dataframe thead th {\n",
              "        text-align: right;\n",
              "    }\n",
              "</style>\n",
              "<table border=\"1\" class=\"dataframe\">\n",
              "  <thead>\n",
              "    <tr style=\"text-align: right;\">\n",
              "      <th></th>\n",
              "      <th>Unnamed: 0</th>\n",
              "      <th>InvoiceNo</th>\n",
              "      <th>StockCode</th>\n",
              "      <th>Description</th>\n",
              "      <th>Quantity</th>\n",
              "      <th>InvoiceDate</th>\n",
              "      <th>UnitPrice</th>\n",
              "      <th>CustomerID</th>\n",
              "      <th>Country</th>\n",
              "      <th>S.No</th>\n",
              "      <th>Company</th>\n",
              "      <th>Sector</th>\n",
              "      <th>Market cap ($bn)</th>\n",
              "      <th>Market cap added</th>\n",
              "      <th>Change</th>\n",
              "      <th>Amount</th>\n",
              "      <th>Class</th>\n",
              "      <th>Diff</th>\n",
              "      <th>Recency</th>\n",
              "    </tr>\n",
              "  </thead>\n",
              "  <tbody>\n",
              "    <tr>\n",
              "      <th>0</th>\n",
              "      <td>0</td>\n",
              "      <td>536370</td>\n",
              "      <td>22728</td>\n",
              "      <td>ALARM CLOCK BAKELIKE PINK</td>\n",
              "      <td>24.0</td>\n",
              "      <td>2010-12-01 08:45:00</td>\n",
              "      <td>3.75</td>\n",
              "      <td>12583.0</td>\n",
              "      <td>France</td>\n",
              "      <td>75.0</td>\n",
              "      <td>Hermès International</td>\n",
              "      <td>Consumer discretionary</td>\n",
              "      <td>88.2</td>\n",
              "      <td>10.6</td>\n",
              "      <td>13.7</td>\n",
              "      <td>90.00</td>\n",
              "      <td>Consumer discretionaryHermès International</td>\n",
              "      <td>373 days 04:05:00</td>\n",
              "      <td>373 days 04:05:00</td>\n",
              "    </tr>\n",
              "    <tr>\n",
              "      <th>1</th>\n",
              "      <td>1</td>\n",
              "      <td>536370</td>\n",
              "      <td>22728</td>\n",
              "      <td>ALARM CLOCK BAKELIKE PINK</td>\n",
              "      <td>24.0</td>\n",
              "      <td>2010-12-01 08:45:00</td>\n",
              "      <td>3.75</td>\n",
              "      <td>12583.0</td>\n",
              "      <td>France</td>\n",
              "      <td>95.0</td>\n",
              "      <td>L'Oréal</td>\n",
              "      <td>Consumer staples</td>\n",
              "      <td>173.4</td>\n",
              "      <td>8.8</td>\n",
              "      <td>5.3</td>\n",
              "      <td>90.00</td>\n",
              "      <td>Consumer staplesL'Oréal</td>\n",
              "      <td>373 days 04:05:00</td>\n",
              "      <td>373 days 04:05:00</td>\n",
              "    </tr>\n",
              "    <tr>\n",
              "      <th>2</th>\n",
              "      <td>2</td>\n",
              "      <td>536370</td>\n",
              "      <td>22727</td>\n",
              "      <td>ALARM CLOCK BAKELIKE RED</td>\n",
              "      <td>24.0</td>\n",
              "      <td>2010-12-01 08:45:00</td>\n",
              "      <td>3.75</td>\n",
              "      <td>12583.0</td>\n",
              "      <td>France</td>\n",
              "      <td>75.0</td>\n",
              "      <td>Hermès International</td>\n",
              "      <td>Consumer discretionary</td>\n",
              "      <td>88.2</td>\n",
              "      <td>10.6</td>\n",
              "      <td>13.7</td>\n",
              "      <td>90.00</td>\n",
              "      <td>Consumer discretionaryHermès International</td>\n",
              "      <td>373 days 04:05:00</td>\n",
              "      <td>373 days 04:05:00</td>\n",
              "    </tr>\n",
              "    <tr>\n",
              "      <th>3</th>\n",
              "      <td>3</td>\n",
              "      <td>536370</td>\n",
              "      <td>22727</td>\n",
              "      <td>ALARM CLOCK BAKELIKE RED</td>\n",
              "      <td>24.0</td>\n",
              "      <td>2010-12-01 08:45:00</td>\n",
              "      <td>3.75</td>\n",
              "      <td>12583.0</td>\n",
              "      <td>France</td>\n",
              "      <td>95.0</td>\n",
              "      <td>L'Oréal</td>\n",
              "      <td>Consumer staples</td>\n",
              "      <td>173.4</td>\n",
              "      <td>8.8</td>\n",
              "      <td>5.3</td>\n",
              "      <td>90.00</td>\n",
              "      <td>Consumer staplesL'Oréal</td>\n",
              "      <td>373 days 04:05:00</td>\n",
              "      <td>373 days 04:05:00</td>\n",
              "    </tr>\n",
              "    <tr>\n",
              "      <th>4</th>\n",
              "      <td>4</td>\n",
              "      <td>536370</td>\n",
              "      <td>22726</td>\n",
              "      <td>ALARM CLOCK BAKELIKE GREEN</td>\n",
              "      <td>12.0</td>\n",
              "      <td>2010-12-01 08:45:00</td>\n",
              "      <td>3.75</td>\n",
              "      <td>12583.0</td>\n",
              "      <td>France</td>\n",
              "      <td>75.0</td>\n",
              "      <td>Hermès International</td>\n",
              "      <td>Consumer discretionary</td>\n",
              "      <td>88.2</td>\n",
              "      <td>10.6</td>\n",
              "      <td>13.7</td>\n",
              "      <td>45.00</td>\n",
              "      <td>Consumer discretionaryHermès International</td>\n",
              "      <td>373 days 04:05:00</td>\n",
              "      <td>373 days 04:05:00</td>\n",
              "    </tr>\n",
              "    <tr>\n",
              "      <th>...</th>\n",
              "      <td>...</td>\n",
              "      <td>...</td>\n",
              "      <td>...</td>\n",
              "      <td>...</td>\n",
              "      <td>...</td>\n",
              "      <td>...</td>\n",
              "      <td>...</td>\n",
              "      <td>...</td>\n",
              "      <td>...</td>\n",
              "      <td>...</td>\n",
              "      <td>...</td>\n",
              "      <td>...</td>\n",
              "      <td>...</td>\n",
              "      <td>...</td>\n",
              "      <td>...</td>\n",
              "      <td>...</td>\n",
              "      <td>...</td>\n",
              "      <td>...</td>\n",
              "      <td>...</td>\n",
              "    </tr>\n",
              "    <tr>\n",
              "      <th>47825</th>\n",
              "      <td>48620</td>\n",
              "      <td>564428</td>\n",
              "      <td>23296</td>\n",
              "      <td>SET OF 6 TEA TIME BAKING CASES</td>\n",
              "      <td>8.0</td>\n",
              "      <td>2011-08-25 11:27:00</td>\n",
              "      <td>1.25</td>\n",
              "      <td>17844.0</td>\n",
              "      <td>Canada</td>\n",
              "      <td>87.0</td>\n",
              "      <td>Lululemon Athletica</td>\n",
              "      <td>Consumer discretionary</td>\n",
              "      <td>39.5</td>\n",
              "      <td>9.4</td>\n",
              "      <td>31.0</td>\n",
              "      <td>10.00</td>\n",
              "      <td>Consumer discretionaryLululemon Athletica</td>\n",
              "      <td>106 days 01:23:00</td>\n",
              "      <td>106 days 01:23:00</td>\n",
              "    </tr>\n",
              "    <tr>\n",
              "      <th>47826</th>\n",
              "      <td>48621</td>\n",
              "      <td>564428</td>\n",
              "      <td>23294</td>\n",
              "      <td>SET OF 6 SNACK LOAF BAKING CASES</td>\n",
              "      <td>8.0</td>\n",
              "      <td>2011-08-25 11:27:00</td>\n",
              "      <td>0.83</td>\n",
              "      <td>17844.0</td>\n",
              "      <td>Canada</td>\n",
              "      <td>14.0</td>\n",
              "      <td>Shopify</td>\n",
              "      <td>Technology</td>\n",
              "      <td>97.6</td>\n",
              "      <td>51.5</td>\n",
              "      <td>111.7</td>\n",
              "      <td>6.64</td>\n",
              "      <td>TechnologyShopify</td>\n",
              "      <td>106 days 01:23:00</td>\n",
              "      <td>106 days 01:23:00</td>\n",
              "    </tr>\n",
              "    <tr>\n",
              "      <th>47827</th>\n",
              "      <td>48622</td>\n",
              "      <td>564428</td>\n",
              "      <td>23294</td>\n",
              "      <td>SET OF 6 SNACK LOAF BAKING CASES</td>\n",
              "      <td>8.0</td>\n",
              "      <td>2011-08-25 11:27:00</td>\n",
              "      <td>0.83</td>\n",
              "      <td>17844.0</td>\n",
              "      <td>Canada</td>\n",
              "      <td>81.0</td>\n",
              "      <td>Barrick Gold</td>\n",
              "      <td>Materials</td>\n",
              "      <td>43.1</td>\n",
              "      <td>10.1</td>\n",
              "      <td>30.7</td>\n",
              "      <td>6.64</td>\n",
              "      <td>MaterialsBarrick Gold</td>\n",
              "      <td>106 days 01:23:00</td>\n",
              "      <td>106 days 01:23:00</td>\n",
              "    </tr>\n",
              "    <tr>\n",
              "      <th>47828</th>\n",
              "      <td>48623</td>\n",
              "      <td>564428</td>\n",
              "      <td>23294</td>\n",
              "      <td>SET OF 6 SNACK LOAF BAKING CASES</td>\n",
              "      <td>8.0</td>\n",
              "      <td>2011-08-25 11:27:00</td>\n",
              "      <td>0.83</td>\n",
              "      <td>17844.0</td>\n",
              "      <td>Canada</td>\n",
              "      <td>87.0</td>\n",
              "      <td>Lululemon Athletica</td>\n",
              "      <td>Consumer discretionary</td>\n",
              "      <td>39.5</td>\n",
              "      <td>9.4</td>\n",
              "      <td>31.0</td>\n",
              "      <td>6.64</td>\n",
              "      <td>Consumer discretionaryLululemon Athletica</td>\n",
              "      <td>106 days 01:23:00</td>\n",
              "      <td>106 days 01:23:00</td>\n",
              "    </tr>\n",
              "    <tr>\n",
              "      <th>47829</th>\n",
              "      <td>Amount</td>\n",
              "      <td>NaN</td>\n",
              "      <td>NaN</td>\n",
              "      <td>NaN</td>\n",
              "      <td>NaN</td>\n",
              "      <td>NaN</td>\n",
              "      <td>NaN</td>\n",
              "      <td>NaN</td>\n",
              "      <td>NaN</td>\n",
              "      <td>NaN</td>\n",
              "      <td>NaN</td>\n",
              "      <td>NaN</td>\n",
              "      <td>NaN</td>\n",
              "      <td>NaN</td>\n",
              "      <td>NaN</td>\n",
              "      <td>NaN</td>\n",
              "      <td>NaN</td>\n",
              "      <td>NaN</td>\n",
              "      <td>NaN</td>\n",
              "    </tr>\n",
              "  </tbody>\n",
              "</table>\n",
              "<p>47830 rows × 19 columns</p>\n",
              "</div>"
            ],
            "text/plain": [
              "      Unnamed: 0 InvoiceNo  ...               Diff            Recency\n",
              "0              0    536370  ...  373 days 04:05:00  373 days 04:05:00\n",
              "1              1    536370  ...  373 days 04:05:00  373 days 04:05:00\n",
              "2              2    536370  ...  373 days 04:05:00  373 days 04:05:00\n",
              "3              3    536370  ...  373 days 04:05:00  373 days 04:05:00\n",
              "4              4    536370  ...  373 days 04:05:00  373 days 04:05:00\n",
              "...          ...       ...  ...                ...                ...\n",
              "47825      48620    564428  ...  106 days 01:23:00  106 days 01:23:00\n",
              "47826      48621    564428  ...  106 days 01:23:00  106 days 01:23:00\n",
              "47827      48622    564428  ...  106 days 01:23:00  106 days 01:23:00\n",
              "47828      48623    564428  ...  106 days 01:23:00  106 days 01:23:00\n",
              "47829     Amount       NaN  ...                NaN                NaN\n",
              "\n",
              "[47830 rows x 19 columns]"
            ]
          },
          "metadata": {
            "tags": []
          },
          "execution_count": 9
        }
      ]
    },
    {
      "cell_type": "code",
      "metadata": {
        "colab": {
          "base_uri": "https://localhost:8080/",
          "height": 1000
        },
        "id": "IYRTMXRA2yAa",
        "outputId": "ec5cbf86-9787-4760-a5e5-a88ca9b1fb93"
      },
      "source": [
        "new_market.dropna()"
      ],
      "execution_count": 10,
      "outputs": [
        {
          "output_type": "execute_result",
          "data": {
            "text/html": [
              "<div>\n",
              "<style scoped>\n",
              "    .dataframe tbody tr th:only-of-type {\n",
              "        vertical-align: middle;\n",
              "    }\n",
              "\n",
              "    .dataframe tbody tr th {\n",
              "        vertical-align: top;\n",
              "    }\n",
              "\n",
              "    .dataframe thead th {\n",
              "        text-align: right;\n",
              "    }\n",
              "</style>\n",
              "<table border=\"1\" class=\"dataframe\">\n",
              "  <thead>\n",
              "    <tr style=\"text-align: right;\">\n",
              "      <th></th>\n",
              "      <th>Unnamed: 0</th>\n",
              "      <th>InvoiceNo</th>\n",
              "      <th>StockCode</th>\n",
              "      <th>Description</th>\n",
              "      <th>Quantity</th>\n",
              "      <th>InvoiceDate</th>\n",
              "      <th>UnitPrice</th>\n",
              "      <th>CustomerID</th>\n",
              "      <th>Country</th>\n",
              "      <th>S.No</th>\n",
              "      <th>Company</th>\n",
              "      <th>Sector</th>\n",
              "      <th>Market cap ($bn)</th>\n",
              "      <th>Market cap added</th>\n",
              "      <th>Change</th>\n",
              "      <th>Amount</th>\n",
              "      <th>Class</th>\n",
              "      <th>Diff</th>\n",
              "      <th>Recency</th>\n",
              "    </tr>\n",
              "  </thead>\n",
              "  <tbody>\n",
              "    <tr>\n",
              "      <th>0</th>\n",
              "      <td>0</td>\n",
              "      <td>536370</td>\n",
              "      <td>22728</td>\n",
              "      <td>ALARM CLOCK BAKELIKE PINK</td>\n",
              "      <td>24.0</td>\n",
              "      <td>2010-12-01 08:45:00</td>\n",
              "      <td>3.75</td>\n",
              "      <td>12583.0</td>\n",
              "      <td>France</td>\n",
              "      <td>75.0</td>\n",
              "      <td>Hermès International</td>\n",
              "      <td>Consumer discretionary</td>\n",
              "      <td>88.2</td>\n",
              "      <td>10.6</td>\n",
              "      <td>13.7</td>\n",
              "      <td>90.00</td>\n",
              "      <td>Consumer discretionaryHermès International</td>\n",
              "      <td>373 days 04:05:00</td>\n",
              "      <td>373 days 04:05:00</td>\n",
              "    </tr>\n",
              "    <tr>\n",
              "      <th>1</th>\n",
              "      <td>1</td>\n",
              "      <td>536370</td>\n",
              "      <td>22728</td>\n",
              "      <td>ALARM CLOCK BAKELIKE PINK</td>\n",
              "      <td>24.0</td>\n",
              "      <td>2010-12-01 08:45:00</td>\n",
              "      <td>3.75</td>\n",
              "      <td>12583.0</td>\n",
              "      <td>France</td>\n",
              "      <td>95.0</td>\n",
              "      <td>L'Oréal</td>\n",
              "      <td>Consumer staples</td>\n",
              "      <td>173.4</td>\n",
              "      <td>8.8</td>\n",
              "      <td>5.3</td>\n",
              "      <td>90.00</td>\n",
              "      <td>Consumer staplesL'Oréal</td>\n",
              "      <td>373 days 04:05:00</td>\n",
              "      <td>373 days 04:05:00</td>\n",
              "    </tr>\n",
              "    <tr>\n",
              "      <th>2</th>\n",
              "      <td>2</td>\n",
              "      <td>536370</td>\n",
              "      <td>22727</td>\n",
              "      <td>ALARM CLOCK BAKELIKE RED</td>\n",
              "      <td>24.0</td>\n",
              "      <td>2010-12-01 08:45:00</td>\n",
              "      <td>3.75</td>\n",
              "      <td>12583.0</td>\n",
              "      <td>France</td>\n",
              "      <td>75.0</td>\n",
              "      <td>Hermès International</td>\n",
              "      <td>Consumer discretionary</td>\n",
              "      <td>88.2</td>\n",
              "      <td>10.6</td>\n",
              "      <td>13.7</td>\n",
              "      <td>90.00</td>\n",
              "      <td>Consumer discretionaryHermès International</td>\n",
              "      <td>373 days 04:05:00</td>\n",
              "      <td>373 days 04:05:00</td>\n",
              "    </tr>\n",
              "    <tr>\n",
              "      <th>3</th>\n",
              "      <td>3</td>\n",
              "      <td>536370</td>\n",
              "      <td>22727</td>\n",
              "      <td>ALARM CLOCK BAKELIKE RED</td>\n",
              "      <td>24.0</td>\n",
              "      <td>2010-12-01 08:45:00</td>\n",
              "      <td>3.75</td>\n",
              "      <td>12583.0</td>\n",
              "      <td>France</td>\n",
              "      <td>95.0</td>\n",
              "      <td>L'Oréal</td>\n",
              "      <td>Consumer staples</td>\n",
              "      <td>173.4</td>\n",
              "      <td>8.8</td>\n",
              "      <td>5.3</td>\n",
              "      <td>90.00</td>\n",
              "      <td>Consumer staplesL'Oréal</td>\n",
              "      <td>373 days 04:05:00</td>\n",
              "      <td>373 days 04:05:00</td>\n",
              "    </tr>\n",
              "    <tr>\n",
              "      <th>4</th>\n",
              "      <td>4</td>\n",
              "      <td>536370</td>\n",
              "      <td>22726</td>\n",
              "      <td>ALARM CLOCK BAKELIKE GREEN</td>\n",
              "      <td>12.0</td>\n",
              "      <td>2010-12-01 08:45:00</td>\n",
              "      <td>3.75</td>\n",
              "      <td>12583.0</td>\n",
              "      <td>France</td>\n",
              "      <td>75.0</td>\n",
              "      <td>Hermès International</td>\n",
              "      <td>Consumer discretionary</td>\n",
              "      <td>88.2</td>\n",
              "      <td>10.6</td>\n",
              "      <td>13.7</td>\n",
              "      <td>45.00</td>\n",
              "      <td>Consumer discretionaryHermès International</td>\n",
              "      <td>373 days 04:05:00</td>\n",
              "      <td>373 days 04:05:00</td>\n",
              "    </tr>\n",
              "    <tr>\n",
              "      <th>...</th>\n",
              "      <td>...</td>\n",
              "      <td>...</td>\n",
              "      <td>...</td>\n",
              "      <td>...</td>\n",
              "      <td>...</td>\n",
              "      <td>...</td>\n",
              "      <td>...</td>\n",
              "      <td>...</td>\n",
              "      <td>...</td>\n",
              "      <td>...</td>\n",
              "      <td>...</td>\n",
              "      <td>...</td>\n",
              "      <td>...</td>\n",
              "      <td>...</td>\n",
              "      <td>...</td>\n",
              "      <td>...</td>\n",
              "      <td>...</td>\n",
              "      <td>...</td>\n",
              "      <td>...</td>\n",
              "    </tr>\n",
              "    <tr>\n",
              "      <th>47824</th>\n",
              "      <td>48619</td>\n",
              "      <td>564428</td>\n",
              "      <td>23296</td>\n",
              "      <td>SET OF 6 TEA TIME BAKING CASES</td>\n",
              "      <td>8.0</td>\n",
              "      <td>2011-08-25 11:27:00</td>\n",
              "      <td>1.25</td>\n",
              "      <td>17844.0</td>\n",
              "      <td>Canada</td>\n",
              "      <td>81.0</td>\n",
              "      <td>Barrick Gold</td>\n",
              "      <td>Materials</td>\n",
              "      <td>43.1</td>\n",
              "      <td>10.1</td>\n",
              "      <td>30.7</td>\n",
              "      <td>10.00</td>\n",
              "      <td>MaterialsBarrick Gold</td>\n",
              "      <td>106 days 01:23:00</td>\n",
              "      <td>106 days 01:23:00</td>\n",
              "    </tr>\n",
              "    <tr>\n",
              "      <th>47825</th>\n",
              "      <td>48620</td>\n",
              "      <td>564428</td>\n",
              "      <td>23296</td>\n",
              "      <td>SET OF 6 TEA TIME BAKING CASES</td>\n",
              "      <td>8.0</td>\n",
              "      <td>2011-08-25 11:27:00</td>\n",
              "      <td>1.25</td>\n",
              "      <td>17844.0</td>\n",
              "      <td>Canada</td>\n",
              "      <td>87.0</td>\n",
              "      <td>Lululemon Athletica</td>\n",
              "      <td>Consumer discretionary</td>\n",
              "      <td>39.5</td>\n",
              "      <td>9.4</td>\n",
              "      <td>31.0</td>\n",
              "      <td>10.00</td>\n",
              "      <td>Consumer discretionaryLululemon Athletica</td>\n",
              "      <td>106 days 01:23:00</td>\n",
              "      <td>106 days 01:23:00</td>\n",
              "    </tr>\n",
              "    <tr>\n",
              "      <th>47826</th>\n",
              "      <td>48621</td>\n",
              "      <td>564428</td>\n",
              "      <td>23294</td>\n",
              "      <td>SET OF 6 SNACK LOAF BAKING CASES</td>\n",
              "      <td>8.0</td>\n",
              "      <td>2011-08-25 11:27:00</td>\n",
              "      <td>0.83</td>\n",
              "      <td>17844.0</td>\n",
              "      <td>Canada</td>\n",
              "      <td>14.0</td>\n",
              "      <td>Shopify</td>\n",
              "      <td>Technology</td>\n",
              "      <td>97.6</td>\n",
              "      <td>51.5</td>\n",
              "      <td>111.7</td>\n",
              "      <td>6.64</td>\n",
              "      <td>TechnologyShopify</td>\n",
              "      <td>106 days 01:23:00</td>\n",
              "      <td>106 days 01:23:00</td>\n",
              "    </tr>\n",
              "    <tr>\n",
              "      <th>47827</th>\n",
              "      <td>48622</td>\n",
              "      <td>564428</td>\n",
              "      <td>23294</td>\n",
              "      <td>SET OF 6 SNACK LOAF BAKING CASES</td>\n",
              "      <td>8.0</td>\n",
              "      <td>2011-08-25 11:27:00</td>\n",
              "      <td>0.83</td>\n",
              "      <td>17844.0</td>\n",
              "      <td>Canada</td>\n",
              "      <td>81.0</td>\n",
              "      <td>Barrick Gold</td>\n",
              "      <td>Materials</td>\n",
              "      <td>43.1</td>\n",
              "      <td>10.1</td>\n",
              "      <td>30.7</td>\n",
              "      <td>6.64</td>\n",
              "      <td>MaterialsBarrick Gold</td>\n",
              "      <td>106 days 01:23:00</td>\n",
              "      <td>106 days 01:23:00</td>\n",
              "    </tr>\n",
              "    <tr>\n",
              "      <th>47828</th>\n",
              "      <td>48623</td>\n",
              "      <td>564428</td>\n",
              "      <td>23294</td>\n",
              "      <td>SET OF 6 SNACK LOAF BAKING CASES</td>\n",
              "      <td>8.0</td>\n",
              "      <td>2011-08-25 11:27:00</td>\n",
              "      <td>0.83</td>\n",
              "      <td>17844.0</td>\n",
              "      <td>Canada</td>\n",
              "      <td>87.0</td>\n",
              "      <td>Lululemon Athletica</td>\n",
              "      <td>Consumer discretionary</td>\n",
              "      <td>39.5</td>\n",
              "      <td>9.4</td>\n",
              "      <td>31.0</td>\n",
              "      <td>6.64</td>\n",
              "      <td>Consumer discretionaryLululemon Athletica</td>\n",
              "      <td>106 days 01:23:00</td>\n",
              "      <td>106 days 01:23:00</td>\n",
              "    </tr>\n",
              "  </tbody>\n",
              "</table>\n",
              "<p>47829 rows × 19 columns</p>\n",
              "</div>"
            ],
            "text/plain": [
              "      Unnamed: 0 InvoiceNo  ...               Diff            Recency\n",
              "0              0    536370  ...  373 days 04:05:00  373 days 04:05:00\n",
              "1              1    536370  ...  373 days 04:05:00  373 days 04:05:00\n",
              "2              2    536370  ...  373 days 04:05:00  373 days 04:05:00\n",
              "3              3    536370  ...  373 days 04:05:00  373 days 04:05:00\n",
              "4              4    536370  ...  373 days 04:05:00  373 days 04:05:00\n",
              "...          ...       ...  ...                ...                ...\n",
              "47824      48619    564428  ...  106 days 01:23:00  106 days 01:23:00\n",
              "47825      48620    564428  ...  106 days 01:23:00  106 days 01:23:00\n",
              "47826      48621    564428  ...  106 days 01:23:00  106 days 01:23:00\n",
              "47827      48622    564428  ...  106 days 01:23:00  106 days 01:23:00\n",
              "47828      48623    564428  ...  106 days 01:23:00  106 days 01:23:00\n",
              "\n",
              "[47829 rows x 19 columns]"
            ]
          },
          "metadata": {
            "tags": []
          },
          "execution_count": 10
        }
      ]
    },
    {
      "cell_type": "code",
      "metadata": {
        "id": "ROhJwGLKRI7s"
      },
      "source": [
        "new_market.fillna(new_market.median(),inplace=True) "
      ],
      "execution_count": 29,
      "outputs": []
    },
    {
      "cell_type": "code",
      "metadata": {
        "id": "1W75T1jqWAjL"
      },
      "source": [
        "new_market.loc[47829] = new_market.loc[47829].fillna(method='bfill')"
      ],
      "execution_count": 64,
      "outputs": []
    },
    {
      "cell_type": "code",
      "metadata": {
        "id": "J6oO4mduRbQr"
      },
      "source": [
        " new_market_1=new_market.drop('Unnamed: 0',axis=1)"
      ],
      "execution_count": 110,
      "outputs": []
    },
    {
      "cell_type": "code",
      "metadata": {
        "id": "csBE2d4bUgML"
      },
      "source": [
        "new_market_1=new_market.drop([47829])"
      ],
      "execution_count": 113,
      "outputs": []
    },
    {
      "cell_type": "code",
      "metadata": {
        "id": "sM_puG6EZxrO"
      },
      "source": [
        "new_market_1 = new_market.dropna()"
      ],
      "execution_count": 107,
      "outputs": []
    },
    {
      "cell_type": "code",
      "metadata": {
        "id": "88P9eQodzm6Y"
      },
      "source": [
        "y=new_market_1['Class']      #https://data-flair.training/blogs/train-test-set-in-python-ml/\n",
        "x=new_market_1.drop('Unnamed: 0',axis=1)"
      ],
      "execution_count": 116,
      "outputs": []
    },
    {
      "cell_type": "code",
      "metadata": {
        "colab": {
          "base_uri": "https://localhost:8080/",
          "height": 1000
        },
        "id": "HSMEYL5rRZ2v",
        "outputId": "881cec23-993f-4a23-9f66-6ffaa273fa5d"
      },
      "source": [
        "x"
      ],
      "execution_count": 117,
      "outputs": [
        {
          "output_type": "execute_result",
          "data": {
            "text/html": [
              "<div>\n",
              "<style scoped>\n",
              "    .dataframe tbody tr th:only-of-type {\n",
              "        vertical-align: middle;\n",
              "    }\n",
              "\n",
              "    .dataframe tbody tr th {\n",
              "        vertical-align: top;\n",
              "    }\n",
              "\n",
              "    .dataframe thead th {\n",
              "        text-align: right;\n",
              "    }\n",
              "</style>\n",
              "<table border=\"1\" class=\"dataframe\">\n",
              "  <thead>\n",
              "    <tr style=\"text-align: right;\">\n",
              "      <th></th>\n",
              "      <th>InvoiceNo</th>\n",
              "      <th>StockCode</th>\n",
              "      <th>Description</th>\n",
              "      <th>Quantity</th>\n",
              "      <th>InvoiceDate</th>\n",
              "      <th>UnitPrice</th>\n",
              "      <th>CustomerID</th>\n",
              "      <th>Country</th>\n",
              "      <th>S.No</th>\n",
              "      <th>Company</th>\n",
              "      <th>Sector</th>\n",
              "      <th>Market cap ($bn)</th>\n",
              "      <th>Market cap added</th>\n",
              "      <th>Change</th>\n",
              "      <th>Amount</th>\n",
              "      <th>Class</th>\n",
              "      <th>Diff</th>\n",
              "      <th>Recency</th>\n",
              "    </tr>\n",
              "  </thead>\n",
              "  <tbody>\n",
              "    <tr>\n",
              "      <th>0</th>\n",
              "      <td>536370</td>\n",
              "      <td>22728</td>\n",
              "      <td>ALARM CLOCK BAKELIKE PINK</td>\n",
              "      <td>24.0</td>\n",
              "      <td>2010-12-01 08:45:00</td>\n",
              "      <td>3.75</td>\n",
              "      <td>12583.0</td>\n",
              "      <td>France</td>\n",
              "      <td>75.0</td>\n",
              "      <td>Hermès International</td>\n",
              "      <td>Consumer discretionary</td>\n",
              "      <td>88.2</td>\n",
              "      <td>10.6</td>\n",
              "      <td>13.7</td>\n",
              "      <td>90.00</td>\n",
              "      <td>Consumer discretionaryHermès International</td>\n",
              "      <td>373 days 04:05:00</td>\n",
              "      <td>373 days 04:05:00</td>\n",
              "    </tr>\n",
              "    <tr>\n",
              "      <th>1</th>\n",
              "      <td>536370</td>\n",
              "      <td>22728</td>\n",
              "      <td>ALARM CLOCK BAKELIKE PINK</td>\n",
              "      <td>24.0</td>\n",
              "      <td>2010-12-01 08:45:00</td>\n",
              "      <td>3.75</td>\n",
              "      <td>12583.0</td>\n",
              "      <td>France</td>\n",
              "      <td>95.0</td>\n",
              "      <td>L'Oréal</td>\n",
              "      <td>Consumer staples</td>\n",
              "      <td>173.4</td>\n",
              "      <td>8.8</td>\n",
              "      <td>5.3</td>\n",
              "      <td>90.00</td>\n",
              "      <td>Consumer staplesL'Oréal</td>\n",
              "      <td>373 days 04:05:00</td>\n",
              "      <td>373 days 04:05:00</td>\n",
              "    </tr>\n",
              "    <tr>\n",
              "      <th>2</th>\n",
              "      <td>536370</td>\n",
              "      <td>22727</td>\n",
              "      <td>ALARM CLOCK BAKELIKE RED</td>\n",
              "      <td>24.0</td>\n",
              "      <td>2010-12-01 08:45:00</td>\n",
              "      <td>3.75</td>\n",
              "      <td>12583.0</td>\n",
              "      <td>France</td>\n",
              "      <td>75.0</td>\n",
              "      <td>Hermès International</td>\n",
              "      <td>Consumer discretionary</td>\n",
              "      <td>88.2</td>\n",
              "      <td>10.6</td>\n",
              "      <td>13.7</td>\n",
              "      <td>90.00</td>\n",
              "      <td>Consumer discretionaryHermès International</td>\n",
              "      <td>373 days 04:05:00</td>\n",
              "      <td>373 days 04:05:00</td>\n",
              "    </tr>\n",
              "    <tr>\n",
              "      <th>3</th>\n",
              "      <td>536370</td>\n",
              "      <td>22727</td>\n",
              "      <td>ALARM CLOCK BAKELIKE RED</td>\n",
              "      <td>24.0</td>\n",
              "      <td>2010-12-01 08:45:00</td>\n",
              "      <td>3.75</td>\n",
              "      <td>12583.0</td>\n",
              "      <td>France</td>\n",
              "      <td>95.0</td>\n",
              "      <td>L'Oréal</td>\n",
              "      <td>Consumer staples</td>\n",
              "      <td>173.4</td>\n",
              "      <td>8.8</td>\n",
              "      <td>5.3</td>\n",
              "      <td>90.00</td>\n",
              "      <td>Consumer staplesL'Oréal</td>\n",
              "      <td>373 days 04:05:00</td>\n",
              "      <td>373 days 04:05:00</td>\n",
              "    </tr>\n",
              "    <tr>\n",
              "      <th>4</th>\n",
              "      <td>536370</td>\n",
              "      <td>22726</td>\n",
              "      <td>ALARM CLOCK BAKELIKE GREEN</td>\n",
              "      <td>12.0</td>\n",
              "      <td>2010-12-01 08:45:00</td>\n",
              "      <td>3.75</td>\n",
              "      <td>12583.0</td>\n",
              "      <td>France</td>\n",
              "      <td>75.0</td>\n",
              "      <td>Hermès International</td>\n",
              "      <td>Consumer discretionary</td>\n",
              "      <td>88.2</td>\n",
              "      <td>10.6</td>\n",
              "      <td>13.7</td>\n",
              "      <td>45.00</td>\n",
              "      <td>Consumer discretionaryHermès International</td>\n",
              "      <td>373 days 04:05:00</td>\n",
              "      <td>373 days 04:05:00</td>\n",
              "    </tr>\n",
              "    <tr>\n",
              "      <th>...</th>\n",
              "      <td>...</td>\n",
              "      <td>...</td>\n",
              "      <td>...</td>\n",
              "      <td>...</td>\n",
              "      <td>...</td>\n",
              "      <td>...</td>\n",
              "      <td>...</td>\n",
              "      <td>...</td>\n",
              "      <td>...</td>\n",
              "      <td>...</td>\n",
              "      <td>...</td>\n",
              "      <td>...</td>\n",
              "      <td>...</td>\n",
              "      <td>...</td>\n",
              "      <td>...</td>\n",
              "      <td>...</td>\n",
              "      <td>...</td>\n",
              "      <td>...</td>\n",
              "    </tr>\n",
              "    <tr>\n",
              "      <th>47824</th>\n",
              "      <td>564428</td>\n",
              "      <td>23296</td>\n",
              "      <td>SET OF 6 TEA TIME BAKING CASES</td>\n",
              "      <td>8.0</td>\n",
              "      <td>2011-08-25 11:27:00</td>\n",
              "      <td>1.25</td>\n",
              "      <td>17844.0</td>\n",
              "      <td>Canada</td>\n",
              "      <td>81.0</td>\n",
              "      <td>Barrick Gold</td>\n",
              "      <td>Materials</td>\n",
              "      <td>43.1</td>\n",
              "      <td>10.1</td>\n",
              "      <td>30.7</td>\n",
              "      <td>10.00</td>\n",
              "      <td>MaterialsBarrick Gold</td>\n",
              "      <td>106 days 01:23:00</td>\n",
              "      <td>106 days 01:23:00</td>\n",
              "    </tr>\n",
              "    <tr>\n",
              "      <th>47825</th>\n",
              "      <td>564428</td>\n",
              "      <td>23296</td>\n",
              "      <td>SET OF 6 TEA TIME BAKING CASES</td>\n",
              "      <td>8.0</td>\n",
              "      <td>2011-08-25 11:27:00</td>\n",
              "      <td>1.25</td>\n",
              "      <td>17844.0</td>\n",
              "      <td>Canada</td>\n",
              "      <td>87.0</td>\n",
              "      <td>Lululemon Athletica</td>\n",
              "      <td>Consumer discretionary</td>\n",
              "      <td>39.5</td>\n",
              "      <td>9.4</td>\n",
              "      <td>31.0</td>\n",
              "      <td>10.00</td>\n",
              "      <td>Consumer discretionaryLululemon Athletica</td>\n",
              "      <td>106 days 01:23:00</td>\n",
              "      <td>106 days 01:23:00</td>\n",
              "    </tr>\n",
              "    <tr>\n",
              "      <th>47826</th>\n",
              "      <td>564428</td>\n",
              "      <td>23294</td>\n",
              "      <td>SET OF 6 SNACK LOAF BAKING CASES</td>\n",
              "      <td>8.0</td>\n",
              "      <td>2011-08-25 11:27:00</td>\n",
              "      <td>0.83</td>\n",
              "      <td>17844.0</td>\n",
              "      <td>Canada</td>\n",
              "      <td>14.0</td>\n",
              "      <td>Shopify</td>\n",
              "      <td>Technology</td>\n",
              "      <td>97.6</td>\n",
              "      <td>51.5</td>\n",
              "      <td>111.7</td>\n",
              "      <td>6.64</td>\n",
              "      <td>TechnologyShopify</td>\n",
              "      <td>106 days 01:23:00</td>\n",
              "      <td>106 days 01:23:00</td>\n",
              "    </tr>\n",
              "    <tr>\n",
              "      <th>47827</th>\n",
              "      <td>564428</td>\n",
              "      <td>23294</td>\n",
              "      <td>SET OF 6 SNACK LOAF BAKING CASES</td>\n",
              "      <td>8.0</td>\n",
              "      <td>2011-08-25 11:27:00</td>\n",
              "      <td>0.83</td>\n",
              "      <td>17844.0</td>\n",
              "      <td>Canada</td>\n",
              "      <td>81.0</td>\n",
              "      <td>Barrick Gold</td>\n",
              "      <td>Materials</td>\n",
              "      <td>43.1</td>\n",
              "      <td>10.1</td>\n",
              "      <td>30.7</td>\n",
              "      <td>6.64</td>\n",
              "      <td>MaterialsBarrick Gold</td>\n",
              "      <td>106 days 01:23:00</td>\n",
              "      <td>106 days 01:23:00</td>\n",
              "    </tr>\n",
              "    <tr>\n",
              "      <th>47828</th>\n",
              "      <td>564428</td>\n",
              "      <td>23294</td>\n",
              "      <td>SET OF 6 SNACK LOAF BAKING CASES</td>\n",
              "      <td>8.0</td>\n",
              "      <td>2011-08-25 11:27:00</td>\n",
              "      <td>0.83</td>\n",
              "      <td>17844.0</td>\n",
              "      <td>Canada</td>\n",
              "      <td>87.0</td>\n",
              "      <td>Lululemon Athletica</td>\n",
              "      <td>Consumer discretionary</td>\n",
              "      <td>39.5</td>\n",
              "      <td>9.4</td>\n",
              "      <td>31.0</td>\n",
              "      <td>6.64</td>\n",
              "      <td>Consumer discretionaryLululemon Athletica</td>\n",
              "      <td>106 days 01:23:00</td>\n",
              "      <td>106 days 01:23:00</td>\n",
              "    </tr>\n",
              "  </tbody>\n",
              "</table>\n",
              "<p>47829 rows × 18 columns</p>\n",
              "</div>"
            ],
            "text/plain": [
              "      InvoiceNo StockCode  ...               Diff            Recency\n",
              "0        536370     22728  ...  373 days 04:05:00  373 days 04:05:00\n",
              "1        536370     22728  ...  373 days 04:05:00  373 days 04:05:00\n",
              "2        536370     22727  ...  373 days 04:05:00  373 days 04:05:00\n",
              "3        536370     22727  ...  373 days 04:05:00  373 days 04:05:00\n",
              "4        536370     22726  ...  373 days 04:05:00  373 days 04:05:00\n",
              "...         ...       ...  ...                ...                ...\n",
              "47824    564428     23296  ...  106 days 01:23:00  106 days 01:23:00\n",
              "47825    564428     23296  ...  106 days 01:23:00  106 days 01:23:00\n",
              "47826    564428     23294  ...  106 days 01:23:00  106 days 01:23:00\n",
              "47827    564428     23294  ...  106 days 01:23:00  106 days 01:23:00\n",
              "47828    564428     23294  ...  106 days 01:23:00  106 days 01:23:00\n",
              "\n",
              "[47829 rows x 18 columns]"
            ]
          },
          "metadata": {
            "tags": []
          },
          "execution_count": 117
        }
      ]
    },
    {
      "cell_type": "code",
      "metadata": {
        "colab": {
          "base_uri": "https://localhost:8080/"
        },
        "id": "dSPygKpGsFv0",
        "outputId": "022fe551-1deb-463c-9952-9adf8a4c8c6c"
      },
      "source": [
        "#Evalml_rfm['Class'].apply(str)"
      ],
      "execution_count": 99,
      "outputs": [
        {
          "output_type": "execute_result",
          "data": {
            "text/plain": [
              "0      393\n",
              "1       11\n",
              "2      189\n",
              "3       52\n",
              "4      231\n",
              "      ... \n",
              "241     16\n",
              "242    201\n",
              "243      3\n",
              "244    405\n",
              "245     15\n",
              "Name: Class, Length: 246, dtype: object"
            ]
          },
          "metadata": {
            "tags": []
          },
          "execution_count": 99
        }
      ]
    },
    {
      "cell_type": "code",
      "metadata": {
        "colab": {
          "base_uri": "https://localhost:8080/"
        },
        "id": "L02Ts3a6RfnY",
        "outputId": "38088227-223d-4336-9075-cf4ccf6db6fb"
      },
      "source": [
        "# y\n",
        "y.value_counts()"
      ],
      "execution_count": 118,
      "outputs": [
        {
          "output_type": "execute_result",
          "data": {
            "text/plain": [
              "Consumer discretionaryAudi                    9495\n",
              "Consumer discretionaryHermès International    8491\n",
              "Consumer staplesL'Oréal                       8491\n",
              "TechnologyASML                                2371\n",
              "Consumer discretionaryProsus                  2371\n",
              "TechnologyAdyen                               2371\n",
              "Consumer discretionaryJust Eat Takeaway       2371\n",
              "Consumer staplesUnilever                      2371\n",
              "HealthcareLonza                               1877\n",
              "Consumer staplesNestlé                        1877\n",
              "HealthcareRoche                               1877\n",
              "TechnologyAtlassian                           1259\n",
              "Communication servicesSpotify                  462\n",
              "HealthcareNovo Nordisk                         389\n",
              "HealthcareChugai Pharmaceutical                358\n",
              "TechnologyKeyence                              358\n",
              "HealthcareDaiichi Sankyo                       358\n",
              "Communication servicesSea Group                229\n",
              "TechnologyShopify                              151\n",
              "MaterialsBarrick Gold                          151\n",
              "Consumer discretionaryLululemon Athletica      151\n",
              "Name: Class, dtype: int64"
            ]
          },
          "metadata": {
            "tags": []
          },
          "execution_count": 118
        }
      ]
    },
    {
      "cell_type": "code",
      "metadata": {
        "colab": {
          "base_uri": "https://localhost:8080/"
        },
        "id": "Fu2E_PicqTWc",
        "outputId": "1f4c28d7-0c14-4671-86d4-517fd6629481"
      },
      "source": [
        "#Evalml_rfm['Class'].apply(str)"
      ],
      "execution_count": 86,
      "outputs": [
        {
          "output_type": "execute_result",
          "data": {
            "text/plain": [
              "0      393\n",
              "1       11\n",
              "2      189\n",
              "3       52\n",
              "4      231\n",
              "      ... \n",
              "241     16\n",
              "242    201\n",
              "243      3\n",
              "244    405\n",
              "245     15\n",
              "Name: Class, Length: 246, dtype: object"
            ]
          },
          "metadata": {
            "tags": []
          },
          "execution_count": 86
        }
      ]
    },
    {
      "cell_type": "code",
      "metadata": {
        "id": "CQFS7t8MqsVU"
      },
      "source": [
        "#Evalml_rfm['Class'] = Evalml_rfm['Class'].apply(str)"
      ],
      "execution_count": 87,
      "outputs": []
    },
    {
      "cell_type": "code",
      "metadata": {
        "id": "YcudPFVowljK"
      },
      "source": [
        "problem_type = 'Binary'"
      ],
      "execution_count": 119,
      "outputs": []
    },
    {
      "cell_type": "code",
      "metadata": {
        "id": "1Ja2y4oKvOG_"
      },
      "source": [
        "x_train, x_test, y_train, y_test = evalml.preprocessing.split_data(x, y,problem_type=problem_type, test_size=0.2)\n"
      ],
      "execution_count": 120,
      "outputs": []
    },
    {
      "cell_type": "code",
      "metadata": {
        "id": "SkDxaTvAa65r"
      },
      "source": [
        "# x_train,x_test,y_train,y_test=train_test_split(x,y,test_size=0.2)\n",
        "# x_train.head()"
      ],
      "execution_count": 90,
      "outputs": []
    },
    {
      "cell_type": "code",
      "metadata": {
        "colab": {
          "base_uri": "https://localhost:8080/"
        },
        "id": "0NrVsutmrOiN",
        "outputId": "93f39144-0ffa-4c37-b30d-0f302aa9eb2f"
      },
      "source": [
        "# x_train.shape"
      ],
      "execution_count": null,
      "outputs": [
        {
          "output_type": "execute_result",
          "data": {
            "text/plain": [
              "(433527, 7)"
            ]
          },
          "metadata": {
            "tags": []
          },
          "execution_count": 23
        }
      ]
    },
    {
      "cell_type": "code",
      "metadata": {
        "colab": {
          "base_uri": "https://localhost:8080/",
          "height": 202
        },
        "id": "0D05ZI5drUda",
        "outputId": "244a3fe6-2ff4-46b7-856a-2c16eadeb921"
      },
      "source": [
        "# x_test.head()"
      ],
      "execution_count": null,
      "outputs": [
        {
          "output_type": "execute_result",
          "data": {
            "text/html": [
              "<div>\n",
              "<style scoped>\n",
              "    .dataframe tbody tr th:only-of-type {\n",
              "        vertical-align: middle;\n",
              "    }\n",
              "\n",
              "    .dataframe tbody tr th {\n",
              "        vertical-align: top;\n",
              "    }\n",
              "\n",
              "    .dataframe thead th {\n",
              "        text-align: right;\n",
              "    }\n",
              "</style>\n",
              "<table border=\"1\" class=\"dataframe\">\n",
              "  <thead>\n",
              "    <tr style=\"text-align: right;\">\n",
              "      <th></th>\n",
              "      <th>InvoiceNo</th>\n",
              "      <th>StockCode</th>\n",
              "      <th>Description</th>\n",
              "      <th>Quantity</th>\n",
              "      <th>UnitPrice</th>\n",
              "      <th>CustomerID</th>\n",
              "      <th>Country</th>\n",
              "    </tr>\n",
              "  </thead>\n",
              "  <tbody>\n",
              "    <tr>\n",
              "      <th>430319</th>\n",
              "      <td>573585</td>\n",
              "      <td>21090</td>\n",
              "      <td>SET/6 COLLAGE PAPER PLATES</td>\n",
              "      <td>2</td>\n",
              "      <td>0.83</td>\n",
              "      <td>15152.0</td>\n",
              "      <td>United Kingdom</td>\n",
              "    </tr>\n",
              "    <tr>\n",
              "      <th>424107</th>\n",
              "      <td>573184</td>\n",
              "      <td>21169</td>\n",
              "      <td>YOU'RE CONFUSING ME METAL SIGN</td>\n",
              "      <td>12</td>\n",
              "      <td>1.69</td>\n",
              "      <td>14110.0</td>\n",
              "      <td>United Kingdom</td>\n",
              "    </tr>\n",
              "    <tr>\n",
              "      <th>428073</th>\n",
              "      <td>573413</td>\n",
              "      <td>23511</td>\n",
              "      <td>EMBROIDERED RIBBON REEL EMILY</td>\n",
              "      <td>2</td>\n",
              "      <td>2.08</td>\n",
              "      <td>15444.0</td>\n",
              "      <td>United Kingdom</td>\n",
              "    </tr>\n",
              "    <tr>\n",
              "      <th>321076</th>\n",
              "      <td>565124</td>\n",
              "      <td>POST</td>\n",
              "      <td>POSTAGE</td>\n",
              "      <td>2</td>\n",
              "      <td>40.00</td>\n",
              "      <td>12436.0</td>\n",
              "      <td>Norway</td>\n",
              "    </tr>\n",
              "    <tr>\n",
              "      <th>142591</th>\n",
              "      <td>548616</td>\n",
              "      <td>22561</td>\n",
              "      <td>WOODEN SCHOOL COLOURING SET</td>\n",
              "      <td>12</td>\n",
              "      <td>1.65</td>\n",
              "      <td>18263.0</td>\n",
              "      <td>United Kingdom</td>\n",
              "    </tr>\n",
              "  </tbody>\n",
              "</table>\n",
              "</div>"
            ],
            "text/plain": [
              "       InvoiceNo StockCode  ... CustomerID         Country\n",
              "430319    573585     21090  ...    15152.0  United Kingdom\n",
              "424107    573184     21169  ...    14110.0  United Kingdom\n",
              "428073    573413     23511  ...    15444.0  United Kingdom\n",
              "321076    565124      POST  ...    12436.0          Norway\n",
              "142591    548616     22561  ...    18263.0  United Kingdom\n",
              "\n",
              "[5 rows x 7 columns]"
            ]
          },
          "metadata": {
            "tags": []
          },
          "execution_count": 24
        }
      ]
    },
    {
      "cell_type": "code",
      "metadata": {
        "id": "1c760ED7rX6Y"
      },
      "source": [
        "# x_test.shape"
      ],
      "execution_count": 91,
      "outputs": []
    },
    {
      "cell_type": "code",
      "metadata": {
        "colab": {
          "base_uri": "https://localhost:8080/"
        },
        "id": "82uUzba4rZ2j",
        "outputId": "37744096-a9dd-489e-ca6d-611430616049"
      },
      "source": [
        "from evalml import AutoMLSearch\n",
        "automl = AutoMLSearch(X_train=x_train,y_train = y_train,problem_type='multiclass',allowed_model_families=['xgboost'],max_batches=1)\n",
        "# automl\n",
        "# automl = AutoMLSearch(X_train=x_train, y_train=y_train,\n",
        "                      # problem_type='multiclass', max_batches=1)"
      ],
      "execution_count": 121,
      "outputs": [
        {
          "output_type": "stream",
          "text": [
            "Generating pipelines to search over...\n",
            "1 pipelines ready for search.\n"
          ],
          "name": "stdout"
        }
      ]
    },
    {
      "cell_type": "code",
      "metadata": {
        "colab": {
          "base_uri": "https://localhost:8080/",
          "height": 514,
          "referenced_widgets": [
            "47087f5646fc4ca5aa2b693b356cfe95"
          ]
        },
        "id": "LHBmHGZ6tS7K",
        "outputId": "07a8452b-58ab-49c4-902b-455a1c8f3a82"
      },
      "source": [
        "automl.search() "
      ],
      "execution_count": 122,
      "outputs": [
        {
          "output_type": "stream",
          "text": [
            "\n",
            "*****************************\n",
            "* Beginning pipeline search *\n",
            "*****************************\n",
            "\n",
            "Optimizing for Log Loss Multiclass. \n",
            "Lower score is better.\n",
            "\n",
            "Using SequentialEngine to train and score pipelines.\n",
            "Searching up to 1 batches for a total of 2 pipelines. \n",
            "Allowed model families: xgboost\n",
            "\n"
          ],
          "name": "stdout"
        },
        {
          "output_type": "display_data",
          "data": {
            "application/vnd.jupyter.widget-view+json": {
              "model_id": "47087f5646fc4ca5aa2b693b356cfe95",
              "version_minor": 0,
              "version_major": 2
            },
            "text/plain": [
              "FigureWidget({\n",
              "    'data': [{'mode': 'lines+markers',\n",
              "              'name': 'Best Score',\n",
              "              'type'…"
            ]
          },
          "metadata": {
            "tags": []
          }
        },
        {
          "output_type": "stream",
          "text": [
            "Evaluating Baseline Pipeline: Mode Baseline Multiclass Classification Pipeline\n",
            "Mode Baseline Multiclass Classification Pipeline:\n",
            "\tStarting cross validation\n",
            "\tFinished cross validation - mean Log Loss Multiclass: 27.682\n",
            "\n",
            "*****************************\n",
            "* Evaluating Batch Number 1 *\n",
            "*****************************\n",
            "\n",
            "XGBoost Classifier w/ Imputer + Text Featurization Component + DateTime Featurization Component + One Hot Encoder + Undersampler:\n",
            "\tStarting cross validation\n",
            "\tFinished cross validation - mean Log Loss Multiclass: 0.000\n",
            "\n",
            "Search finished after 11:01            \n",
            "Best pipeline: XGBoost Classifier w/ Imputer + Text Featurization Component + DateTime Featurization Component + One Hot Encoder + Undersampler\n",
            "Best pipeline Log Loss Multiclass: 0.000428\n"
          ],
          "name": "stdout"
        }
      ]
    },
    {
      "cell_type": "code",
      "metadata": {
        "colab": {
          "base_uri": "https://localhost:8080/",
          "height": 230
        },
        "id": "wzJTWOYUZp80",
        "outputId": "e71d8bdd-3b63-4719-986c-fd0bf754f021"
      },
      "source": [
        "automl.rankings"
      ],
      "execution_count": 123,
      "outputs": [
        {
          "output_type": "execute_result",
          "data": {
            "text/html": [
              "<div>\n",
              "<style scoped>\n",
              "    .dataframe tbody tr th:only-of-type {\n",
              "        vertical-align: middle;\n",
              "    }\n",
              "\n",
              "    .dataframe tbody tr th {\n",
              "        vertical-align: top;\n",
              "    }\n",
              "\n",
              "    .dataframe thead th {\n",
              "        text-align: right;\n",
              "    }\n",
              "</style>\n",
              "<table border=\"1\" class=\"dataframe\">\n",
              "  <thead>\n",
              "    <tr style=\"text-align: right;\">\n",
              "      <th></th>\n",
              "      <th>id</th>\n",
              "      <th>pipeline_name</th>\n",
              "      <th>search_order</th>\n",
              "      <th>mean_cv_score</th>\n",
              "      <th>standard_deviation_cv_score</th>\n",
              "      <th>validation_score</th>\n",
              "      <th>percent_better_than_baseline</th>\n",
              "      <th>high_variance_cv</th>\n",
              "      <th>parameters</th>\n",
              "    </tr>\n",
              "  </thead>\n",
              "  <tbody>\n",
              "    <tr>\n",
              "      <th>0</th>\n",
              "      <td>1</td>\n",
              "      <td>XGBoost Classifier w/ Imputer + Text Featuriza...</td>\n",
              "      <td>1</td>\n",
              "      <td>0.000428</td>\n",
              "      <td>9.965287e-07</td>\n",
              "      <td>0.000427</td>\n",
              "      <td>99.998455</td>\n",
              "      <td>False</td>\n",
              "      <td>{'Imputer': {'categorical_impute_strategy': 'm...</td>\n",
              "    </tr>\n",
              "    <tr>\n",
              "      <th>1</th>\n",
              "      <td>0</td>\n",
              "      <td>Mode Baseline Multiclass Classification Pipeline</td>\n",
              "      <td>0</td>\n",
              "      <td>27.682112</td>\n",
              "      <td>3.103724e-04</td>\n",
              "      <td>27.682470</td>\n",
              "      <td>0.000000</td>\n",
              "      <td>False</td>\n",
              "      <td>{'Baseline Classifier': {'strategy': 'mode'}}</td>\n",
              "    </tr>\n",
              "  </tbody>\n",
              "</table>\n",
              "</div>"
            ],
            "text/plain": [
              "   id  ...                                         parameters\n",
              "0   1  ...  {'Imputer': {'categorical_impute_strategy': 'm...\n",
              "1   0  ...      {'Baseline Classifier': {'strategy': 'mode'}}\n",
              "\n",
              "[2 rows x 9 columns]"
            ]
          },
          "metadata": {
            "tags": []
          },
          "execution_count": 123
        }
      ]
    },
    {
      "cell_type": "code",
      "metadata": {
        "colab": {
          "base_uri": "https://localhost:8080/"
        },
        "id": "F9BeiuV2aJKb",
        "outputId": "17c2cba4-b739-4822-b2bf-8fda653c6a5c"
      },
      "source": [
        "automl.describe_pipeline(1)"
      ],
      "execution_count": 126,
      "outputs": [
        {
          "output_type": "stream",
          "text": [
            "\n",
            "************************************************************************************************************************************\n",
            "* XGBoost Classifier w/ Imputer + Text Featurization Component + DateTime Featurization Component + One Hot Encoder + Undersampler *\n",
            "************************************************************************************************************************************\n",
            "\n",
            "Problem Type: multiclass\n",
            "Model Family: XGBoost\n",
            "\n",
            "Pipeline Steps\n",
            "==============\n",
            "1. Imputer\n",
            "\t * categorical_impute_strategy : most_frequent\n",
            "\t * numeric_impute_strategy : mean\n",
            "\t * categorical_fill_value : None\n",
            "\t * numeric_fill_value : None\n",
            "2. Text Featurization Component\n",
            "3. DateTime Featurization Component\n",
            "\t * features_to_extract : ['year', 'month', 'day_of_week', 'hour']\n",
            "\t * encode_as_categories : False\n",
            "\t * date_index : None\n",
            "4. One Hot Encoder\n",
            "\t * top_n : 10\n",
            "\t * features_to_encode : None\n",
            "\t * categories : None\n",
            "\t * drop : if_binary\n",
            "\t * handle_unknown : ignore\n",
            "\t * handle_missing : error\n",
            "5. Undersampler\n",
            "\t * sampling_ratio : 0.25\n",
            "\t * min_samples : 100\n",
            "\t * min_percentage : 0.1\n",
            "\t * sampling_ratio_dict : None\n",
            "6. XGBoost Classifier\n",
            "\t * eta : 0.1\n",
            "\t * max_depth : 6\n",
            "\t * min_child_weight : 1\n",
            "\t * n_estimators : 100\n",
            "\t * n_jobs : -1\n",
            "\n",
            "Training\n",
            "========\n",
            "Training for multiclass problems.\n",
            "Total training time (including CV): 660.3 seconds\n",
            "\n",
            "Cross Validation\n",
            "----------------\n",
            "             Log Loss Multiclass  MCC Multiclass  AUC Weighted  AUC Macro  AUC Micro  Precision Weighted  Precision Macro  Precision Micro  F1 Weighted  F1 Macro  F1 Micro  Balanced Accuracy Multiclass  Accuracy Multiclass # Training # Validation\n",
            "0                          0.000           1.000         1.000      1.000      1.000               1.000            1.000            1.000        1.000     1.000     1.000                         1.000                1.000     25,508       12,755\n",
            "1                          0.000           1.000         1.000      1.000      1.000               1.000            1.000            1.000        1.000     1.000     1.000                         1.000                1.000     25,509       12,754\n",
            "2                          0.000           1.000         1.000      1.000      1.000               1.000            1.000            1.000        1.000     1.000     1.000                         1.000                1.000     25,509       12,754\n",
            "mean                       0.000           1.000         1.000      1.000      1.000               1.000            1.000            1.000        1.000     1.000     1.000                         1.000                1.000          -            -\n",
            "std                        0.000           0.000         0.000      0.000      0.000               0.000            0.000            0.000        0.000     0.000     0.000                         0.000                0.000          -            -\n",
            "coef of var                0.002           0.000         0.000      0.000      0.000               0.000            0.000            0.000        0.000     0.000     0.000                         0.000                0.000          -            -\n"
          ],
          "name": "stdout"
        }
      ]
    },
    {
      "cell_type": "code",
      "metadata": {
        "id": "GbbHIEbFt35c"
      },
      "source": [
        "#best_pipeline = automl.best_pipeline"
      ],
      "execution_count": null,
      "outputs": []
    }
  ]
}